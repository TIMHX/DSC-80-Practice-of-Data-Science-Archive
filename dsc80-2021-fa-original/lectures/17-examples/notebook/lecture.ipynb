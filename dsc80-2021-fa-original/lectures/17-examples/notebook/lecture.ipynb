{
 "cells": [
  {
   "cell_type": "code",
   "execution_count": 1,
   "metadata": {},
   "outputs": [],
   "source": [
    "%matplotlib inline\n",
    "\n",
    "import numpy as np\n",
    "import pandas as pd\n",
    "import matplotlib.pyplot as plt\n",
    "import seaborn as sns\n",
    "\n",
    "import warnings\n",
    "warnings.filterwarnings(\"ignore\")\n",
    "\n",
    "# set defaults\n",
    "plt.style.use('seaborn-white')   # seaborn custom plot style\n",
    "plt.rc('figure', dpi=100, figsize=(7, 5))   # set default size/resolution\n",
    "plt.rc('font', size=12)   # font size\n",
    "\n",
    "tips = sns.load_dataset('tips')"
   ]
  },
  {
   "cell_type": "markdown",
   "metadata": {
    "slideshow": {
     "slide_type": "slide"
    }
   },
   "source": [
    "# Examples\n",
    "\n",
    "Outline\n",
    "\n",
    "* Grid Search / Classification.\n",
    "* Regression with feature selection (multicollinearity)\n",
    "* Text model (bag of words /  tfidf)."
   ]
  },
  {
   "cell_type": "markdown",
   "metadata": {
    "slideshow": {
     "slide_type": "slide"
    }
   },
   "source": [
    "### Example: Predicting Diabetes\n",
    "\n",
    "* Given health measurements, can you predict whether an individual will develop diabetes?\n",
    "* Classification of health outcomes: 0=NO DIABETES and 1=DIABETES\n",
    "* We will use 'accuracy' to evaluate the model (not necessarily the best choice!)"
   ]
  },
  {
   "cell_type": "code",
   "execution_count": 2,
   "metadata": {
    "slideshow": {
     "slide_type": "-"
    }
   },
   "outputs": [
    {
     "data": {
      "text/html": [
       "<div>\n",
       "<style scoped>\n",
       "    .dataframe tbody tr th:only-of-type {\n",
       "        vertical-align: middle;\n",
       "    }\n",
       "\n",
       "    .dataframe tbody tr th {\n",
       "        vertical-align: top;\n",
       "    }\n",
       "\n",
       "    .dataframe thead th {\n",
       "        text-align: right;\n",
       "    }\n",
       "</style>\n",
       "<table border=\"1\" class=\"dataframe\">\n",
       "  <thead>\n",
       "    <tr style=\"text-align: right;\">\n",
       "      <th></th>\n",
       "      <th>Pregnancies</th>\n",
       "      <th>Glucose</th>\n",
       "      <th>BloodPressure</th>\n",
       "      <th>SkinThickness</th>\n",
       "      <th>Insulin</th>\n",
       "      <th>BMI</th>\n",
       "      <th>DiabetesPedigreeFunction</th>\n",
       "      <th>Age</th>\n",
       "      <th>Outcome</th>\n",
       "    </tr>\n",
       "  </thead>\n",
       "  <tbody>\n",
       "    <tr>\n",
       "      <th>0</th>\n",
       "      <td>6</td>\n",
       "      <td>148</td>\n",
       "      <td>72</td>\n",
       "      <td>35</td>\n",
       "      <td>0</td>\n",
       "      <td>33.6</td>\n",
       "      <td>0.627</td>\n",
       "      <td>50</td>\n",
       "      <td>1</td>\n",
       "    </tr>\n",
       "    <tr>\n",
       "      <th>1</th>\n",
       "      <td>1</td>\n",
       "      <td>85</td>\n",
       "      <td>66</td>\n",
       "      <td>29</td>\n",
       "      <td>0</td>\n",
       "      <td>26.6</td>\n",
       "      <td>0.351</td>\n",
       "      <td>31</td>\n",
       "      <td>0</td>\n",
       "    </tr>\n",
       "    <tr>\n",
       "      <th>2</th>\n",
       "      <td>8</td>\n",
       "      <td>183</td>\n",
       "      <td>64</td>\n",
       "      <td>0</td>\n",
       "      <td>0</td>\n",
       "      <td>23.3</td>\n",
       "      <td>0.672</td>\n",
       "      <td>32</td>\n",
       "      <td>1</td>\n",
       "    </tr>\n",
       "    <tr>\n",
       "      <th>3</th>\n",
       "      <td>1</td>\n",
       "      <td>89</td>\n",
       "      <td>66</td>\n",
       "      <td>23</td>\n",
       "      <td>94</td>\n",
       "      <td>28.1</td>\n",
       "      <td>0.167</td>\n",
       "      <td>21</td>\n",
       "      <td>0</td>\n",
       "    </tr>\n",
       "    <tr>\n",
       "      <th>4</th>\n",
       "      <td>0</td>\n",
       "      <td>137</td>\n",
       "      <td>40</td>\n",
       "      <td>35</td>\n",
       "      <td>168</td>\n",
       "      <td>43.1</td>\n",
       "      <td>2.288</td>\n",
       "      <td>33</td>\n",
       "      <td>1</td>\n",
       "    </tr>\n",
       "  </tbody>\n",
       "</table>\n",
       "</div>"
      ],
      "text/plain": [
       "   Pregnancies  Glucose  BloodPressure  SkinThickness  Insulin   BMI  \\\n",
       "0            6      148             72             35        0  33.6   \n",
       "1            1       85             66             29        0  26.6   \n",
       "2            8      183             64              0        0  23.3   \n",
       "3            1       89             66             23       94  28.1   \n",
       "4            0      137             40             35      168  43.1   \n",
       "\n",
       "   DiabetesPedigreeFunction  Age  Outcome  \n",
       "0                     0.627   50        1  \n",
       "1                     0.351   31        0  \n",
       "2                     0.672   32        1  \n",
       "3                     0.167   21        0  \n",
       "4                     2.288   33        1  "
      ]
     },
     "execution_count": 2,
     "metadata": {},
     "output_type": "execute_result"
    }
   ],
   "source": [
    "diabetes = pd.read_csv('data/diabetes.csv')\n",
    "diabetes.head()"
   ]
  },
  {
   "cell_type": "code",
   "execution_count": 3,
   "metadata": {},
   "outputs": [
    {
     "data": {
      "text/html": [
       "<div>\n",
       "<style scoped>\n",
       "    .dataframe tbody tr th:only-of-type {\n",
       "        vertical-align: middle;\n",
       "    }\n",
       "\n",
       "    .dataframe tbody tr th {\n",
       "        vertical-align: top;\n",
       "    }\n",
       "\n",
       "    .dataframe thead th {\n",
       "        text-align: right;\n",
       "    }\n",
       "</style>\n",
       "<table border=\"1\" class=\"dataframe\">\n",
       "  <thead>\n",
       "    <tr style=\"text-align: right;\">\n",
       "      <th></th>\n",
       "      <th>Pregnancies</th>\n",
       "      <th>Insulin</th>\n",
       "      <th>BMI</th>\n",
       "      <th>Glucose</th>\n",
       "      <th>Outcome</th>\n",
       "    </tr>\n",
       "  </thead>\n",
       "  <tbody>\n",
       "    <tr>\n",
       "      <th>count</th>\n",
       "      <td>768.000000</td>\n",
       "      <td>768.000000</td>\n",
       "      <td>768.000000</td>\n",
       "      <td>768.000000</td>\n",
       "      <td>768.000000</td>\n",
       "    </tr>\n",
       "    <tr>\n",
       "      <th>mean</th>\n",
       "      <td>3.845052</td>\n",
       "      <td>79.799479</td>\n",
       "      <td>31.992578</td>\n",
       "      <td>120.894531</td>\n",
       "      <td>0.348958</td>\n",
       "    </tr>\n",
       "    <tr>\n",
       "      <th>std</th>\n",
       "      <td>3.369578</td>\n",
       "      <td>115.244002</td>\n",
       "      <td>7.884160</td>\n",
       "      <td>31.972618</td>\n",
       "      <td>0.476951</td>\n",
       "    </tr>\n",
       "    <tr>\n",
       "      <th>min</th>\n",
       "      <td>0.000000</td>\n",
       "      <td>0.000000</td>\n",
       "      <td>0.000000</td>\n",
       "      <td>0.000000</td>\n",
       "      <td>0.000000</td>\n",
       "    </tr>\n",
       "    <tr>\n",
       "      <th>25%</th>\n",
       "      <td>1.000000</td>\n",
       "      <td>0.000000</td>\n",
       "      <td>27.300000</td>\n",
       "      <td>99.000000</td>\n",
       "      <td>0.000000</td>\n",
       "    </tr>\n",
       "    <tr>\n",
       "      <th>50%</th>\n",
       "      <td>3.000000</td>\n",
       "      <td>30.500000</td>\n",
       "      <td>32.000000</td>\n",
       "      <td>117.000000</td>\n",
       "      <td>0.000000</td>\n",
       "    </tr>\n",
       "    <tr>\n",
       "      <th>75%</th>\n",
       "      <td>6.000000</td>\n",
       "      <td>127.250000</td>\n",
       "      <td>36.600000</td>\n",
       "      <td>140.250000</td>\n",
       "      <td>1.000000</td>\n",
       "    </tr>\n",
       "    <tr>\n",
       "      <th>max</th>\n",
       "      <td>17.000000</td>\n",
       "      <td>846.000000</td>\n",
       "      <td>67.100000</td>\n",
       "      <td>199.000000</td>\n",
       "      <td>1.000000</td>\n",
       "    </tr>\n",
       "  </tbody>\n",
       "</table>\n",
       "</div>"
      ],
      "text/plain": [
       "       Pregnancies     Insulin         BMI     Glucose     Outcome\n",
       "count   768.000000  768.000000  768.000000  768.000000  768.000000\n",
       "mean      3.845052   79.799479   31.992578  120.894531    0.348958\n",
       "std       3.369578  115.244002    7.884160   31.972618    0.476951\n",
       "min       0.000000    0.000000    0.000000    0.000000    0.000000\n",
       "25%       1.000000    0.000000   27.300000   99.000000    0.000000\n",
       "50%       3.000000   30.500000   32.000000  117.000000    0.000000\n",
       "75%       6.000000  127.250000   36.600000  140.250000    1.000000\n",
       "max      17.000000  846.000000   67.100000  199.000000    1.000000"
      ]
     },
     "execution_count": 3,
     "metadata": {},
     "output_type": "execute_result"
    }
   ],
   "source": [
    "diabetes[['Pregnancies','Insulin', 'BMI', 'Glucose', 'Outcome']].describe()"
   ]
  },
  {
   "cell_type": "code",
   "execution_count": 4,
   "metadata": {},
   "outputs": [],
   "source": [
    "from sklearn.tree import DecisionTreeClassifier\n",
    "from sklearn.model_selection import train_test_split"
   ]
  },
  {
   "cell_type": "code",
   "execution_count": 5,
   "metadata": {},
   "outputs": [],
   "source": [
    "# features\n",
    "X = diabetes.drop('Outcome', axis=1)\n",
    "# outcome\n",
    "y = diabetes.Outcome"
   ]
  },
  {
   "cell_type": "code",
   "execution_count": 6,
   "metadata": {},
   "outputs": [],
   "source": [
    "X_train, X_test, y_train, y_test = train_test_split(X, y, test_size=0.3, random_state=12) # 70% training and 30% test"
   ]
  },
  {
   "cell_type": "code",
   "execution_count": 7,
   "metadata": {},
   "outputs": [
    {
     "data": {
      "text/plain": [
       "DecisionTreeClassifier()"
      ]
     },
     "execution_count": 7,
     "metadata": {},
     "output_type": "execute_result"
    }
   ],
   "source": [
    "clf = DecisionTreeClassifier()\n",
    "clf.fit(X_train, y_train)"
   ]
  },
  {
   "cell_type": "code",
   "execution_count": 8,
   "metadata": {},
   "outputs": [
    {
     "data": {
      "text/plain": [
       "1.0"
      ]
     },
     "execution_count": 8,
     "metadata": {},
     "output_type": "execute_result"
    }
   ],
   "source": [
    "# proportion for correct values\n",
    "clf.score(X_train, y_train)"
   ]
  },
  {
   "cell_type": "code",
   "execution_count": 9,
   "metadata": {},
   "outputs": [
    {
     "data": {
      "text/plain": [
       "0.6926406926406926"
      ]
     },
     "execution_count": 9,
     "metadata": {},
     "output_type": "execute_result"
    }
   ],
   "source": [
    "clf.score(X_test, y_test)"
   ]
  },
  {
   "cell_type": "code",
   "execution_count": 10,
   "metadata": {},
   "outputs": [
    {
     "data": {
      "text/plain": [
       "{'Pregnancies': 0.061665104597069,\n",
       " 'Glucose': 0.3780521140770269,\n",
       " 'BloodPressure': 0.06184505460669227,\n",
       " 'SkinThickness': 0.0709675137590606,\n",
       " 'Insulin': 0.03588878290088145,\n",
       " 'BMI': 0.14344925247279505,\n",
       " 'DiabetesPedigreeFunction': 0.11478363630808794,\n",
       " 'Age': 0.1333485412783868}"
      ]
     },
     "execution_count": 10,
     "metadata": {},
     "output_type": "execute_result"
    }
   ],
   "source": [
    "# look at the importance of each feature in our tree model\n",
    "# _: attributes created when model is fit. Contains info that it learned from the data\n",
    "dict(zip(X.columns, clf.feature_importances_))"
   ]
  },
  {
   "cell_type": "code",
   "execution_count": 11,
   "metadata": {},
   "outputs": [
    {
     "data": {
      "text/plain": [
       "15"
      ]
     },
     "execution_count": 11,
     "metadata": {},
     "output_type": "execute_result"
    }
   ],
   "source": [
    "# maximum depth\n",
    "clf.tree_.max_depth"
   ]
  },
  {
   "cell_type": "code",
   "execution_count": 12,
   "metadata": {},
   "outputs": [
    {
     "data": {
      "text/plain": [
       "211"
      ]
     },
     "execution_count": 12,
     "metadata": {},
     "output_type": "execute_result"
    }
   ],
   "source": [
    "# node count\n",
    "clf.tree_.node_count"
   ]
  },
  {
   "cell_type": "code",
   "execution_count": 13,
   "metadata": {},
   "outputs": [
    {
     "data": {
      "text/plain": [
       "0.7858472998137802"
      ]
     },
     "execution_count": 13,
     "metadata": {},
     "output_type": "execute_result"
    }
   ],
   "source": [
    "clf_small = DecisionTreeClassifier(max_depth=4)\n",
    "clf_small.fit(X_train, y_train)\n",
    "clf_small.score(X_train, y_train)"
   ]
  },
  {
   "cell_type": "code",
   "execution_count": 14,
   "metadata": {},
   "outputs": [
    {
     "data": {
      "text/plain": [
       "0.7489177489177489"
      ]
     },
     "execution_count": 14,
     "metadata": {},
     "output_type": "execute_result"
    }
   ],
   "source": [
    "clf_small.score(X_test, y_test)"
   ]
  },
  {
   "cell_type": "code",
   "execution_count": 15,
   "metadata": {},
   "outputs": [],
   "source": [
    "from util import tree_to_code"
   ]
  },
  {
   "cell_type": "code",
   "execution_count": 16,
   "metadata": {},
   "outputs": [
    {
     "name": "stdout",
     "output_type": "stream",
     "text": [
      "def tree(Pregnancies, Glucose, BloodPressure, SkinThickness, Insulin, BMI, DiabetesPedigreeFunction, Age):\n",
      "  if Glucose <= 144.5:\n",
      "    if Glucose <= 101.5:\n",
      "      if BMI <= 34.10000038146973:\n",
      "        if Insulin <= 227.0:\n",
      "          return [[104.   1.]]\n",
      "        else:  # if Insulin > 227.0\n",
      "          return [[1. 1.]]\n",
      "      else:  # if BMI > 34.10000038146973\n",
      "        if Age <= 51.0:\n",
      "          return [[37.  8.]]\n",
      "        else:  # if Age > 51.0\n",
      "          return [[0. 2.]]\n",
      "    else:  # if Glucose > 101.5\n",
      "      if BMI <= 26.34999942779541:\n",
      "        if Insulin <= 49.0:\n",
      "          return [[28.  4.]]\n",
      "        else:  # if Insulin > 49.0\n",
      "          return [[27.  0.]]\n",
      "      else:  # if BMI > 26.34999942779541\n",
      "        if Age <= 29.5:\n",
      "          return [[73. 26.]]\n",
      "        else:  # if Age > 29.5\n",
      "          return [[53. 55.]]\n",
      "  else:  # if Glucose > 144.5\n",
      "    if Glucose <= 165.5:\n",
      "      if Age <= 24.5:\n",
      "        return [[5. 0.]]\n",
      "      else:  # if Age > 24.5\n",
      "        if BMI <= 23.5:\n",
      "          return [[2. 0.]]\n",
      "        else:  # if BMI > 23.5\n",
      "          return [[17. 41.]]\n",
      "    else:  # if Glucose > 165.5\n",
      "      if BMI <= 23.09999942779541:\n",
      "        return [[1. 0.]]\n",
      "      else:  # if BMI > 23.09999942779541\n",
      "        if BloodPressure <= 93.5:\n",
      "          return [[ 3. 44.]]\n",
      "        else:  # if BloodPressure > 93.5\n",
      "          return [[2. 2.]]\n"
     ]
    }
   ],
   "source": [
    "tree_to_code(clf_small, X.columns)"
   ]
  },
  {
   "cell_type": "code",
   "execution_count": 17,
   "metadata": {},
   "outputs": [
    {
     "name": "stdout",
     "output_type": "stream",
     "text": [
      "def tree(Pregnancies, Glucose, BloodPressure, SkinThickness, Insulin, BMI, DiabetesPedigreeFunction, Age):\n",
      "  if Glucose <= 144.5:\n",
      "    if Glucose <= 101.5:\n",
      "      if BMI <= 34.10000038146973:\n",
      "        if Pregnancies <= 11.5:\n",
      "          if BloodPressure <= 24.0:\n",
      "            if BMI <= 26.850000381469727:\n",
      "              return [[6. 0.]]\n",
      "            else:  # if BMI > 26.850000381469727\n",
      "              return [[0. 1.]]\n",
      "          else:  # if BloodPressure > 24.0\n",
      "            return [[98.  0.]]\n",
      "        else:  # if Pregnancies > 11.5\n",
      "          if Glucose <= 84.0:\n",
      "            return [[1. 0.]]\n",
      "          else:  # if Glucose > 84.0\n",
      "            return [[0. 1.]]\n",
      "      else:  # if BMI > 34.10000038146973\n",
      "        if Age <= 51.0:\n",
      "          if DiabetesPedigreeFunction <= 0.48349998891353607:\n",
      "            if Insulin <= 170.0:\n",
      "              if BloodPressure <= 84.5:\n",
      "                return [[23.  0.]]\n",
      "              else:  # if BloodPressure > 84.5\n",
      "                if Insulin <= 38.0:\n",
      "                  return [[0. 1.]]\n",
      "                else:  # if Insulin > 38.0\n",
      "                  return [[4. 0.]]\n",
      "            else:  # if Insulin > 170.0\n",
      "              if BMI <= 37.45000076293945:\n",
      "                return [[0. 1.]]\n",
      "              else:  # if BMI > 37.45000076293945\n",
      "                return [[1. 0.]]\n",
      "          else:  # if DiabetesPedigreeFunction > 0.48349998891353607\n",
      "            if SkinThickness <= 29.5:\n",
      "              return [[4. 0.]]\n",
      "            else:  # if SkinThickness > 29.5\n",
      "              if DiabetesPedigreeFunction <= 0.6895000040531158:\n",
      "                return [[0. 4.]]\n",
      "              else:  # if DiabetesPedigreeFunction > 0.6895000040531158\n",
      "                if SkinThickness <= 35.5:\n",
      "                  return [[0. 2.]]\n",
      "                else:  # if SkinThickness > 35.5\n",
      "                  return [[5. 0.]]\n",
      "        else:  # if Age > 51.0\n",
      "          return [[0. 2.]]\n",
      "    else:  # if Glucose > 101.5\n",
      "      if BMI <= 26.34999942779541:\n",
      "        if Insulin <= 49.0:\n",
      "          if Glucose <= 138.0:\n",
      "            if Insulin <= 24.0:\n",
      "              if Glucose <= 132.0:\n",
      "                if Pregnancies <= 9.0:\n",
      "                  return [[24.  0.]]\n",
      "                else:  # if Pregnancies > 9.0\n",
      "                  if BMI <= 11.800000190734863:\n",
      "                    return [[0. 1.]]\n",
      "                  else:  # if BMI > 11.800000190734863\n",
      "                    return [[2. 0.]]\n",
      "              else:  # if Glucose > 132.0\n",
      "                if Glucose <= 135.0:\n",
      "                  return [[0. 1.]]\n",
      "                else:  # if Glucose > 135.0\n",
      "                  return [[2. 0.]]\n",
      "            else:  # if Insulin > 24.0\n",
      "              return [[0. 1.]]\n",
      "          else:  # if Glucose > 138.0\n",
      "            return [[0. 1.]]\n",
      "        else:  # if Insulin > 49.0\n",
      "          return [[27.  0.]]\n",
      "      else:  # if BMI > 26.34999942779541\n",
      "        if Age <= 29.5:\n",
      "          if Glucose <= 127.5:\n",
      "            if BMI <= 45.39999961853027:\n",
      "              if SkinThickness <= 5.0:\n",
      "                if BloodPressure <= 78.0:\n",
      "                  if BloodPressure <= 53.0:\n",
      "                    if Glucose <= 117.0:\n",
      "                      return [[1. 0.]]\n",
      "                    else:  # if Glucose > 117.0\n",
      "                      return [[0. 2.]]\n",
      "                  else:  # if BloodPressure > 53.0\n",
      "                    if BloodPressure <= 73.0:\n",
      "                      return [[6. 0.]]\n",
      "                    else:  # if BloodPressure > 73.0\n",
      "                      if Age <= 23.5:\n",
      "                        return [[0. 1.]]\n",
      "                      else:  # if Age > 23.5\n",
      "                        return [[1. 0.]]\n",
      "                else:  # if BloodPressure > 78.0\n",
      "                  return [[0. 3.]]\n",
      "              else:  # if SkinThickness > 5.0\n",
      "                if DiabetesPedigreeFunction <= 0.895499974489212:\n",
      "                  if Pregnancies <= 6.5:\n",
      "                    if DiabetesPedigreeFunction <= 0.7435000240802765:\n",
      "                      return [[49.  0.]]\n",
      "                    else:  # if DiabetesPedigreeFunction > 0.7435000240802765\n",
      "                      if Glucose <= 110.0:\n",
      "                        return [[0. 1.]]\n",
      "                      else:  # if Glucose > 110.0\n",
      "                        return [[4. 0.]]\n",
      "                  else:  # if Pregnancies > 6.5\n",
      "                    return [[0. 1.]]\n",
      "                else:  # if DiabetesPedigreeFunction > 0.895499974489212\n",
      "                  if Insulin <= 221.0:\n",
      "                    return [[0. 2.]]\n",
      "                  else:  # if Insulin > 221.0\n",
      "                    return [[1. 0.]]\n",
      "            else:  # if BMI > 45.39999961853027\n",
      "              return [[0. 3.]]\n",
      "          else:  # if Glucose > 127.5\n",
      "            if BloodPressure <= 69.0:\n",
      "              if Age <= 23.0:\n",
      "                if Pregnancies <= 0.5:\n",
      "                  return [[0. 1.]]\n",
      "                else:  # if Pregnancies > 0.5\n",
      "                  return [[2. 0.]]\n",
      "              else:  # if Age > 23.0\n",
      "                return [[0. 7.]]\n",
      "            else:  # if BloodPressure > 69.0\n",
      "              if DiabetesPedigreeFunction <= 0.3110000044107437:\n",
      "                return [[5. 0.]]\n",
      "              else:  # if DiabetesPedigreeFunction > 0.3110000044107437\n",
      "                if Pregnancies <= 3.0:\n",
      "                  if DiabetesPedigreeFunction <= 0.5665000081062317:\n",
      "                    if Age <= 22.0:\n",
      "                      return [[1. 0.]]\n",
      "                    else:  # if Age > 22.0\n",
      "                      return [[0. 2.]]\n",
      "                  else:  # if DiabetesPedigreeFunction > 0.5665000081062317\n",
      "                    return [[3. 0.]]\n",
      "                else:  # if Pregnancies > 3.0\n",
      "                  return [[0. 3.]]\n",
      "        else:  # if Age > 29.5\n",
      "          if Age <= 53.5:\n",
      "            if DiabetesPedigreeFunction <= 0.3135000020265579:\n",
      "              if DiabetesPedigreeFunction <= 0.2615000009536743:\n",
      "                if DiabetesPedigreeFunction <= 0.2524999976158142:\n",
      "                  if Age <= 45.5:\n",
      "                    if DiabetesPedigreeFunction <= 0.12700000405311584:\n",
      "                      return [[3. 0.]]\n",
      "                    else:  # if DiabetesPedigreeFunction > 0.12700000405311584\n",
      "                      if DiabetesPedigreeFunction <= 0.24149999767541885:\n",
      "                        if SkinThickness <= 37.0:\n",
      "                          if Age <= 31.5:\n",
      "                            return [[1. 0.]]\n",
      "                          else:  # if Age > 31.5\n",
      "                            if Age <= 44.0:\n",
      "                              return [[0. 8.]]\n",
      "                            else:  # if Age > 44.0\n",
      "                              if BMI <= 38.94999885559082:\n",
      "                                return [[1. 0.]]\n",
      "                              else:  # if BMI > 38.94999885559082\n",
      "                                return [[0. 1.]]\n",
      "                        else:  # if SkinThickness > 37.0\n",
      "                          return [[2. 0.]]\n",
      "                      else:  # if DiabetesPedigreeFunction > 0.24149999767541885\n",
      "                        if SkinThickness <= 36.0:\n",
      "                          return [[4. 0.]]\n",
      "                        else:  # if SkinThickness > 36.0\n",
      "                          return [[0. 1.]]\n",
      "                  else:  # if Age > 45.5\n",
      "                    return [[5. 0.]]\n",
      "                else:  # if DiabetesPedigreeFunction > 0.2524999976158142\n",
      "                  if Glucose <= 143.5:\n",
      "                    if BloodPressure <= 69.0:\n",
      "                      if Pregnancies <= 8.5:\n",
      "                        return [[0. 2.]]\n",
      "                      else:  # if Pregnancies > 8.5\n",
      "                        return [[1. 0.]]\n",
      "                    else:  # if BloodPressure > 69.0\n",
      "                      return [[0. 7.]]\n",
      "                  else:  # if Glucose > 143.5\n",
      "                    return [[1. 0.]]\n",
      "              else:  # if DiabetesPedigreeFunction > 0.2615000009536743\n",
      "                if Age <= 41.5:\n",
      "                  return [[8. 0.]]\n",
      "                else:  # if Age > 41.5\n",
      "                  if Glucose <= 109.5:\n",
      "                    return [[0. 2.]]\n",
      "                  else:  # if Glucose > 109.5\n",
      "                    return [[1. 0.]]\n",
      "            else:  # if DiabetesPedigreeFunction > 0.3135000020265579\n",
      "              if BMI <= 43.0:\n",
      "                if SkinThickness <= 33.5:\n",
      "                  if BMI <= 39.64999961853027:\n",
      "                    if BloodPressure <= 25.0:\n",
      "                      return [[1. 0.]]\n",
      "                    else:  # if BloodPressure > 25.0\n",
      "                      if Age <= 36.0:\n",
      "                        if BloodPressure <= 67.0:\n",
      "                          return [[0. 6.]]\n",
      "                        else:  # if BloodPressure > 67.0\n",
      "                          if Pregnancies <= 3.5:\n",
      "                            if BMI <= 27.84999942779541:\n",
      "                              return [[1. 0.]]\n",
      "                            else:  # if BMI > 27.84999942779541\n",
      "                              return [[0. 4.]]\n",
      "                          else:  # if Pregnancies > 3.5\n",
      "                            if SkinThickness <= 22.0:\n",
      "                              return [[4. 0.]]\n",
      "                            else:  # if SkinThickness > 22.0\n",
      "                              if Insulin <= 60.0:\n",
      "                                return [[0. 1.]]\n",
      "                              else:  # if Insulin > 60.0\n",
      "                                return [[1. 0.]]\n",
      "                      else:  # if Age > 36.0\n",
      "                        if BMI <= 27.90000057220459:\n",
      "                          return [[1. 0.]]\n",
      "                        else:  # if BMI > 27.90000057220459\n",
      "                          return [[ 0. 14.]]\n",
      "                  else:  # if BMI > 39.64999961853027\n",
      "                    return [[2. 0.]]\n",
      "                else:  # if SkinThickness > 33.5\n",
      "                  if Glucose <= 127.0:\n",
      "                    return [[6. 0.]]\n",
      "                  else:  # if Glucose > 127.0\n",
      "                    if Glucose <= 133.0:\n",
      "                      return [[0. 3.]]\n",
      "                    else:  # if Glucose > 133.0\n",
      "                      return [[1. 0.]]\n",
      "              else:  # if BMI > 43.0\n",
      "                return [[0. 5.]]\n",
      "          else:  # if Age > 53.5\n",
      "            if Insulin <= 257.5:\n",
      "              return [[9. 0.]]\n",
      "            else:  # if Insulin > 257.5\n",
      "              return [[0. 1.]]\n",
      "  else:  # if Glucose > 144.5\n",
      "    if Glucose <= 165.5:\n",
      "      if Age <= 24.5:\n",
      "        return [[5. 0.]]\n",
      "      else:  # if Age > 24.5\n",
      "        if BMI <= 23.5:\n",
      "          return [[2. 0.]]\n",
      "        else:  # if BMI > 23.5\n",
      "          if Pregnancies <= 6.5:\n",
      "            if Glucose <= 163.5:\n",
      "              if Pregnancies <= 4.5:\n",
      "                if DiabetesPedigreeFunction <= 0.1420000046491623:\n",
      "                  return [[1. 0.]]\n",
      "                else:  # if DiabetesPedigreeFunction > 0.1420000046491623\n",
      "                  if Glucose <= 153.5:\n",
      "                    if Glucose <= 149.5:\n",
      "                      if DiabetesPedigreeFunction <= 0.37150000035762787:\n",
      "                        return [[0. 5.]]\n",
      "                      else:  # if DiabetesPedigreeFunction > 0.37150000035762787\n",
      "                        if Age <= 30.5:\n",
      "                          return [[2. 0.]]\n",
      "                        else:  # if Age > 30.5\n",
      "                          if DiabetesPedigreeFunction <= 1.2055000066757202:\n",
      "                            return [[0. 3.]]\n",
      "                          else:  # if DiabetesPedigreeFunction > 1.2055000066757202\n",
      "                            return [[1. 0.]]\n",
      "                    else:  # if Glucose > 149.5\n",
      "                      return [[2. 0.]]\n",
      "                  else:  # if Glucose > 153.5\n",
      "                    return [[0. 9.]]\n",
      "              else:  # if Pregnancies > 4.5\n",
      "                if Glucose <= 149.5:\n",
      "                  if Age <= 57.5:\n",
      "                    return [[0. 2.]]\n",
      "                  else:  # if Age > 57.5\n",
      "                    return [[1. 0.]]\n",
      "                else:  # if Glucose > 149.5\n",
      "                  return [[3. 0.]]\n",
      "            else:  # if Glucose > 163.5\n",
      "              return [[3. 0.]]\n",
      "          else:  # if Pregnancies > 6.5\n",
      "            if DiabetesPedigreeFunction <= 0.20600000023841858:\n",
      "              if Pregnancies <= 8.0:\n",
      "                return [[0. 1.]]\n",
      "              else:  # if Pregnancies > 8.0\n",
      "                if DiabetesPedigreeFunction <= 0.15600000321865082:\n",
      "                  return [[0. 1.]]\n",
      "                else:  # if DiabetesPedigreeFunction > 0.15600000321865082\n",
      "                  return [[2. 0.]]\n",
      "            else:  # if DiabetesPedigreeFunction > 0.20600000023841858\n",
      "              if SkinThickness <= 35.5:\n",
      "                return [[ 0. 15.]]\n",
      "              else:  # if SkinThickness > 35.5\n",
      "                if BloodPressure <= 68.0:\n",
      "                  return [[1. 0.]]\n",
      "                else:  # if BloodPressure > 68.0\n",
      "                  if SkinThickness <= 38.5:\n",
      "                    return [[1. 0.]]\n",
      "                  else:  # if SkinThickness > 38.5\n",
      "                    return [[0. 5.]]\n",
      "    else:  # if Glucose > 165.5\n",
      "      if BMI <= 23.09999942779541:\n",
      "        return [[1. 0.]]\n",
      "      else:  # if BMI > 23.09999942779541\n",
      "        if BloodPressure <= 93.5:\n",
      "          if Pregnancies <= 9.5:\n",
      "            if BMI <= 46.10000038146973:\n",
      "              if Glucose <= 190.5:\n",
      "                return [[ 0. 36.]]\n",
      "              else:  # if Glucose > 190.5\n",
      "                if Glucose <= 192.0:\n",
      "                  return [[1. 0.]]\n",
      "                else:  # if Glucose > 192.0\n",
      "                  return [[0. 6.]]\n",
      "            else:  # if BMI > 46.10000038146973\n",
      "              if Age <= 41.5:\n",
      "                return [[0. 1.]]\n",
      "              else:  # if Age > 41.5\n",
      "                return [[1. 0.]]\n",
      "          else:  # if Pregnancies > 9.5\n",
      "            if BloodPressure <= 66.0:\n",
      "              return [[0. 1.]]\n",
      "            else:  # if BloodPressure > 66.0\n",
      "              return [[1. 0.]]\n",
      "        else:  # if BloodPressure > 93.5\n",
      "          if BMI <= 34.25:\n",
      "            return [[2. 0.]]\n",
      "          else:  # if BMI > 34.25\n",
      "            return [[0. 2.]]\n"
     ]
    }
   ],
   "source": [
    "tree_to_code(clf, X.columns)"
   ]
  },
  {
   "cell_type": "markdown",
   "metadata": {
    "slideshow": {
     "slide_type": "slide"
    }
   },
   "source": [
    "## How to select model parameters?\n",
    "\n",
    "* Each combination of model parameters requires: \n",
    "    - fitting a model; evaluating the model; comparing performance.\n",
    "* This leads to training perhaps *thousands* of models!\n",
    "    - How to do this in a computationally feasible way?\n",
    "    - How to keep your code clean to keep track?"
   ]
  },
  {
   "cell_type": "markdown",
   "metadata": {
    "slideshow": {
     "slide_type": "slide"
    }
   },
   "source": [
    "## How to select model parameters?\n",
    "\n",
    "* How to select in a computationally feasible way?\n",
    "    - Trying every combination ('grid search') works for smaller data/models.\n",
    "    - Sampling possible combinations of parameters using probabilistic reasoning.\n",
    "    \n",
    "* How to keep your code clean to keep track?\n",
    "    - The `sklearn.model_selection` package."
   ]
  },
  {
   "cell_type": "markdown",
   "metadata": {
    "slideshow": {
     "slide_type": "slide"
    }
   },
   "source": [
    "### Example: parameter search for diabetes prediction\n",
    "\n",
    "* Decision tree has possible parameters:\n",
    "    - `max_depth`, `min_samples_split`, `min_samples_leaf`\n",
    "    - plus others we won't consider\n",
    "    \n",
    "* We will use `GridSearchCV` to explore parameter combinations using cross-validation"
   ]
  },
  {
   "cell_type": "code",
   "execution_count": 18,
   "metadata": {},
   "outputs": [],
   "source": [
    "from sklearn.model_selection import GridSearchCV"
   ]
  },
  {
   "cell_type": "code",
   "execution_count": 19,
   "metadata": {},
   "outputs": [
    {
     "data": {
      "text/html": [
       "<div>\n",
       "<style scoped>\n",
       "    .dataframe tbody tr th:only-of-type {\n",
       "        vertical-align: middle;\n",
       "    }\n",
       "\n",
       "    .dataframe tbody tr th {\n",
       "        vertical-align: top;\n",
       "    }\n",
       "\n",
       "    .dataframe thead th {\n",
       "        text-align: right;\n",
       "    }\n",
       "</style>\n",
       "<table border=\"1\" class=\"dataframe\">\n",
       "  <thead>\n",
       "    <tr style=\"text-align: right;\">\n",
       "      <th></th>\n",
       "      <th>Pregnancies</th>\n",
       "      <th>Glucose</th>\n",
       "      <th>BloodPressure</th>\n",
       "      <th>SkinThickness</th>\n",
       "      <th>Insulin</th>\n",
       "      <th>BMI</th>\n",
       "      <th>DiabetesPedigreeFunction</th>\n",
       "      <th>Age</th>\n",
       "    </tr>\n",
       "  </thead>\n",
       "  <tbody>\n",
       "    <tr>\n",
       "      <th>0</th>\n",
       "      <td>6</td>\n",
       "      <td>148</td>\n",
       "      <td>72</td>\n",
       "      <td>35</td>\n",
       "      <td>0</td>\n",
       "      <td>33.6</td>\n",
       "      <td>0.627</td>\n",
       "      <td>50</td>\n",
       "    </tr>\n",
       "    <tr>\n",
       "      <th>1</th>\n",
       "      <td>1</td>\n",
       "      <td>85</td>\n",
       "      <td>66</td>\n",
       "      <td>29</td>\n",
       "      <td>0</td>\n",
       "      <td>26.6</td>\n",
       "      <td>0.351</td>\n",
       "      <td>31</td>\n",
       "    </tr>\n",
       "    <tr>\n",
       "      <th>2</th>\n",
       "      <td>8</td>\n",
       "      <td>183</td>\n",
       "      <td>64</td>\n",
       "      <td>0</td>\n",
       "      <td>0</td>\n",
       "      <td>23.3</td>\n",
       "      <td>0.672</td>\n",
       "      <td>32</td>\n",
       "    </tr>\n",
       "    <tr>\n",
       "      <th>3</th>\n",
       "      <td>1</td>\n",
       "      <td>89</td>\n",
       "      <td>66</td>\n",
       "      <td>23</td>\n",
       "      <td>94</td>\n",
       "      <td>28.1</td>\n",
       "      <td>0.167</td>\n",
       "      <td>21</td>\n",
       "    </tr>\n",
       "    <tr>\n",
       "      <th>4</th>\n",
       "      <td>0</td>\n",
       "      <td>137</td>\n",
       "      <td>40</td>\n",
       "      <td>35</td>\n",
       "      <td>168</td>\n",
       "      <td>43.1</td>\n",
       "      <td>2.288</td>\n",
       "      <td>33</td>\n",
       "    </tr>\n",
       "  </tbody>\n",
       "</table>\n",
       "</div>"
      ],
      "text/plain": [
       "   Pregnancies  Glucose  BloodPressure  SkinThickness  Insulin   BMI  \\\n",
       "0            6      148             72             35        0  33.6   \n",
       "1            1       85             66             29        0  26.6   \n",
       "2            8      183             64              0        0  23.3   \n",
       "3            1       89             66             23       94  28.1   \n",
       "4            0      137             40             35      168  43.1   \n",
       "\n",
       "   DiabetesPedigreeFunction  Age  \n",
       "0                     0.627   50  \n",
       "1                     0.351   31  \n",
       "2                     0.672   32  \n",
       "3                     0.167   21  \n",
       "4                     2.288   33  "
      ]
     },
     "execution_count": 19,
     "metadata": {},
     "output_type": "execute_result"
    }
   ],
   "source": [
    "X.head()"
   ]
  },
  {
   "cell_type": "code",
   "execution_count": 20,
   "metadata": {},
   "outputs": [],
   "source": [
    "X_train, X_test, y_train, y_test = train_test_split(X, y, test_size=0.3)"
   ]
  },
  {
   "cell_type": "code",
   "execution_count": 21,
   "metadata": {},
   "outputs": [],
   "source": [
    "# How many combinations are there to search through?\n",
    "\n",
    "parameters = {\n",
    "    'max_depth': [2,3,4,5,7,10,13,15,18,None], \n",
    "    'min_samples_split':[2,3,5,7,10,15,20],\n",
    "    'min_samples_leaf':[2,3,5,7,10,15,20]\n",
    "}"
   ]
  },
  {
   "cell_type": "code",
   "execution_count": 22,
   "metadata": {},
   "outputs": [
    {
     "data": {
      "text/plain": [
       "[10, 7, 7]"
      ]
     },
     "execution_count": 22,
     "metadata": {},
     "output_type": "execute_result"
    }
   ],
   "source": [
    "[len(v) for v in parameters.values()]"
   ]
  },
  {
   "cell_type": "code",
   "execution_count": 23,
   "metadata": {},
   "outputs": [],
   "source": [
    "clf = GridSearchCV(DecisionTreeClassifier(), parameters, cv = 5)"
   ]
  },
  {
   "cell_type": "code",
   "execution_count": 24,
   "metadata": {},
   "outputs": [
    {
     "data": {
      "text/plain": [
       "GridSearchCV(cv=5, estimator=DecisionTreeClassifier(),\n",
       "             param_grid={'max_depth': [2, 3, 4, 5, 7, 10, 13, 15, 18, None],\n",
       "                         'min_samples_leaf': [2, 3, 5, 7, 10, 15, 20],\n",
       "                         'min_samples_split': [2, 3, 5, 7, 10, 15, 20]})"
      ]
     },
     "execution_count": 24,
     "metadata": {},
     "output_type": "execute_result"
    }
   ],
   "source": [
    "clf.fit(X_train, y_train)"
   ]
  },
  {
   "cell_type": "code",
   "execution_count": 25,
   "metadata": {},
   "outputs": [
    {
     "data": {
      "text/plain": [
       "GridSearchCV(cv=5, estimator=DecisionTreeClassifier(),\n",
       "             param_grid={'max_depth': [2, 3, 4, 5, 7, 10, 13, 15, 18, None],\n",
       "                         'min_samples_leaf': [2, 3, 5, 7, 10, 15, 20],\n",
       "                         'min_samples_split': [2, 3, 5, 7, 10, 15, 20]})"
      ]
     },
     "execution_count": 25,
     "metadata": {},
     "output_type": "execute_result"
    }
   ],
   "source": [
    "clf#.best_params_"
   ]
  },
  {
   "cell_type": "code",
   "execution_count": 26,
   "metadata": {},
   "outputs": [
    {
     "data": {
      "text/plain": [
       "490"
      ]
     },
     "execution_count": 26,
     "metadata": {},
     "output_type": "execute_result"
    }
   ],
   "source": [
    "# number of competing models\n",
    "len(clf.cv_results_['mean_test_score'])"
   ]
  },
  {
   "cell_type": "code",
   "execution_count": 27,
   "metadata": {},
   "outputs": [
    {
     "data": {
      "text/plain": [
       "2450"
      ]
     },
     "execution_count": 27,
     "metadata": {},
     "output_type": "execute_result"
    }
   ],
   "source": [
    "# total number of models fit = (# of param combos) x (5 folds)\n",
    "490 * 5"
   ]
  },
  {
   "cell_type": "markdown",
   "metadata": {
    "slideshow": {
     "slide_type": "slide"
    }
   },
   "source": [
    "### Was the \"best parameter\" the only \"best choice\"\n",
    "\n",
    "* Plot the histogram of scores across all models\n",
    "* Many high values implies many good model choices\n",
    "    - Robust model\n",
    "* Plot the histogram of standard deviations for the CVs\n",
    "    - many small numbers imply most parameters give stable models."
   ]
  },
  {
   "cell_type": "code",
   "execution_count": 28,
   "metadata": {},
   "outputs": [
    {
     "data": {
      "image/png": "[encoded data removed]",
      "text/plain": [
       "<Figure size 700x500 with 1 Axes>"
      ]
     },
     "metadata": {},
     "output_type": "display_data"
    }
   ],
   "source": [
    "# Each x-value is the score of a different model,\n",
    "# corresponding to a choice of parameters\n",
    "#\n",
    "plt.hist(clf.cv_results_['mean_test_score'], bins=12)\n",
    "plt.suptitle('accuracies on validation set for CV');"
   ]
  },
  {
   "cell_type": "code",
   "execution_count": 29,
   "metadata": {},
   "outputs": [],
   "source": [
    "# if many models were good and had high accuracy => good\n",
    "# you do not want a model that really depends on parameter choices => likely, overfitting\n",
    "# if a lot of good model choices: you are learning real patterns in the data "
   ]
  },
  {
   "cell_type": "code",
   "execution_count": 30,
   "metadata": {},
   "outputs": [
    {
     "data": {
      "image/png": "[encoded data removed]",
      "text/plain": [
       "<Figure size 700x500 with 1 Axes>"
      ]
     },
     "metadata": {},
     "output_type": "display_data"
    }
   ],
   "source": [
    "# Each x-value is the standard deviation for the 5-fold CV for a single model\n",
    "# corresponding to a choice of parameters\n",
    "plt.hist(clf.cv_results_['std_test_score'])\n",
    "plt.suptitle('std deviation of CV scores');"
   ]
  },
  {
   "cell_type": "code",
   "execution_count": 31,
   "metadata": {},
   "outputs": [],
   "source": [
    "# if we have a high std of accuracy: model varied a lot, depending on how \n",
    "# you split your data.\n",
    "# If std is low, then you are getting the same model performace \n",
    "# ^^ tells you what you should expect for fluctuation in your accuracy above\n"
   ]
  },
  {
   "cell_type": "code",
   "execution_count": 32,
   "metadata": {},
   "outputs": [],
   "source": [
    "clf_best = clf.best_estimator_"
   ]
  },
  {
   "cell_type": "code",
   "execution_count": 33,
   "metadata": {},
   "outputs": [
    {
     "data": {
      "text/plain": [
       "0.7877094972067039"
      ]
     },
     "execution_count": 33,
     "metadata": {},
     "output_type": "execute_result"
    }
   ],
   "source": [
    "clf.score(X_train, y_train)"
   ]
  },
  {
   "cell_type": "code",
   "execution_count": 34,
   "metadata": {},
   "outputs": [
    {
     "data": {
      "text/plain": [
       "0.70995670995671"
      ]
     },
     "execution_count": 34,
     "metadata": {},
     "output_type": "execute_result"
    }
   ],
   "source": [
    "clf.score(X_test, y_test)"
   ]
  },
  {
   "cell_type": "code",
   "execution_count": 35,
   "metadata": {},
   "outputs": [
    {
     "name": "stdout",
     "output_type": "stream",
     "text": [
      "def tree(Pregnancies, Glucose, BloodPressure, SkinThickness, Insulin, BMI, DiabetesPedigreeFunction, Age):\n",
      "  if Glucose <= 144.5:\n",
      "    if Age <= 28.5:\n",
      "      if BMI <= 30.449999809265137:\n",
      "        if Pregnancies <= 2.5:\n",
      "          return [[91.  0.]]\n",
      "        else:  # if Pregnancies > 2.5\n",
      "          return [[24.  4.]]\n",
      "      else:  # if BMI > 30.449999809265137\n",
      "        if Glucose <= 127.5:\n",
      "          return [[82. 17.]]\n",
      "        else:  # if Glucose > 127.5\n",
      "          return [[10.  9.]]\n",
      "    else:  # if Age > 28.5\n",
      "      if BMI <= 27.34999942779541:\n",
      "        if DiabetesPedigreeFunction <= 0.2645000070333481:\n",
      "          return [[14.  3.]]\n",
      "        else:  # if DiabetesPedigreeFunction > 0.2645000070333481\n",
      "          return [[22.  0.]]\n",
      "      else:  # if BMI > 27.34999942779541\n",
      "        if Glucose <= 99.5:\n",
      "          return [[28.  6.]]\n",
      "        else:  # if Glucose > 99.5\n",
      "          return [[50. 66.]]\n",
      "  else:  # if Glucose > 144.5\n",
      "    if Glucose <= 154.5:\n",
      "      return [[12. 16.]]\n",
      "    else:  # if Glucose > 154.5\n",
      "      if Age <= 52.5:\n",
      "        if Insulin <= 228.0:\n",
      "          return [[ 4. 49.]]\n",
      "        else:  # if Insulin > 228.0\n",
      "          return [[ 4. 11.]]\n",
      "      else:  # if Age > 52.5\n",
      "        return [[ 5. 10.]]\n"
     ]
    }
   ],
   "source": [
    "tree_to_code(clf_best, X.columns)"
   ]
  },
  {
   "cell_type": "markdown",
   "metadata": {},
   "source": [
    "# Multicollinearity"
   ]
  },
  {
   "cell_type": "markdown",
   "metadata": {
    "slideshow": {
     "slide_type": "slide"
    }
   },
   "source": [
    "## Regression with Multicollinearity\n",
    "\n",
    "* Linear regression with (perfectly) correlated features leads to high variance (unstable) models.\n",
    "* When the dataset ~1-dimensional in 3-dim space, fitting a plane is under-determined.\n",
    "* Regression gives you a plane of best fit but there are other planes that will give very similar error when fitting it that look very different: overfit model\n",
    "* Use Principal Component Analysis to drop unneeded features.\n",
    "\n",
    "<img src=\"imgs/multicollinearity.png\" width=\"50%\">"
   ]
  },
  {
   "cell_type": "markdown",
   "metadata": {
    "slideshow": {
     "slide_type": "slide"
    }
   },
   "source": [
    "## Regression: predicting tips data\n",
    "\n",
    "* Use quantitative feature \"as is\".\n",
    "* Use all features: one-hot encode categorical features.\n",
    "    - Many perfectly correlated features: e.g. `is_Lunch` and `is_Dinner`."
   ]
  },
  {
   "cell_type": "code",
   "execution_count": 36,
   "metadata": {},
   "outputs": [],
   "source": [
    "tips = sns.load_dataset('tips')"
   ]
  },
  {
   "cell_type": "code",
   "execution_count": 37,
   "metadata": {},
   "outputs": [
    {
     "data": {
      "text/html": [
       "<div>\n",
       "<style scoped>\n",
       "    .dataframe tbody tr th:only-of-type {\n",
       "        vertical-align: middle;\n",
       "    }\n",
       "\n",
       "    .dataframe tbody tr th {\n",
       "        vertical-align: top;\n",
       "    }\n",
       "\n",
       "    .dataframe thead th {\n",
       "        text-align: right;\n",
       "    }\n",
       "</style>\n",
       "<table border=\"1\" class=\"dataframe\">\n",
       "  <thead>\n",
       "    <tr style=\"text-align: right;\">\n",
       "      <th></th>\n",
       "      <th>total_bill</th>\n",
       "      <th>tip</th>\n",
       "      <th>sex</th>\n",
       "      <th>smoker</th>\n",
       "      <th>day</th>\n",
       "      <th>time</th>\n",
       "      <th>size</th>\n",
       "    </tr>\n",
       "  </thead>\n",
       "  <tbody>\n",
       "    <tr>\n",
       "      <th>0</th>\n",
       "      <td>16.99</td>\n",
       "      <td>1.01</td>\n",
       "      <td>Female</td>\n",
       "      <td>No</td>\n",
       "      <td>Sun</td>\n",
       "      <td>Dinner</td>\n",
       "      <td>2</td>\n",
       "    </tr>\n",
       "    <tr>\n",
       "      <th>1</th>\n",
       "      <td>10.34</td>\n",
       "      <td>1.66</td>\n",
       "      <td>Male</td>\n",
       "      <td>No</td>\n",
       "      <td>Sun</td>\n",
       "      <td>Dinner</td>\n",
       "      <td>3</td>\n",
       "    </tr>\n",
       "    <tr>\n",
       "      <th>2</th>\n",
       "      <td>21.01</td>\n",
       "      <td>3.50</td>\n",
       "      <td>Male</td>\n",
       "      <td>No</td>\n",
       "      <td>Sun</td>\n",
       "      <td>Dinner</td>\n",
       "      <td>3</td>\n",
       "    </tr>\n",
       "    <tr>\n",
       "      <th>3</th>\n",
       "      <td>23.68</td>\n",
       "      <td>3.31</td>\n",
       "      <td>Male</td>\n",
       "      <td>No</td>\n",
       "      <td>Sun</td>\n",
       "      <td>Dinner</td>\n",
       "      <td>2</td>\n",
       "    </tr>\n",
       "    <tr>\n",
       "      <th>4</th>\n",
       "      <td>24.59</td>\n",
       "      <td>3.61</td>\n",
       "      <td>Female</td>\n",
       "      <td>No</td>\n",
       "      <td>Sun</td>\n",
       "      <td>Dinner</td>\n",
       "      <td>4</td>\n",
       "    </tr>\n",
       "  </tbody>\n",
       "</table>\n",
       "</div>"
      ],
      "text/plain": [
       "   total_bill   tip     sex smoker  day    time  size\n",
       "0       16.99  1.01  Female     No  Sun  Dinner     2\n",
       "1       10.34  1.66    Male     No  Sun  Dinner     3\n",
       "2       21.01  3.50    Male     No  Sun  Dinner     3\n",
       "3       23.68  3.31    Male     No  Sun  Dinner     2\n",
       "4       24.59  3.61  Female     No  Sun  Dinner     4"
      ]
     },
     "execution_count": 37,
     "metadata": {},
     "output_type": "execute_result"
    }
   ],
   "source": [
    "tips.head()"
   ]
  },
  {
   "cell_type": "markdown",
   "metadata": {
    "slideshow": {
     "slide_type": "slide"
    }
   },
   "source": [
    "## Determining Correlated features\n",
    "\n",
    "How many columns can we keep without losing information?"
   ]
  },
  {
   "cell_type": "code",
   "execution_count": 38,
   "metadata": {},
   "outputs": [
    {
     "data": {
      "text/html": [
       "<div>\n",
       "<style scoped>\n",
       "    .dataframe tbody tr th:only-of-type {\n",
       "        vertical-align: middle;\n",
       "    }\n",
       "\n",
       "    .dataframe tbody tr th {\n",
       "        vertical-align: top;\n",
       "    }\n",
       "\n",
       "    .dataframe thead th {\n",
       "        text-align: right;\n",
       "    }\n",
       "</style>\n",
       "<table border=\"1\" class=\"dataframe\">\n",
       "  <thead>\n",
       "    <tr style=\"text-align: right;\">\n",
       "      <th></th>\n",
       "      <th>total_bill</th>\n",
       "      <th>tip</th>\n",
       "      <th>size</th>\n",
       "      <th>sex_Male</th>\n",
       "      <th>sex_Female</th>\n",
       "      <th>smoker_Yes</th>\n",
       "      <th>smoker_No</th>\n",
       "      <th>day_Thur</th>\n",
       "      <th>day_Fri</th>\n",
       "      <th>day_Sat</th>\n",
       "      <th>day_Sun</th>\n",
       "      <th>time_Lunch</th>\n",
       "      <th>time_Dinner</th>\n",
       "    </tr>\n",
       "  </thead>\n",
       "  <tbody>\n",
       "    <tr>\n",
       "      <th>0</th>\n",
       "      <td>16.99</td>\n",
       "      <td>1.01</td>\n",
       "      <td>2</td>\n",
       "      <td>0</td>\n",
       "      <td>1</td>\n",
       "      <td>0</td>\n",
       "      <td>1</td>\n",
       "      <td>0</td>\n",
       "      <td>0</td>\n",
       "      <td>0</td>\n",
       "      <td>1</td>\n",
       "      <td>0</td>\n",
       "      <td>1</td>\n",
       "    </tr>\n",
       "    <tr>\n",
       "      <th>1</th>\n",
       "      <td>10.34</td>\n",
       "      <td>1.66</td>\n",
       "      <td>3</td>\n",
       "      <td>1</td>\n",
       "      <td>0</td>\n",
       "      <td>0</td>\n",
       "      <td>1</td>\n",
       "      <td>0</td>\n",
       "      <td>0</td>\n",
       "      <td>0</td>\n",
       "      <td>1</td>\n",
       "      <td>0</td>\n",
       "      <td>1</td>\n",
       "    </tr>\n",
       "    <tr>\n",
       "      <th>2</th>\n",
       "      <td>21.01</td>\n",
       "      <td>3.50</td>\n",
       "      <td>3</td>\n",
       "      <td>1</td>\n",
       "      <td>0</td>\n",
       "      <td>0</td>\n",
       "      <td>1</td>\n",
       "      <td>0</td>\n",
       "      <td>0</td>\n",
       "      <td>0</td>\n",
       "      <td>1</td>\n",
       "      <td>0</td>\n",
       "      <td>1</td>\n",
       "    </tr>\n",
       "    <tr>\n",
       "      <th>3</th>\n",
       "      <td>23.68</td>\n",
       "      <td>3.31</td>\n",
       "      <td>2</td>\n",
       "      <td>1</td>\n",
       "      <td>0</td>\n",
       "      <td>0</td>\n",
       "      <td>1</td>\n",
       "      <td>0</td>\n",
       "      <td>0</td>\n",
       "      <td>0</td>\n",
       "      <td>1</td>\n",
       "      <td>0</td>\n",
       "      <td>1</td>\n",
       "    </tr>\n",
       "    <tr>\n",
       "      <th>4</th>\n",
       "      <td>24.59</td>\n",
       "      <td>3.61</td>\n",
       "      <td>4</td>\n",
       "      <td>0</td>\n",
       "      <td>1</td>\n",
       "      <td>0</td>\n",
       "      <td>1</td>\n",
       "      <td>0</td>\n",
       "      <td>0</td>\n",
       "      <td>0</td>\n",
       "      <td>1</td>\n",
       "      <td>0</td>\n",
       "      <td>1</td>\n",
       "    </tr>\n",
       "  </tbody>\n",
       "</table>\n",
       "</div>"
      ],
      "text/plain": [
       "   total_bill   tip  size  sex_Male  sex_Female  smoker_Yes  smoker_No  \\\n",
       "0       16.99  1.01     2         0           1           0          1   \n",
       "1       10.34  1.66     3         1           0           0          1   \n",
       "2       21.01  3.50     3         1           0           0          1   \n",
       "3       23.68  3.31     2         1           0           0          1   \n",
       "4       24.59  3.61     4         0           1           0          1   \n",
       "\n",
       "   day_Thur  day_Fri  day_Sat  day_Sun  time_Lunch  time_Dinner  \n",
       "0         0        0        0        1           0            1  \n",
       "1         0        0        0        1           0            1  \n",
       "2         0        0        0        1           0            1  \n",
       "3         0        0        0        1           0            1  \n",
       "4         0        0        0        1           0            1  "
      ]
     },
     "execution_count": 38,
     "metadata": {},
     "output_type": "execute_result"
    }
   ],
   "source": [
    "catcols = ['sex', 'smoker', 'day', 'time']\n",
    "pd.get_dummies(tips).head()      # only use get_dummies for illustration, NOT model building!"
   ]
  },
  {
   "cell_type": "markdown",
   "metadata": {
    "slideshow": {
     "slide_type": "slide"
    }
   },
   "source": [
    "## Creating a Regression Pipeline\n",
    "* Drop correlated features using Principal Component Analysis (PCA)\n",
    "* Categorical Variables: One-Hot Encoding => PCA (drop correlated features)\n",
    "* Quantitative Variables: Pass-through\n",
    "* Estimator: Linear Regression"
   ]
  },
  {
   "cell_type": "code",
   "execution_count": 39,
   "metadata": {},
   "outputs": [],
   "source": [
    "from sklearn.decomposition import PCA\n",
    "from sklearn.linear_model import LinearRegression\n",
    "from sklearn.preprocessing import OneHotEncoder\n",
    "\n",
    "from sklearn.pipeline import Pipeline\n",
    "from sklearn.compose import ColumnTransformer\n",
    "from sklearn.preprocessing import FunctionTransformer"
   ]
  },
  {
   "cell_type": "code",
   "execution_count": 40,
   "metadata": {},
   "outputs": [],
   "source": [
    "# svd_solver: how much information do you want to drop\n",
    "# default: drops nothing\n",
    "cats = Pipeline([\n",
    "    ('ohe', OneHotEncoder(sparse=False)), \n",
    "    ('pca', PCA(svd_solver='full'))\n",
    "])\n",
    "catcols = ['sex', 'smoker', 'day', 'time']\n",
    "\n",
    "nums = FunctionTransformer(lambda x:x)\n",
    "numcols = ['total_bill', 'size']\n",
    "\n",
    "ct = ColumnTransformer([('cat', cats, catcols), ('num', nums, numcols)])\n",
    "\n",
    "pl = Pipeline([('feats', ct), ('lr', LinearRegression())])"
   ]
  },
  {
   "cell_type": "markdown",
   "metadata": {
    "slideshow": {
     "slide_type": "slide"
    }
   },
   "source": [
    "### Use Parameter Grid-Search with Cross-Validation\n",
    "\n",
    "* Inspect the parameters of the pipeline with `get_params`: use to get keys for parameter-grid.\n",
    "* Train models using a grid search and analyze the results!"
   ]
  },
  {
   "cell_type": "code",
   "execution_count": 41,
   "metadata": {},
   "outputs": [
    {
     "name": "stdout",
     "output_type": "stream",
     "text": [
      "Help on class PCA in module sklearn.decomposition._pca:\n",
      "\n",
      "class PCA(sklearn.decomposition._base._BasePCA)\n",
      " |  PCA(n_components=None, *, copy=True, whiten=False, svd_solver='auto', tol=0.0, iterated_power='auto', random_state=None)\n",
      " |  \n",
      " |  Principal component analysis (PCA).\n",
      " |  \n",
      " |  Linear dimensionality reduction using Singular Value Decomposition of the\n",
      " |  data to project it to a lower dimensional space. The input data is centered\n",
      " |  but not scaled for each feature before applying the SVD.\n",
      " |  \n",
      " |  It uses the LAPACK implementation of the full SVD or a randomized truncated\n",
      " |  SVD by the method of Halko et al. 2009, depending on the shape of the input\n",
      " |  data and the number of components to extract.\n",
      " |  \n",
      " |  It can also use the scipy.sparse.linalg ARPACK implementation of the\n",
      " |  truncated SVD.\n",
      " |  \n",
      " |  Notice that this class does not support sparse input. See\n",
      " |  :class:`TruncatedSVD` for an alternative with sparse data.\n",
      " |  \n",
      " |  Read more in the :ref:`User Guide <PCA>`.\n",
      " |  \n",
      " |  Parameters\n",
      " |  ----------\n",
      " |  n_components : int, float or 'mle', default=None\n",
      " |      Number of components to keep.\n",
      " |      if n_components is not set all components are kept::\n",
      " |  \n",
      " |          n_components == min(n_samples, n_features)\n",
      " |  \n",
      " |      If ``n_components == 'mle'`` and ``svd_solver == 'full'``, Minka's\n",
      " |      MLE is used to guess the dimension. Use of ``n_components == 'mle'``\n",
      " |      will interpret ``svd_solver == 'auto'`` as ``svd_solver == 'full'``.\n",
      " |  \n",
      " |      If ``0 < n_components < 1`` and ``svd_solver == 'full'``, select the\n",
      " |      number of components such that the amount of variance that needs to be\n",
      " |      explained is greater than the percentage specified by n_components.\n",
      " |  \n",
      " |      If ``svd_solver == 'arpack'``, the number of components must be\n",
      " |      strictly less than the minimum of n_features and n_samples.\n",
      " |  \n",
      " |      Hence, the None case results in::\n",
      " |  \n",
      " |          n_components == min(n_samples, n_features) - 1\n",
      " |  \n",
      " |  copy : bool, default=True\n",
      " |      If False, data passed to fit are overwritten and running\n",
      " |      fit(X).transform(X) will not yield the expected results,\n",
      " |      use fit_transform(X) instead.\n",
      " |  \n",
      " |  whiten : bool, default=False\n",
      " |      When True (False by default) the `components_` vectors are multiplied\n",
      " |      by the square root of n_samples and then divided by the singular values\n",
      " |      to ensure uncorrelated outputs with unit component-wise variances.\n",
      " |  \n",
      " |      Whitening will remove some information from the transformed signal\n",
      " |      (the relative variance scales of the components) but can sometime\n",
      " |      improve the predictive accuracy of the downstream estimators by\n",
      " |      making their data respect some hard-wired assumptions.\n",
      " |  \n",
      " |  svd_solver : {'auto', 'full', 'arpack', 'randomized'}, default='auto'\n",
      " |      If auto :\n",
      " |          The solver is selected by a default policy based on `X.shape` and\n",
      " |          `n_components`: if the input data is larger than 500x500 and the\n",
      " |          number of components to extract is lower than 80% of the smallest\n",
      " |          dimension of the data, then the more efficient 'randomized'\n",
      " |          method is enabled. Otherwise the exact full SVD is computed and\n",
      " |          optionally truncated afterwards.\n",
      " |      If full :\n",
      " |          run exact full SVD calling the standard LAPACK solver via\n",
      " |          `scipy.linalg.svd` and select the components by postprocessing\n",
      " |      If arpack :\n",
      " |          run SVD truncated to n_components calling ARPACK solver via\n",
      " |          `scipy.sparse.linalg.svds`. It requires strictly\n",
      " |          0 < n_components < min(X.shape)\n",
      " |      If randomized :\n",
      " |          run randomized SVD by the method of Halko et al.\n",
      " |  \n",
      " |      .. versionadded:: 0.18.0\n",
      " |  \n",
      " |  tol : float, default=0.0\n",
      " |      Tolerance for singular values computed by svd_solver == 'arpack'.\n",
      " |      Must be of range [0.0, infinity).\n",
      " |  \n",
      " |      .. versionadded:: 0.18.0\n",
      " |  \n",
      " |  iterated_power : int or 'auto', default='auto'\n",
      " |      Number of iterations for the power method computed by\n",
      " |      svd_solver == 'randomized'.\n",
      " |      Must be of range [0, infinity).\n",
      " |  \n",
      " |      .. versionadded:: 0.18.0\n",
      " |  \n",
      " |  random_state : int, RandomState instance or None, default=None\n",
      " |      Used when the 'arpack' or 'randomized' solvers are used. Pass an int\n",
      " |      for reproducible results across multiple function calls.\n",
      " |      See :term:`Glossary <random_state>`.\n",
      " |  \n",
      " |      .. versionadded:: 0.18.0\n",
      " |  \n",
      " |  Attributes\n",
      " |  ----------\n",
      " |  components_ : ndarray of shape (n_components, n_features)\n",
      " |      Principal axes in feature space, representing the directions of\n",
      " |      maximum variance in the data. The components are sorted by\n",
      " |      ``explained_variance_``.\n",
      " |  \n",
      " |  explained_variance_ : ndarray of shape (n_components,)\n",
      " |      The amount of variance explained by each of the selected components.\n",
      " |  \n",
      " |      Equal to n_components largest eigenvalues\n",
      " |      of the covariance matrix of X.\n",
      " |  \n",
      " |      .. versionadded:: 0.18\n",
      " |  \n",
      " |  explained_variance_ratio_ : ndarray of shape (n_components,)\n",
      " |      Percentage of variance explained by each of the selected components.\n",
      " |  \n",
      " |      If ``n_components`` is not set then all components are stored and the\n",
      " |      sum of the ratios is equal to 1.0.\n",
      " |  \n",
      " |  singular_values_ : ndarray of shape (n_components,)\n",
      " |      The singular values corresponding to each of the selected components.\n",
      " |      The singular values are equal to the 2-norms of the ``n_components``\n",
      " |      variables in the lower-dimensional space.\n",
      " |  \n",
      " |      .. versionadded:: 0.19\n",
      " |  \n",
      " |  mean_ : ndarray of shape (n_features,)\n",
      " |      Per-feature empirical mean, estimated from the training set.\n",
      " |  \n",
      " |      Equal to `X.mean(axis=0)`.\n",
      " |  \n",
      " |  n_components_ : int\n",
      " |      The estimated number of components. When n_components is set\n",
      " |      to 'mle' or a number between 0 and 1 (with svd_solver == 'full') this\n",
      " |      number is estimated from input data. Otherwise it equals the parameter\n",
      " |      n_components, or the lesser value of n_features and n_samples\n",
      " |      if n_components is None.\n",
      " |  \n",
      " |  n_features_ : int\n",
      " |      Number of features in the training data.\n",
      " |  \n",
      " |  n_samples_ : int\n",
      " |      Number of samples in the training data.\n",
      " |  \n",
      " |  noise_variance_ : float\n",
      " |      The estimated noise covariance following the Probabilistic PCA model\n",
      " |      from Tipping and Bishop 1999. See \"Pattern Recognition and\n",
      " |      Machine Learning\" by C. Bishop, 12.2.1 p. 574 or\n",
      " |      http://www.miketipping.com/papers/met-mppca.pdf. It is required to\n",
      " |      compute the estimated data covariance and score samples.\n",
      " |  \n",
      " |      Equal to the average of (min(n_features, n_samples) - n_components)\n",
      " |      smallest eigenvalues of the covariance matrix of X.\n",
      " |  \n",
      " |  See Also\n",
      " |  --------\n",
      " |  KernelPCA : Kernel Principal Component Analysis.\n",
      " |  SparsePCA : Sparse Principal Component Analysis.\n",
      " |  TruncatedSVD : Dimensionality reduction using truncated SVD.\n",
      " |  IncrementalPCA : Incremental Principal Component Analysis.\n",
      " |  \n",
      " |  References\n",
      " |  ----------\n",
      " |  For n_components == 'mle', this class uses the method of *Minka, T. P.\n",
      " |  \"Automatic choice of dimensionality for PCA\". In NIPS, pp. 598-604*\n",
      " |  \n",
      " |  Implements the probabilistic PCA model from:\n",
      " |  Tipping, M. E., and Bishop, C. M. (1999). \"Probabilistic principal\n",
      " |  component analysis\". Journal of the Royal Statistical Society:\n",
      " |  Series B (Statistical Methodology), 61(3), 611-622.\n",
      " |  via the score and score_samples methods.\n",
      " |  See http://www.miketipping.com/papers/met-mppca.pdf\n",
      " |  \n",
      " |  For svd_solver == 'arpack', refer to `scipy.sparse.linalg.svds`.\n",
      " |  \n",
      " |  For svd_solver == 'randomized', see:\n",
      " |  *Halko, N., Martinsson, P. G., and Tropp, J. A. (2011).\n",
      " |  \"Finding structure with randomness: Probabilistic algorithms for\n",
      " |  constructing approximate matrix decompositions\".\n",
      " |  SIAM review, 53(2), 217-288.* and also\n",
      " |  *Martinsson, P. G., Rokhlin, V., and Tygert, M. (2011).\n",
      " |  \"A randomized algorithm for the decomposition of matrices\".\n",
      " |  Applied and Computational Harmonic Analysis, 30(1), 47-68.*\n",
      " |  \n",
      " |  Examples\n",
      " |  --------\n",
      " |  >>> import numpy as np\n",
      " |  >>> from sklearn.decomposition import PCA\n",
      " |  >>> X = np.array([[-1, -1], [-2, -1], [-3, -2], [1, 1], [2, 1], [3, 2]])\n",
      " |  >>> pca = PCA(n_components=2)\n",
      " |  >>> pca.fit(X)\n",
      " |  PCA(n_components=2)\n",
      " |  >>> print(pca.explained_variance_ratio_)\n",
      " |  [0.9924... 0.0075...]\n",
      " |  >>> print(pca.singular_values_)\n",
      " |  [6.30061... 0.54980...]\n",
      " |  \n",
      " |  >>> pca = PCA(n_components=2, svd_solver='full')\n",
      " |  >>> pca.fit(X)\n",
      " |  PCA(n_components=2, svd_solver='full')\n",
      " |  >>> print(pca.explained_variance_ratio_)\n",
      " |  [0.9924... 0.00755...]\n",
      " |  >>> print(pca.singular_values_)\n",
      " |  [6.30061... 0.54980...]\n",
      " |  \n",
      " |  >>> pca = PCA(n_components=1, svd_solver='arpack')\n",
      " |  >>> pca.fit(X)\n",
      " |  PCA(n_components=1, svd_solver='arpack')\n",
      " |  >>> print(pca.explained_variance_ratio_)\n",
      " |  [0.99244...]\n",
      " |  >>> print(pca.singular_values_)\n",
      " |  [6.30061...]\n",
      " |  \n",
      " |  Method resolution order:\n",
      " |      PCA\n",
      " |      sklearn.decomposition._base._BasePCA\n",
      " |      sklearn.base.TransformerMixin\n",
      " |      sklearn.base.BaseEstimator\n",
      " |      builtins.object\n",
      " |  \n",
      " |  Methods defined here:\n",
      " |  \n",
      " |  __init__(self, n_components=None, *, copy=True, whiten=False, svd_solver='auto', tol=0.0, iterated_power='auto', random_state=None)\n",
      " |      Initialize self.  See help(type(self)) for accurate signature.\n",
      " |  \n",
      " |  fit(self, X, y=None)\n",
      " |      Fit the model with X.\n",
      " |      \n",
      " |      Parameters\n",
      " |      ----------\n",
      " |      X : array-like of shape (n_samples, n_features)\n",
      " |          Training data, where n_samples is the number of samples\n",
      " |          and n_features is the number of features.\n",
      " |      \n",
      " |      y : Ignored\n",
      " |      \n",
      " |      Returns\n",
      " |      -------\n",
      " |      self : object\n",
      " |          Returns the instance itself.\n",
      " |  \n",
      " |  fit_transform(self, X, y=None)\n",
      " |      Fit the model with X and apply the dimensionality reduction on X.\n",
      " |      \n",
      " |      Parameters\n",
      " |      ----------\n",
      " |      X : array-like of shape (n_samples, n_features)\n",
      " |          Training data, where n_samples is the number of samples\n",
      " |          and n_features is the number of features.\n",
      " |      \n",
      " |      y : Ignored\n",
      " |      \n",
      " |      Returns\n",
      " |      -------\n",
      " |      X_new : ndarray of shape (n_samples, n_components)\n",
      " |          Transformed values.\n",
      " |      \n",
      " |      Notes\n",
      " |      -----\n",
      " |      This method returns a Fortran-ordered array. To convert it to a\n",
      " |      C-ordered array, use 'np.ascontiguousarray'.\n",
      " |  \n",
      " |  score(self, X, y=None)\n",
      " |      Return the average log-likelihood of all samples.\n",
      " |      \n",
      " |      See. \"Pattern Recognition and Machine Learning\"\n",
      " |      by C. Bishop, 12.2.1 p. 574\n",
      " |      or http://www.miketipping.com/papers/met-mppca.pdf\n",
      " |      \n",
      " |      Parameters\n",
      " |      ----------\n",
      " |      X : array-like of shape (n_samples, n_features)\n",
      " |          The data.\n",
      " |      \n",
      " |      y : Ignored\n",
      " |      \n",
      " |      Returns\n",
      " |      -------\n",
      " |      ll : float\n",
      " |          Average log-likelihood of the samples under the current model.\n",
      " |  \n",
      " |  score_samples(self, X)\n",
      " |      Return the log-likelihood of each sample.\n",
      " |      \n",
      " |      See. \"Pattern Recognition and Machine Learning\"\n",
      " |      by C. Bishop, 12.2.1 p. 574\n",
      " |      or http://www.miketipping.com/papers/met-mppca.pdf\n",
      " |      \n",
      " |      Parameters\n",
      " |      ----------\n",
      " |      X : array-like of shape (n_samples, n_features)\n",
      " |          The data.\n",
      " |      \n",
      " |      Returns\n",
      " |      -------\n",
      " |      ll : ndarray of shape (n_samples,)\n",
      " |          Log-likelihood of each sample under the current model.\n",
      " |  \n",
      " |  ----------------------------------------------------------------------\n",
      " |  Data and other attributes defined here:\n",
      " |  \n",
      " |  __abstractmethods__ = frozenset()\n",
      " |  \n",
      " |  ----------------------------------------------------------------------\n",
      " |  Methods inherited from sklearn.decomposition._base._BasePCA:\n",
      " |  \n",
      " |  get_covariance(self)\n",
      " |      Compute data covariance with the generative model.\n",
      " |      \n",
      " |      ``cov = components_.T * S**2 * components_ + sigma2 * eye(n_features)``\n",
      " |      where S**2 contains the explained variances, and sigma2 contains the\n",
      " |      noise variances.\n",
      " |      \n",
      " |      Returns\n",
      " |      -------\n",
      " |      cov : array, shape=(n_features, n_features)\n",
      " |          Estimated covariance of data.\n",
      " |  \n",
      " |  get_precision(self)\n",
      " |      Compute data precision matrix with the generative model.\n",
      " |      \n",
      " |      Equals the inverse of the covariance but computed with\n",
      " |      the matrix inversion lemma for efficiency.\n",
      " |      \n",
      " |      Returns\n",
      " |      -------\n",
      " |      precision : array, shape=(n_features, n_features)\n",
      " |          Estimated precision of data.\n",
      " |  \n",
      " |  inverse_transform(self, X)\n",
      " |      Transform data back to its original space.\n",
      " |      \n",
      " |      In other words, return an input X_original whose transform would be X.\n",
      " |      \n",
      " |      Parameters\n",
      " |      ----------\n",
      " |      X : array-like, shape (n_samples, n_components)\n",
      " |          New data, where n_samples is the number of samples\n",
      " |          and n_components is the number of components.\n",
      " |      \n",
      " |      Returns\n",
      " |      -------\n",
      " |      X_original array-like, shape (n_samples, n_features)\n",
      " |      \n",
      " |      Notes\n",
      " |      -----\n",
      " |      If whitening is enabled, inverse_transform will compute the\n",
      " |      exact inverse operation, which includes reversing whitening.\n",
      " |  \n",
      " |  transform(self, X)\n",
      " |      Apply dimensionality reduction to X.\n",
      " |      \n",
      " |      X is projected on the first principal components previously extracted\n",
      " |      from a training set.\n",
      " |      \n",
      " |      Parameters\n",
      " |      ----------\n",
      " |      X : array-like, shape (n_samples, n_features)\n",
      " |          New data, where n_samples is the number of samples\n",
      " |          and n_features is the number of features.\n",
      " |      \n",
      " |      Returns\n",
      " |      -------\n",
      " |      X_new : array-like, shape (n_samples, n_components)\n",
      " |      \n",
      " |      Examples\n",
      " |      --------\n",
      " |      \n",
      " |      >>> import numpy as np\n",
      " |      >>> from sklearn.decomposition import IncrementalPCA\n",
      " |      >>> X = np.array([[-1, -1], [-2, -1], [-3, -2], [1, 1], [2, 1], [3, 2]])\n",
      " |      >>> ipca = IncrementalPCA(n_components=2, batch_size=3)\n",
      " |      >>> ipca.fit(X)\n",
      " |      IncrementalPCA(batch_size=3, n_components=2)\n",
      " |      >>> ipca.transform(X) # doctest: +SKIP\n",
      " |  \n",
      " |  ----------------------------------------------------------------------\n",
      " |  Data descriptors inherited from sklearn.base.TransformerMixin:\n",
      " |  \n",
      " |  __dict__\n",
      " |      dictionary for instance variables (if defined)\n",
      " |  \n",
      " |  __weakref__\n",
      " |      list of weak references to the object (if defined)\n",
      " |  \n",
      " |  ----------------------------------------------------------------------\n",
      " |  Methods inherited from sklearn.base.BaseEstimator:\n",
      " |  \n",
      " |  __getstate__(self)\n",
      " |  \n",
      " |  __repr__(self, N_CHAR_MAX=700)\n",
      " |      Return repr(self).\n",
      " |  \n",
      " |  __setstate__(self, state)\n",
      " |  \n",
      " |  get_params(self, deep=True)\n",
      " |      Get parameters for this estimator.\n",
      " |      \n",
      " |      Parameters\n",
      " |      ----------\n",
      " |      deep : bool, default=True\n",
      " |          If True, will return the parameters for this estimator and\n",
      " |          contained subobjects that are estimators.\n",
      " |      \n",
      " |      Returns\n",
      " |      -------\n",
      " |      params : dict\n",
      " |          Parameter names mapped to their values.\n",
      " |  \n",
      " |  set_params(self, **params)\n",
      " |      Set the parameters of this estimator.\n",
      " |      \n",
      " |      The method works on simple estimators as well as on nested objects\n",
      " |      (such as :class:`~sklearn.pipeline.Pipeline`). The latter have\n",
      " |      parameters of the form ``<component>__<parameter>`` so that it's\n",
      " |      possible to update each component of a nested object.\n",
      " |      \n",
      " |      Parameters\n",
      " |      ----------\n",
      " |      **params : dict\n",
      " |          Estimator parameters.\n",
      " |      \n",
      " |      Returns\n",
      " |      -------\n",
      " |      self : estimator instance\n",
      " |          Estimator instance.\n",
      "\n"
     ]
    }
   ],
   "source": [
    "help(PCA)"
   ]
  },
  {
   "cell_type": "code",
   "execution_count": 42,
   "metadata": {},
   "outputs": [
    {
     "data": {
      "text/plain": [
       "dict_keys(['memory', 'steps', 'verbose', 'feats', 'lr', 'feats__n_jobs', 'feats__remainder', 'feats__sparse_threshold', 'feats__transformer_weights', 'feats__transformers', 'feats__verbose', 'feats__cat', 'feats__num', 'feats__cat__memory', 'feats__cat__steps', 'feats__cat__verbose', 'feats__cat__ohe', 'feats__cat__pca', 'feats__cat__ohe__categories', 'feats__cat__ohe__drop', 'feats__cat__ohe__dtype', 'feats__cat__ohe__handle_unknown', 'feats__cat__ohe__sparse', 'feats__cat__pca__copy', 'feats__cat__pca__iterated_power', 'feats__cat__pca__n_components', 'feats__cat__pca__random_state', 'feats__cat__pca__svd_solver', 'feats__cat__pca__tol', 'feats__cat__pca__whiten', 'feats__num__accept_sparse', 'feats__num__check_inverse', 'feats__num__func', 'feats__num__inv_kw_args', 'feats__num__inverse_func', 'feats__num__kw_args', 'feats__num__validate', 'lr__copy_X', 'lr__fit_intercept', 'lr__n_jobs', 'lr__normalize', 'lr__positive'])"
      ]
     },
     "execution_count": 42,
     "metadata": {},
     "output_type": "execute_result"
    }
   ],
   "source": [
    "pl.get_params().keys()"
   ]
  },
  {
   "cell_type": "code",
   "execution_count": 43,
   "metadata": {},
   "outputs": [],
   "source": [
    "# None: keep all variables\n",
    "# 0.90 : keep 90% of the information\n",
    "params = {'feats__cat__pca__n_components':[.8, .85, .9, .95, None]}\n",
    "grids = GridSearchCV(pl, param_grid=params, cv=5)"
   ]
  },
  {
   "cell_type": "code",
   "execution_count": 44,
   "metadata": {},
   "outputs": [
    {
     "data": {
      "text/plain": [
       "GridSearchCV(cv=5,\n",
       "             estimator=Pipeline(steps=[('feats',\n",
       "                                        ColumnTransformer(transformers=[('cat',\n",
       "                                                                         Pipeline(steps=[('ohe',\n",
       "                                                                                          OneHotEncoder(sparse=False)),\n",
       "                                                                                         ('pca',\n",
       "                                                                                          PCA(svd_solver='full'))]),\n",
       "                                                                         ['sex',\n",
       "                                                                          'smoker',\n",
       "                                                                          'day',\n",
       "                                                                          'time']),\n",
       "                                                                        ('num',\n",
       "                                                                         FunctionTransformer(func=<function <lambda> at 0x000001E557CE19D0>),\n",
       "                                                                         ['total_bill',\n",
       "                                                                          'size'])])),\n",
       "                                       ('lr', LinearRegression())]),\n",
       "             param_grid={'feats__cat__pca__n_components': [0.8, 0.85, 0.9, 0.95,\n",
       "                                                           None]})"
      ]
     },
     "execution_count": 44,
     "metadata": {},
     "output_type": "execute_result"
    }
   ],
   "source": [
    "X_tr, X_ts, y_tr, y_ts = train_test_split(tips, tips.tip)\n",
    "grids.fit(X_tr, y_tr)"
   ]
  },
  {
   "cell_type": "code",
   "execution_count": 45,
   "metadata": {},
   "outputs": [
    {
     "data": {
      "text/plain": [
       "{'feats__cat__pca__n_components': 0.8}"
      ]
     },
     "execution_count": 45,
     "metadata": {},
     "output_type": "execute_result"
    }
   ],
   "source": [
    "grids.best_params_"
   ]
  },
  {
   "cell_type": "code",
   "execution_count": 46,
   "metadata": {},
   "outputs": [
    {
     "data": {
      "text/plain": [
       "0.35853090150116224"
      ]
     },
     "execution_count": 46,
     "metadata": {},
     "output_type": "execute_result"
    }
   ],
   "source": [
    "# The best_score_ is the average over your cross-validation fold scores of the best model \n",
    "# (best in exactly that sense: scores highest on average over folds)\n",
    "grids.best_score_"
   ]
  },
  {
   "cell_type": "code",
   "execution_count": 47,
   "metadata": {},
   "outputs": [
    {
     "data": {
      "text/plain": [
       "{'mean_fit_time': array([0.01435518, 0.00598526, 0.00658274, 0.00738025, 0.00897603]),\n",
       " 'std_fit_time': array([0.01176427, 0.00110588, 0.00101665, 0.00119678, 0.00166921]),\n",
       " 'mean_score_time': array([0.00379033, 0.00259185, 0.00339055, 0.00339112, 0.00379014]),\n",
       " 'std_score_time': array([0.00039933, 0.0007956 , 0.0010174 , 0.00149297, 0.00039923]),\n",
       " 'param_feats__cat__pca__n_components': masked_array(data=[0.8, 0.85, 0.9, 0.95, None],\n",
       "              mask=[False, False, False, False, False],\n",
       "        fill_value='?',\n",
       "             dtype=object),\n",
       " 'params': [{'feats__cat__pca__n_components': 0.8},\n",
       "  {'feats__cat__pca__n_components': 0.85},\n",
       "  {'feats__cat__pca__n_components': 0.9},\n",
       "  {'feats__cat__pca__n_components': 0.95},\n",
       "  {'feats__cat__pca__n_components': None}],\n",
       " 'split0_test_score': array([0.50940843, 0.50541058, 0.50541058, 0.50185143, 0.500062  ]),\n",
       " 'split1_test_score': array([0.33403876, 0.3340339 , 0.3340339 , 0.33347853, 0.33207809]),\n",
       " 'split2_test_score': array([0.41940641, 0.41940641, 0.41940641, 0.41950757, 0.41778446]),\n",
       " 'split3_test_score': array([ 0.01321101,  0.00193432,  0.00193432,  0.00123294, -0.00149608]),\n",
       " 'split4_test_score': array([0.5165899 , 0.51324146, 0.51324146, 0.51324146, 0.48411823]),\n",
       " 'mean_test_score': array([0.3585309 , 0.35480533, 0.35480533, 0.35386239, 0.34650934]),\n",
       " 'std_test_score': array([0.18509359, 0.18809926, 0.18809926, 0.18781628, 0.18379924]),\n",
       " 'rank_test_score': array([1, 2, 2, 4, 5])}"
      ]
     },
     "execution_count": 47,
     "metadata": {},
     "output_type": "execute_result"
    }
   ],
   "source": [
    "grids.cv_results_"
   ]
  },
  {
   "cell_type": "code",
   "execution_count": 48,
   "metadata": {},
   "outputs": [
    {
     "data": {
      "text/plain": [
       "0.6112566655556206"
      ]
     },
     "execution_count": 48,
     "metadata": {},
     "output_type": "execute_result"
    }
   ],
   "source": [
    "grids.best_estimator_.score(X_ts, y_ts)"
   ]
  },
  {
   "cell_type": "markdown",
   "metadata": {
    "slideshow": {
     "slide_type": "slide"
    }
   },
   "source": [
    "## Housing Price Prediction: Sales Price from House Characteristics\n",
    "\n",
    "* Create a 'baseline' model: a model pipeline without ingenuity.\n",
    "* Try to improve upon the the baseline with creativity and domain knowledge."
   ]
  },
  {
   "cell_type": "code",
   "execution_count": 49,
   "metadata": {},
   "outputs": [
    {
     "data": {
      "text/html": [
       "<div>\n",
       "<style scoped>\n",
       "    .dataframe tbody tr th:only-of-type {\n",
       "        vertical-align: middle;\n",
       "    }\n",
       "\n",
       "    .dataframe tbody tr th {\n",
       "        vertical-align: top;\n",
       "    }\n",
       "\n",
       "    .dataframe thead th {\n",
       "        text-align: right;\n",
       "    }\n",
       "</style>\n",
       "<table border=\"1\" class=\"dataframe\">\n",
       "  <thead>\n",
       "    <tr style=\"text-align: right;\">\n",
       "      <th></th>\n",
       "      <th>Id</th>\n",
       "      <th>MSSubClass</th>\n",
       "      <th>MSZoning</th>\n",
       "      <th>LotFrontage</th>\n",
       "      <th>LotArea</th>\n",
       "      <th>Street</th>\n",
       "      <th>Alley</th>\n",
       "      <th>LotShape</th>\n",
       "      <th>LandContour</th>\n",
       "      <th>Utilities</th>\n",
       "      <th>...</th>\n",
       "      <th>PoolArea</th>\n",
       "      <th>PoolQC</th>\n",
       "      <th>Fence</th>\n",
       "      <th>MiscFeature</th>\n",
       "      <th>MiscVal</th>\n",
       "      <th>MoSold</th>\n",
       "      <th>YrSold</th>\n",
       "      <th>SaleType</th>\n",
       "      <th>SaleCondition</th>\n",
       "      <th>SalePrice</th>\n",
       "    </tr>\n",
       "  </thead>\n",
       "  <tbody>\n",
       "    <tr>\n",
       "      <th>0</th>\n",
       "      <td>1</td>\n",
       "      <td>60</td>\n",
       "      <td>RL</td>\n",
       "      <td>65.0</td>\n",
       "      <td>8450</td>\n",
       "      <td>Pave</td>\n",
       "      <td>NaN</td>\n",
       "      <td>Reg</td>\n",
       "      <td>Lvl</td>\n",
       "      <td>AllPub</td>\n",
       "      <td>...</td>\n",
       "      <td>0</td>\n",
       "      <td>NaN</td>\n",
       "      <td>NaN</td>\n",
       "      <td>NaN</td>\n",
       "      <td>0</td>\n",
       "      <td>2</td>\n",
       "      <td>2008</td>\n",
       "      <td>WD</td>\n",
       "      <td>Normal</td>\n",
       "      <td>208500</td>\n",
       "    </tr>\n",
       "    <tr>\n",
       "      <th>1</th>\n",
       "      <td>2</td>\n",
       "      <td>20</td>\n",
       "      <td>RL</td>\n",
       "      <td>80.0</td>\n",
       "      <td>9600</td>\n",
       "      <td>Pave</td>\n",
       "      <td>NaN</td>\n",
       "      <td>Reg</td>\n",
       "      <td>Lvl</td>\n",
       "      <td>AllPub</td>\n",
       "      <td>...</td>\n",
       "      <td>0</td>\n",
       "      <td>NaN</td>\n",
       "      <td>NaN</td>\n",
       "      <td>NaN</td>\n",
       "      <td>0</td>\n",
       "      <td>5</td>\n",
       "      <td>2007</td>\n",
       "      <td>WD</td>\n",
       "      <td>Normal</td>\n",
       "      <td>181500</td>\n",
       "    </tr>\n",
       "    <tr>\n",
       "      <th>2</th>\n",
       "      <td>3</td>\n",
       "      <td>60</td>\n",
       "      <td>RL</td>\n",
       "      <td>68.0</td>\n",
       "      <td>11250</td>\n",
       "      <td>Pave</td>\n",
       "      <td>NaN</td>\n",
       "      <td>IR1</td>\n",
       "      <td>Lvl</td>\n",
       "      <td>AllPub</td>\n",
       "      <td>...</td>\n",
       "      <td>0</td>\n",
       "      <td>NaN</td>\n",
       "      <td>NaN</td>\n",
       "      <td>NaN</td>\n",
       "      <td>0</td>\n",
       "      <td>9</td>\n",
       "      <td>2008</td>\n",
       "      <td>WD</td>\n",
       "      <td>Normal</td>\n",
       "      <td>223500</td>\n",
       "    </tr>\n",
       "    <tr>\n",
       "      <th>3</th>\n",
       "      <td>4</td>\n",
       "      <td>70</td>\n",
       "      <td>RL</td>\n",
       "      <td>60.0</td>\n",
       "      <td>9550</td>\n",
       "      <td>Pave</td>\n",
       "      <td>NaN</td>\n",
       "      <td>IR1</td>\n",
       "      <td>Lvl</td>\n",
       "      <td>AllPub</td>\n",
       "      <td>...</td>\n",
       "      <td>0</td>\n",
       "      <td>NaN</td>\n",
       "      <td>NaN</td>\n",
       "      <td>NaN</td>\n",
       "      <td>0</td>\n",
       "      <td>2</td>\n",
       "      <td>2006</td>\n",
       "      <td>WD</td>\n",
       "      <td>Abnorml</td>\n",
       "      <td>140000</td>\n",
       "    </tr>\n",
       "    <tr>\n",
       "      <th>4</th>\n",
       "      <td>5</td>\n",
       "      <td>60</td>\n",
       "      <td>RL</td>\n",
       "      <td>84.0</td>\n",
       "      <td>14260</td>\n",
       "      <td>Pave</td>\n",
       "      <td>NaN</td>\n",
       "      <td>IR1</td>\n",
       "      <td>Lvl</td>\n",
       "      <td>AllPub</td>\n",
       "      <td>...</td>\n",
       "      <td>0</td>\n",
       "      <td>NaN</td>\n",
       "      <td>NaN</td>\n",
       "      <td>NaN</td>\n",
       "      <td>0</td>\n",
       "      <td>12</td>\n",
       "      <td>2008</td>\n",
       "      <td>WD</td>\n",
       "      <td>Normal</td>\n",
       "      <td>250000</td>\n",
       "    </tr>\n",
       "  </tbody>\n",
       "</table>\n",
       "<p>5 rows × 81 columns</p>\n",
       "</div>"
      ],
      "text/plain": [
       "   Id  MSSubClass MSZoning  LotFrontage  LotArea Street Alley LotShape  \\\n",
       "0   1          60       RL         65.0     8450   Pave   NaN      Reg   \n",
       "1   2          20       RL         80.0     9600   Pave   NaN      Reg   \n",
       "2   3          60       RL         68.0    11250   Pave   NaN      IR1   \n",
       "3   4          70       RL         60.0     9550   Pave   NaN      IR1   \n",
       "4   5          60       RL         84.0    14260   Pave   NaN      IR1   \n",
       "\n",
       "  LandContour Utilities  ... PoolArea PoolQC Fence MiscFeature MiscVal MoSold  \\\n",
       "0         Lvl    AllPub  ...        0    NaN   NaN         NaN       0      2   \n",
       "1         Lvl    AllPub  ...        0    NaN   NaN         NaN       0      5   \n",
       "2         Lvl    AllPub  ...        0    NaN   NaN         NaN       0      9   \n",
       "3         Lvl    AllPub  ...        0    NaN   NaN         NaN       0      2   \n",
       "4         Lvl    AllPub  ...        0    NaN   NaN         NaN       0     12   \n",
       "\n",
       "  YrSold  SaleType  SaleCondition  SalePrice  \n",
       "0   2008        WD         Normal     208500  \n",
       "1   2007        WD         Normal     181500  \n",
       "2   2008        WD         Normal     223500  \n",
       "3   2006        WD        Abnorml     140000  \n",
       "4   2008        WD         Normal     250000  \n",
       "\n",
       "[5 rows x 81 columns]"
      ]
     },
     "execution_count": 49,
     "metadata": {},
     "output_type": "execute_result"
    }
   ],
   "source": [
    "housing = pd.read_csv('data/housing.csv')\n",
    "housing.head()"
   ]
  },
  {
   "cell_type": "code",
   "execution_count": 50,
   "metadata": {},
   "outputs": [
    {
     "name": "stdout",
     "output_type": "stream",
     "text": [
      "<class 'pandas.core.frame.DataFrame'>\n",
      "RangeIndex: 1460 entries, 0 to 1459\n",
      "Data columns (total 81 columns):\n",
      " #   Column         Non-Null Count  Dtype  \n",
      "---  ------         --------------  -----  \n",
      " 0   Id             1460 non-null   int64  \n",
      " 1   MSSubClass     1460 non-null   int64  \n",
      " 2   MSZoning       1460 non-null   object \n",
      " 3   LotFrontage    1201 non-null   float64\n",
      " 4   LotArea        1460 non-null   int64  \n",
      " 5   Street         1460 non-null   object \n",
      " 6   Alley          91 non-null     object \n",
      " 7   LotShape       1460 non-null   object \n",
      " 8   LandContour    1460 non-null   object \n",
      " 9   Utilities      1460 non-null   object \n",
      " 10  LotConfig      1460 non-null   object \n",
      " 11  LandSlope      1460 non-null   object \n",
      " 12  Neighborhood   1460 non-null   object \n",
      " 13  Condition1     1460 non-null   object \n",
      " 14  Condition2     1460 non-null   object \n",
      " 15  BldgType       1460 non-null   object \n",
      " 16  HouseStyle     1460 non-null   object \n",
      " 17  OverallQual    1460 non-null   int64  \n",
      " 18  OverallCond    1460 non-null   int64  \n",
      " 19  YearBuilt      1460 non-null   int64  \n",
      " 20  YearRemodAdd   1460 non-null   int64  \n",
      " 21  RoofStyle      1460 non-null   object \n",
      " 22  RoofMatl       1460 non-null   object \n",
      " 23  Exterior1st    1460 non-null   object \n",
      " 24  Exterior2nd    1460 non-null   object \n",
      " 25  MasVnrType     1452 non-null   object \n",
      " 26  MasVnrArea     1452 non-null   float64\n",
      " 27  ExterQual      1460 non-null   object \n",
      " 28  ExterCond      1460 non-null   object \n",
      " 29  Foundation     1460 non-null   object \n",
      " 30  BsmtQual       1423 non-null   object \n",
      " 31  BsmtCond       1423 non-null   object \n",
      " 32  BsmtExposure   1422 non-null   object \n",
      " 33  BsmtFinType1   1423 non-null   object \n",
      " 34  BsmtFinSF1     1460 non-null   int64  \n",
      " 35  BsmtFinType2   1422 non-null   object \n",
      " 36  BsmtFinSF2     1460 non-null   int64  \n",
      " 37  BsmtUnfSF      1460 non-null   int64  \n",
      " 38  TotalBsmtSF    1460 non-null   int64  \n",
      " 39  Heating        1460 non-null   object \n",
      " 40  HeatingQC      1460 non-null   object \n",
      " 41  CentralAir     1460 non-null   object \n",
      " 42  Electrical     1459 non-null   object \n",
      " 43  1stFlrSF       1460 non-null   int64  \n",
      " 44  2ndFlrSF       1460 non-null   int64  \n",
      " 45  LowQualFinSF   1460 non-null   int64  \n",
      " 46  GrLivArea      1460 non-null   int64  \n",
      " 47  BsmtFullBath   1460 non-null   int64  \n",
      " 48  BsmtHalfBath   1460 non-null   int64  \n",
      " 49  FullBath       1460 non-null   int64  \n",
      " 50  HalfBath       1460 non-null   int64  \n",
      " 51  BedroomAbvGr   1460 non-null   int64  \n",
      " 52  KitchenAbvGr   1460 non-null   int64  \n",
      " 53  KitchenQual    1460 non-null   object \n",
      " 54  TotRmsAbvGrd   1460 non-null   int64  \n",
      " 55  Functional     1460 non-null   object \n",
      " 56  Fireplaces     1460 non-null   int64  \n",
      " 57  FireplaceQu    770 non-null    object \n",
      " 58  GarageType     1379 non-null   object \n",
      " 59  GarageYrBlt    1379 non-null   float64\n",
      " 60  GarageFinish   1379 non-null   object \n",
      " 61  GarageCars     1460 non-null   int64  \n",
      " 62  GarageArea     1460 non-null   int64  \n",
      " 63  GarageQual     1379 non-null   object \n",
      " 64  GarageCond     1379 non-null   object \n",
      " 65  PavedDrive     1460 non-null   object \n",
      " 66  WoodDeckSF     1460 non-null   int64  \n",
      " 67  OpenPorchSF    1460 non-null   int64  \n",
      " 68  EnclosedPorch  1460 non-null   int64  \n",
      " 69  3SsnPorch      1460 non-null   int64  \n",
      " 70  ScreenPorch    1460 non-null   int64  \n",
      " 71  PoolArea       1460 non-null   int64  \n",
      " 72  PoolQC         7 non-null      object \n",
      " 73  Fence          281 non-null    object \n",
      " 74  MiscFeature    54 non-null     object \n",
      " 75  MiscVal        1460 non-null   int64  \n",
      " 76  MoSold         1460 non-null   int64  \n",
      " 77  YrSold         1460 non-null   int64  \n",
      " 78  SaleType       1460 non-null   object \n",
      " 79  SaleCondition  1460 non-null   object \n",
      " 80  SalePrice      1460 non-null   int64  \n",
      "dtypes: float64(3), int64(35), object(43)\n",
      "memory usage: 924.0+ KB\n"
     ]
    }
   ],
   "source": [
    "housing.info()"
   ]
  },
  {
   "cell_type": "code",
   "execution_count": 51,
   "metadata": {},
   "outputs": [],
   "source": [
    "# drop id and SalesPrice from features\n",
    "\n",
    "X = housing.drop(['Id', 'SalePrice'], axis=1)\n",
    "y = housing['SalePrice']"
   ]
  },
  {
   "cell_type": "markdown",
   "metadata": {
    "slideshow": {
     "slide_type": "slide"
    }
   },
   "source": [
    "## Baseline Model\n",
    "\n",
    "* Do the 'minimum' to fit a model and check the performance.\n",
    "    - Quantitative: impute with zero and pass-through (Why is zero not a *terrible* choice?)\n",
    "    - Categorical: One-hot encoding (what assumption is this making about the data?)"
   ]
  },
  {
   "cell_type": "code",
   "execution_count": 52,
   "metadata": {},
   "outputs": [],
   "source": [
    "from sklearn.impute import SimpleImputer"
   ]
  },
  {
   "cell_type": "code",
   "execution_count": 53,
   "metadata": {},
   "outputs": [],
   "source": [
    "types = X.dtypes\n",
    "catcols = types.loc[types == np.object].index\n",
    "numcols = types.loc[types != np.object].index"
   ]
  },
  {
   "cell_type": "code",
   "execution_count": 3,
   "metadata": {},
   "outputs": [
    {
     "ename": "NameError",
     "evalue": "name 'Pipeline' is not defined",
     "output_type": "error",
     "traceback": [
      "\u001b[1;31m---------------------------------------------------------------------------\u001b[0m",
      "\u001b[1;31mNameError\u001b[0m                                 Traceback (most recent call last)",
      "\u001b[1;32m<ipython-input-3-8fba83401d82>\u001b[0m in \u001b[0;36m<module>\u001b[1;34m\u001b[0m\n\u001b[1;32m----> 1\u001b[1;33m cats = Pipeline([\n\u001b[0m\u001b[0;32m      2\u001b[0m     \u001b[1;33m(\u001b[0m\u001b[1;34m'imp'\u001b[0m\u001b[1;33m,\u001b[0m \u001b[0mSimpleImputer\u001b[0m\u001b[1;33m(\u001b[0m\u001b[0mstrategy\u001b[0m\u001b[1;33m=\u001b[0m\u001b[1;34m'constant'\u001b[0m\u001b[1;33m,\u001b[0m \u001b[0mfill_value\u001b[0m\u001b[1;33m=\u001b[0m\u001b[1;34m'None'\u001b[0m\u001b[1;33m)\u001b[0m\u001b[1;33m)\u001b[0m\u001b[1;33m,\u001b[0m\u001b[1;33m\u001b[0m\u001b[1;33m\u001b[0m\u001b[0m\n\u001b[0;32m      3\u001b[0m     \u001b[1;33m(\u001b[0m\u001b[1;34m'ohe'\u001b[0m\u001b[1;33m,\u001b[0m \u001b[0mOneHotEncoder\u001b[0m\u001b[1;33m(\u001b[0m\u001b[0mhandle_unknown\u001b[0m\u001b[1;33m=\u001b[0m\u001b[1;34m'ignore'\u001b[0m\u001b[1;33m,\u001b[0m \u001b[0msparse\u001b[0m\u001b[1;33m=\u001b[0m\u001b[1;32mFalse\u001b[0m\u001b[1;33m)\u001b[0m\u001b[1;33m)\u001b[0m\u001b[1;33m,\u001b[0m\u001b[1;33m\u001b[0m\u001b[1;33m\u001b[0m\u001b[0m\n\u001b[0;32m      4\u001b[0m \u001b[1;31m#    ('pca', PCA(svd_solver='full', n_components=0.99))\u001b[0m\u001b[1;33m\u001b[0m\u001b[1;33m\u001b[0m\u001b[1;33m\u001b[0m\u001b[0m\n\u001b[0;32m      5\u001b[0m ])\n",
      "\u001b[1;31mNameError\u001b[0m: name 'Pipeline' is not defined"
     ]
    }
   ],
   "source": [
    "cats = Pipeline([\n",
    "    ('imp', SimpleImputer(strategy='constant', fill_value='NULL')),\n",
    "    ('ohe', OneHotEncoder(handle_unknown='ignore', sparse=False)),\n",
    "#    ('pca', PCA(svd_solver='full', n_components=0.99))\n",
    "])\n",
    "\n",
    "ct = ColumnTransformer([\n",
    "    ('catcols', cats, catcols),\n",
    "    ('numcols', SimpleImputer(strategy='constant', fill_value=0), numcols)\n",
    "])\n",
    "\n",
    "pl = Pipeline([('feats', ct), ('reg', LinearRegression())])"
   ]
  },
  {
   "cell_type": "code",
   "execution_count": 55,
   "metadata": {},
   "outputs": [],
   "source": [
    "X_tr, X_ts, y_tr, y_ts = train_test_split(X, y, test_size=0.25)"
   ]
  },
  {
   "cell_type": "code",
   "execution_count": 56,
   "metadata": {},
   "outputs": [
    {
     "data": {
      "text/plain": [
       "0.8756672346359784"
      ]
     },
     "execution_count": 56,
     "metadata": {},
     "output_type": "execute_result"
    }
   ],
   "source": [
    "pl.fit(X_tr, y_tr)\n",
    "pl.score(X_ts, y_ts)"
   ]
  },
  {
   "cell_type": "code",
   "execution_count": 57,
   "metadata": {},
   "outputs": [
    {
     "data": {
      "text/plain": [
       "1.3094712074051853"
      ]
     },
     "execution_count": 57,
     "metadata": {},
     "output_type": "execute_result"
    }
   ],
   "source": [
    "preds = pl.predict(X_ts)\n",
    "np.sqrt(np.mean(preds - y_ts)**2)"
   ]
  },
  {
   "cell_type": "code",
   "execution_count": 58,
   "metadata": {},
   "outputs": [],
   "source": [
    "out = []\n",
    "for _ in range(100):\n",
    "    X_tr, X_ts, y_tr, y_ts = train_test_split(X, y, test_size=0.25)\n",
    "    pl.fit(X_tr, y_tr)\n",
    "    out.append(pl.score(X_ts, y_ts))"
   ]
  },
  {
   "cell_type": "code",
   "execution_count": 59,
   "metadata": {},
   "outputs": [
    {
     "data": {
      "image/png": "[encoded data removed]",
      "text/plain": [
       "<Figure size 700x500 with 1 Axes>"
      ]
     },
     "metadata": {},
     "output_type": "display_data"
    }
   ],
   "source": [
    "pd.Series(out).plot(kind='hist', title='scores in 100 model builds', bins=np.linspace(0, 1, 10));"
   ]
  },
  {
   "cell_type": "markdown",
   "metadata": {
    "slideshow": {
     "slide_type": "slide"
    }
   },
   "source": [
    "## Improved Model\n",
    "\n",
    "Question: What features and model improvements can we use?"
   ]
  },
  {
   "cell_type": "code",
   "execution_count": 60,
   "metadata": {},
   "outputs": [
    {
     "data": {
      "text/html": [
       "<div>\n",
       "<style scoped>\n",
       "    .dataframe tbody tr th:only-of-type {\n",
       "        vertical-align: middle;\n",
       "    }\n",
       "\n",
       "    .dataframe tbody tr th {\n",
       "        vertical-align: top;\n",
       "    }\n",
       "\n",
       "    .dataframe thead th {\n",
       "        text-align: right;\n",
       "    }\n",
       "</style>\n",
       "<table border=\"1\" class=\"dataframe\">\n",
       "  <thead>\n",
       "    <tr style=\"text-align: right;\">\n",
       "      <th></th>\n",
       "      <th>Id</th>\n",
       "      <th>MSSubClass</th>\n",
       "      <th>MSZoning</th>\n",
       "      <th>LotFrontage</th>\n",
       "      <th>LotArea</th>\n",
       "      <th>Street</th>\n",
       "      <th>Alley</th>\n",
       "      <th>LotShape</th>\n",
       "      <th>LandContour</th>\n",
       "      <th>Utilities</th>\n",
       "      <th>...</th>\n",
       "      <th>PoolArea</th>\n",
       "      <th>PoolQC</th>\n",
       "      <th>Fence</th>\n",
       "      <th>MiscFeature</th>\n",
       "      <th>MiscVal</th>\n",
       "      <th>MoSold</th>\n",
       "      <th>YrSold</th>\n",
       "      <th>SaleType</th>\n",
       "      <th>SaleCondition</th>\n",
       "      <th>SalePrice</th>\n",
       "    </tr>\n",
       "  </thead>\n",
       "  <tbody>\n",
       "    <tr>\n",
       "      <th>0</th>\n",
       "      <td>1</td>\n",
       "      <td>60</td>\n",
       "      <td>RL</td>\n",
       "      <td>65.0</td>\n",
       "      <td>8450</td>\n",
       "      <td>Pave</td>\n",
       "      <td>NaN</td>\n",
       "      <td>Reg</td>\n",
       "      <td>Lvl</td>\n",
       "      <td>AllPub</td>\n",
       "      <td>...</td>\n",
       "      <td>0</td>\n",
       "      <td>NaN</td>\n",
       "      <td>NaN</td>\n",
       "      <td>NaN</td>\n",
       "      <td>0</td>\n",
       "      <td>2</td>\n",
       "      <td>2008</td>\n",
       "      <td>WD</td>\n",
       "      <td>Normal</td>\n",
       "      <td>208500</td>\n",
       "    </tr>\n",
       "    <tr>\n",
       "      <th>1</th>\n",
       "      <td>2</td>\n",
       "      <td>20</td>\n",
       "      <td>RL</td>\n",
       "      <td>80.0</td>\n",
       "      <td>9600</td>\n",
       "      <td>Pave</td>\n",
       "      <td>NaN</td>\n",
       "      <td>Reg</td>\n",
       "      <td>Lvl</td>\n",
       "      <td>AllPub</td>\n",
       "      <td>...</td>\n",
       "      <td>0</td>\n",
       "      <td>NaN</td>\n",
       "      <td>NaN</td>\n",
       "      <td>NaN</td>\n",
       "      <td>0</td>\n",
       "      <td>5</td>\n",
       "      <td>2007</td>\n",
       "      <td>WD</td>\n",
       "      <td>Normal</td>\n",
       "      <td>181500</td>\n",
       "    </tr>\n",
       "    <tr>\n",
       "      <th>2</th>\n",
       "      <td>3</td>\n",
       "      <td>60</td>\n",
       "      <td>RL</td>\n",
       "      <td>68.0</td>\n",
       "      <td>11250</td>\n",
       "      <td>Pave</td>\n",
       "      <td>NaN</td>\n",
       "      <td>IR1</td>\n",
       "      <td>Lvl</td>\n",
       "      <td>AllPub</td>\n",
       "      <td>...</td>\n",
       "      <td>0</td>\n",
       "      <td>NaN</td>\n",
       "      <td>NaN</td>\n",
       "      <td>NaN</td>\n",
       "      <td>0</td>\n",
       "      <td>9</td>\n",
       "      <td>2008</td>\n",
       "      <td>WD</td>\n",
       "      <td>Normal</td>\n",
       "      <td>223500</td>\n",
       "    </tr>\n",
       "    <tr>\n",
       "      <th>3</th>\n",
       "      <td>4</td>\n",
       "      <td>70</td>\n",
       "      <td>RL</td>\n",
       "      <td>60.0</td>\n",
       "      <td>9550</td>\n",
       "      <td>Pave</td>\n",
       "      <td>NaN</td>\n",
       "      <td>IR1</td>\n",
       "      <td>Lvl</td>\n",
       "      <td>AllPub</td>\n",
       "      <td>...</td>\n",
       "      <td>0</td>\n",
       "      <td>NaN</td>\n",
       "      <td>NaN</td>\n",
       "      <td>NaN</td>\n",
       "      <td>0</td>\n",
       "      <td>2</td>\n",
       "      <td>2006</td>\n",
       "      <td>WD</td>\n",
       "      <td>Abnorml</td>\n",
       "      <td>140000</td>\n",
       "    </tr>\n",
       "    <tr>\n",
       "      <th>4</th>\n",
       "      <td>5</td>\n",
       "      <td>60</td>\n",
       "      <td>RL</td>\n",
       "      <td>84.0</td>\n",
       "      <td>14260</td>\n",
       "      <td>Pave</td>\n",
       "      <td>NaN</td>\n",
       "      <td>IR1</td>\n",
       "      <td>Lvl</td>\n",
       "      <td>AllPub</td>\n",
       "      <td>...</td>\n",
       "      <td>0</td>\n",
       "      <td>NaN</td>\n",
       "      <td>NaN</td>\n",
       "      <td>NaN</td>\n",
       "      <td>0</td>\n",
       "      <td>12</td>\n",
       "      <td>2008</td>\n",
       "      <td>WD</td>\n",
       "      <td>Normal</td>\n",
       "      <td>250000</td>\n",
       "    </tr>\n",
       "  </tbody>\n",
       "</table>\n",
       "<p>5 rows × 81 columns</p>\n",
       "</div>"
      ],
      "text/plain": [
       "   Id  MSSubClass MSZoning  LotFrontage  LotArea Street Alley LotShape  \\\n",
       "0   1          60       RL         65.0     8450   Pave   NaN      Reg   \n",
       "1   2          20       RL         80.0     9600   Pave   NaN      Reg   \n",
       "2   3          60       RL         68.0    11250   Pave   NaN      IR1   \n",
       "3   4          70       RL         60.0     9550   Pave   NaN      IR1   \n",
       "4   5          60       RL         84.0    14260   Pave   NaN      IR1   \n",
       "\n",
       "  LandContour Utilities  ... PoolArea PoolQC Fence MiscFeature MiscVal MoSold  \\\n",
       "0         Lvl    AllPub  ...        0    NaN   NaN         NaN       0      2   \n",
       "1         Lvl    AllPub  ...        0    NaN   NaN         NaN       0      5   \n",
       "2         Lvl    AllPub  ...        0    NaN   NaN         NaN       0      9   \n",
       "3         Lvl    AllPub  ...        0    NaN   NaN         NaN       0      2   \n",
       "4         Lvl    AllPub  ...        0    NaN   NaN         NaN       0     12   \n",
       "\n",
       "  YrSold  SaleType  SaleCondition  SalePrice  \n",
       "0   2008        WD         Normal     208500  \n",
       "1   2007        WD         Normal     181500  \n",
       "2   2008        WD         Normal     223500  \n",
       "3   2006        WD        Abnorml     140000  \n",
       "4   2008        WD         Normal     250000  \n",
       "\n",
       "[5 rows x 81 columns]"
      ]
     },
     "execution_count": 60,
     "metadata": {},
     "output_type": "execute_result"
    }
   ],
   "source": [
    "housing.head()"
   ]
  },
  {
   "cell_type": "markdown",
   "metadata": {
    "slideshow": {
     "slide_type": "slide"
    }
   },
   "source": [
    "## Improved Model\n",
    "\n",
    "* If using linear regression: PCA to drop extra information.\n",
    "* Better techniques for categorical encoding? (Ordinal vs Nominal?)\n",
    "* Better techniques for imputation?\n",
    "* Other models to try? (Tree-based?)"
   ]
  },
  {
   "cell_type": "code",
   "execution_count": 61,
   "metadata": {},
   "outputs": [],
   "source": [
    "from sklearn.ensemble import RandomForestRegressor\n",
    "\n",
    "cats = Pipeline([\n",
    "    ('imp', SimpleImputer(strategy='constant', fill_value='NULL')),\n",
    "    ('ohe', OneHotEncoder(handle_unknown='ignore', sparse=False)),\n",
    "    ('pca', PCA(svd_solver='full', n_components=0.99))\n",
    "])\n",
    "\n",
    "ct = ColumnTransformer([\n",
    "    ('catcols', cats, catcols),\n",
    "    ('numcols', SimpleImputer(strategy='constant', fill_value=0), numcols)\n",
    "])\n",
    "\n",
    "pl = Pipeline([('feats', ct), ('reg', RandomForestRegressor())])"
   ]
  },
  {
   "cell_type": "code",
   "execution_count": 62,
   "metadata": {},
   "outputs": [],
   "source": [
    "X_tr, X_ts, y_tr, y_ts = train_test_split(X, y, test_size=0.25)"
   ]
  },
  {
   "cell_type": "code",
   "execution_count": 63,
   "metadata": {},
   "outputs": [
    {
     "data": {
      "text/plain": [
       "0.8608992285105899"
      ]
     },
     "execution_count": 63,
     "metadata": {},
     "output_type": "execute_result"
    }
   ],
   "source": [
    "pl.fit(X_tr, y_tr)\n",
    "pl.score(X_ts, y_ts)"
   ]
  },
  {
   "cell_type": "code",
   "execution_count": 64,
   "metadata": {},
   "outputs": [
    {
     "data": {
      "text/plain": [
       "362.8287671232871"
      ]
     },
     "execution_count": 64,
     "metadata": {},
     "output_type": "execute_result"
    }
   ],
   "source": [
    "preds = pl.predict(X_ts)\n",
    "np.sqrt(np.mean(preds - y_ts)**2)"
   ]
  },
  {
   "cell_type": "markdown",
   "metadata": {
    "slideshow": {
     "slide_type": "slide"
    }
   },
   "source": [
    "## Predicting Reviews"
   ]
  },
  {
   "cell_type": "code",
   "execution_count": 65,
   "metadata": {},
   "outputs": [],
   "source": [
    "reviews = pd.read_json(open('data/reviews.json'), lines=True)"
   ]
  },
  {
   "cell_type": "code",
   "execution_count": 66,
   "metadata": {},
   "outputs": [
    {
     "data": {
      "text/html": [
       "<div>\n",
       "<style scoped>\n",
       "    .dataframe tbody tr th:only-of-type {\n",
       "        vertical-align: middle;\n",
       "    }\n",
       "\n",
       "    .dataframe tbody tr th {\n",
       "        vertical-align: top;\n",
       "    }\n",
       "\n",
       "    .dataframe thead th {\n",
       "        text-align: right;\n",
       "    }\n",
       "</style>\n",
       "<table border=\"1\" class=\"dataframe\">\n",
       "  <thead>\n",
       "    <tr style=\"text-align: right;\">\n",
       "      <th></th>\n",
       "      <th>reviewerID</th>\n",
       "      <th>asin</th>\n",
       "      <th>reviewerName</th>\n",
       "      <th>helpful</th>\n",
       "      <th>reviewText</th>\n",
       "      <th>overall</th>\n",
       "      <th>summary</th>\n",
       "      <th>unixReviewTime</th>\n",
       "      <th>reviewTime</th>\n",
       "    </tr>\n",
       "  </thead>\n",
       "  <tbody>\n",
       "    <tr>\n",
       "      <th>0</th>\n",
       "      <td>A1JZFGZEZVWQPY</td>\n",
       "      <td>B00002N674</td>\n",
       "      <td>Carter H \"1amazonreviewer@gmail . com\"</td>\n",
       "      <td>[4, 4]</td>\n",
       "      <td>Good USA company that stands behind their prod...</td>\n",
       "      <td>4</td>\n",
       "      <td>Great Hoses</td>\n",
       "      <td>1308614400</td>\n",
       "      <td>06 21, 2011</td>\n",
       "    </tr>\n",
       "    <tr>\n",
       "      <th>1</th>\n",
       "      <td>A32JCI4AK2JTTG</td>\n",
       "      <td>B00002N674</td>\n",
       "      <td>Darryl Bennett \"Fuzzy342\"</td>\n",
       "      <td>[0, 0]</td>\n",
       "      <td>This is a high quality 8 ply hose. I have had ...</td>\n",
       "      <td>5</td>\n",
       "      <td>Gilmour 10-58050 8-ply Flexogen Hose 5/8-Inch ...</td>\n",
       "      <td>1402272000</td>\n",
       "      <td>06 9, 2014</td>\n",
       "    </tr>\n",
       "    <tr>\n",
       "      <th>2</th>\n",
       "      <td>A3N0P5AAMP6XD2</td>\n",
       "      <td>B00002N674</td>\n",
       "      <td>H B</td>\n",
       "      <td>[2, 3]</td>\n",
       "      <td>It's probably one of the best hoses I've ever ...</td>\n",
       "      <td>4</td>\n",
       "      <td>Very satisfied!</td>\n",
       "      <td>1336176000</td>\n",
       "      <td>05 5, 2012</td>\n",
       "    </tr>\n",
       "    <tr>\n",
       "      <th>3</th>\n",
       "      <td>A2QK7UNJ857YG</td>\n",
       "      <td>B00002N674</td>\n",
       "      <td>Jason</td>\n",
       "      <td>[0, 0]</td>\n",
       "      <td>I probably should have bought something a bit ...</td>\n",
       "      <td>5</td>\n",
       "      <td>Very high quality</td>\n",
       "      <td>1373846400</td>\n",
       "      <td>07 15, 2013</td>\n",
       "    </tr>\n",
       "    <tr>\n",
       "      <th>4</th>\n",
       "      <td>AS0CYBAN6EM06</td>\n",
       "      <td>B00002N674</td>\n",
       "      <td>jimmy</td>\n",
       "      <td>[1, 1]</td>\n",
       "      <td>I bought three of these 5/8-inch Flexogen hose...</td>\n",
       "      <td>5</td>\n",
       "      <td>Good Hoses</td>\n",
       "      <td>1375660800</td>\n",
       "      <td>08 5, 2013</td>\n",
       "    </tr>\n",
       "    <tr>\n",
       "      <th>...</th>\n",
       "      <td>...</td>\n",
       "      <td>...</td>\n",
       "      <td>...</td>\n",
       "      <td>...</td>\n",
       "      <td>...</td>\n",
       "      <td>...</td>\n",
       "      <td>...</td>\n",
       "      <td>...</td>\n",
       "      <td>...</td>\n",
       "    </tr>\n",
       "    <tr>\n",
       "      <th>13267</th>\n",
       "      <td>AT53ZTTO707MB</td>\n",
       "      <td>B00KS0F4FI</td>\n",
       "      <td>I Do The Speed Limit</td>\n",
       "      <td>[1, 2]</td>\n",
       "      <td>Simple.  Perfect.  Plenty big enough.  Durable...</td>\n",
       "      <td>5</td>\n",
       "      <td>Great pair of claws</td>\n",
       "      <td>1403827200</td>\n",
       "      <td>06 27, 2014</td>\n",
       "    </tr>\n",
       "    <tr>\n",
       "      <th>13268</th>\n",
       "      <td>AYB4ELCS5AM8P</td>\n",
       "      <td>B00KS0F4FI</td>\n",
       "      <td>John B. Goode \"JBG\"</td>\n",
       "      <td>[0, 0]</td>\n",
       "      <td>These claws are fantastic. They are made of ha...</td>\n",
       "      <td>5</td>\n",
       "      <td>Sharp...</td>\n",
       "      <td>1405123200</td>\n",
       "      <td>07 12, 2014</td>\n",
       "    </tr>\n",
       "    <tr>\n",
       "      <th>13269</th>\n",
       "      <td>AZMY6E8B52L2T</td>\n",
       "      <td>B00KS0F4FI</td>\n",
       "      <td>JP \"J.P.\"</td>\n",
       "      <td>[1, 3]</td>\n",
       "      <td>I really like theseOuddy Heat Resistant Meat C...</td>\n",
       "      <td>5</td>\n",
       "      <td>Really Helpful...</td>\n",
       "      <td>1405123200</td>\n",
       "      <td>07 12, 2014</td>\n",
       "    </tr>\n",
       "    <tr>\n",
       "      <th>13270</th>\n",
       "      <td>AEC90GPFKLAAW</td>\n",
       "      <td>B00KS0F4FI</td>\n",
       "      <td>Lisa Kearns \"Lisa Kearns\"</td>\n",
       "      <td>[0, 0]</td>\n",
       "      <td>I make pulled pork in the crock pot pretty oft...</td>\n",
       "      <td>5</td>\n",
       "      <td>Shreds meat perfectly!</td>\n",
       "      <td>1405468800</td>\n",
       "      <td>07 16, 2014</td>\n",
       "    </tr>\n",
       "    <tr>\n",
       "      <th>13271</th>\n",
       "      <td>A3LGT6UZL99IW1</td>\n",
       "      <td>B00KS0F4FI</td>\n",
       "      <td>Richard C. Drew \"Anaal Nathra/Uthe vas Bethod...</td>\n",
       "      <td>[1, 2]</td>\n",
       "      <td>When I first saw these, I thought &amp;#34;Hmmm. W...</td>\n",
       "      <td>5</td>\n",
       "      <td>Get all Wolverine on your meat</td>\n",
       "      <td>1403740800</td>\n",
       "      <td>06 26, 2014</td>\n",
       "    </tr>\n",
       "  </tbody>\n",
       "</table>\n",
       "<p>13272 rows × 9 columns</p>\n",
       "</div>"
      ],
      "text/plain": [
       "           reviewerID        asin  \\\n",
       "0      A1JZFGZEZVWQPY  B00002N674   \n",
       "1      A32JCI4AK2JTTG  B00002N674   \n",
       "2      A3N0P5AAMP6XD2  B00002N674   \n",
       "3       A2QK7UNJ857YG  B00002N674   \n",
       "4       AS0CYBAN6EM06  B00002N674   \n",
       "...               ...         ...   \n",
       "13267   AT53ZTTO707MB  B00KS0F4FI   \n",
       "13268   AYB4ELCS5AM8P  B00KS0F4FI   \n",
       "13269   AZMY6E8B52L2T  B00KS0F4FI   \n",
       "13270   AEC90GPFKLAAW  B00KS0F4FI   \n",
       "13271  A3LGT6UZL99IW1  B00KS0F4FI   \n",
       "\n",
       "                                           reviewerName helpful  \\\n",
       "0                Carter H \"1amazonreviewer@gmail . com\"  [4, 4]   \n",
       "1                             Darryl Bennett \"Fuzzy342\"  [0, 0]   \n",
       "2                                                   H B  [2, 3]   \n",
       "3                                                 Jason  [0, 0]   \n",
       "4                                                 jimmy  [1, 1]   \n",
       "...                                                 ...     ...   \n",
       "13267                              I Do The Speed Limit  [1, 2]   \n",
       "13268                               John B. Goode \"JBG\"  [0, 0]   \n",
       "13269                                         JP \"J.P.\"  [1, 3]   \n",
       "13270                         Lisa Kearns \"Lisa Kearns\"  [0, 0]   \n",
       "13271  Richard C. Drew \"Anaal Nathra/Uthe vas Bethod...  [1, 2]   \n",
       "\n",
       "                                              reviewText  overall  \\\n",
       "0      Good USA company that stands behind their prod...        4   \n",
       "1      This is a high quality 8 ply hose. I have had ...        5   \n",
       "2      It's probably one of the best hoses I've ever ...        4   \n",
       "3      I probably should have bought something a bit ...        5   \n",
       "4      I bought three of these 5/8-inch Flexogen hose...        5   \n",
       "...                                                  ...      ...   \n",
       "13267  Simple.  Perfect.  Plenty big enough.  Durable...        5   \n",
       "13268  These claws are fantastic. They are made of ha...        5   \n",
       "13269  I really like theseOuddy Heat Resistant Meat C...        5   \n",
       "13270  I make pulled pork in the crock pot pretty oft...        5   \n",
       "13271  When I first saw these, I thought &#34;Hmmm. W...        5   \n",
       "\n",
       "                                                 summary  unixReviewTime  \\\n",
       "0                                            Great Hoses      1308614400   \n",
       "1      Gilmour 10-58050 8-ply Flexogen Hose 5/8-Inch ...      1402272000   \n",
       "2                                        Very satisfied!      1336176000   \n",
       "3                                      Very high quality      1373846400   \n",
       "4                                             Good Hoses      1375660800   \n",
       "...                                                  ...             ...   \n",
       "13267                                Great pair of claws      1403827200   \n",
       "13268                                           Sharp...      1405123200   \n",
       "13269                                  Really Helpful...      1405123200   \n",
       "13270                             Shreds meat perfectly!      1405468800   \n",
       "13271                     Get all Wolverine on your meat      1403740800   \n",
       "\n",
       "        reviewTime  \n",
       "0      06 21, 2011  \n",
       "1       06 9, 2014  \n",
       "2       05 5, 2012  \n",
       "3      07 15, 2013  \n",
       "4       08 5, 2013  \n",
       "...            ...  \n",
       "13267  06 27, 2014  \n",
       "13268  07 12, 2014  \n",
       "13269  07 12, 2014  \n",
       "13270  07 16, 2014  \n",
       "13271  06 26, 2014  \n",
       "\n",
       "[13272 rows x 9 columns]"
      ]
     },
     "execution_count": 66,
     "metadata": {},
     "output_type": "execute_result"
    }
   ],
   "source": [
    "reviews"
   ]
  },
  {
   "cell_type": "code",
   "execution_count": 67,
   "metadata": {},
   "outputs": [],
   "source": [
    "X = reviews['summary']\n",
    "y = (reviews[['overall']] > 3).astype(int)\n",
    "\n",
    "X_tr, X_ts, y_tr, y_ts = train_test_split(X, y, test_size=0.25)"
   ]
  },
  {
   "cell_type": "code",
   "execution_count": 68,
   "metadata": {},
   "outputs": [],
   "source": [
    "from sklearn.feature_extraction.text import CountVectorizer\n",
    "from sklearn.ensemble import RandomForestClassifier"
   ]
  },
  {
   "cell_type": "code",
   "execution_count": 69,
   "metadata": {},
   "outputs": [],
   "source": [
    "count_vec = CountVectorizer()"
   ]
  },
  {
   "cell_type": "code",
   "execution_count": 70,
   "metadata": {},
   "outputs": [
    {
     "data": {
      "text/plain": [
       "CountVectorizer()"
      ]
     },
     "execution_count": 70,
     "metadata": {},
     "output_type": "execute_result"
    }
   ],
   "source": [
    "count_vec.fit(X_tr)"
   ]
  },
  {
   "cell_type": "code",
   "execution_count": 71,
   "metadata": {},
   "outputs": [
    {
     "data": {
      "text/html": [
       "<div>\n",
       "<style scoped>\n",
       "    .dataframe tbody tr th:only-of-type {\n",
       "        vertical-align: middle;\n",
       "    }\n",
       "\n",
       "    .dataframe tbody tr th {\n",
       "        vertical-align: top;\n",
       "    }\n",
       "\n",
       "    .dataframe thead th {\n",
       "        text-align: right;\n",
       "    }\n",
       "</style>\n",
       "<table border=\"1\" class=\"dataframe\">\n",
       "  <thead>\n",
       "    <tr style=\"text-align: right;\">\n",
       "      <th></th>\n",
       "      <th>1016</th>\n",
       "      <th>2013</th>\n",
       "      <th>10</th>\n",
       "      <th>7068</th>\n",
       "      <th>1061</th>\n",
       "      <th>c00322</th>\n",
       "      <th>600w</th>\n",
       "      <th>100</th>\n",
       "      <th>30</th>\n",
       "      <th>203cpbn</th>\n",
       "      <th>...</th>\n",
       "      <th>mysteriously</th>\n",
       "      <th>types</th>\n",
       "      <th>systemic</th>\n",
       "      <th>eyes</th>\n",
       "      <th>zzzzt</th>\n",
       "      <th>bzzzzzzzzzzz</th>\n",
       "      <th>azaleas</th>\n",
       "      <th>bz500333</th>\n",
       "      <th>rzu001</th>\n",
       "      <th>ez</th>\n",
       "    </tr>\n",
       "  </thead>\n",
       "  <tbody>\n",
       "    <tr>\n",
       "      <th>0</th>\n",
       "      <td>0</td>\n",
       "      <td>0</td>\n",
       "      <td>0</td>\n",
       "      <td>0</td>\n",
       "      <td>0</td>\n",
       "      <td>0</td>\n",
       "      <td>0</td>\n",
       "      <td>0</td>\n",
       "      <td>0</td>\n",
       "      <td>0</td>\n",
       "      <td>...</td>\n",
       "      <td>0</td>\n",
       "      <td>0</td>\n",
       "      <td>0</td>\n",
       "      <td>0</td>\n",
       "      <td>0</td>\n",
       "      <td>0</td>\n",
       "      <td>0</td>\n",
       "      <td>0</td>\n",
       "      <td>0</td>\n",
       "      <td>0</td>\n",
       "    </tr>\n",
       "    <tr>\n",
       "      <th>1</th>\n",
       "      <td>0</td>\n",
       "      <td>0</td>\n",
       "      <td>0</td>\n",
       "      <td>1</td>\n",
       "      <td>0</td>\n",
       "      <td>0</td>\n",
       "      <td>0</td>\n",
       "      <td>0</td>\n",
       "      <td>0</td>\n",
       "      <td>0</td>\n",
       "      <td>...</td>\n",
       "      <td>0</td>\n",
       "      <td>0</td>\n",
       "      <td>0</td>\n",
       "      <td>0</td>\n",
       "      <td>0</td>\n",
       "      <td>0</td>\n",
       "      <td>0</td>\n",
       "      <td>0</td>\n",
       "      <td>0</td>\n",
       "      <td>0</td>\n",
       "    </tr>\n",
       "    <tr>\n",
       "      <th>2</th>\n",
       "      <td>0</td>\n",
       "      <td>0</td>\n",
       "      <td>0</td>\n",
       "      <td>0</td>\n",
       "      <td>0</td>\n",
       "      <td>0</td>\n",
       "      <td>0</td>\n",
       "      <td>0</td>\n",
       "      <td>0</td>\n",
       "      <td>0</td>\n",
       "      <td>...</td>\n",
       "      <td>0</td>\n",
       "      <td>0</td>\n",
       "      <td>0</td>\n",
       "      <td>0</td>\n",
       "      <td>0</td>\n",
       "      <td>0</td>\n",
       "      <td>0</td>\n",
       "      <td>0</td>\n",
       "      <td>0</td>\n",
       "      <td>0</td>\n",
       "    </tr>\n",
       "    <tr>\n",
       "      <th>3</th>\n",
       "      <td>0</td>\n",
       "      <td>0</td>\n",
       "      <td>0</td>\n",
       "      <td>0</td>\n",
       "      <td>0</td>\n",
       "      <td>0</td>\n",
       "      <td>0</td>\n",
       "      <td>0</td>\n",
       "      <td>0</td>\n",
       "      <td>0</td>\n",
       "      <td>...</td>\n",
       "      <td>0</td>\n",
       "      <td>0</td>\n",
       "      <td>0</td>\n",
       "      <td>0</td>\n",
       "      <td>0</td>\n",
       "      <td>0</td>\n",
       "      <td>0</td>\n",
       "      <td>0</td>\n",
       "      <td>0</td>\n",
       "      <td>0</td>\n",
       "    </tr>\n",
       "    <tr>\n",
       "      <th>4</th>\n",
       "      <td>0</td>\n",
       "      <td>0</td>\n",
       "      <td>0</td>\n",
       "      <td>0</td>\n",
       "      <td>0</td>\n",
       "      <td>0</td>\n",
       "      <td>0</td>\n",
       "      <td>0</td>\n",
       "      <td>0</td>\n",
       "      <td>0</td>\n",
       "      <td>...</td>\n",
       "      <td>0</td>\n",
       "      <td>0</td>\n",
       "      <td>0</td>\n",
       "      <td>0</td>\n",
       "      <td>0</td>\n",
       "      <td>0</td>\n",
       "      <td>0</td>\n",
       "      <td>0</td>\n",
       "      <td>0</td>\n",
       "      <td>0</td>\n",
       "    </tr>\n",
       "  </tbody>\n",
       "</table>\n",
       "<p>5 rows × 5282 columns</p>\n",
       "</div>"
      ],
      "text/plain": [
       "   1016  2013  10  7068  1061  c00322  600w  100  30  203cpbn  ...  \\\n",
       "0     0     0   0     0     0       0     0    0   0        0  ...   \n",
       "1     0     0   0     1     0       0     0    0   0        0  ...   \n",
       "2     0     0   0     0     0       0     0    0   0        0  ...   \n",
       "3     0     0   0     0     0       0     0    0   0        0  ...   \n",
       "4     0     0   0     0     0       0     0    0   0        0  ...   \n",
       "\n",
       "   mysteriously  types  systemic  eyes  zzzzt  bzzzzzzzzzzz  azaleas  \\\n",
       "0             0      0         0     0      0             0        0   \n",
       "1             0      0         0     0      0             0        0   \n",
       "2             0      0         0     0      0             0        0   \n",
       "3             0      0         0     0      0             0        0   \n",
       "4             0      0         0     0      0             0        0   \n",
       "\n",
       "   bz500333  rzu001  ez  \n",
       "0         0       0   0  \n",
       "1         0       0   0  \n",
       "2         0       0   0  \n",
       "3         0       0   0  \n",
       "4         0       0   0  \n",
       "\n",
       "[5 rows x 5282 columns]"
      ]
     },
     "execution_count": 71,
     "metadata": {},
     "output_type": "execute_result"
    }
   ],
   "source": [
    "vocab = sorted(count_vec.vocabulary_, key=lambda x:x[1])\n",
    "\n",
    "pd.DataFrame(\n",
    "    data=count_vec.transform(X).toarray(),\n",
    "    columns=vocab\n",
    ").head()"
   ]
  },
  {
   "cell_type": "code",
   "execution_count": 72,
   "metadata": {},
   "outputs": [],
   "source": [
    "pl = Pipeline([\n",
    "    ('cv', CountVectorizer()), \n",
    "    ('clf', RandomForestClassifier(max_depth=8, n_estimators=7))\n",
    "])"
   ]
  },
  {
   "cell_type": "code",
   "execution_count": 73,
   "metadata": {},
   "outputs": [
    {
     "data": {
      "text/plain": [
       "Pipeline(steps=[('cv', CountVectorizer()),\n",
       "                ('clf', RandomForestClassifier(max_depth=8, n_estimators=7))])"
      ]
     },
     "execution_count": 73,
     "metadata": {},
     "output_type": "execute_result"
    }
   ],
   "source": [
    "pl.fit(X_tr, y_tr)"
   ]
  },
  {
   "cell_type": "code",
   "execution_count": 74,
   "metadata": {},
   "outputs": [
    {
     "data": {
      "text/plain": [
       "0.7778782399035563"
      ]
     },
     "execution_count": 74,
     "metadata": {},
     "output_type": "execute_result"
    }
   ],
   "source": [
    "pl.score(X_ts, y_ts)"
   ]
  },
  {
   "cell_type": "code",
   "execution_count": 75,
   "metadata": {},
   "outputs": [],
   "source": [
    "clf = pl.named_steps['clf']"
   ]
  },
  {
   "cell_type": "code",
   "execution_count": 76,
   "metadata": {},
   "outputs": [
    {
     "data": {
      "text/plain": [
       "incorrectly    0.103444\n",
       "length         0.057890\n",
       "duty           0.037900\n",
       "reluctantly    0.029408\n",
       "humminbirds    0.028277\n",
       "                 ...   \n",
       "thumbs         0.000000\n",
       "children       0.000000\n",
       "theory         0.000000\n",
       "when           0.000000\n",
       "ez             0.000000\n",
       "Length: 5282, dtype: float64"
      ]
     },
     "execution_count": 76,
     "metadata": {},
     "output_type": "execute_result"
    }
   ],
   "source": [
    "# What are the most important features?\n",
    "pd.Series(\n",
    "    data=clf.feature_importances_,\n",
    "    index=vocab\n",
    ").sort_values(ascending=False)"
   ]
  },
  {
   "cell_type": "code",
   "execution_count": 77,
   "metadata": {},
   "outputs": [
    {
     "data": {
      "text/html": [
       "<div>\n",
       "<style scoped>\n",
       "    .dataframe tbody tr th:only-of-type {\n",
       "        vertical-align: middle;\n",
       "    }\n",
       "\n",
       "    .dataframe tbody tr th {\n",
       "        vertical-align: top;\n",
       "    }\n",
       "\n",
       "    .dataframe thead th {\n",
       "        text-align: right;\n",
       "    }\n",
       "</style>\n",
       "<table border=\"1\" class=\"dataframe\">\n",
       "  <thead>\n",
       "    <tr style=\"text-align: right;\">\n",
       "      <th></th>\n",
       "      <th>reviewerID</th>\n",
       "      <th>asin</th>\n",
       "      <th>reviewerName</th>\n",
       "      <th>helpful</th>\n",
       "      <th>reviewText</th>\n",
       "      <th>overall</th>\n",
       "      <th>summary</th>\n",
       "      <th>unixReviewTime</th>\n",
       "      <th>reviewTime</th>\n",
       "    </tr>\n",
       "  </thead>\n",
       "  <tbody>\n",
       "    <tr>\n",
       "      <th>815</th>\n",
       "      <td>AY3XPKRAMKKY7</td>\n",
       "      <td>B00008GS96</td>\n",
       "      <td>C. G. King</td>\n",
       "      <td>[0, 0]</td>\n",
       "      <td>After an outbreak of pantry moths I was ready ...</td>\n",
       "      <td>5</td>\n",
       "      <td>Satisfying solution to annoying bugs</td>\n",
       "      <td>1303430400</td>\n",
       "      <td>04 22, 2011</td>\n",
       "    </tr>\n",
       "    <tr>\n",
       "      <th>1921</th>\n",
       "      <td>A2YV6F6DLENNTM</td>\n",
       "      <td>B000A0VOD2</td>\n",
       "      <td>Olivia Stabler</td>\n",
       "      <td>[0, 0]</td>\n",
       "      <td>I have a squirrel problem 3 seasons out of the...</td>\n",
       "      <td>3</td>\n",
       "      <td>Got Rid of Annoying Squirrels...For a Couple Days</td>\n",
       "      <td>1345507200</td>\n",
       "      <td>08 21, 2012</td>\n",
       "    </tr>\n",
       "    <tr>\n",
       "      <th>5774</th>\n",
       "      <td>A3JPFWKS83R49V</td>\n",
       "      <td>B001B1KGCO</td>\n",
       "      <td>Bryan Carey \"Bryan Carey\"</td>\n",
       "      <td>[0, 0]</td>\n",
       "      <td>Fire ants are major pests here in the warmer c...</td>\n",
       "      <td>4</td>\n",
       "      <td>Terro 901 Ant Killer Wipes Out Annoying Pests</td>\n",
       "      <td>1372636800</td>\n",
       "      <td>07 1, 2013</td>\n",
       "    </tr>\n",
       "    <tr>\n",
       "      <th>6643</th>\n",
       "      <td>AJ8SVXL3SJN7T</td>\n",
       "      <td>B002EJLLEE</td>\n",
       "      <td>Grider \"Just Horses\"</td>\n",
       "      <td>[0, 0]</td>\n",
       "      <td>During gardening and canning season, we have a...</td>\n",
       "      <td>4</td>\n",
       "      <td>Really Works to Prevent Annoying Fruit Flies i...</td>\n",
       "      <td>1347494400</td>\n",
       "      <td>09 13, 2012</td>\n",
       "    </tr>\n",
       "    <tr>\n",
       "      <th>8155</th>\n",
       "      <td>A35ORHRXYF9HM1</td>\n",
       "      <td>B00472NNUQ</td>\n",
       "      <td>W. Bison</td>\n",
       "      <td>[0, 0]</td>\n",
       "      <td>These scissors have plenty of uses, for sure, ...</td>\n",
       "      <td>4</td>\n",
       "      <td>A solid pair of scissors with a couple minor a...</td>\n",
       "      <td>1306281600</td>\n",
       "      <td>05 25, 2011</td>\n",
       "    </tr>\n",
       "    <tr>\n",
       "      <th>10302</th>\n",
       "      <td>A1TR1R2QKWRSRA</td>\n",
       "      <td>B008RGCA9I</td>\n",
       "      <td>D. Chou \"THE Savvy Consumer\"</td>\n",
       "      <td>[0, 0]</td>\n",
       "      <td>I cleared some drybrush and trees from the slo...</td>\n",
       "      <td>3</td>\n",
       "      <td>Did annoy the gophers to dig more holes elsewh...</td>\n",
       "      <td>1404345600</td>\n",
       "      <td>07 3, 2014</td>\n",
       "    </tr>\n",
       "  </tbody>\n",
       "</table>\n",
       "</div>"
      ],
      "text/plain": [
       "           reviewerID        asin                  reviewerName helpful  \\\n",
       "815     AY3XPKRAMKKY7  B00008GS96                    C. G. King  [0, 0]   \n",
       "1921   A2YV6F6DLENNTM  B000A0VOD2                Olivia Stabler  [0, 0]   \n",
       "5774   A3JPFWKS83R49V  B001B1KGCO     Bryan Carey \"Bryan Carey\"  [0, 0]   \n",
       "6643    AJ8SVXL3SJN7T  B002EJLLEE          Grider \"Just Horses\"  [0, 0]   \n",
       "8155   A35ORHRXYF9HM1  B00472NNUQ                      W. Bison  [0, 0]   \n",
       "10302  A1TR1R2QKWRSRA  B008RGCA9I  D. Chou \"THE Savvy Consumer\"  [0, 0]   \n",
       "\n",
       "                                              reviewText  overall  \\\n",
       "815    After an outbreak of pantry moths I was ready ...        5   \n",
       "1921   I have a squirrel problem 3 seasons out of the...        3   \n",
       "5774   Fire ants are major pests here in the warmer c...        4   \n",
       "6643   During gardening and canning season, we have a...        4   \n",
       "8155   These scissors have plenty of uses, for sure, ...        4   \n",
       "10302  I cleared some drybrush and trees from the slo...        3   \n",
       "\n",
       "                                                 summary  unixReviewTime  \\\n",
       "815                 Satisfying solution to annoying bugs      1303430400   \n",
       "1921   Got Rid of Annoying Squirrels...For a Couple Days      1345507200   \n",
       "5774       Terro 901 Ant Killer Wipes Out Annoying Pests      1372636800   \n",
       "6643   Really Works to Prevent Annoying Fruit Flies i...      1347494400   \n",
       "8155   A solid pair of scissors with a couple minor a...      1306281600   \n",
       "10302  Did annoy the gophers to dig more holes elsewh...      1404345600   \n",
       "\n",
       "        reviewTime  \n",
       "815    04 22, 2011  \n",
       "1921   08 21, 2012  \n",
       "5774    07 1, 2013  \n",
       "6643   09 13, 2012  \n",
       "8155   05 25, 2011  \n",
       "10302   07 3, 2014  "
      ]
     },
     "execution_count": 77,
     "metadata": {},
     "output_type": "execute_result"
    }
   ],
   "source": [
    "word = 'annoy'\n",
    "\n",
    "reviews[reviews['summary'].str.lower().str.contains(word)]"
   ]
  },
  {
   "cell_type": "code",
   "execution_count": 78,
   "metadata": {},
   "outputs": [
    {
     "data": {
      "text/plain": [
       "<AxesSubplot:ylabel='Frequency'>"
      ]
     },
     "execution_count": 78,
     "metadata": {},
     "output_type": "execute_result"
    },
    {
     "data": {
      "image/png": "[encoded data removed]",
      "text/plain": [
       "<Figure size 700x500 with 1 Axes>"
      ]
     },
     "metadata": {},
     "output_type": "display_data"
    }
   ],
   "source": [
    "reviews[reviews['summary'].str.lower().str.contains(word)].overall.plot(kind='hist')"
   ]
  },
  {
   "cell_type": "code",
   "execution_count": 79,
   "metadata": {},
   "outputs": [
    {
     "data": {
      "text/plain": [
       "dict_keys(['memory', 'steps', 'verbose', 'cv', 'clf', 'cv__analyzer', 'cv__binary', 'cv__decode_error', 'cv__dtype', 'cv__encoding', 'cv__input', 'cv__lowercase', 'cv__max_df', 'cv__max_features', 'cv__min_df', 'cv__ngram_range', 'cv__preprocessor', 'cv__stop_words', 'cv__strip_accents', 'cv__token_pattern', 'cv__tokenizer', 'cv__vocabulary', 'clf__bootstrap', 'clf__ccp_alpha', 'clf__class_weight', 'clf__criterion', 'clf__max_depth', 'clf__max_features', 'clf__max_leaf_nodes', 'clf__max_samples', 'clf__min_impurity_decrease', 'clf__min_impurity_split', 'clf__min_samples_leaf', 'clf__min_samples_split', 'clf__min_weight_fraction_leaf', 'clf__n_estimators', 'clf__n_jobs', 'clf__oob_score', 'clf__random_state', 'clf__verbose', 'clf__warm_start'])"
      ]
     },
     "execution_count": 79,
     "metadata": {},
     "output_type": "execute_result"
    }
   ],
   "source": [
    "pl.get_params().keys()"
   ]
  },
  {
   "cell_type": "code",
   "execution_count": 80,
   "metadata": {},
   "outputs": [],
   "source": [
    "params = {\n",
    "    'clf__max_depth': np.arange(2,500,20)\n",
    "}"
   ]
  },
  {
   "cell_type": "code",
   "execution_count": 81,
   "metadata": {},
   "outputs": [],
   "source": [
    "grids = GridSearchCV(pl, param_grid=params, cv=3, return_train_score=True)"
   ]
  },
  {
   "cell_type": "code",
   "execution_count": 82,
   "metadata": {},
   "outputs": [
    {
     "data": {
      "text/plain": [
       "GridSearchCV(cv=3,\n",
       "             estimator=Pipeline(steps=[('cv', CountVectorizer()),\n",
       "                                       ('clf',\n",
       "                                        RandomForestClassifier(max_depth=8,\n",
       "                                                               n_estimators=7))]),\n",
       "             param_grid={'clf__max_depth': array([  2,  22,  42,  62,  82, 102, 122, 142, 162, 182, 202, 222, 242,\n",
       "       262, 282, 302, 322, 342, 362, 382, 402, 422, 442, 462, 482])},\n",
       "             return_train_score=True)"
      ]
     },
     "execution_count": 82,
     "metadata": {},
     "output_type": "execute_result"
    }
   ],
   "source": [
    "grids.fit(X_tr, y_tr)"
   ]
  },
  {
   "cell_type": "code",
   "execution_count": 83,
   "metadata": {},
   "outputs": [
    {
     "data": {
      "text/plain": [
       "dict_keys(['mean_fit_time', 'std_fit_time', 'mean_score_time', 'std_score_time', 'param_clf__max_depth', 'params', 'split0_test_score', 'split1_test_score', 'split2_test_score', 'mean_test_score', 'std_test_score', 'rank_test_score', 'split0_train_score', 'split1_train_score', 'split2_train_score', 'mean_train_score', 'std_train_score'])"
      ]
     },
     "execution_count": 83,
     "metadata": {},
     "output_type": "execute_result"
    }
   ],
   "source": [
    "grids.cv_results_.keys()"
   ]
  },
  {
   "cell_type": "code",
   "execution_count": 84,
   "metadata": {},
   "outputs": [],
   "source": [
    "index = grids.param_grid['clf__max_depth']\n",
    "test = grids.cv_results_['mean_test_score']\n",
    "train = grids.cv_results_['mean_train_score']"
   ]
  },
  {
   "cell_type": "code",
   "execution_count": 85,
   "metadata": {},
   "outputs": [
    {
     "data": {
      "text/plain": [
       "<AxesSubplot:>"
      ]
     },
     "execution_count": 85,
     "metadata": {},
     "output_type": "execute_result"
    },
    {
     "data": {
      "image/png": "[encoded data removed]",
      "text/plain": [
       "<Figure size 700x500 with 1 Axes>"
      ]
     },
     "metadata": {},
     "output_type": "display_data"
    }
   ],
   "source": [
    "pd.DataFrame({'test': test, 'train': train}, index=index).plot()"
   ]
  }
 ],
 "metadata": {
  "celltoolbar": "Slideshow",
  "kernelspec": {
   "display_name": "Python 3",
   "language": "python",
   "name": "python3"
  },
  "language_info": {
   "codemirror_mode": {
    "name": "ipython",
    "version": 3
   },
   "file_extension": ".py",
   "mimetype": "text/x-python",
   "name": "python",
   "nbconvert_exporter": "python",
   "pygments_lexer": "ipython3",
   "version": "3.8.8"
  },
  "livereveal": {
   "scroll": true,
   "transition": "none"
  },
  "toc": {
   "base_numbering": 1,
   "nav_menu": {},
   "number_sections": true,
   "sideBar": true,
   "skip_h1_title": false,
   "title_cell": "Table of Contents",
   "title_sidebar": "Contents",
   "toc_cell": false,
   "toc_position": {},
   "toc_section_display": true,
   "toc_window_display": false
  },
  "varInspector": {
   "cols": {
    "lenName": 16,
    "lenType": 16,
    "lenVar": 40
   },
   "kernels_config": {
    "python": {
     "delete_cmd_postfix": "",
     "delete_cmd_prefix": "del ",
     "library": "var_list.py",
     "varRefreshCmd": "print(var_dic_list())"
    },
    "r": {
     "delete_cmd_postfix": ") ",
     "delete_cmd_prefix": "rm(",
     "library": "var_list.r",
     "varRefreshCmd": "cat(var_dic_list()) "
    }
   },
   "types_to_exclude": [
    "module",
    "function",
    "builtin_function_or_method",
    "instance",
    "_Feature"
   ],
   "window_display": false
  }
 },
 "nbformat": 4,
 "nbformat_minor": 2
}
