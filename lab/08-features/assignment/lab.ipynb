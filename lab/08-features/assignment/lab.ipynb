{
 "cells": [
  {
   "cell_type": "code",
   "execution_count": 2,
   "id": "needed-sheriff",
   "metadata": {
    "deletable": false,
    "editable": false
   },
   "outputs": [],
   "source": [
    "# Initialize Otter\n",
    "import otter\n",
    "grader = otter.Notebook(\"lab.ipynb\")"
   ]
  },
  {
   "cell_type": "markdown",
   "id": "valuable-narrative",
   "metadata": {},
   "source": [
    "# DSC 80: Lab 08\n",
    "\n",
    "### Due Date: Monday, November 22nd, 11:59PM"
   ]
  },
  {
   "cell_type": "markdown",
   "id": "accurate-marriage",
   "metadata": {},
   "source": [
    "## Instructions\n",
    "Much like in DSC 10, this Jupyter Notebook contains the statements of the problems and provides code and markdown cells to display your answers to the problems. Unlike DSC 10, the notebook is *only* for displaying a readable version of your final answers. The coding work will be developed in an accompanying `lab*.py` file, that will be imported into the current notebook.\n",
    "\n",
    "Labs and programming assignments will be graded in (at most) two ways:\n",
    "1. The functions and classes in the accompanying python file will be tested (a la DSC 20),\n",
    "2. The notebook will be graded (for graphs and free response questions).\n",
    "\n",
    "**Do not change the function names in the `*.py` file**\n",
    "- The functions in the `*.py` file are how your assignment is graded, and they are graded by their name. The dictionary at the end of the file (`GRADED FUNCTIONS`) contains the \"grading list\". The final function in the file allows your doctests to check that all the necessary functions exist.\n",
    "- If you changed something you weren't supposed to, just use git to revert!\n",
    "\n",
    "**Tips for working in the Notebook**:\n",
    "- The notebooks serve to present you the questions and give you a place to present your results for later review.\n",
    "- The notebook on *lab assignments* are not graded (only the `.py` file).\n",
    "- Notebooks for PAs will serve as a final report for the assignment, and contain conclusions and answers to open ended questions that are graded.\n",
    "- The notebook serves as a nice environment for 'pre-development' and experimentation before designing your function in your `.py` file.\n",
    "\n",
    "**Tips for developing in the .py file**:\n",
    "- Do not change the function names in the starter code; grading is done using these function names.\n",
    "- Do not change the docstrings in the functions. These are there to tell you if your work is on the right track!\n",
    "- You are encouraged to write your own additional functions to solve the lab! \n",
    "    - Developing in python usually consists of larger files, with many short functions.\n",
    "    - You may write your other functions in an additional `.py` file that you import in `lab.py` (much like we do in the notebook).\n",
    "- Always document your code!"
   ]
  },
  {
   "cell_type": "markdown",
   "id": "patent-pride",
   "metadata": {},
   "source": [
    "### Importing code from `lab.py`\n",
    "\n",
    "* We import our `.py` file that's contained in the same directory as this notebook.\n",
    "* We use the `autoreload` notebook extension to make changes to our `lab.py` file immediately available in our notebook. Without this extension, we would need to restart the notebook kernel to see any changes to `lab.py` in the notebook.\n",
    "    - `autoreload` is necessary because, upon import, `lab.py` is compiled to bytecode (in the directory `__pycache__`). Subsequent imports of `lab` merely import the existing compiled python."
   ]
  },
  {
   "cell_type": "code",
   "execution_count": 3,
   "id": "theoretical-hearts",
   "metadata": {},
   "outputs": [],
   "source": [
    "%load_ext autoreload\n",
    "%autoreload 2"
   ]
  },
  {
   "cell_type": "code",
   "execution_count": 4,
   "id": "advance-polyester",
   "metadata": {},
   "outputs": [],
   "source": [
    "from lab import *"
   ]
  },
  {
   "cell_type": "code",
   "execution_count": 5,
   "id": "reduced-catalog",
   "metadata": {},
   "outputs": [],
   "source": [
    "%matplotlib inline\n",
    "import pandas as pd\n",
    "import numpy as np\n",
    "import matplotlib.pyplot as plt\n",
    "import seaborn as sns\n",
    "import os\n",
    "\n",
    "from sklearn.preprocessing import Binarizer, QuantileTransformer, FunctionTransformer"
   ]
  },
  {
   "cell_type": "markdown",
   "id": "senior-arthritis",
   "metadata": {},
   "source": [
    "# Scaling Transformations: log vs square root"
   ]
  },
  {
   "cell_type": "markdown",
   "id": "above-capacity",
   "metadata": {},
   "source": [
    "**Question 1**\n",
    "\n",
    "A scaling transformation transforms the scale of the data of a particular quantitative column. Mathematically, each data point $x_i$ is replaced with the transformed value $y_i = f(x_i)$, where $f$ is a transformation function. In general, it is not easy to select a good transformation for a given prediction problem. There are many transformations to choose from and each has a different mathematical intuition. \n",
    "\n",
    "Generally, the goal of a scaling transformation is to change the data from a complicated, non-linear relationship into a *linear* relationship. Linear relationships are very easy to understand and easily used by models (e.g. linear regression).\n",
    "\n",
    "Non-linear growth is a commonly seen relationship in data. Sometimes this growth is *exponential* and sometimes it is by a *fixed power*. The scaling transformations that turn these types of growth linear are *log* and *root* transformations respectively.\n",
    "\n",
    "In this problem you need to decide what transformation can be applied to a given dataset in order to make the relationship as *linear as possible*.\n",
    "\n",
    "\n",
    "* To practice: create a dataframe consisting of the numbers $1$ to $99$ squared and plot the values. Then apply the square root transformation, add another column to the original dataframe and plot the columns side by side. What change do you observe?  \n",
    "\n",
    "* Now repeat exactly the same steps but this time create a dataframe with an exponential distribution by raising the value `e` to the powers 1 to 99. Plot these values, perform a log transformation and plot the results, as above. What did you observe?\n",
    "\n",
    "* Let's apply these ideas to the real dataset `homeruns`. You are given a MLB home run dataset with 120 yearly observations from 1900 to 2019. It includes a count of the number of [home runs](http://m.mlb.com/glossary/standard-stats/home-run) hit each year. You need to decide what transformation works better for this dataset: square root or a log transformation. \n",
    "\n",
    "*Note (A few helpful hints)*: \n",
    "* You may find `sns.regplot` and `scipy.stats.linregress` useful for judging the effectiveness of your transformations! \n",
    "* Recall that a well fit linear model has no patterns in it's residuals -- `sns.residplot` can help with this decision.\n",
    "* If you need a refresher on correlation coefficients, see [DSC10](https://www.inferentialthinking.com/chapters/15/1/Correlation.html) as well as the Discussion 08 notebook.\n",
    "\n",
    "Create a function `best_transformation` that returns an integer with the value corresponding to the following choices:\n",
    "\n",
    "1. Square root transformation.\n",
    "2. Log transformation\n",
    "3. Both work the same.\n",
    "4. Neither gives a transformation revealing a linear relationship. \n"
   ]
  },
  {
   "cell_type": "code",
   "execution_count": 6,
   "id": "bacterial-killer",
   "metadata": {},
   "outputs": [],
   "source": [
    "homeruns_fp = os.path.join('data', 'homeruns.csv')\n",
    "homeruns = pd.read_csv(homeruns_fp)"
   ]
  },
  {
   "cell_type": "code",
   "execution_count": 7,
   "id": "d3fd0e5e",
   "metadata": {},
   "outputs": [
    {
     "data": {
      "text/html": [
       "<div>\n",
       "<style scoped>\n",
       "    .dataframe tbody tr th:only-of-type {\n",
       "        vertical-align: middle;\n",
       "    }\n",
       "\n",
       "    .dataframe tbody tr th {\n",
       "        vertical-align: top;\n",
       "    }\n",
       "\n",
       "    .dataframe thead th {\n",
       "        text-align: right;\n",
       "    }\n",
       "</style>\n",
       "<table border=\"1\" class=\"dataframe\">\n",
       "  <thead>\n",
       "    <tr style=\"text-align: right;\">\n",
       "      <th></th>\n",
       "      <th>Year</th>\n",
       "      <th>Homeruns</th>\n",
       "      <th>sqrt</th>\n",
       "      <th>log</th>\n",
       "    </tr>\n",
       "  </thead>\n",
       "  <tbody>\n",
       "    <tr>\n",
       "      <th>0</th>\n",
       "      <td>1900</td>\n",
       "      <td>254</td>\n",
       "      <td>15.937377</td>\n",
       "      <td>5.537334</td>\n",
       "    </tr>\n",
       "    <tr>\n",
       "      <th>1</th>\n",
       "      <td>1901</td>\n",
       "      <td>455</td>\n",
       "      <td>21.330729</td>\n",
       "      <td>6.120297</td>\n",
       "    </tr>\n",
       "    <tr>\n",
       "      <th>2</th>\n",
       "      <td>1902</td>\n",
       "      <td>354</td>\n",
       "      <td>18.814888</td>\n",
       "      <td>5.869297</td>\n",
       "    </tr>\n",
       "    <tr>\n",
       "      <th>3</th>\n",
       "      <td>1903</td>\n",
       "      <td>335</td>\n",
       "      <td>18.303005</td>\n",
       "      <td>5.814131</td>\n",
       "    </tr>\n",
       "    <tr>\n",
       "      <th>4</th>\n",
       "      <td>1904</td>\n",
       "      <td>331</td>\n",
       "      <td>18.193405</td>\n",
       "      <td>5.802118</td>\n",
       "    </tr>\n",
       "    <tr>\n",
       "      <th>...</th>\n",
       "      <td>...</td>\n",
       "      <td>...</td>\n",
       "      <td>...</td>\n",
       "      <td>...</td>\n",
       "    </tr>\n",
       "    <tr>\n",
       "      <th>115</th>\n",
       "      <td>2015</td>\n",
       "      <td>4909</td>\n",
       "      <td>70.064256</td>\n",
       "      <td>8.498826</td>\n",
       "    </tr>\n",
       "    <tr>\n",
       "      <th>116</th>\n",
       "      <td>2016</td>\n",
       "      <td>5610</td>\n",
       "      <td>74.899933</td>\n",
       "      <td>8.632306</td>\n",
       "    </tr>\n",
       "    <tr>\n",
       "      <th>117</th>\n",
       "      <td>2017</td>\n",
       "      <td>6105</td>\n",
       "      <td>78.134499</td>\n",
       "      <td>8.716863</td>\n",
       "    </tr>\n",
       "    <tr>\n",
       "      <th>118</th>\n",
       "      <td>2018</td>\n",
       "      <td>5585</td>\n",
       "      <td>74.732858</td>\n",
       "      <td>8.627840</td>\n",
       "    </tr>\n",
       "    <tr>\n",
       "      <th>119</th>\n",
       "      <td>2019</td>\n",
       "      <td>6776</td>\n",
       "      <td>82.316463</td>\n",
       "      <td>8.821142</td>\n",
       "    </tr>\n",
       "  </tbody>\n",
       "</table>\n",
       "<p>120 rows × 4 columns</p>\n",
       "</div>"
      ],
      "text/plain": [
       "     Year  Homeruns       sqrt       log\n",
       "0    1900       254  15.937377  5.537334\n",
       "1    1901       455  21.330729  6.120297\n",
       "2    1902       354  18.814888  5.869297\n",
       "3    1903       335  18.303005  5.814131\n",
       "4    1904       331  18.193405  5.802118\n",
       "..    ...       ...        ...       ...\n",
       "115  2015      4909  70.064256  8.498826\n",
       "116  2016      5610  74.899933  8.632306\n",
       "117  2017      6105  78.134499  8.716863\n",
       "118  2018      5585  74.732858  8.627840\n",
       "119  2019      6776  82.316463  8.821142\n",
       "\n",
       "[120 rows x 4 columns]"
      ]
     },
     "execution_count": 7,
     "metadata": {},
     "output_type": "execute_result"
    }
   ],
   "source": [
    "homeruns['sqrt'] = homeruns['Homeruns'].apply(np.sqrt)\n",
    "homeruns['log'] = homeruns['Homeruns'].apply(np.log)\n",
    "homeruns"
   ]
  },
  {
   "cell_type": "code",
   "execution_count": 8,
   "id": "f2068264",
   "metadata": {},
   "outputs": [
    {
     "data": {
      "text/plain": [
       "<AxesSubplot:xlabel='Year', ylabel='Homeruns'>"
      ]
     },
     "execution_count": 8,
     "metadata": {},
     "output_type": "execute_result"
    },
    {
     "data": {
      "image/png": "[encoded data removed]",
      "text/plain": [
       "<Figure size 432x288 with 1 Axes>"
      ]
     },
     "metadata": {
      "needs_background": "light"
     },
     "output_type": "display_data"
    }
   ],
   "source": [
    "sns.regplot(x = 'Year', y = 'Homeruns', data = homeruns)"
   ]
  },
  {
   "cell_type": "code",
   "execution_count": 9,
   "id": "single-vegetarian",
   "metadata": {},
   "outputs": [
    {
     "data": {
      "text/plain": [
       "<AxesSubplot:xlabel='Year', ylabel='log'>"
      ]
     },
     "execution_count": 9,
     "metadata": {},
     "output_type": "execute_result"
    },
    {
     "data": {
      "image/png": "[encoded data removed]",
      "text/plain": [
       "<Figure size 864x576 with 4 Axes>"
      ]
     },
     "metadata": {
      "needs_background": "light"
     },
     "output_type": "display_data"
    }
   ],
   "source": [
    "fig, axes = plt.subplots(2, 2, figsize=(12,8))\n",
    "sns.regplot(x = 'Year', y = 'sqrt', data = homeruns, ax = axes[0,0])\n",
    "sns.regplot(x = 'Year', y = 'log', data = homeruns, ax = axes[1,0])\n",
    "sns.residplot(x = 'Year', y = 'sqrt', data = homeruns, ax = axes[0,1])\n",
    "sns.residplot(x = 'Year', y = 'log', data = homeruns, ax = axes[1,1])"
   ]
  },
  {
   "cell_type": "code",
   "execution_count": 10,
   "id": "handmade-authentication",
   "metadata": {},
   "outputs": [
    {
     "ename": "NameError",
     "evalue": "name 'diamonds' is not defined",
     "output_type": "error",
     "traceback": [
      "\u001b[1;31m---------------------------------------------------------------------------\u001b[0m",
      "\u001b[1;31mNameError\u001b[0m                                 Traceback (most recent call last)",
      "\u001b[1;32m<ipython-input-10-f5be07d4c2f9>\u001b[0m in \u001b[0;36m<module>\u001b[1;34m\u001b[0m\n\u001b[1;32m----> 1\u001b[1;33m \u001b[0mcreate_ordinal\u001b[0m\u001b[1;33m(\u001b[0m\u001b[0mdiamonds\u001b[0m\u001b[1;33m)\u001b[0m\u001b[1;33m\u001b[0m\u001b[1;33m\u001b[0m\u001b[0m\n\u001b[0m",
      "\u001b[1;31mNameError\u001b[0m: name 'diamonds' is not defined"
     ]
    }
   ],
   "source": [
    "create_ordinal(diamonds)"
   ]
  },
  {
   "cell_type": "code",
   "execution_count": null,
   "id": "proprietary-toyota",
   "metadata": {
    "deletable": false,
    "editable": false
   },
   "outputs": [],
   "source": [
    "grader.check(\"q1\")"
   ]
  },
  {
   "cell_type": "markdown",
   "id": "annual-payday",
   "metadata": {},
   "source": [
    "# Diamond Pricing \n",
    "\n",
    "The next problems deal with predicting the price of a diamond based on standard measured properties of diamonds. You will use linear regression to predict the price, while improving the quality of your predictions using *feature engineering*.\n",
    "\n",
    "Since this question is supposed to help you understand feature engineering, **you will be building these features from scratch**, instead of using the built in `sklearn` or `pandas` methods.\n",
    "\n",
    "The diamond dataset is downloaded using `seaborn`, via `sns.load_dataset('diamonds')`. The dataset is a DataFrame with 53940 rows and 10 variables:\n",
    "\n",
    "|column|description|\n",
    "|---|---|\n",
    "|price|price in US dollars (326 - 18,823 USD)|\n",
    "|carat|weight of the diamond (0.2 - 5.01)|\n",
    "|cut|quality of the cut (Fair, Good, Very Good, Premium, Ideal)|\n",
    "|color|diamond colour, from J (worst) to D (best)|\n",
    "|clarity|a measurement of how clear the diamond is (I1 (worst), SI2, SI1, VS2, VS1, VVS2, VVS1, IF (best))|\n",
    "|x|length in mm (0 - 10.74)|\n",
    "|y|width in mm (0 - 58.9)|\n",
    "|z|depth in mm (0 - 31.8)|\n",
    "|depth|total depth percentage = z / mean(x, y) = 2 * z / (x + y) (43 - 79)|\n",
    "|table|width of top of diamond relative to widest point (43 - 95)|"
   ]
  },
  {
   "cell_type": "code",
   "execution_count": 11,
   "id": "circular-portland",
   "metadata": {},
   "outputs": [
    {
     "data": {
      "text/html": [
       "<div>\n",
       "<style scoped>\n",
       "    .dataframe tbody tr th:only-of-type {\n",
       "        vertical-align: middle;\n",
       "    }\n",
       "\n",
       "    .dataframe tbody tr th {\n",
       "        vertical-align: top;\n",
       "    }\n",
       "\n",
       "    .dataframe thead th {\n",
       "        text-align: right;\n",
       "    }\n",
       "</style>\n",
       "<table border=\"1\" class=\"dataframe\">\n",
       "  <thead>\n",
       "    <tr style=\"text-align: right;\">\n",
       "      <th></th>\n",
       "      <th>carat</th>\n",
       "      <th>cut</th>\n",
       "      <th>color</th>\n",
       "      <th>clarity</th>\n",
       "      <th>depth</th>\n",
       "      <th>table</th>\n",
       "      <th>price</th>\n",
       "      <th>x</th>\n",
       "      <th>y</th>\n",
       "      <th>z</th>\n",
       "    </tr>\n",
       "  </thead>\n",
       "  <tbody>\n",
       "    <tr>\n",
       "      <th>0</th>\n",
       "      <td>0.23</td>\n",
       "      <td>Ideal</td>\n",
       "      <td>E</td>\n",
       "      <td>SI2</td>\n",
       "      <td>61.5</td>\n",
       "      <td>55.0</td>\n",
       "      <td>326</td>\n",
       "      <td>3.95</td>\n",
       "      <td>3.98</td>\n",
       "      <td>2.43</td>\n",
       "    </tr>\n",
       "    <tr>\n",
       "      <th>1</th>\n",
       "      <td>0.21</td>\n",
       "      <td>Premium</td>\n",
       "      <td>E</td>\n",
       "      <td>SI1</td>\n",
       "      <td>59.8</td>\n",
       "      <td>61.0</td>\n",
       "      <td>326</td>\n",
       "      <td>3.89</td>\n",
       "      <td>3.84</td>\n",
       "      <td>2.31</td>\n",
       "    </tr>\n",
       "    <tr>\n",
       "      <th>2</th>\n",
       "      <td>0.23</td>\n",
       "      <td>Good</td>\n",
       "      <td>E</td>\n",
       "      <td>VS1</td>\n",
       "      <td>56.9</td>\n",
       "      <td>65.0</td>\n",
       "      <td>327</td>\n",
       "      <td>4.05</td>\n",
       "      <td>4.07</td>\n",
       "      <td>2.31</td>\n",
       "    </tr>\n",
       "    <tr>\n",
       "      <th>3</th>\n",
       "      <td>0.29</td>\n",
       "      <td>Premium</td>\n",
       "      <td>I</td>\n",
       "      <td>VS2</td>\n",
       "      <td>62.4</td>\n",
       "      <td>58.0</td>\n",
       "      <td>334</td>\n",
       "      <td>4.20</td>\n",
       "      <td>4.23</td>\n",
       "      <td>2.63</td>\n",
       "    </tr>\n",
       "    <tr>\n",
       "      <th>4</th>\n",
       "      <td>0.31</td>\n",
       "      <td>Good</td>\n",
       "      <td>J</td>\n",
       "      <td>SI2</td>\n",
       "      <td>63.3</td>\n",
       "      <td>58.0</td>\n",
       "      <td>335</td>\n",
       "      <td>4.34</td>\n",
       "      <td>4.35</td>\n",
       "      <td>2.75</td>\n",
       "    </tr>\n",
       "  </tbody>\n",
       "</table>\n",
       "</div>"
      ],
      "text/plain": [
       "   carat      cut color clarity  depth  table  price     x     y     z\n",
       "0   0.23    Ideal     E     SI2   61.5   55.0    326  3.95  3.98  2.43\n",
       "1   0.21  Premium     E     SI1   59.8   61.0    326  3.89  3.84  2.31\n",
       "2   0.23     Good     E     VS1   56.9   65.0    327  4.05  4.07  2.31\n",
       "3   0.29  Premium     I     VS2   62.4   58.0    334  4.20  4.23  2.63\n",
       "4   0.31     Good     J     SI2   63.3   58.0    335  4.34  4.35  2.75"
      ]
     },
     "execution_count": 11,
     "metadata": {},
     "output_type": "execute_result"
    }
   ],
   "source": [
    "diamonds = sns.load_dataset('diamonds')\n",
    "diamonds.head()"
   ]
  },
  {
   "cell_type": "markdown",
   "id": "crucial-virus",
   "metadata": {},
   "source": [
    "### Ordinal Encoding"
   ]
  },
  {
   "cell_type": "markdown",
   "id": "annual-philippines",
   "metadata": {},
   "source": [
    "**Question 2**\n",
    "\n",
    "Every categorical variable in the dataset is an ordinal column. Recall that *ordinal encoding* is a feature transformation that maps the values of an ordinal column to the natural numbers (preserving the order of the column values). Create a function `create_ordinal` that takes in `diamonds` and returns a dataframe of ordinal features with names `ordinal_<col>` where `<col>` is the original categorical column name.\n",
    "\n",
    "*Note*: Remember, you are creating this function using basic pandas. You should create a helper function that takes in a single column and an ordering for that column!"
   ]
  },
  {
   "cell_type": "code",
   "execution_count": null,
   "id": "unauthorized-phase",
   "metadata": {},
   "outputs": [],
   "source": [
    "    df_c = df.copy()\n",
    "    out = pd.DataFrame()\n",
    "    mapper_cut = {'Fair': 0, 'Good': 1, 'Very Good': 2, 'Premium': 3, 'Ideal': 4}\n",
    "    mapper_color = {'J': 0, 'I': 1, 'H': 2, 'G': 3, 'F': 4, 'E': 5, 'D': 6}\n",
    "    mapper_clarity = {'I1': 0, 'SI2': 1, 'SI1': 2, 'VS2': 3, 'VS1': 4, 'VVS2': 5, 'VVS1': 6, 'IF': 7}\n",
    "    out['ordinal_cut'] = df_c['cut'].replace(mapper_cut)\n",
    "    out['ordinal_color'] = df_c['color'].replace(mapper_color)\n",
    "    out['ordinal_clarity'] = df_c['clarity'].replace(mapper_clarity)"
   ]
  },
  {
   "cell_type": "code",
   "execution_count": 12,
   "id": "surface-buffer",
   "metadata": {},
   "outputs": [
    {
     "data": {
      "text/html": [
       "<div>\n",
       "<style scoped>\n",
       "    .dataframe tbody tr th:only-of-type {\n",
       "        vertical-align: middle;\n",
       "    }\n",
       "\n",
       "    .dataframe tbody tr th {\n",
       "        vertical-align: top;\n",
       "    }\n",
       "\n",
       "    .dataframe thead th {\n",
       "        text-align: right;\n",
       "    }\n",
       "</style>\n",
       "<table border=\"1\" class=\"dataframe\">\n",
       "  <thead>\n",
       "    <tr style=\"text-align: right;\">\n",
       "      <th></th>\n",
       "      <th>ordinal_cut</th>\n",
       "      <th>ordinal_color</th>\n",
       "      <th>ordinal_clarity</th>\n",
       "    </tr>\n",
       "  </thead>\n",
       "  <tbody>\n",
       "    <tr>\n",
       "      <th>0</th>\n",
       "      <td>4</td>\n",
       "      <td>5</td>\n",
       "      <td>1</td>\n",
       "    </tr>\n",
       "    <tr>\n",
       "      <th>1</th>\n",
       "      <td>3</td>\n",
       "      <td>5</td>\n",
       "      <td>2</td>\n",
       "    </tr>\n",
       "    <tr>\n",
       "      <th>2</th>\n",
       "      <td>1</td>\n",
       "      <td>5</td>\n",
       "      <td>4</td>\n",
       "    </tr>\n",
       "    <tr>\n",
       "      <th>3</th>\n",
       "      <td>3</td>\n",
       "      <td>1</td>\n",
       "      <td>3</td>\n",
       "    </tr>\n",
       "    <tr>\n",
       "      <th>4</th>\n",
       "      <td>1</td>\n",
       "      <td>0</td>\n",
       "      <td>1</td>\n",
       "    </tr>\n",
       "    <tr>\n",
       "      <th>...</th>\n",
       "      <td>...</td>\n",
       "      <td>...</td>\n",
       "      <td>...</td>\n",
       "    </tr>\n",
       "    <tr>\n",
       "      <th>53935</th>\n",
       "      <td>4</td>\n",
       "      <td>6</td>\n",
       "      <td>2</td>\n",
       "    </tr>\n",
       "    <tr>\n",
       "      <th>53936</th>\n",
       "      <td>1</td>\n",
       "      <td>6</td>\n",
       "      <td>2</td>\n",
       "    </tr>\n",
       "    <tr>\n",
       "      <th>53937</th>\n",
       "      <td>2</td>\n",
       "      <td>6</td>\n",
       "      <td>2</td>\n",
       "    </tr>\n",
       "    <tr>\n",
       "      <th>53938</th>\n",
       "      <td>3</td>\n",
       "      <td>2</td>\n",
       "      <td>1</td>\n",
       "    </tr>\n",
       "    <tr>\n",
       "      <th>53939</th>\n",
       "      <td>4</td>\n",
       "      <td>6</td>\n",
       "      <td>1</td>\n",
       "    </tr>\n",
       "  </tbody>\n",
       "</table>\n",
       "<p>53940 rows × 3 columns</p>\n",
       "</div>"
      ],
      "text/plain": [
       "       ordinal_cut  ordinal_color  ordinal_clarity\n",
       "0                4              5                1\n",
       "1                3              5                2\n",
       "2                1              5                4\n",
       "3                3              1                3\n",
       "4                1              0                1\n",
       "...            ...            ...              ...\n",
       "53935            4              6                2\n",
       "53936            1              6                2\n",
       "53937            2              6                2\n",
       "53938            3              2                1\n",
       "53939            4              6                1\n",
       "\n",
       "[53940 rows x 3 columns]"
      ]
     },
     "execution_count": 12,
     "metadata": {},
     "output_type": "execute_result"
    }
   ],
   "source": [
    "create_ordinal(diamonds)"
   ]
  },
  {
   "cell_type": "code",
   "execution_count": 31,
   "id": "appreciated-interference",
   "metadata": {
    "deletable": false,
    "editable": false
   },
   "outputs": [
    {
     "data": {
      "text/html": [
       "<p><strong><pre style='display: inline;'>q2</pre></strong> passed!</p>"
      ],
      "text/plain": [
       "q2 results: All test cases passed!"
      ]
     },
     "execution_count": 31,
     "metadata": {},
     "output_type": "execute_result"
    }
   ],
   "source": [
    "grader.check(\"q2\")"
   ]
  },
  {
   "cell_type": "markdown",
   "id": "legitimate-quilt",
   "metadata": {},
   "source": [
    "## Nominal Encoding \n"
   ]
  },
  {
   "cell_type": "markdown",
   "id": "included-origin",
   "metadata": {},
   "source": [
    "**Question 3**\n",
    "\n",
    "**One-hot encoding**\n",
    "\n",
    "Even though the categorical variables in the dataset are ordinal, we can still treat them as nominal by forgetting about the ordering of the columns. Treating the categorical columns as nominal, we might one-hot encode them. \n",
    "\n",
    "Create a function `create_one_hot` that takes in `diamonds` and returns a dataframe of one-hot encoded features with names `one_hot_<col>_<val>` where `<col>` is the original categorical column name, and `<val>` is the value found in the categorical column `<col>`.\n",
    "\n",
    "*Note 1:* Create a helper function that creates the one-hot encoding for a single column. **Do not** use `sklearn` or `pd.get_dummies` for this question!\n",
    "\n",
    "*Note 2:* The code in lecture for one-hot-encoding is inefficient and simply there to illustrate how it works. Make sure this function you create is optimized otherwise it will timeout on gradescope.\n",
    "\n",
    "**Encoding with proportions**\n",
    "\n",
    "Similar to the one-hot encoding case, you can replace a value in a nominal column with the likelihood that value appears in the column. This might be a reasonable approach to predicting the price of a diamond, as you might expect *rarer attributes to be considered more valuable* than common ones.\n",
    "\n",
    "Create a function `create_proportions` that takes in `diamonds` and returns a dataframe of proportion-encoded features with names `proportion_<col>` where `<col>` is the original categorical column name.\n",
    "\n",
    "*Note:* If a column consists of the values `['a', 'b', 'a', 'c']`, then the proportion encoded column is `[0.5, 0.25, 0.5, 0.25]`. "
   ]
  },
  {
   "cell_type": "code",
   "execution_count": null,
   "id": "c8d74d8a",
   "metadata": {},
   "outputs": [],
   "source": []
  },
  {
   "cell_type": "code",
   "execution_count": 17,
   "id": "opened-beijing",
   "metadata": {},
   "outputs": [],
   "source": [
    "def helper(col):\n",
    "    labels_dense = col.copy()\n",
    "    uni_num = len(col.unique())\n",
    "    index_offset = np.arange(labels_dense.shape[0]) * uni_num\n",
    "    labels_one_hot = np.zeros((len(col),uni_num))\n",
    "    labels_one_hot.flat[index_offset+labels_dense.ravel()]=1\n",
    "    return labels_one_hot"
   ]
  },
  {
   "cell_type": "code",
   "execution_count": 26,
   "id": "d065145b",
   "metadata": {
    "collapsed": true
   },
   "outputs": [
    {
     "data": {
      "text/html": [
       "<div>\n",
       "<style scoped>\n",
       "    .dataframe tbody tr th:only-of-type {\n",
       "        vertical-align: middle;\n",
       "    }\n",
       "\n",
       "    .dataframe tbody tr th {\n",
       "        vertical-align: top;\n",
       "    }\n",
       "\n",
       "    .dataframe thead th {\n",
       "        text-align: right;\n",
       "    }\n",
       "</style>\n",
       "<table border=\"1\" class=\"dataframe\">\n",
       "  <thead>\n",
       "    <tr style=\"text-align: right;\">\n",
       "      <th></th>\n",
       "      <th>one_hot_cut_Fair</th>\n",
       "      <th>one_hot_cut_Good</th>\n",
       "      <th>one_hot_cut_Very Good</th>\n",
       "      <th>one_hot_cut_Premium</th>\n",
       "      <th>one_hot_cut_Ideal</th>\n",
       "      <th>one_hot_cut_J</th>\n",
       "      <th>one_hot_cut_I</th>\n",
       "      <th>one_hot_cut_H</th>\n",
       "      <th>one_hot_cut_G</th>\n",
       "      <th>one_hot_cut_F</th>\n",
       "      <th>one_hot_cut_E</th>\n",
       "      <th>one_hot_cut_D</th>\n",
       "      <th>one_hot_cut_I1</th>\n",
       "      <th>one_hot_cut_SI2</th>\n",
       "      <th>one_hot_cut_SI1</th>\n",
       "      <th>one_hot_cut_VS2</th>\n",
       "      <th>one_hot_cut_VS1</th>\n",
       "      <th>one_hot_cut_VVS2</th>\n",
       "      <th>one_hot_cut_VVS1</th>\n",
       "      <th>one_hot_cut_IF</th>\n",
       "    </tr>\n",
       "  </thead>\n",
       "  <tbody>\n",
       "    <tr>\n",
       "      <th>0</th>\n",
       "      <td>0.0</td>\n",
       "      <td>0.0</td>\n",
       "      <td>0.0</td>\n",
       "      <td>0.0</td>\n",
       "      <td>1.0</td>\n",
       "      <td>0.0</td>\n",
       "      <td>0.0</td>\n",
       "      <td>0.0</td>\n",
       "      <td>0.0</td>\n",
       "      <td>0.0</td>\n",
       "      <td>1.0</td>\n",
       "      <td>0.0</td>\n",
       "      <td>0.0</td>\n",
       "      <td>1.0</td>\n",
       "      <td>0.0</td>\n",
       "      <td>0.0</td>\n",
       "      <td>0.0</td>\n",
       "      <td>0.0</td>\n",
       "      <td>0.0</td>\n",
       "      <td>0.0</td>\n",
       "    </tr>\n",
       "    <tr>\n",
       "      <th>1</th>\n",
       "      <td>0.0</td>\n",
       "      <td>0.0</td>\n",
       "      <td>0.0</td>\n",
       "      <td>1.0</td>\n",
       "      <td>0.0</td>\n",
       "      <td>0.0</td>\n",
       "      <td>0.0</td>\n",
       "      <td>0.0</td>\n",
       "      <td>0.0</td>\n",
       "      <td>0.0</td>\n",
       "      <td>1.0</td>\n",
       "      <td>0.0</td>\n",
       "      <td>0.0</td>\n",
       "      <td>0.0</td>\n",
       "      <td>1.0</td>\n",
       "      <td>0.0</td>\n",
       "      <td>0.0</td>\n",
       "      <td>0.0</td>\n",
       "      <td>0.0</td>\n",
       "      <td>0.0</td>\n",
       "    </tr>\n",
       "    <tr>\n",
       "      <th>2</th>\n",
       "      <td>0.0</td>\n",
       "      <td>1.0</td>\n",
       "      <td>0.0</td>\n",
       "      <td>0.0</td>\n",
       "      <td>0.0</td>\n",
       "      <td>0.0</td>\n",
       "      <td>0.0</td>\n",
       "      <td>0.0</td>\n",
       "      <td>0.0</td>\n",
       "      <td>0.0</td>\n",
       "      <td>1.0</td>\n",
       "      <td>0.0</td>\n",
       "      <td>0.0</td>\n",
       "      <td>0.0</td>\n",
       "      <td>0.0</td>\n",
       "      <td>0.0</td>\n",
       "      <td>1.0</td>\n",
       "      <td>0.0</td>\n",
       "      <td>0.0</td>\n",
       "      <td>0.0</td>\n",
       "    </tr>\n",
       "    <tr>\n",
       "      <th>3</th>\n",
       "      <td>0.0</td>\n",
       "      <td>0.0</td>\n",
       "      <td>0.0</td>\n",
       "      <td>1.0</td>\n",
       "      <td>0.0</td>\n",
       "      <td>0.0</td>\n",
       "      <td>1.0</td>\n",
       "      <td>0.0</td>\n",
       "      <td>0.0</td>\n",
       "      <td>0.0</td>\n",
       "      <td>0.0</td>\n",
       "      <td>0.0</td>\n",
       "      <td>0.0</td>\n",
       "      <td>0.0</td>\n",
       "      <td>0.0</td>\n",
       "      <td>1.0</td>\n",
       "      <td>0.0</td>\n",
       "      <td>0.0</td>\n",
       "      <td>0.0</td>\n",
       "      <td>0.0</td>\n",
       "    </tr>\n",
       "    <tr>\n",
       "      <th>4</th>\n",
       "      <td>0.0</td>\n",
       "      <td>1.0</td>\n",
       "      <td>0.0</td>\n",
       "      <td>0.0</td>\n",
       "      <td>0.0</td>\n",
       "      <td>1.0</td>\n",
       "      <td>0.0</td>\n",
       "      <td>0.0</td>\n",
       "      <td>0.0</td>\n",
       "      <td>0.0</td>\n",
       "      <td>0.0</td>\n",
       "      <td>0.0</td>\n",
       "      <td>0.0</td>\n",
       "      <td>1.0</td>\n",
       "      <td>0.0</td>\n",
       "      <td>0.0</td>\n",
       "      <td>0.0</td>\n",
       "      <td>0.0</td>\n",
       "      <td>0.0</td>\n",
       "      <td>0.0</td>\n",
       "    </tr>\n",
       "    <tr>\n",
       "      <th>...</th>\n",
       "      <td>...</td>\n",
       "      <td>...</td>\n",
       "      <td>...</td>\n",
       "      <td>...</td>\n",
       "      <td>...</td>\n",
       "      <td>...</td>\n",
       "      <td>...</td>\n",
       "      <td>...</td>\n",
       "      <td>...</td>\n",
       "      <td>...</td>\n",
       "      <td>...</td>\n",
       "      <td>...</td>\n",
       "      <td>...</td>\n",
       "      <td>...</td>\n",
       "      <td>...</td>\n",
       "      <td>...</td>\n",
       "      <td>...</td>\n",
       "      <td>...</td>\n",
       "      <td>...</td>\n",
       "      <td>...</td>\n",
       "    </tr>\n",
       "    <tr>\n",
       "      <th>53935</th>\n",
       "      <td>0.0</td>\n",
       "      <td>0.0</td>\n",
       "      <td>0.0</td>\n",
       "      <td>0.0</td>\n",
       "      <td>1.0</td>\n",
       "      <td>0.0</td>\n",
       "      <td>0.0</td>\n",
       "      <td>0.0</td>\n",
       "      <td>0.0</td>\n",
       "      <td>0.0</td>\n",
       "      <td>0.0</td>\n",
       "      <td>1.0</td>\n",
       "      <td>0.0</td>\n",
       "      <td>0.0</td>\n",
       "      <td>1.0</td>\n",
       "      <td>0.0</td>\n",
       "      <td>0.0</td>\n",
       "      <td>0.0</td>\n",
       "      <td>0.0</td>\n",
       "      <td>0.0</td>\n",
       "    </tr>\n",
       "    <tr>\n",
       "      <th>53936</th>\n",
       "      <td>0.0</td>\n",
       "      <td>1.0</td>\n",
       "      <td>0.0</td>\n",
       "      <td>0.0</td>\n",
       "      <td>0.0</td>\n",
       "      <td>0.0</td>\n",
       "      <td>0.0</td>\n",
       "      <td>0.0</td>\n",
       "      <td>0.0</td>\n",
       "      <td>0.0</td>\n",
       "      <td>0.0</td>\n",
       "      <td>1.0</td>\n",
       "      <td>0.0</td>\n",
       "      <td>0.0</td>\n",
       "      <td>1.0</td>\n",
       "      <td>0.0</td>\n",
       "      <td>0.0</td>\n",
       "      <td>0.0</td>\n",
       "      <td>0.0</td>\n",
       "      <td>0.0</td>\n",
       "    </tr>\n",
       "    <tr>\n",
       "      <th>53937</th>\n",
       "      <td>0.0</td>\n",
       "      <td>0.0</td>\n",
       "      <td>1.0</td>\n",
       "      <td>0.0</td>\n",
       "      <td>0.0</td>\n",
       "      <td>0.0</td>\n",
       "      <td>0.0</td>\n",
       "      <td>0.0</td>\n",
       "      <td>0.0</td>\n",
       "      <td>0.0</td>\n",
       "      <td>0.0</td>\n",
       "      <td>1.0</td>\n",
       "      <td>0.0</td>\n",
       "      <td>0.0</td>\n",
       "      <td>1.0</td>\n",
       "      <td>0.0</td>\n",
       "      <td>0.0</td>\n",
       "      <td>0.0</td>\n",
       "      <td>0.0</td>\n",
       "      <td>0.0</td>\n",
       "    </tr>\n",
       "    <tr>\n",
       "      <th>53938</th>\n",
       "      <td>0.0</td>\n",
       "      <td>0.0</td>\n",
       "      <td>0.0</td>\n",
       "      <td>1.0</td>\n",
       "      <td>0.0</td>\n",
       "      <td>0.0</td>\n",
       "      <td>0.0</td>\n",
       "      <td>1.0</td>\n",
       "      <td>0.0</td>\n",
       "      <td>0.0</td>\n",
       "      <td>0.0</td>\n",
       "      <td>0.0</td>\n",
       "      <td>0.0</td>\n",
       "      <td>1.0</td>\n",
       "      <td>0.0</td>\n",
       "      <td>0.0</td>\n",
       "      <td>0.0</td>\n",
       "      <td>0.0</td>\n",
       "      <td>0.0</td>\n",
       "      <td>0.0</td>\n",
       "    </tr>\n",
       "    <tr>\n",
       "      <th>53939</th>\n",
       "      <td>0.0</td>\n",
       "      <td>0.0</td>\n",
       "      <td>0.0</td>\n",
       "      <td>0.0</td>\n",
       "      <td>1.0</td>\n",
       "      <td>0.0</td>\n",
       "      <td>0.0</td>\n",
       "      <td>0.0</td>\n",
       "      <td>0.0</td>\n",
       "      <td>0.0</td>\n",
       "      <td>0.0</td>\n",
       "      <td>1.0</td>\n",
       "      <td>0.0</td>\n",
       "      <td>1.0</td>\n",
       "      <td>0.0</td>\n",
       "      <td>0.0</td>\n",
       "      <td>0.0</td>\n",
       "      <td>0.0</td>\n",
       "      <td>0.0</td>\n",
       "      <td>0.0</td>\n",
       "    </tr>\n",
       "  </tbody>\n",
       "</table>\n",
       "<p>53940 rows × 20 columns</p>\n",
       "</div>"
      ],
      "text/plain": [
       "       one_hot_cut_Fair  one_hot_cut_Good  one_hot_cut_Very Good  \\\n",
       "0                   0.0               0.0                    0.0   \n",
       "1                   0.0               0.0                    0.0   \n",
       "2                   0.0               1.0                    0.0   \n",
       "3                   0.0               0.0                    0.0   \n",
       "4                   0.0               1.0                    0.0   \n",
       "...                 ...               ...                    ...   \n",
       "53935               0.0               0.0                    0.0   \n",
       "53936               0.0               1.0                    0.0   \n",
       "53937               0.0               0.0                    1.0   \n",
       "53938               0.0               0.0                    0.0   \n",
       "53939               0.0               0.0                    0.0   \n",
       "\n",
       "       one_hot_cut_Premium  one_hot_cut_Ideal  one_hot_cut_J  one_hot_cut_I  \\\n",
       "0                      0.0                1.0            0.0            0.0   \n",
       "1                      1.0                0.0            0.0            0.0   \n",
       "2                      0.0                0.0            0.0            0.0   \n",
       "3                      1.0                0.0            0.0            1.0   \n",
       "4                      0.0                0.0            1.0            0.0   \n",
       "...                    ...                ...            ...            ...   \n",
       "53935                  0.0                1.0            0.0            0.0   \n",
       "53936                  0.0                0.0            0.0            0.0   \n",
       "53937                  0.0                0.0            0.0            0.0   \n",
       "53938                  1.0                0.0            0.0            0.0   \n",
       "53939                  0.0                1.0            0.0            0.0   \n",
       "\n",
       "       one_hot_cut_H  one_hot_cut_G  one_hot_cut_F  one_hot_cut_E  \\\n",
       "0                0.0            0.0            0.0            1.0   \n",
       "1                0.0            0.0            0.0            1.0   \n",
       "2                0.0            0.0            0.0            1.0   \n",
       "3                0.0            0.0            0.0            0.0   \n",
       "4                0.0            0.0            0.0            0.0   \n",
       "...              ...            ...            ...            ...   \n",
       "53935            0.0            0.0            0.0            0.0   \n",
       "53936            0.0            0.0            0.0            0.0   \n",
       "53937            0.0            0.0            0.0            0.0   \n",
       "53938            1.0            0.0            0.0            0.0   \n",
       "53939            0.0            0.0            0.0            0.0   \n",
       "\n",
       "       one_hot_cut_D  one_hot_cut_I1  one_hot_cut_SI2  one_hot_cut_SI1  \\\n",
       "0                0.0             0.0              1.0              0.0   \n",
       "1                0.0             0.0              0.0              1.0   \n",
       "2                0.0             0.0              0.0              0.0   \n",
       "3                0.0             0.0              0.0              0.0   \n",
       "4                0.0             0.0              1.0              0.0   \n",
       "...              ...             ...              ...              ...   \n",
       "53935            1.0             0.0              0.0              1.0   \n",
       "53936            1.0             0.0              0.0              1.0   \n",
       "53937            1.0             0.0              0.0              1.0   \n",
       "53938            0.0             0.0              1.0              0.0   \n",
       "53939            1.0             0.0              1.0              0.0   \n",
       "\n",
       "       one_hot_cut_VS2  one_hot_cut_VS1  one_hot_cut_VVS2  one_hot_cut_VVS1  \\\n",
       "0                  0.0              0.0               0.0               0.0   \n",
       "1                  0.0              0.0               0.0               0.0   \n",
       "2                  0.0              1.0               0.0               0.0   \n",
       "3                  1.0              0.0               0.0               0.0   \n",
       "4                  0.0              0.0               0.0               0.0   \n",
       "...                ...              ...               ...               ...   \n",
       "53935              0.0              0.0               0.0               0.0   \n",
       "53936              0.0              0.0               0.0               0.0   \n",
       "53937              0.0              0.0               0.0               0.0   \n",
       "53938              0.0              0.0               0.0               0.0   \n",
       "53939              0.0              0.0               0.0               0.0   \n",
       "\n",
       "       one_hot_cut_IF  \n",
       "0                 0.0  \n",
       "1                 0.0  \n",
       "2                 0.0  \n",
       "3                 0.0  \n",
       "4                 0.0  \n",
       "...               ...  \n",
       "53935             0.0  \n",
       "53936             0.0  \n",
       "53937             0.0  \n",
       "53938             0.0  \n",
       "53939             0.0  \n",
       "\n",
       "[53940 rows x 20 columns]"
      ]
     },
     "execution_count": 26,
     "metadata": {},
     "output_type": "execute_result"
    }
   ],
   "source": [
    "out_cut = helper(ordinal['ordinal_cut'])\n",
    "out_color = helper(ordinal['ordinal_color'])\n",
    "out_clarity = helper(ordinal['ordinal_clarity'])\n",
    "df_cut = pd.DataFrame(out_cut)\n",
    "df_color = pd.DataFrame(out_color)\n",
    "df_clarity = pd.DataFrame(out_clarity)\n",
    "\n",
    "df_cut.columns = ['one_hot_cut_Fair', 'one_hot_cut_Good', 'one_hot_cut_Very Good', 'one_hot_cut_Premium', 'one_hot_cut_Ideal']\n",
    "df_color.columns = ['one_hot_cut_J', 'one_hot_cut_I', 'one_hot_cut_H', 'one_hot_cut_G', 'one_hot_cut_F', 'one_hot_cut_E', 'one_hot_cut_D']\n",
    "df_clarity.columns = ['one_hot_cut_I1', 'one_hot_cut_SI2', 'one_hot_cut_SI1', 'one_hot_cut_VS2', 'one_hot_cut_VS1', 'one_hot_cut_VVS2', 'one_hot_cut_VVS1', 'one_hot_cut_IF']\n",
    "pd.concat([df_cut, df_color, df_clarity], axis=1)\n"
   ]
  },
  {
   "cell_type": "code",
   "execution_count": null,
   "id": "5e8ced5a",
   "metadata": {},
   "outputs": [],
   "source": []
  },
  {
   "cell_type": "code",
   "execution_count": 47,
   "id": "530d3017",
   "metadata": {},
   "outputs": [],
   "source": [
    "cut_tab = pd.crosstab(ordinal.index,ordinal.ordinal_cut).sum(axis = 0)/len(ordinal)\n",
    "color_tab = pd.crosstab(ordinal.index,ordinal.ordinal_color).sum(axis = 0)/len(ordinal)\n",
    "clarity_tab = pd.crosstab(ordinal.index,ordinal.ordinal_clarity).sum(axis = 0)/len(ordinal)\n"
   ]
  },
  {
   "cell_type": "code",
   "execution_count": 51,
   "id": "3ec6c990",
   "metadata": {},
   "outputs": [
    {
     "data": {
      "text/html": [
       "<div>\n",
       "<style scoped>\n",
       "    .dataframe tbody tr th:only-of-type {\n",
       "        vertical-align: middle;\n",
       "    }\n",
       "\n",
       "    .dataframe tbody tr th {\n",
       "        vertical-align: top;\n",
       "    }\n",
       "\n",
       "    .dataframe thead th {\n",
       "        text-align: right;\n",
       "    }\n",
       "</style>\n",
       "<table border=\"1\" class=\"dataframe\">\n",
       "  <thead>\n",
       "    <tr style=\"text-align: right;\">\n",
       "      <th></th>\n",
       "      <th>proportion_cut</th>\n",
       "    </tr>\n",
       "  </thead>\n",
       "  <tbody>\n",
       "    <tr>\n",
       "      <th>0</th>\n",
       "      <td>0.399537</td>\n",
       "    </tr>\n",
       "    <tr>\n",
       "      <th>1</th>\n",
       "      <td>0.255673</td>\n",
       "    </tr>\n",
       "    <tr>\n",
       "      <th>2</th>\n",
       "      <td>0.090953</td>\n",
       "    </tr>\n",
       "    <tr>\n",
       "      <th>3</th>\n",
       "      <td>0.255673</td>\n",
       "    </tr>\n",
       "    <tr>\n",
       "      <th>4</th>\n",
       "      <td>0.090953</td>\n",
       "    </tr>\n",
       "    <tr>\n",
       "      <th>...</th>\n",
       "      <td>...</td>\n",
       "    </tr>\n",
       "    <tr>\n",
       "      <th>53935</th>\n",
       "      <td>0.399537</td>\n",
       "    </tr>\n",
       "    <tr>\n",
       "      <th>53936</th>\n",
       "      <td>0.090953</td>\n",
       "    </tr>\n",
       "    <tr>\n",
       "      <th>53937</th>\n",
       "      <td>0.223990</td>\n",
       "    </tr>\n",
       "    <tr>\n",
       "      <th>53938</th>\n",
       "      <td>0.255673</td>\n",
       "    </tr>\n",
       "    <tr>\n",
       "      <th>53939</th>\n",
       "      <td>0.399537</td>\n",
       "    </tr>\n",
       "  </tbody>\n",
       "</table>\n",
       "<p>53940 rows × 1 columns</p>\n",
       "</div>"
      ],
      "text/plain": [
       "       proportion_cut\n",
       "0            0.399537\n",
       "1            0.255673\n",
       "2            0.090953\n",
       "3            0.255673\n",
       "4            0.090953\n",
       "...               ...\n",
       "53935        0.399537\n",
       "53936        0.090953\n",
       "53937        0.223990\n",
       "53938        0.255673\n",
       "53939        0.399537\n",
       "\n",
       "[53940 rows x 1 columns]"
      ]
     },
     "execution_count": 51,
     "metadata": {},
     "output_type": "execute_result"
    }
   ],
   "source": [
    "out = pd.DataFrame()\n",
    "out['proportion_cut'] = ordinal.ordinal_cut.apply(lambda x:cut_tab[x])\n",
    "out['proportion_color'] = ordinal.ordinal_color.apply(lambda x:color_tab[x])\n",
    "out['proportion_clarity'] = ordinal.ordinal_clarity.apply(lambda x:clarity_tab[x])\n"
   ]
  },
  {
   "cell_type": "code",
   "execution_count": 17,
   "id": "fbb740bb",
   "metadata": {},
   "outputs": [
    {
     "data": {
      "text/html": [
       "<div>\n",
       "<style scoped>\n",
       "    .dataframe tbody tr th:only-of-type {\n",
       "        vertical-align: middle;\n",
       "    }\n",
       "\n",
       "    .dataframe tbody tr th {\n",
       "        vertical-align: top;\n",
       "    }\n",
       "\n",
       "    .dataframe thead th {\n",
       "        text-align: right;\n",
       "    }\n",
       "</style>\n",
       "<table border=\"1\" class=\"dataframe\">\n",
       "  <thead>\n",
       "    <tr style=\"text-align: right;\">\n",
       "      <th></th>\n",
       "      <th>proportion_cut</th>\n",
       "      <th>proportion_color</th>\n",
       "      <th>proportion_clarity</th>\n",
       "    </tr>\n",
       "  </thead>\n",
       "  <tbody>\n",
       "    <tr>\n",
       "      <th>0</th>\n",
       "      <td>0.399537</td>\n",
       "      <td>0.181628</td>\n",
       "      <td>0.170449</td>\n",
       "    </tr>\n",
       "    <tr>\n",
       "      <th>1</th>\n",
       "      <td>0.255673</td>\n",
       "      <td>0.181628</td>\n",
       "      <td>0.242214</td>\n",
       "    </tr>\n",
       "    <tr>\n",
       "      <th>2</th>\n",
       "      <td>0.090953</td>\n",
       "      <td>0.181628</td>\n",
       "      <td>0.151483</td>\n",
       "    </tr>\n",
       "    <tr>\n",
       "      <th>3</th>\n",
       "      <td>0.255673</td>\n",
       "      <td>0.100519</td>\n",
       "      <td>0.227253</td>\n",
       "    </tr>\n",
       "    <tr>\n",
       "      <th>4</th>\n",
       "      <td>0.090953</td>\n",
       "      <td>0.052058</td>\n",
       "      <td>0.170449</td>\n",
       "    </tr>\n",
       "    <tr>\n",
       "      <th>...</th>\n",
       "      <td>...</td>\n",
       "      <td>...</td>\n",
       "      <td>...</td>\n",
       "    </tr>\n",
       "    <tr>\n",
       "      <th>53935</th>\n",
       "      <td>0.399537</td>\n",
       "      <td>0.125603</td>\n",
       "      <td>0.242214</td>\n",
       "    </tr>\n",
       "    <tr>\n",
       "      <th>53936</th>\n",
       "      <td>0.090953</td>\n",
       "      <td>0.125603</td>\n",
       "      <td>0.242214</td>\n",
       "    </tr>\n",
       "    <tr>\n",
       "      <th>53937</th>\n",
       "      <td>0.223990</td>\n",
       "      <td>0.125603</td>\n",
       "      <td>0.242214</td>\n",
       "    </tr>\n",
       "    <tr>\n",
       "      <th>53938</th>\n",
       "      <td>0.255673</td>\n",
       "      <td>0.153949</td>\n",
       "      <td>0.170449</td>\n",
       "    </tr>\n",
       "    <tr>\n",
       "      <th>53939</th>\n",
       "      <td>0.399537</td>\n",
       "      <td>0.125603</td>\n",
       "      <td>0.170449</td>\n",
       "    </tr>\n",
       "  </tbody>\n",
       "</table>\n",
       "<p>53940 rows × 3 columns</p>\n",
       "</div>"
      ],
      "text/plain": [
       "       proportion_cut  proportion_color  proportion_clarity\n",
       "0            0.399537          0.181628            0.170449\n",
       "1            0.255673          0.181628            0.242214\n",
       "2            0.090953          0.181628            0.151483\n",
       "3            0.255673          0.100519            0.227253\n",
       "4            0.090953          0.052058            0.170449\n",
       "...               ...               ...                 ...\n",
       "53935        0.399537          0.125603            0.242214\n",
       "53936        0.090953          0.125603            0.242214\n",
       "53937        0.223990          0.125603            0.242214\n",
       "53938        0.255673          0.153949            0.170449\n",
       "53939        0.399537          0.125603            0.170449\n",
       "\n",
       "[53940 rows x 3 columns]"
      ]
     },
     "execution_count": 17,
     "metadata": {},
     "output_type": "execute_result"
    }
   ],
   "source": [
    "create_proportions(diamonds)"
   ]
  },
  {
   "cell_type": "code",
   "execution_count": 55,
   "id": "religious-kuwait",
   "metadata": {
    "deletable": false,
    "editable": false
   },
   "outputs": [
    {
     "data": {
      "text/html": [
       "<p><strong><pre style='display: inline;'>q3</pre></strong> passed!</p>"
      ],
      "text/plain": [
       "q3 results: All test cases passed!"
      ]
     },
     "execution_count": 55,
     "metadata": {},
     "output_type": "execute_result"
    }
   ],
   "source": [
    "grader.check(\"q3\")"
   ]
  },
  {
   "cell_type": "markdown",
   "id": "helpful-titanium",
   "metadata": {},
   "source": [
    "### Quantitative Encoding (quadratic features)"
   ]
  },
  {
   "cell_type": "markdown",
   "id": "going-tongue",
   "metadata": {},
   "source": [
    "**Question 4**\n",
    "\n",
    "Linear regression doesn't capture non-linear dependencies between variables. However, you can create features that encode such dependencies *before* fitting your regression model. Creating polynomial features is one way to do this. For example, the `diamonds` dataset contains each dimension for the stone (`x`,`y`,`z`). However, different combinations of size may be more valuable than others: a \"deep and wide\" diamond might be considered more valuable than a shallow, but \"long and wide\" diamond.\n",
    "\n",
    "Create a function `create_quadratics` that takes in `diamonds` and returns a dataframe of quadratic-encoded features `<col1> * <col2>` where `<col1>` and `<col2>` are the original quantitative columns. The output array should contain every distinct pair of pairs of columns - aside from `price`, which should be left out).\n",
    "\n",
    "*Note*: **Do not** use `sklearn` for this question! It is ok to loop through the columns of `diamonds` to do this question."
   ]
  },
  {
   "cell_type": "code",
   "execution_count": 72,
   "id": "boring-favor",
   "metadata": {
    "code_folding": [
     2
    ]
   },
   "outputs": [],
   "source": [
    "df_c = diamonds.copy()[['carat', 'depth', 'table', 'x', 'y', 'z']]\n",
    "out = pd.DataFrame()\n",
    "for i in range(len(df_c.columns)):\n",
    "    for j in range(i + 1, len(df_c.columns)):\n",
    "        col_1 = df_c.columns[i]\n",
    "        col_2 = df_c.columns[j]\n",
    "        out['{} * {}'.format(\n",
    "            df_c.columns[i],\n",
    "            df_c.columns[j])] = df_c.loc[:, col_1] * df_c.loc[:, col_2]"
   ]
  },
  {
   "cell_type": "code",
   "execution_count": 73,
   "id": "smart-mileage",
   "metadata": {},
   "outputs": [
    {
     "data": {
      "text/html": [
       "<div>\n",
       "<style scoped>\n",
       "    .dataframe tbody tr th:only-of-type {\n",
       "        vertical-align: middle;\n",
       "    }\n",
       "\n",
       "    .dataframe tbody tr th {\n",
       "        vertical-align: top;\n",
       "    }\n",
       "\n",
       "    .dataframe thead th {\n",
       "        text-align: right;\n",
       "    }\n",
       "</style>\n",
       "<table border=\"1\" class=\"dataframe\">\n",
       "  <thead>\n",
       "    <tr style=\"text-align: right;\">\n",
       "      <th></th>\n",
       "      <th>carat * depth</th>\n",
       "      <th>carat * table</th>\n",
       "      <th>carat * x</th>\n",
       "      <th>carat * y</th>\n",
       "      <th>carat * z</th>\n",
       "      <th>depth * table</th>\n",
       "      <th>depth * x</th>\n",
       "      <th>depth * y</th>\n",
       "      <th>depth * z</th>\n",
       "      <th>table * x</th>\n",
       "      <th>table * y</th>\n",
       "      <th>table * z</th>\n",
       "      <th>x * y</th>\n",
       "      <th>x * z</th>\n",
       "      <th>y * z</th>\n",
       "    </tr>\n",
       "  </thead>\n",
       "  <tbody>\n",
       "    <tr>\n",
       "      <th>0</th>\n",
       "      <td>14.145</td>\n",
       "      <td>12.65</td>\n",
       "      <td>0.9085</td>\n",
       "      <td>0.9154</td>\n",
       "      <td>0.5589</td>\n",
       "      <td>3382.5</td>\n",
       "      <td>242.925</td>\n",
       "      <td>244.770</td>\n",
       "      <td>149.445</td>\n",
       "      <td>217.25</td>\n",
       "      <td>218.90</td>\n",
       "      <td>133.65</td>\n",
       "      <td>15.7210</td>\n",
       "      <td>9.5985</td>\n",
       "      <td>9.6714</td>\n",
       "    </tr>\n",
       "    <tr>\n",
       "      <th>1</th>\n",
       "      <td>12.558</td>\n",
       "      <td>12.81</td>\n",
       "      <td>0.8169</td>\n",
       "      <td>0.8064</td>\n",
       "      <td>0.4851</td>\n",
       "      <td>3647.8</td>\n",
       "      <td>232.622</td>\n",
       "      <td>229.632</td>\n",
       "      <td>138.138</td>\n",
       "      <td>237.29</td>\n",
       "      <td>234.24</td>\n",
       "      <td>140.91</td>\n",
       "      <td>14.9376</td>\n",
       "      <td>8.9859</td>\n",
       "      <td>8.8704</td>\n",
       "    </tr>\n",
       "    <tr>\n",
       "      <th>2</th>\n",
       "      <td>13.087</td>\n",
       "      <td>14.95</td>\n",
       "      <td>0.9315</td>\n",
       "      <td>0.9361</td>\n",
       "      <td>0.5313</td>\n",
       "      <td>3698.5</td>\n",
       "      <td>230.445</td>\n",
       "      <td>231.583</td>\n",
       "      <td>131.439</td>\n",
       "      <td>263.25</td>\n",
       "      <td>264.55</td>\n",
       "      <td>150.15</td>\n",
       "      <td>16.4835</td>\n",
       "      <td>9.3555</td>\n",
       "      <td>9.4017</td>\n",
       "    </tr>\n",
       "    <tr>\n",
       "      <th>3</th>\n",
       "      <td>18.096</td>\n",
       "      <td>16.82</td>\n",
       "      <td>1.2180</td>\n",
       "      <td>1.2267</td>\n",
       "      <td>0.7627</td>\n",
       "      <td>3619.2</td>\n",
       "      <td>262.080</td>\n",
       "      <td>263.952</td>\n",
       "      <td>164.112</td>\n",
       "      <td>243.60</td>\n",
       "      <td>245.34</td>\n",
       "      <td>152.54</td>\n",
       "      <td>17.7660</td>\n",
       "      <td>11.0460</td>\n",
       "      <td>11.1249</td>\n",
       "    </tr>\n",
       "    <tr>\n",
       "      <th>4</th>\n",
       "      <td>19.623</td>\n",
       "      <td>17.98</td>\n",
       "      <td>1.3454</td>\n",
       "      <td>1.3485</td>\n",
       "      <td>0.8525</td>\n",
       "      <td>3671.4</td>\n",
       "      <td>274.722</td>\n",
       "      <td>275.355</td>\n",
       "      <td>174.075</td>\n",
       "      <td>251.72</td>\n",
       "      <td>252.30</td>\n",
       "      <td>159.50</td>\n",
       "      <td>18.8790</td>\n",
       "      <td>11.9350</td>\n",
       "      <td>11.9625</td>\n",
       "    </tr>\n",
       "    <tr>\n",
       "      <th>...</th>\n",
       "      <td>...</td>\n",
       "      <td>...</td>\n",
       "      <td>...</td>\n",
       "      <td>...</td>\n",
       "      <td>...</td>\n",
       "      <td>...</td>\n",
       "      <td>...</td>\n",
       "      <td>...</td>\n",
       "      <td>...</td>\n",
       "      <td>...</td>\n",
       "      <td>...</td>\n",
       "      <td>...</td>\n",
       "      <td>...</td>\n",
       "      <td>...</td>\n",
       "      <td>...</td>\n",
       "    </tr>\n",
       "    <tr>\n",
       "      <th>53935</th>\n",
       "      <td>43.776</td>\n",
       "      <td>41.04</td>\n",
       "      <td>4.1400</td>\n",
       "      <td>4.1472</td>\n",
       "      <td>2.5200</td>\n",
       "      <td>3465.6</td>\n",
       "      <td>349.600</td>\n",
       "      <td>350.208</td>\n",
       "      <td>212.800</td>\n",
       "      <td>327.75</td>\n",
       "      <td>328.32</td>\n",
       "      <td>199.50</td>\n",
       "      <td>33.1200</td>\n",
       "      <td>20.1250</td>\n",
       "      <td>20.1600</td>\n",
       "    </tr>\n",
       "    <tr>\n",
       "      <th>53936</th>\n",
       "      <td>45.432</td>\n",
       "      <td>39.60</td>\n",
       "      <td>4.0968</td>\n",
       "      <td>4.1400</td>\n",
       "      <td>2.5992</td>\n",
       "      <td>3470.5</td>\n",
       "      <td>359.039</td>\n",
       "      <td>362.825</td>\n",
       "      <td>227.791</td>\n",
       "      <td>312.95</td>\n",
       "      <td>316.25</td>\n",
       "      <td>198.55</td>\n",
       "      <td>32.7175</td>\n",
       "      <td>20.5409</td>\n",
       "      <td>20.7575</td>\n",
       "    </tr>\n",
       "    <tr>\n",
       "      <th>53937</th>\n",
       "      <td>43.960</td>\n",
       "      <td>42.00</td>\n",
       "      <td>3.9620</td>\n",
       "      <td>3.9760</td>\n",
       "      <td>2.4920</td>\n",
       "      <td>3768.0</td>\n",
       "      <td>355.448</td>\n",
       "      <td>356.704</td>\n",
       "      <td>223.568</td>\n",
       "      <td>339.60</td>\n",
       "      <td>340.80</td>\n",
       "      <td>213.60</td>\n",
       "      <td>32.1488</td>\n",
       "      <td>20.1496</td>\n",
       "      <td>20.2208</td>\n",
       "    </tr>\n",
       "    <tr>\n",
       "      <th>53938</th>\n",
       "      <td>52.460</td>\n",
       "      <td>49.88</td>\n",
       "      <td>5.2890</td>\n",
       "      <td>5.2632</td>\n",
       "      <td>3.2164</td>\n",
       "      <td>3538.0</td>\n",
       "      <td>375.150</td>\n",
       "      <td>373.320</td>\n",
       "      <td>228.140</td>\n",
       "      <td>356.70</td>\n",
       "      <td>354.96</td>\n",
       "      <td>216.92</td>\n",
       "      <td>37.6380</td>\n",
       "      <td>23.0010</td>\n",
       "      <td>22.8888</td>\n",
       "    </tr>\n",
       "    <tr>\n",
       "      <th>53939</th>\n",
       "      <td>46.650</td>\n",
       "      <td>41.25</td>\n",
       "      <td>4.3725</td>\n",
       "      <td>4.4025</td>\n",
       "      <td>2.7300</td>\n",
       "      <td>3421.0</td>\n",
       "      <td>362.626</td>\n",
       "      <td>365.114</td>\n",
       "      <td>226.408</td>\n",
       "      <td>320.65</td>\n",
       "      <td>322.85</td>\n",
       "      <td>200.20</td>\n",
       "      <td>34.2221</td>\n",
       "      <td>21.2212</td>\n",
       "      <td>21.3668</td>\n",
       "    </tr>\n",
       "  </tbody>\n",
       "</table>\n",
       "<p>53940 rows × 15 columns</p>\n",
       "</div>"
      ],
      "text/plain": [
       "       carat * depth  carat * table  carat * x  carat * y  carat * z  \\\n",
       "0             14.145          12.65     0.9085     0.9154     0.5589   \n",
       "1             12.558          12.81     0.8169     0.8064     0.4851   \n",
       "2             13.087          14.95     0.9315     0.9361     0.5313   \n",
       "3             18.096          16.82     1.2180     1.2267     0.7627   \n",
       "4             19.623          17.98     1.3454     1.3485     0.8525   \n",
       "...              ...            ...        ...        ...        ...   \n",
       "53935         43.776          41.04     4.1400     4.1472     2.5200   \n",
       "53936         45.432          39.60     4.0968     4.1400     2.5992   \n",
       "53937         43.960          42.00     3.9620     3.9760     2.4920   \n",
       "53938         52.460          49.88     5.2890     5.2632     3.2164   \n",
       "53939         46.650          41.25     4.3725     4.4025     2.7300   \n",
       "\n",
       "       depth * table  depth * x  depth * y  depth * z  table * x  table * y  \\\n",
       "0             3382.5    242.925    244.770    149.445     217.25     218.90   \n",
       "1             3647.8    232.622    229.632    138.138     237.29     234.24   \n",
       "2             3698.5    230.445    231.583    131.439     263.25     264.55   \n",
       "3             3619.2    262.080    263.952    164.112     243.60     245.34   \n",
       "4             3671.4    274.722    275.355    174.075     251.72     252.30   \n",
       "...              ...        ...        ...        ...        ...        ...   \n",
       "53935         3465.6    349.600    350.208    212.800     327.75     328.32   \n",
       "53936         3470.5    359.039    362.825    227.791     312.95     316.25   \n",
       "53937         3768.0    355.448    356.704    223.568     339.60     340.80   \n",
       "53938         3538.0    375.150    373.320    228.140     356.70     354.96   \n",
       "53939         3421.0    362.626    365.114    226.408     320.65     322.85   \n",
       "\n",
       "       table * z    x * y    x * z    y * z  \n",
       "0         133.65  15.7210   9.5985   9.6714  \n",
       "1         140.91  14.9376   8.9859   8.8704  \n",
       "2         150.15  16.4835   9.3555   9.4017  \n",
       "3         152.54  17.7660  11.0460  11.1249  \n",
       "4         159.50  18.8790  11.9350  11.9625  \n",
       "...          ...      ...      ...      ...  \n",
       "53935     199.50  33.1200  20.1250  20.1600  \n",
       "53936     198.55  32.7175  20.5409  20.7575  \n",
       "53937     213.60  32.1488  20.1496  20.2208  \n",
       "53938     216.92  37.6380  23.0010  22.8888  \n",
       "53939     200.20  34.2221  21.2212  21.3668  \n",
       "\n",
       "[53940 rows x 15 columns]"
      ]
     },
     "execution_count": 73,
     "metadata": {},
     "output_type": "execute_result"
    }
   ],
   "source": [
    "create_quadratics(diamonds)"
   ]
  },
  {
   "cell_type": "code",
   "execution_count": 18,
   "id": "1339bfeb",
   "metadata": {},
   "outputs": [
    {
     "data": {
      "text/plain": [
       "0        4653.6087\n",
       "1        4920.9023\n",
       "2        5035.5936\n",
       "3        5028.8843\n",
       "4        5142.9979\n",
       "           ...    \n",
       "53935    5402.8062\n",
       "53936    5417.7889\n",
       "53937    5766.6292\n",
       "53938    5642.8264\n",
       "53939    5395.0631\n",
       "Length: 53940, dtype: float64"
      ]
     },
     "execution_count": 18,
     "metadata": {},
     "output_type": "execute_result"
    }
   ],
   "source": [
    "create_quadratics(diamonds).sum(axis = 1)"
   ]
  },
  {
   "cell_type": "code",
   "execution_count": 71,
   "id": "western-commodity",
   "metadata": {
    "deletable": false,
    "editable": false
   },
   "outputs": [
    {
     "data": {
      "text/html": [
       "<p><strong><pre style='display: inline;'>q4</pre></strong> passed!</p>"
      ],
      "text/plain": [
       "q4 results: All test cases passed!"
      ]
     },
     "execution_count": 71,
     "metadata": {},
     "output_type": "execute_result"
    }
   ],
   "source": [
    "grader.check(\"q4\")"
   ]
  },
  {
   "cell_type": "markdown",
   "id": "initial-dimension",
   "metadata": {},
   "source": [
    "### Comparing Performance"
   ]
  },
  {
   "cell_type": "markdown",
   "id": "wound-cartridge",
   "metadata": {},
   "source": [
    "**Question 5**\n",
    "\n",
    "Which features are most able to predict the price of a diamond in a linear regression model? \n",
    "\n",
    "Among the original columns, `carat` gives the best predictions when used in a *single-variable* linear regression model. Below, you will fit a single-variable linear regression model for each variable (both in the dataset, as well as the engineered features from the questions above).\n",
    "\n",
    "* What is the $R^2$ of a regression model built on the variable `carat`?\n",
    "* What is the RMSE of the linear-predictor built on `carat` (in USD)?\n",
    "* What is the *second best* feature in the original dataset (as measured by $R^2$)?\n",
    "* What is the best *new* feature engineered (including the ones in Q2, Q3, Q4) in the question above (as measured by $R^2$)?\n",
    "* Which *categorical* feature results in the best predictor (as measured by $R^2$)?\n",
    "\n",
    "Now, you will compare a multivariate regression model fitted with the original (quantitative) columns with a multivariate regression model fitted with both the original (quantitative) columns, as well as the features engineered in the problem above (Q4). \n",
    "\n",
    "* What is the percent decrease in RMSE between the two models (given as a number between 0 and 1)? (*Note*: RMSE is measured in USD! But no need to round).\n",
    "\n",
    "Create a function `comparing_performance` that returns a list containing the 6 answers above.\n",
    "\n",
    "*Hint:* Use the `sklearn` pattern included below. Train many linear regression models and sift through the results!"
   ]
  },
  {
   "cell_type": "code",
   "execution_count": 23,
   "id": "invalid-album",
   "metadata": {},
   "outputs": [],
   "source": [
    "from sklearn.linear_model import LinearRegression"
   ]
  },
  {
   "cell_type": "code",
   "execution_count": 100,
   "id": "29dabc12",
   "metadata": {},
   "outputs": [
    {
     "data": {
      "text/html": [
       "<div>\n",
       "<style scoped>\n",
       "    .dataframe tbody tr th:only-of-type {\n",
       "        vertical-align: middle;\n",
       "    }\n",
       "\n",
       "    .dataframe tbody tr th {\n",
       "        vertical-align: top;\n",
       "    }\n",
       "\n",
       "    .dataframe thead th {\n",
       "        text-align: right;\n",
       "    }\n",
       "</style>\n",
       "<table border=\"1\" class=\"dataframe\">\n",
       "  <thead>\n",
       "    <tr style=\"text-align: right;\">\n",
       "      <th></th>\n",
       "      <th>carat</th>\n",
       "      <th>cut</th>\n",
       "      <th>color</th>\n",
       "      <th>clarity</th>\n",
       "      <th>depth</th>\n",
       "      <th>table</th>\n",
       "      <th>price</th>\n",
       "      <th>x</th>\n",
       "      <th>y</th>\n",
       "      <th>z</th>\n",
       "    </tr>\n",
       "  </thead>\n",
       "  <tbody>\n",
       "    <tr>\n",
       "      <th>0</th>\n",
       "      <td>0.23</td>\n",
       "      <td>Ideal</td>\n",
       "      <td>E</td>\n",
       "      <td>SI2</td>\n",
       "      <td>61.5</td>\n",
       "      <td>55.0</td>\n",
       "      <td>326</td>\n",
       "      <td>3.95</td>\n",
       "      <td>3.98</td>\n",
       "      <td>2.43</td>\n",
       "    </tr>\n",
       "    <tr>\n",
       "      <th>1</th>\n",
       "      <td>0.21</td>\n",
       "      <td>Premium</td>\n",
       "      <td>E</td>\n",
       "      <td>SI1</td>\n",
       "      <td>59.8</td>\n",
       "      <td>61.0</td>\n",
       "      <td>326</td>\n",
       "      <td>3.89</td>\n",
       "      <td>3.84</td>\n",
       "      <td>2.31</td>\n",
       "    </tr>\n",
       "    <tr>\n",
       "      <th>2</th>\n",
       "      <td>0.23</td>\n",
       "      <td>Good</td>\n",
       "      <td>E</td>\n",
       "      <td>VS1</td>\n",
       "      <td>56.9</td>\n",
       "      <td>65.0</td>\n",
       "      <td>327</td>\n",
       "      <td>4.05</td>\n",
       "      <td>4.07</td>\n",
       "      <td>2.31</td>\n",
       "    </tr>\n",
       "    <tr>\n",
       "      <th>3</th>\n",
       "      <td>0.29</td>\n",
       "      <td>Premium</td>\n",
       "      <td>I</td>\n",
       "      <td>VS2</td>\n",
       "      <td>62.4</td>\n",
       "      <td>58.0</td>\n",
       "      <td>334</td>\n",
       "      <td>4.20</td>\n",
       "      <td>4.23</td>\n",
       "      <td>2.63</td>\n",
       "    </tr>\n",
       "    <tr>\n",
       "      <th>4</th>\n",
       "      <td>0.31</td>\n",
       "      <td>Good</td>\n",
       "      <td>J</td>\n",
       "      <td>SI2</td>\n",
       "      <td>63.3</td>\n",
       "      <td>58.0</td>\n",
       "      <td>335</td>\n",
       "      <td>4.34</td>\n",
       "      <td>4.35</td>\n",
       "      <td>2.75</td>\n",
       "    </tr>\n",
       "  </tbody>\n",
       "</table>\n",
       "</div>"
      ],
      "text/plain": [
       "   carat      cut color clarity  depth  table  price     x     y     z\n",
       "0   0.23    Ideal     E     SI2   61.5   55.0    326  3.95  3.98  2.43\n",
       "1   0.21  Premium     E     SI1   59.8   61.0    326  3.89  3.84  2.31\n",
       "2   0.23     Good     E     VS1   56.9   65.0    327  4.05  4.07  2.31\n",
       "3   0.29  Premium     I     VS2   62.4   58.0    334  4.20  4.23  2.63\n",
       "4   0.31     Good     J     SI2   63.3   58.0    335  4.34  4.35  2.75"
      ]
     },
     "execution_count": 100,
     "metadata": {},
     "output_type": "execute_result"
    }
   ],
   "source": [
    "diamonds.head()"
   ]
  },
  {
   "cell_type": "code",
   "execution_count": 99,
   "id": "6fa82eaa",
   "metadata": {},
   "outputs": [
    {
     "data": {
      "text/html": [
       "<div>\n",
       "<style scoped>\n",
       "    .dataframe tbody tr th:only-of-type {\n",
       "        vertical-align: middle;\n",
       "    }\n",
       "\n",
       "    .dataframe tbody tr th {\n",
       "        vertical-align: top;\n",
       "    }\n",
       "\n",
       "    .dataframe thead th {\n",
       "        text-align: right;\n",
       "    }\n",
       "</style>\n",
       "<table border=\"1\" class=\"dataframe\">\n",
       "  <thead>\n",
       "    <tr style=\"text-align: right;\">\n",
       "      <th></th>\n",
       "      <th>ordinal_cut</th>\n",
       "      <th>ordinal_color</th>\n",
       "      <th>ordinal_clarity</th>\n",
       "    </tr>\n",
       "  </thead>\n",
       "  <tbody>\n",
       "    <tr>\n",
       "      <th>0</th>\n",
       "      <td>4</td>\n",
       "      <td>5</td>\n",
       "      <td>1</td>\n",
       "    </tr>\n",
       "    <tr>\n",
       "      <th>1</th>\n",
       "      <td>3</td>\n",
       "      <td>5</td>\n",
       "      <td>2</td>\n",
       "    </tr>\n",
       "    <tr>\n",
       "      <th>2</th>\n",
       "      <td>1</td>\n",
       "      <td>5</td>\n",
       "      <td>4</td>\n",
       "    </tr>\n",
       "    <tr>\n",
       "      <th>3</th>\n",
       "      <td>3</td>\n",
       "      <td>1</td>\n",
       "      <td>3</td>\n",
       "    </tr>\n",
       "    <tr>\n",
       "      <th>4</th>\n",
       "      <td>1</td>\n",
       "      <td>0</td>\n",
       "      <td>1</td>\n",
       "    </tr>\n",
       "  </tbody>\n",
       "</table>\n",
       "</div>"
      ],
      "text/plain": [
       "   ordinal_cut  ordinal_color  ordinal_clarity\n",
       "0            4              5                1\n",
       "1            3              5                2\n",
       "2            1              5                4\n",
       "3            3              1                3\n",
       "4            1              0                1"
      ]
     },
     "execution_count": 99,
     "metadata": {},
     "output_type": "execute_result"
    }
   ],
   "source": [
    "ordinal = create_ordinal(diamonds)\n",
    "ordinal.head()"
   ]
  },
  {
   "cell_type": "code",
   "execution_count": 109,
   "id": "fc4e1ee4",
   "metadata": {},
   "outputs": [
    {
     "data": {
      "text/html": [
       "<div>\n",
       "<style scoped>\n",
       "    .dataframe tbody tr th:only-of-type {\n",
       "        vertical-align: middle;\n",
       "    }\n",
       "\n",
       "    .dataframe tbody tr th {\n",
       "        vertical-align: top;\n",
       "    }\n",
       "\n",
       "    .dataframe thead th {\n",
       "        text-align: right;\n",
       "    }\n",
       "</style>\n",
       "<table border=\"1\" class=\"dataframe\">\n",
       "  <thead>\n",
       "    <tr style=\"text-align: right;\">\n",
       "      <th></th>\n",
       "      <th>one_hot_cut_Fair</th>\n",
       "      <th>one_hot_cut_Good</th>\n",
       "      <th>one_hot_cut_Very Good</th>\n",
       "      <th>one_hot_cut_Premium</th>\n",
       "      <th>one_hot_cut_Ideal</th>\n",
       "      <th>one_hot_color_J</th>\n",
       "      <th>one_hot_color_I</th>\n",
       "      <th>one_hot_color_H</th>\n",
       "      <th>one_hot_color_G</th>\n",
       "      <th>one_hot_color_F</th>\n",
       "      <th>one_hot_color_E</th>\n",
       "      <th>one_hot_color_D</th>\n",
       "      <th>one_hot_clarity_I1</th>\n",
       "      <th>one_hot_clarity_SI2</th>\n",
       "      <th>one_hot_clarity_SI1</th>\n",
       "      <th>one_hot_clarity_VS2</th>\n",
       "      <th>one_hot_clarity_VS1</th>\n",
       "      <th>one_hot_clarity_VVS2</th>\n",
       "      <th>one_hot_clarity_VVS1</th>\n",
       "      <th>one_hot_clarity_IF</th>\n",
       "    </tr>\n",
       "  </thead>\n",
       "  <tbody>\n",
       "    <tr>\n",
       "      <th>0</th>\n",
       "      <td>0.0</td>\n",
       "      <td>0.0</td>\n",
       "      <td>0.0</td>\n",
       "      <td>0.0</td>\n",
       "      <td>1.0</td>\n",
       "      <td>0.0</td>\n",
       "      <td>0.0</td>\n",
       "      <td>0.0</td>\n",
       "      <td>0.0</td>\n",
       "      <td>0.0</td>\n",
       "      <td>1.0</td>\n",
       "      <td>0.0</td>\n",
       "      <td>0.0</td>\n",
       "      <td>1.0</td>\n",
       "      <td>0.0</td>\n",
       "      <td>0.0</td>\n",
       "      <td>0.0</td>\n",
       "      <td>0.0</td>\n",
       "      <td>0.0</td>\n",
       "      <td>0.0</td>\n",
       "    </tr>\n",
       "    <tr>\n",
       "      <th>1</th>\n",
       "      <td>0.0</td>\n",
       "      <td>0.0</td>\n",
       "      <td>0.0</td>\n",
       "      <td>1.0</td>\n",
       "      <td>0.0</td>\n",
       "      <td>0.0</td>\n",
       "      <td>0.0</td>\n",
       "      <td>0.0</td>\n",
       "      <td>0.0</td>\n",
       "      <td>0.0</td>\n",
       "      <td>1.0</td>\n",
       "      <td>0.0</td>\n",
       "      <td>0.0</td>\n",
       "      <td>0.0</td>\n",
       "      <td>1.0</td>\n",
       "      <td>0.0</td>\n",
       "      <td>0.0</td>\n",
       "      <td>0.0</td>\n",
       "      <td>0.0</td>\n",
       "      <td>0.0</td>\n",
       "    </tr>\n",
       "    <tr>\n",
       "      <th>2</th>\n",
       "      <td>0.0</td>\n",
       "      <td>1.0</td>\n",
       "      <td>0.0</td>\n",
       "      <td>0.0</td>\n",
       "      <td>0.0</td>\n",
       "      <td>0.0</td>\n",
       "      <td>0.0</td>\n",
       "      <td>0.0</td>\n",
       "      <td>0.0</td>\n",
       "      <td>0.0</td>\n",
       "      <td>1.0</td>\n",
       "      <td>0.0</td>\n",
       "      <td>0.0</td>\n",
       "      <td>0.0</td>\n",
       "      <td>0.0</td>\n",
       "      <td>0.0</td>\n",
       "      <td>1.0</td>\n",
       "      <td>0.0</td>\n",
       "      <td>0.0</td>\n",
       "      <td>0.0</td>\n",
       "    </tr>\n",
       "    <tr>\n",
       "      <th>3</th>\n",
       "      <td>0.0</td>\n",
       "      <td>0.0</td>\n",
       "      <td>0.0</td>\n",
       "      <td>1.0</td>\n",
       "      <td>0.0</td>\n",
       "      <td>0.0</td>\n",
       "      <td>1.0</td>\n",
       "      <td>0.0</td>\n",
       "      <td>0.0</td>\n",
       "      <td>0.0</td>\n",
       "      <td>0.0</td>\n",
       "      <td>0.0</td>\n",
       "      <td>0.0</td>\n",
       "      <td>0.0</td>\n",
       "      <td>0.0</td>\n",
       "      <td>1.0</td>\n",
       "      <td>0.0</td>\n",
       "      <td>0.0</td>\n",
       "      <td>0.0</td>\n",
       "      <td>0.0</td>\n",
       "    </tr>\n",
       "    <tr>\n",
       "      <th>4</th>\n",
       "      <td>0.0</td>\n",
       "      <td>1.0</td>\n",
       "      <td>0.0</td>\n",
       "      <td>0.0</td>\n",
       "      <td>0.0</td>\n",
       "      <td>1.0</td>\n",
       "      <td>0.0</td>\n",
       "      <td>0.0</td>\n",
       "      <td>0.0</td>\n",
       "      <td>0.0</td>\n",
       "      <td>0.0</td>\n",
       "      <td>0.0</td>\n",
       "      <td>0.0</td>\n",
       "      <td>1.0</td>\n",
       "      <td>0.0</td>\n",
       "      <td>0.0</td>\n",
       "      <td>0.0</td>\n",
       "      <td>0.0</td>\n",
       "      <td>0.0</td>\n",
       "      <td>0.0</td>\n",
       "    </tr>\n",
       "  </tbody>\n",
       "</table>\n",
       "</div>"
      ],
      "text/plain": [
       "   one_hot_cut_Fair  one_hot_cut_Good  one_hot_cut_Very Good  \\\n",
       "0               0.0               0.0                    0.0   \n",
       "1               0.0               0.0                    0.0   \n",
       "2               0.0               1.0                    0.0   \n",
       "3               0.0               0.0                    0.0   \n",
       "4               0.0               1.0                    0.0   \n",
       "\n",
       "   one_hot_cut_Premium  one_hot_cut_Ideal  one_hot_color_J  one_hot_color_I  \\\n",
       "0                  0.0                1.0              0.0              0.0   \n",
       "1                  1.0                0.0              0.0              0.0   \n",
       "2                  0.0                0.0              0.0              0.0   \n",
       "3                  1.0                0.0              0.0              1.0   \n",
       "4                  0.0                0.0              1.0              0.0   \n",
       "\n",
       "   one_hot_color_H  one_hot_color_G  one_hot_color_F  one_hot_color_E  \\\n",
       "0              0.0              0.0              0.0              1.0   \n",
       "1              0.0              0.0              0.0              1.0   \n",
       "2              0.0              0.0              0.0              1.0   \n",
       "3              0.0              0.0              0.0              0.0   \n",
       "4              0.0              0.0              0.0              0.0   \n",
       "\n",
       "   one_hot_color_D  one_hot_clarity_I1  one_hot_clarity_SI2  \\\n",
       "0              0.0                 0.0                  1.0   \n",
       "1              0.0                 0.0                  0.0   \n",
       "2              0.0                 0.0                  0.0   \n",
       "3              0.0                 0.0                  0.0   \n",
       "4              0.0                 0.0                  1.0   \n",
       "\n",
       "   one_hot_clarity_SI1  one_hot_clarity_VS2  one_hot_clarity_VS1  \\\n",
       "0                  0.0                  0.0                  0.0   \n",
       "1                  1.0                  0.0                  0.0   \n",
       "2                  0.0                  0.0                  1.0   \n",
       "3                  0.0                  1.0                  0.0   \n",
       "4                  0.0                  0.0                  0.0   \n",
       "\n",
       "   one_hot_clarity_VVS2  one_hot_clarity_VVS1  one_hot_clarity_IF  \n",
       "0                   0.0                   0.0                 0.0  \n",
       "1                   0.0                   0.0                 0.0  \n",
       "2                   0.0                   0.0                 0.0  \n",
       "3                   0.0                   0.0                 0.0  \n",
       "4                   0.0                   0.0                 0.0  "
      ]
     },
     "execution_count": 109,
     "metadata": {},
     "output_type": "execute_result"
    }
   ],
   "source": [
    "one_hot = create_one_hot(diamonds)\n",
    "one_hot.head()"
   ]
  },
  {
   "cell_type": "code",
   "execution_count": 113,
   "id": "f800ed2f",
   "metadata": {},
   "outputs": [],
   "source": [
    "one_hot_cut = [i for i in one_hot.columns if i.startswith('one_hot_cut')]\n",
    "one_hot_color = [i for i in one_hot.columns if i.startswith('one_hot_color')]\n",
    "one_hot_clarity = [i for i in one_hot.columns if i.startswith('one_hot_clarity')]\n"
   ]
  },
  {
   "cell_type": "code",
   "execution_count": 103,
   "id": "325466cc",
   "metadata": {},
   "outputs": [
    {
     "data": {
      "text/html": [
       "<div>\n",
       "<style scoped>\n",
       "    .dataframe tbody tr th:only-of-type {\n",
       "        vertical-align: middle;\n",
       "    }\n",
       "\n",
       "    .dataframe tbody tr th {\n",
       "        vertical-align: top;\n",
       "    }\n",
       "\n",
       "    .dataframe thead th {\n",
       "        text-align: right;\n",
       "    }\n",
       "</style>\n",
       "<table border=\"1\" class=\"dataframe\">\n",
       "  <thead>\n",
       "    <tr style=\"text-align: right;\">\n",
       "      <th></th>\n",
       "      <th>proportion_cut</th>\n",
       "      <th>proportion_color</th>\n",
       "      <th>proportion_clarity</th>\n",
       "    </tr>\n",
       "  </thead>\n",
       "  <tbody>\n",
       "    <tr>\n",
       "      <th>0</th>\n",
       "      <td>0.399537</td>\n",
       "      <td>0.181628</td>\n",
       "      <td>0.170449</td>\n",
       "    </tr>\n",
       "    <tr>\n",
       "      <th>1</th>\n",
       "      <td>0.255673</td>\n",
       "      <td>0.181628</td>\n",
       "      <td>0.242214</td>\n",
       "    </tr>\n",
       "    <tr>\n",
       "      <th>2</th>\n",
       "      <td>0.090953</td>\n",
       "      <td>0.181628</td>\n",
       "      <td>0.151483</td>\n",
       "    </tr>\n",
       "    <tr>\n",
       "      <th>3</th>\n",
       "      <td>0.255673</td>\n",
       "      <td>0.100519</td>\n",
       "      <td>0.227253</td>\n",
       "    </tr>\n",
       "    <tr>\n",
       "      <th>4</th>\n",
       "      <td>0.090953</td>\n",
       "      <td>0.052058</td>\n",
       "      <td>0.170449</td>\n",
       "    </tr>\n",
       "  </tbody>\n",
       "</table>\n",
       "</div>"
      ],
      "text/plain": [
       "   proportion_cut  proportion_color  proportion_clarity\n",
       "0        0.399537          0.181628            0.170449\n",
       "1        0.255673          0.181628            0.242214\n",
       "2        0.090953          0.181628            0.151483\n",
       "3        0.255673          0.100519            0.227253\n",
       "4        0.090953          0.052058            0.170449"
      ]
     },
     "execution_count": 103,
     "metadata": {},
     "output_type": "execute_result"
    }
   ],
   "source": [
    "proportions = create_proportions(diamonds)\n",
    "proportions.head()"
   ]
  },
  {
   "cell_type": "code",
   "execution_count": 21,
   "id": "7563e025",
   "metadata": {},
   "outputs": [
    {
     "data": {
      "text/html": [
       "<div>\n",
       "<style scoped>\n",
       "    .dataframe tbody tr th:only-of-type {\n",
       "        vertical-align: middle;\n",
       "    }\n",
       "\n",
       "    .dataframe tbody tr th {\n",
       "        vertical-align: top;\n",
       "    }\n",
       "\n",
       "    .dataframe thead th {\n",
       "        text-align: right;\n",
       "    }\n",
       "</style>\n",
       "<table border=\"1\" class=\"dataframe\">\n",
       "  <thead>\n",
       "    <tr style=\"text-align: right;\">\n",
       "      <th></th>\n",
       "      <th>carat * depth</th>\n",
       "      <th>carat * table</th>\n",
       "      <th>carat * x</th>\n",
       "      <th>carat * y</th>\n",
       "      <th>carat * z</th>\n",
       "      <th>depth * table</th>\n",
       "      <th>depth * x</th>\n",
       "      <th>depth * y</th>\n",
       "      <th>depth * z</th>\n",
       "      <th>table * x</th>\n",
       "      <th>table * y</th>\n",
       "      <th>table * z</th>\n",
       "      <th>x * y</th>\n",
       "      <th>x * z</th>\n",
       "      <th>y * z</th>\n",
       "    </tr>\n",
       "  </thead>\n",
       "  <tbody>\n",
       "    <tr>\n",
       "      <th>0</th>\n",
       "      <td>14.145</td>\n",
       "      <td>12.65</td>\n",
       "      <td>0.9085</td>\n",
       "      <td>0.9154</td>\n",
       "      <td>0.5589</td>\n",
       "      <td>3382.5</td>\n",
       "      <td>242.925</td>\n",
       "      <td>244.770</td>\n",
       "      <td>149.445</td>\n",
       "      <td>217.25</td>\n",
       "      <td>218.90</td>\n",
       "      <td>133.65</td>\n",
       "      <td>15.7210</td>\n",
       "      <td>9.5985</td>\n",
       "      <td>9.6714</td>\n",
       "    </tr>\n",
       "    <tr>\n",
       "      <th>1</th>\n",
       "      <td>12.558</td>\n",
       "      <td>12.81</td>\n",
       "      <td>0.8169</td>\n",
       "      <td>0.8064</td>\n",
       "      <td>0.4851</td>\n",
       "      <td>3647.8</td>\n",
       "      <td>232.622</td>\n",
       "      <td>229.632</td>\n",
       "      <td>138.138</td>\n",
       "      <td>237.29</td>\n",
       "      <td>234.24</td>\n",
       "      <td>140.91</td>\n",
       "      <td>14.9376</td>\n",
       "      <td>8.9859</td>\n",
       "      <td>8.8704</td>\n",
       "    </tr>\n",
       "    <tr>\n",
       "      <th>2</th>\n",
       "      <td>13.087</td>\n",
       "      <td>14.95</td>\n",
       "      <td>0.9315</td>\n",
       "      <td>0.9361</td>\n",
       "      <td>0.5313</td>\n",
       "      <td>3698.5</td>\n",
       "      <td>230.445</td>\n",
       "      <td>231.583</td>\n",
       "      <td>131.439</td>\n",
       "      <td>263.25</td>\n",
       "      <td>264.55</td>\n",
       "      <td>150.15</td>\n",
       "      <td>16.4835</td>\n",
       "      <td>9.3555</td>\n",
       "      <td>9.4017</td>\n",
       "    </tr>\n",
       "    <tr>\n",
       "      <th>3</th>\n",
       "      <td>18.096</td>\n",
       "      <td>16.82</td>\n",
       "      <td>1.2180</td>\n",
       "      <td>1.2267</td>\n",
       "      <td>0.7627</td>\n",
       "      <td>3619.2</td>\n",
       "      <td>262.080</td>\n",
       "      <td>263.952</td>\n",
       "      <td>164.112</td>\n",
       "      <td>243.60</td>\n",
       "      <td>245.34</td>\n",
       "      <td>152.54</td>\n",
       "      <td>17.7660</td>\n",
       "      <td>11.0460</td>\n",
       "      <td>11.1249</td>\n",
       "    </tr>\n",
       "    <tr>\n",
       "      <th>4</th>\n",
       "      <td>19.623</td>\n",
       "      <td>17.98</td>\n",
       "      <td>1.3454</td>\n",
       "      <td>1.3485</td>\n",
       "      <td>0.8525</td>\n",
       "      <td>3671.4</td>\n",
       "      <td>274.722</td>\n",
       "      <td>275.355</td>\n",
       "      <td>174.075</td>\n",
       "      <td>251.72</td>\n",
       "      <td>252.30</td>\n",
       "      <td>159.50</td>\n",
       "      <td>18.8790</td>\n",
       "      <td>11.9350</td>\n",
       "      <td>11.9625</td>\n",
       "    </tr>\n",
       "  </tbody>\n",
       "</table>\n",
       "</div>"
      ],
      "text/plain": [
       "   carat * depth  carat * table  carat * x  carat * y  carat * z  \\\n",
       "0         14.145          12.65     0.9085     0.9154     0.5589   \n",
       "1         12.558          12.81     0.8169     0.8064     0.4851   \n",
       "2         13.087          14.95     0.9315     0.9361     0.5313   \n",
       "3         18.096          16.82     1.2180     1.2267     0.7627   \n",
       "4         19.623          17.98     1.3454     1.3485     0.8525   \n",
       "\n",
       "   depth * table  depth * x  depth * y  depth * z  table * x  table * y  \\\n",
       "0         3382.5    242.925    244.770    149.445     217.25     218.90   \n",
       "1         3647.8    232.622    229.632    138.138     237.29     234.24   \n",
       "2         3698.5    230.445    231.583    131.439     263.25     264.55   \n",
       "3         3619.2    262.080    263.952    164.112     243.60     245.34   \n",
       "4         3671.4    274.722    275.355    174.075     251.72     252.30   \n",
       "\n",
       "   table * z    x * y    x * z    y * z  \n",
       "0     133.65  15.7210   9.5985   9.6714  \n",
       "1     140.91  14.9376   8.9859   8.8704  \n",
       "2     150.15  16.4835   9.3555   9.4017  \n",
       "3     152.54  17.7660  11.0460  11.1249  \n",
       "4     159.50  18.8790  11.9350  11.9625  "
      ]
     },
     "execution_count": 21,
     "metadata": {},
     "output_type": "execute_result"
    }
   ],
   "source": [
    "quadratics = create_quadratics(diamonds)\n",
    "quadratics.head()"
   ]
  },
  {
   "cell_type": "code",
   "execution_count": null,
   "id": "4c09a9c0",
   "metadata": {},
   "outputs": [],
   "source": [
    "ordinal_cut = 0.002861250800106574\n",
    "ordinal_color = 0.029760020332370907\n",
    "ordinal_clarity = 0.021550260868784643\n",
    "one_hot_cut_score = 0.012857419061510278\n",
    "one_hot_color_score = 0.031207403044999582\n",
    "one_hot_clarity_score = 0.02710512155936229\n",
    "proportion_cut = 0.005004173762515052\n",
    "proportion_color = 0.008312773999915812\n",
    "proportion_clarity = 0.006333681179797934\n"
   ]
  },
  {
   "cell_type": "code",
   "execution_count": null,
   "id": "0bd9ecde",
   "metadata": {},
   "outputs": [],
   "source": []
  },
  {
   "cell_type": "code",
   "execution_count": 125,
   "id": "528f5b92",
   "metadata": {},
   "outputs": [],
   "source": [
    "quadratics_scores = {}\n",
    "for i in quadratics.columns:\n",
    "    X = np.array(quadratics[i]).reshape(-1, 1)\n",
    "    y = diamonds['price']\n",
    "    lr = LinearRegression()\n",
    "    lr.fit(X, y)  # X is dataframe of training data; y a series of prices\n",
    "    quadratics_scores[i] = lr.score(X, y)  # R-squared"
   ]
  },
  {
   "cell_type": "code",
   "execution_count": 131,
   "id": "governmental-princeton",
   "metadata": {},
   "outputs": [
    {
     "data": {
      "text/plain": [
       "'carat * x'"
      ]
     },
     "execution_count": 131,
     "metadata": {},
     "output_type": "execute_result"
    }
   ],
   "source": [
    "max(quadratics_scores, key=quadratics_scores.get)"
   ]
  },
  {
   "cell_type": "code",
   "execution_count": 85,
   "id": "hazardous-actor",
   "metadata": {},
   "outputs": [],
   "source": [
    "preds = lr.predict(X) # predicted prices"
   ]
  },
  {
   "cell_type": "code",
   "execution_count": 86,
   "id": "1958e627",
   "metadata": {},
   "outputs": [
    {
     "data": {
      "text/plain": [
       "1548.5331930613174"
      ]
     },
     "execution_count": 86,
     "metadata": {},
     "output_type": "execute_result"
    }
   ],
   "source": [
    "np.sqrt(np.mean((preds - diamonds['price'].values)**2))"
   ]
  },
  {
   "cell_type": "code",
   "execution_count": 133,
   "id": "cf041789",
   "metadata": {},
   "outputs": [
    {
     "data": {
      "text/plain": [
       "Index(['carat', 'cut', 'color', 'clarity', 'depth', 'table', 'price', 'x', 'y',\n",
       "       'z'],\n",
       "      dtype='object')"
      ]
     },
     "execution_count": 133,
     "metadata": {},
     "output_type": "execute_result"
    }
   ],
   "source": [
    "diamonds.columns"
   ]
  },
  {
   "cell_type": "code",
   "execution_count": 137,
   "id": "29ceee8e",
   "metadata": {},
   "outputs": [],
   "source": [
    "X = np.array(diamonds[['carat', 'depth', 'table', 'x', 'y', 'z']])\n",
    "y = diamonds['price']\n",
    "lr = LinearRegression()\n",
    "lr.fit(X, y)  # X is dataframe of training data; y a series of prices\n",
    "lr.score(X, y)  # R-squared\n",
    "preds = lr.predict(X)\n",
    "RMSE_1 = np.sqrt(np.mean((preds - diamonds['price'].values)**2))"
   ]
  },
  {
   "cell_type": "code",
   "execution_count": 24,
   "id": "4ed2703d",
   "metadata": {},
   "outputs": [],
   "source": [
    "X = np.array(quadratics)\n",
    "y = diamonds['price']\n",
    "lr = LinearRegression()\n",
    "lr.fit(X, y)  # X is dataframe of training data; y a series of prices\n",
    "lr.score(X, y)  # R-squared\n",
    "preds = lr.predict(X)\n",
    "RMSE_2 = np.sqrt(np.mean((preds - diamonds['price'].values)**2))"
   ]
  },
  {
   "cell_type": "code",
   "execution_count": null,
   "id": "34197299",
   "metadata": {},
   "outputs": [],
   "source": [
    "\n",
    "create_quadratics(diamonds).sum(axis = 1)\n",
    "q4_feat = pd.concat([diamonds[['carat', 'depth', 'table', 'x', 'y','z']], create_quadratics(diamonds)],axis=1)\n",
    "X = q4_feat\n",
    "y = diamonds['price']\n",
    "\n",
    "lr = LinearRegression()\n",
    "lr.fit(X, y)  # X is dataframe of training data; y a series of prices\n",
    "print('R-squared: ', lr.score(X, y))  # R-squared\n",
    "print('RMSE: ', np.sqrt(np.mean((y - lr.predict(X))**2)), y) # predicted prices\n"
   ]
  },
  {
   "cell_type": "code",
   "execution_count": 143,
   "id": "c1514700",
   "metadata": {},
   "outputs": [
    {
     "data": {
      "text/plain": [
       "1496.8572842935746"
      ]
     },
     "execution_count": 143,
     "metadata": {},
     "output_type": "execute_result"
    }
   ],
   "source": [
    "RMSE_1"
   ]
  },
  {
   "cell_type": "code",
   "execution_count": null,
   "id": "1d291a29",
   "metadata": {},
   "outputs": [],
   "source": [
    "0.041"
   ]
  },
  {
   "cell_type": "code",
   "execution_count": 25,
   "id": "83772bcc",
   "metadata": {},
   "outputs": [
    {
     "data": {
      "text/plain": [
       "1449.1034199401968"
      ]
     },
     "execution_count": 25,
     "metadata": {},
     "output_type": "execute_result"
    }
   ],
   "source": [
    "RMSE_2"
   ]
  },
  {
   "cell_type": "code",
   "execution_count": 147,
   "id": "a310e25a",
   "metadata": {},
   "outputs": [
    {
     "data": {
      "text/plain": [
       "0.0319027504187981"
      ]
     },
     "execution_count": 147,
     "metadata": {},
     "output_type": "execute_result"
    }
   ],
   "source": [
    "(RMSE_1 - RMSE_2)/ RMSE_1"
   ]
  },
  {
   "cell_type": "code",
   "execution_count": 19,
   "id": "blind-conviction",
   "metadata": {
    "deletable": false,
    "editable": false
   },
   "outputs": [
    {
     "data": {
      "text/html": [
       "<p><strong><pre style='display: inline;'>q5</pre></strong> passed!</p>"
      ],
      "text/plain": [
       "q5 results: All test cases passed!"
      ]
     },
     "execution_count": 19,
     "metadata": {},
     "output_type": "execute_result"
    }
   ],
   "source": [
    "grader.check(\"q5\")"
   ]
  },
  {
   "cell_type": "markdown",
   "id": "interracial-sending",
   "metadata": {},
   "source": [
    "# Feature engineering with `Sklearn`\n",
    "\n",
    "In this section, you will use `sklearn` transformers/estimators for feature engineering. While everything you do with `sklearn` is possible to do with Pandas, `sklearn` transformers will enable you to couple your feature engineering with your modeling. This will allow you to more quickly build and assess your models in `sklearn`.\n",
    "\n",
    "Recall from lecture that `sklearn` is built on `numpy`, and so it's objects speak `ndarray` objcets *not* `DataFrame` objects! Each of the methods below should (1) first turn the input Pandas DataFrame into a numpy array, then (2) use the `.transform` method of an initialized `sklearn.Transformer` object. You should **not** use dataframe methods like apply in this problem."
   ]
  },
  {
   "cell_type": "code",
   "execution_count": 148,
   "id": "familiar-childhood",
   "metadata": {},
   "outputs": [],
   "source": [
    "from sklearn.preprocessing import Binarizer, QuantileTransformer, FunctionTransformer"
   ]
  },
  {
   "cell_type": "markdown",
   "id": "spoken-funeral",
   "metadata": {},
   "source": [
    "**Question 6**\n",
    "\n",
    "Please answer the below questions by filling in the methods for the `TransformDiamonds` class."
   ]
  },
  {
   "cell_type": "markdown",
   "id": "previous-staff",
   "metadata": {},
   "source": [
    "### Turning a quantitative column into a binary column\n",
    "\n",
    "In this section, you will create a `TransformDiamonds` class that contains the transformation-methods below. In the starter code, there is a skeleton for `TransformDiamonds` that is initialized with a dataframe `diamonds`.\n"
   ]
  },
  {
   "cell_type": "markdown",
   "id": "surface-sitting",
   "metadata": {},
   "source": [
    "**Question 6a**\n",
    "\n",
    "In the `diamonds` dataset, define a stone as *large* if it is greater than or equal to 1 carat. Use the `Binarizer` class to code up this transformation logic. Create a method `transformCarat` that takes in a dataframe like `diamonds` and returns a binarized `carat` column (an `np.ndarray`) as described above."
   ]
  },
  {
   "cell_type": "code",
   "execution_count": 150,
   "id": "transsexual-rates",
   "metadata": {},
   "outputs": [
    {
     "data": {
      "text/plain": [
       "array([[0.],\n",
       "       [0.],\n",
       "       [0.],\n",
       "       [0.],\n",
       "       [0.]])"
      ]
     },
     "execution_count": 150,
     "metadata": {},
     "output_type": "execute_result"
    }
   ],
   "source": [
    "bi = Binarizer(threshold = 1)                     # initialize with the parameter\n",
    "binarized = bi.transform(diamonds[['carat']])     # called transform on a data "
   ]
  },
  {
   "cell_type": "code",
   "execution_count": null,
   "id": "decimal-christian",
   "metadata": {},
   "outputs": [],
   "source": []
  },
  {
   "cell_type": "code",
   "execution_count": 151,
   "id": "reflected-absorption",
   "metadata": {
    "deletable": false,
    "editable": false
   },
   "outputs": [
    {
     "data": {
      "text/html": [
       "<p><strong><pre style='display: inline;'>q6a</pre></strong> passed!</p>"
      ],
      "text/plain": [
       "q6a results: All test cases passed!"
      ]
     },
     "execution_count": 151,
     "metadata": {},
     "output_type": "execute_result"
    }
   ],
   "source": [
    "grader.check(\"q6a\")"
   ]
  },
  {
   "cell_type": "markdown",
   "id": "ranking-scott",
   "metadata": {},
   "source": [
    "**Question 6b** \n",
    "\n",
    "You now will transform the `carat` column so that each diamonds weight (in carats) is replaced with the *percentile* in which its weight lies. The percentile is measure with reference to the entire input dataset to the object `TransformDiamonds`. Create a method `transform_to_quantiles` that takes in a dataframe like `diamonds` and returns an `np.ndarray` of quantiles of the weight (i.e. carats) of each diamond.\n",
    "\n",
    "*Hint:* To do this, use `QuantileTransformer` in `sklearn.preprocessing`. Note, that you will have to use the `.fit` method before transforming, because `QuantileTransformer` needs to know what the percentiles it can map values to their quantiles!\n",
    "\n",
    "*Note:* You will see an warning in the doctest saying there is less number of rows (10) than the default number of quantiles (1000) for `QuantileTransformer`. This is expected behavior since the doctest only transforms the first 10 rows of the dataframe."
   ]
  },
  {
   "cell_type": "code",
   "execution_count": 160,
   "id": "c1b20f3b",
   "metadata": {},
   "outputs": [
    {
     "data": {
      "text/plain": [
       "array([[3.00300300e-03],\n",
       "       [3.33667000e-04],\n",
       "       [3.00300300e-03],\n",
       "       ...,\n",
       "       [4.85485485e-01],\n",
       "       [5.93593594e-01],\n",
       "       [5.59059059e-01]])"
      ]
     },
     "execution_count": 160,
     "metadata": {},
     "output_type": "execute_result"
    }
   ],
   "source": [
    "qt = QuantileTransformer()\n",
    "qt.fit_transform(diamonds[['carat']])"
   ]
  },
  {
   "cell_type": "code",
   "execution_count": 169,
   "id": "established-douglas",
   "metadata": {},
   "outputs": [
    {
     "data": {
      "text/plain": [
       "array([[3.00300300e-03],\n",
       "       [3.33667000e-04],\n",
       "       [3.00300300e-03],\n",
       "       ...,\n",
       "       [4.85485485e-01],\n",
       "       [5.93593594e-01],\n",
       "       [5.59059059e-01]])"
      ]
     },
     "execution_count": 169,
     "metadata": {},
     "output_type": "execute_result"
    }
   ],
   "source": [
    "out = TransformDiamonds(diamonds.head(10))\n",
    "out.transform_to_quantile(diamonds)"
   ]
  },
  {
   "cell_type": "code",
   "execution_count": 171,
   "id": "steady-material",
   "metadata": {
    "deletable": false,
    "editable": false
   },
   "outputs": [
    {
     "data": {
      "text/html": [
       "<p><strong><pre style='display: inline;'>q6b</pre></strong> passed!</p>"
      ],
      "text/plain": [
       "q6b results: All test cases passed!"
      ]
     },
     "execution_count": 171,
     "metadata": {},
     "output_type": "execute_result"
    }
   ],
   "source": [
    "grader.check(\"q6b\")"
   ]
  },
  {
   "cell_type": "markdown",
   "id": "sexual-think",
   "metadata": {},
   "source": [
    "**Question 6c** \n",
    "\n",
    "Next, you will recreate a feature giving the \"depth percentage\" of a diamond. Suppose the approximate depth percentage of a diamond is $Depth \\% = \\frac{z}{(x+y)/2} \\times 100$ where $x,y,z$ are the dimensions of the diamond given by columns of the same name. Create a method `transform_to_depth_pct` that takes in a dataframe like `diamonds` and returns an `np.ndarray` consisting of the approximate depth percentage of each diamond. Percentage should be between 0 and 100. You can compare your results from the `depth` column in the original dataset. \n",
    "\n",
    "*Hint:* Use `FunctionTransformer` in `sklearn.preprocessing`; your 'custom function' needs to input an `ndarray`, not a `DataFrame`.\n",
    "\n",
    "*Again*: It may seems like unnecessary function because **apply** does the \"same\" thing. You will learn in the lecture that `FunctionTransformer` greatly simplifies the preprocessing step\n",
    "\n",
    "*Note*: Zero division errors can be ignored, use `np.NaN` as is."
   ]
  },
  {
   "cell_type": "code",
   "execution_count": 182,
   "id": "23434403",
   "metadata": {},
   "outputs": [
    {
     "data": {
      "text/html": [
       "<div>\n",
       "<style scoped>\n",
       "    .dataframe tbody tr th:only-of-type {\n",
       "        vertical-align: middle;\n",
       "    }\n",
       "\n",
       "    .dataframe tbody tr th {\n",
       "        vertical-align: top;\n",
       "    }\n",
       "\n",
       "    .dataframe thead th {\n",
       "        text-align: right;\n",
       "    }\n",
       "</style>\n",
       "<table border=\"1\" class=\"dataframe\">\n",
       "  <thead>\n",
       "    <tr style=\"text-align: right;\">\n",
       "      <th></th>\n",
       "      <th>x</th>\n",
       "      <th>y</th>\n",
       "      <th>z</th>\n",
       "    </tr>\n",
       "  </thead>\n",
       "  <tbody>\n",
       "    <tr>\n",
       "      <th>0</th>\n",
       "      <td>3.95</td>\n",
       "      <td>3.98</td>\n",
       "      <td>2.43</td>\n",
       "    </tr>\n",
       "    <tr>\n",
       "      <th>1</th>\n",
       "      <td>3.89</td>\n",
       "      <td>3.84</td>\n",
       "      <td>2.31</td>\n",
       "    </tr>\n",
       "    <tr>\n",
       "      <th>2</th>\n",
       "      <td>4.05</td>\n",
       "      <td>4.07</td>\n",
       "      <td>2.31</td>\n",
       "    </tr>\n",
       "    <tr>\n",
       "      <th>3</th>\n",
       "      <td>4.20</td>\n",
       "      <td>4.23</td>\n",
       "      <td>2.63</td>\n",
       "    </tr>\n",
       "    <tr>\n",
       "      <th>4</th>\n",
       "      <td>4.34</td>\n",
       "      <td>4.35</td>\n",
       "      <td>2.75</td>\n",
       "    </tr>\n",
       "    <tr>\n",
       "      <th>...</th>\n",
       "      <td>...</td>\n",
       "      <td>...</td>\n",
       "      <td>...</td>\n",
       "    </tr>\n",
       "    <tr>\n",
       "      <th>53935</th>\n",
       "      <td>5.75</td>\n",
       "      <td>5.76</td>\n",
       "      <td>3.50</td>\n",
       "    </tr>\n",
       "    <tr>\n",
       "      <th>53936</th>\n",
       "      <td>5.69</td>\n",
       "      <td>5.75</td>\n",
       "      <td>3.61</td>\n",
       "    </tr>\n",
       "    <tr>\n",
       "      <th>53937</th>\n",
       "      <td>5.66</td>\n",
       "      <td>5.68</td>\n",
       "      <td>3.56</td>\n",
       "    </tr>\n",
       "    <tr>\n",
       "      <th>53938</th>\n",
       "      <td>6.15</td>\n",
       "      <td>6.12</td>\n",
       "      <td>3.74</td>\n",
       "    </tr>\n",
       "    <tr>\n",
       "      <th>53939</th>\n",
       "      <td>5.83</td>\n",
       "      <td>5.87</td>\n",
       "      <td>3.64</td>\n",
       "    </tr>\n",
       "  </tbody>\n",
       "</table>\n",
       "<p>53940 rows × 3 columns</p>\n",
       "</div>"
      ],
      "text/plain": [
       "          x     y     z\n",
       "0      3.95  3.98  2.43\n",
       "1      3.89  3.84  2.31\n",
       "2      4.05  4.07  2.31\n",
       "3      4.20  4.23  2.63\n",
       "4      4.34  4.35  2.75\n",
       "...     ...   ...   ...\n",
       "53935  5.75  5.76  3.50\n",
       "53936  5.69  5.75  3.61\n",
       "53937  5.66  5.68  3.56\n",
       "53938  6.15  6.12  3.74\n",
       "53939  5.83  5.87  3.64\n",
       "\n",
       "[53940 rows x 3 columns]"
      ]
     },
     "execution_count": 182,
     "metadata": {},
     "output_type": "execute_result"
    }
   ],
   "source": [
    "data"
   ]
  },
  {
   "cell_type": "code",
   "execution_count": 191,
   "id": "10591a49",
   "metadata": {},
   "outputs": [
    {
     "ename": "ValueError",
     "evalue": "operands could not be broadcast together with shapes (53940,) (0,3) ",
     "output_type": "error",
     "traceback": [
      "\u001b[1;31m---------------------------------------------------------------------------\u001b[0m",
      "\u001b[1;31mValueError\u001b[0m                                Traceback (most recent call last)",
      "\u001b[1;32m<ipython-input-191-a82bd355e478>\u001b[0m in \u001b[0;36m<module>\u001b[1;34m\u001b[0m\n\u001b[0;32m      1\u001b[0m \u001b[0mX\u001b[0m \u001b[1;33m=\u001b[0m \u001b[0mnp\u001b[0m\u001b[1;33m.\u001b[0m\u001b[0marray\u001b[0m\u001b[1;33m(\u001b[0m\u001b[0mdata\u001b[0m\u001b[1;33m)\u001b[0m\u001b[1;33m\u001b[0m\u001b[1;33m\u001b[0m\u001b[0m\n\u001b[1;32m----> 2\u001b[1;33m \u001b[0mX\u001b[0m\u001b[1;33m[\u001b[0m\u001b[1;33m:\u001b[0m\u001b[1;33m,\u001b[0m\u001b[1;36m2\u001b[0m\u001b[1;33m]\u001b[0m\u001b[1;33m/\u001b[0m\u001b[1;33m(\u001b[0m\u001b[1;33m(\u001b[0m\u001b[0mX\u001b[0m\u001b[1;33m[\u001b[0m\u001b[1;33m:\u001b[0m\u001b[1;36m0\u001b[0m\u001b[1;33m]\u001b[0m\u001b[1;33m+\u001b[0m\u001b[0mX\u001b[0m\u001b[1;33m[\u001b[0m\u001b[1;33m:\u001b[0m\u001b[1;36m1\u001b[0m\u001b[1;33m]\u001b[0m\u001b[1;33m)\u001b[0m\u001b[1;33m/\u001b[0m\u001b[1;36m2\u001b[0m\u001b[1;33m)\u001b[0m\u001b[1;33m\u001b[0m\u001b[1;33m\u001b[0m\u001b[0m\n\u001b[0m",
      "\u001b[1;31mValueError\u001b[0m: operands could not be broadcast together with shapes (53940,) (0,3) "
     ]
    }
   ],
   "source": [
    "X = np.array(data)\n"
   ]
  },
  {
   "cell_type": "code",
   "execution_count": 202,
   "id": "judicial-foster",
   "metadata": {},
   "outputs": [],
   "source": [
    "data = np.array(diamonds.copy()[['x','y','z']])\n",
    "def func(X): \n",
    "    return X[:,2]/((X[:,0]+X[:,1])/2) * 100\n",
    "\n",
    "transformer = FunctionTransformer(func)\n",
    "out = transformer.fit_transform(data)"
   ]
  },
  {
   "cell_type": "code",
   "execution_count": 207,
   "id": "39ed5e9d",
   "metadata": {},
   "outputs": [
    {
     "data": {
      "text/plain": [
       "array([0.61286255, 0.59767141, 0.56896552, ..., 0.62786596, 0.60961695,\n",
       "       0.62222222])"
      ]
     },
     "execution_count": 207,
     "metadata": {},
     "output_type": "execute_result"
    }
   ],
   "source": [
    "transformed = TransformDiamonds(diamonds).transform_to_depth_pct(diamonds)\n",
    "transformed"
   ]
  },
  {
   "cell_type": "code",
   "execution_count": 206,
   "id": "exempt-jurisdiction",
   "metadata": {},
   "outputs": [
    {
     "data": {
      "text/plain": [
       "False"
      ]
     },
     "execution_count": 206,
     "metadata": {},
     "output_type": "execute_result"
    }
   ],
   "source": [
    "np.isclose(transformed[0], 61.286, atol=0.0001)"
   ]
  },
  {
   "cell_type": "code",
   "execution_count": 29,
   "id": "stuck-association",
   "metadata": {
    "deletable": false,
    "editable": false
   },
   "outputs": [
    {
     "data": {
      "text/html": [
       "<p><strong><pre style='display: inline;'>q6c</pre></strong> passed!</p>"
      ],
      "text/plain": [
       "q6c results: All test cases passed!"
      ]
     },
     "execution_count": 29,
     "metadata": {},
     "output_type": "execute_result"
    }
   ],
   "source": [
    "grader.check(\"q6c\")"
   ]
  },
  {
   "cell_type": "code",
   "execution_count": null,
   "id": "narrow-hayes",
   "metadata": {},
   "outputs": [],
   "source": []
  },
  {
   "cell_type": "markdown",
   "id": "voluntary-thunder",
   "metadata": {
    "deletable": false,
    "editable": false
   },
   "source": [
    "---\n",
    "\n",
    "To double-check your work, the cell below will rerun all of the autograder tests."
   ]
  },
  {
   "cell_type": "code",
   "execution_count": 209,
   "id": "excess-darkness",
   "metadata": {
    "deletable": false,
    "editable": false
   },
   "outputs": [
    {
     "data": {
      "text/plain": [
       "q1 results: All test cases passed!\n",
       "\n",
       "q2 results: All test cases passed!\n",
       "\n",
       "q3 results: All test cases passed!\n",
       "\n",
       "q4 results: All test cases passed!\n",
       "\n",
       "q5 results: All test cases passed!\n",
       "\n",
       "q6a results: All test cases passed!\n",
       "\n",
       "q6b results: All test cases passed!\n",
       "\n",
       "q6c results: All test cases passed!"
      ]
     },
     "execution_count": 209,
     "metadata": {},
     "output_type": "execute_result"
    }
   ],
   "source": [
    "grader.check_all()"
   ]
  },
  {
   "cell_type": "code",
   "execution_count": null,
   "id": "da9763d5",
   "metadata": {},
   "outputs": [],
   "source": []
  }
 ],
 "metadata": {
  "kernelspec": {
   "display_name": "Python 3",
   "language": "python",
   "name": "python3"
  },
  "language_info": {
   "codemirror_mode": {
    "name": "ipython",
    "version": 3
   },
   "file_extension": ".py",
   "mimetype": "text/x-python",
   "name": "python",
   "nbconvert_exporter": "python",
   "pygments_lexer": "ipython3",
   "version": "3.8.8"
  },
  "otter": {
   "tests": {
    "q1": {
     "name": "q1",
     "points": null,
     "suites": [
      {
       "cases": [
        {
         "code": ">>> import doctest\n>>> doctest.run_docstring_examples(best_transformation, {'best_transformation': best_transformation})\n",
         "hidden": false,
         "locked": false
        }
       ],
       "scored": true,
       "setup": "",
       "teardown": "",
       "type": "doctest"
      }
     ]
    },
    "q2": {
     "name": "q2",
     "points": null,
     "suites": [
      {
       "cases": [
        {
         "code": ">>> import doctest\n>>> doctest.run_docstring_examples(create_ordinal, {'create_ordinal': create_ordinal, 'sns': sns, 'np': np})\n",
         "hidden": false,
         "locked": false
        }
       ],
       "scored": true,
       "setup": "",
       "teardown": "",
       "type": "doctest"
      }
     ]
    },
    "q3": {
     "name": "q3",
     "points": null,
     "suites": [
      {
       "cases": [
        {
         "code": ">>> import doctest\n>>> doctest.run_docstring_examples(create_one_hot, {'create_one_hot': create_one_hot, 'sns': sns})\n>>> doctest.run_docstring_examples(create_proportions, {'create_proportions': create_proportions, 'sns': sns})\n",
         "hidden": false,
         "locked": false,
         "points": 3
        }
       ],
       "scored": true,
       "setup": "",
       "teardown": "",
       "type": "doctest"
      }
     ]
    },
    "q4": {
     "name": "q4",
     "points": null,
     "suites": [
      {
       "cases": [
        {
         "code": ">>> import doctest\n>>> doctest.run_docstring_examples(create_quadratics, {'create_quadratics': create_quadratics, 'sns': sns})\n",
         "hidden": false,
         "locked": false
        }
       ],
       "scored": true,
       "setup": "",
       "teardown": "",
       "type": "doctest"
      }
     ]
    },
    "q5": {
     "name": "q5",
     "points": null,
     "suites": [
      {
       "cases": [
        {
         "code": ">>> import doctest\n>>> doctest.run_docstring_examples(comparing_performance, {'comparing_performance': comparing_performance})\n",
         "hidden": false,
         "locked": false
        }
       ],
       "scored": true,
       "setup": "",
       "teardown": "",
       "type": "doctest"
      }
     ]
    },
    "q6a": {
     "name": "q6a",
     "points": null,
     "suites": [
      {
       "cases": [
        {
         "code": ">>> import warnings\n>>> warnings.filterwarnings('ignore')\n>>> import doctest\n>>> doctest.run_docstring_examples(TransformDiamonds.transformCarat, {'TransformDiamonds.transformCarat': TransformDiamonds.transformCarat,'sns': sns, 'TransformDiamonds': TransformDiamonds, 'np': np})\n",
         "hidden": false,
         "locked": false
        }
       ],
       "scored": true,
       "setup": "",
       "teardown": "",
       "type": "doctest"
      }
     ]
    },
    "q6b": {
     "name": "q6b",
     "points": null,
     "suites": [
      {
       "cases": [
        {
         "code": ">>> import doctest\n>>> doctest.run_docstring_examples(TransformDiamonds.transform_to_quantile, {'TransformDiamonds.transform_to_quantile': TransformDiamonds.transform_to_quantile,'sns': sns, 'TransformDiamonds': TransformDiamonds, 'np': np})\n",
         "hidden": false,
         "locked": false
        }
       ],
       "scored": true,
       "setup": "",
       "teardown": "",
       "type": "doctest"
      }
     ]
    },
    "q6c": {
     "name": "q6c",
     "points": null,
     "suites": [
      {
       "cases": [
        {
         "code": ">>> import doctest\n>>> import warnings\n>>> warnings.filterwarnings('ignore')\n>>> doctest.run_docstring_examples(TransformDiamonds.transform_to_depth_pct, {'TransformDiamonds.transform_to_depth_pct': TransformDiamonds.transform_to_depth_pct,'sns': sns, 'TransformDiamonds': TransformDiamonds, 'np': np})\n",
         "hidden": false,
         "locked": false
        }
       ],
       "scored": true,
       "setup": "",
       "teardown": "",
       "type": "doctest"
      }
     ]
    }
   }
  },
  "toc": {
   "base_numbering": 1,
   "nav_menu": {},
   "number_sections": true,
   "sideBar": true,
   "skip_h1_title": false,
   "title_cell": "Table of Contents",
   "title_sidebar": "Contents",
   "toc_cell": false,
   "toc_position": {},
   "toc_section_display": true,
   "toc_window_display": false
  },
  "varInspector": {
   "cols": {
    "lenName": 16,
    "lenType": 16,
    "lenVar": 40
   },
   "kernels_config": {
    "python": {
     "delete_cmd_postfix": "",
     "delete_cmd_prefix": "del ",
     "library": "var_list.py",
     "varRefreshCmd": "print(var_dic_list())"
    },
    "r": {
     "delete_cmd_postfix": ") ",
     "delete_cmd_prefix": "rm(",
     "library": "var_list.r",
     "varRefreshCmd": "cat(var_dic_list()) "
    }
   },
   "types_to_exclude": [
    "module",
    "function",
    "builtin_function_or_method",
    "instance",
    "_Feature"
   ],
   "window_display": false
  }
 },
 "nbformat": 4,
 "nbformat_minor": 5
}
