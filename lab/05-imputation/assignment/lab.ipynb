{
 "cells": [
  {
   "cell_type": "code",
   "execution_count": 1,
   "id": "urban-communist",
   "metadata": {
    "deletable": false,
    "editable": false
   },
   "outputs": [],
   "source": [
    "# Initialize Otter\n",
    "import otter\n",
    "grader = otter.Notebook(\"lab.ipynb\")"
   ]
  },
  {
   "cell_type": "markdown",
   "id": "tropical-handle",
   "metadata": {},
   "source": [
    "# DSC 80: Lab 05\n",
    "\n",
    "### Due Date: Monday November 1st, 11:59 PM"
   ]
  },
  {
   "cell_type": "markdown",
   "id": "straight-night",
   "metadata": {},
   "source": [
    "## Instructions\n",
    "Much like in DSC 10, this Jupyter Notebook contains the statements of the problems and provides code and markdown cells to display your answers to the problems. Unlike DSC 10, the notebook is *only* for displaying a readable version of your final answers. The coding work will be developed in an accompanying `lab*.py` file, that will be imported into the current notebook.\n",
    "\n",
    "Labs and programming assignments will be graded in (at most) two ways:\n",
    "1. The functions and classes in the accompanying python file will be tested (a la DSC 20),\n",
    "2. The notebook will be graded (for graphs and free response questions).\n",
    "\n",
    "**Do not change the function names in the `*.py` file**\n",
    "- The functions in the `*.py` file are how your assignment is graded, and they are graded by their name. The dictionary at the end of the file (`GRADED FUNCTIONS`) contains the \"grading list\". The final function in the file allows your doctests to check that all the necessary functions exist.\n",
    "- If you changed something you weren't supposed to, just use git to revert!\n",
    "\n",
    "**Tips for working in the Notebook**:\n",
    "- The notebooks serve to present you the questions and give you a place to present your results for later review.\n",
    "- The notebook on *lab assignments* are not graded (only the `.py` file).\n",
    "- Notebooks for PAs will serve as a final report for the assignment, and contain conclusions and answers to open ended questions that are graded.\n",
    "- The notebook serves as a nice environment for 'pre-development' and experimentation before designing your function in your `.py` file.\n",
    "\n",
    "**Tips for developing in the .py file**:\n",
    "- Do not change the function names in the starter code; grading is done using these function names.\n",
    "- Do not change the docstrings in the functions. These are there to tell you if your work is on the right track!\n",
    "- You are encouraged to write your own additional functions to solve the lab! \n",
    "    - Developing in python usually consists of larger files, with many short functions.\n",
    "    - You may write your other functions in an additional `.py` file that you import in `lab.py` (much like we do in the notebook).\n",
    "- Always document your code!"
   ]
  },
  {
   "cell_type": "markdown",
   "id": "surface-reasoning",
   "metadata": {},
   "source": [
    "### Importing code from `lab.py`\n",
    "\n",
    "* We import our `.py` file that's contained in the same directory as this notebook.\n",
    "* We use the `autoreload` notebook extension to make changes to our `lab.py` file immediately available in our notebook. Without this extension, we would need to restart the notebook kernel to see any changes to `lab.py` in the notebook.\n",
    "    - `autoreload` is necessary because, upon import, `lab.py` is compiled to bytecode (in the directory `__pycache__`). Subsequent imports of `lab` merely import the existing compiled python."
   ]
  },
  {
   "cell_type": "code",
   "execution_count": 2,
   "id": "recognized-maple",
   "metadata": {},
   "outputs": [],
   "source": [
    "%load_ext autoreload\n",
    "%autoreload 2"
   ]
  },
  {
   "cell_type": "code",
   "execution_count": 3,
   "id": "small-voltage",
   "metadata": {},
   "outputs": [],
   "source": [
    "from lab import *"
   ]
  },
  {
   "cell_type": "code",
   "execution_count": 73,
   "id": "conscious-synthesis",
   "metadata": {},
   "outputs": [],
   "source": [
    "import os\n",
    "import pandas as pd\n",
    "import numpy as np\n",
    "import matplotlib.pyplot as plt\n",
    "\n",
    "import requests\n",
    "import bs4\n",
    "import util"
   ]
  },
  {
   "cell_type": "markdown",
   "id": "owned-native",
   "metadata": {},
   "source": [
    "## Payment data"
   ]
  },
  {
   "cell_type": "markdown",
   "id": "invisible-annotation",
   "metadata": {},
   "source": [
    "**Question 1**\n",
    "\n",
    "You are given a dataset that describes payment information for purchases made on 01-Jan-2019 contianing the columns: `Id`, `credit_card_type`, `credit_card_number`, and the purchaser's `date_of_birth`.\n",
    "\n",
    "You need to assess the  missingness in payments data. In particular, **Is the credit card number missing at random dependent on the age of shopper?** Look at distribution of ages by missingness of `credit_card_number` and determine if the missingness is dependent on age or not.\n",
    "\n",
    "`Hint`: use the following steps to approach this problem:\n",
    "\n",
    "* Obtain the ages of the purchasers\n",
    "* Plot the distribution of ages by missingness (density curves).\n",
    "    \n",
    "* Do you think the missingness of credit card number is dependent on age or not?\n",
    "\n",
    "Perform a permutation test for the empirical distribution of age conditional on `credit_card_number` with a 5% significance level. Use difference of means as your statistic.\n",
    "\n",
    "Write a function `first_round` with no arguments that returns a __list__ with two values:\n",
    "* the first value is the p-value from your permutation test and \n",
    "* the second value is either \"R\" if you reject the null hypothesis, or \"NR\" if you do not.\n",
    "\n",
    "**Does the result match your guess? If no, what might be a problem?**\n",
    "\n",
    "Perform another permutation test for the empirical distribution of age conditional on `credit_card_number` with a 5% significance level. Use KS-Statistic as your statistic.\n",
    "\n",
    "Write a function `second_round` with no arguments that returns a __list__ with three values: \n",
    "* the first value is the p-value from your new permutation test \n",
    "* the second value is either \"R\" if you reject the null hypothesis or \"NR\" if you do not, and \n",
    "* the third value is your final conclusion: \"D\" (dependent on age) or \"ND\" (not dependent on age).\n",
    "\n"
   ]
  },
  {
   "cell_type": "code",
   "execution_count": 58,
   "id": "wrong-queue",
   "metadata": {},
   "outputs": [
    {
     "data": {
      "text/html": [
       "<div>\n",
       "<style scoped>\n",
       "    .dataframe tbody tr th:only-of-type {\n",
       "        vertical-align: middle;\n",
       "    }\n",
       "\n",
       "    .dataframe tbody tr th {\n",
       "        vertical-align: top;\n",
       "    }\n",
       "\n",
       "    .dataframe thead th {\n",
       "        text-align: right;\n",
       "    }\n",
       "</style>\n",
       "<table border=\"1\" class=\"dataframe\">\n",
       "  <thead>\n",
       "    <tr style=\"text-align: right;\">\n",
       "      <th></th>\n",
       "      <th>id</th>\n",
       "      <th>credit_card_type</th>\n",
       "      <th>credit_card_number</th>\n",
       "      <th>date_of_birth</th>\n",
       "    </tr>\n",
       "  </thead>\n",
       "  <tbody>\n",
       "    <tr>\n",
       "      <th>0</th>\n",
       "      <td>1</td>\n",
       "      <td>diners-club-enroute</td>\n",
       "      <td>2.018706e+14</td>\n",
       "      <td>25-Sep-1982</td>\n",
       "    </tr>\n",
       "    <tr>\n",
       "      <th>1</th>\n",
       "      <td>2</td>\n",
       "      <td>americanexpress</td>\n",
       "      <td>3.737511e+14</td>\n",
       "      <td>08-Jan-1946</td>\n",
       "    </tr>\n",
       "    <tr>\n",
       "      <th>2</th>\n",
       "      <td>3</td>\n",
       "      <td>jcb</td>\n",
       "      <td>3.570296e+15</td>\n",
       "      <td>NaN</td>\n",
       "    </tr>\n",
       "    <tr>\n",
       "      <th>3</th>\n",
       "      <td>4</td>\n",
       "      <td>mastercard</td>\n",
       "      <td>5.318327e+15</td>\n",
       "      <td>NaN</td>\n",
       "    </tr>\n",
       "    <tr>\n",
       "      <th>4</th>\n",
       "      <td>5</td>\n",
       "      <td>maestro</td>\n",
       "      <td>6.759827e+17</td>\n",
       "      <td>20-Apr-1975</td>\n",
       "    </tr>\n",
       "    <tr>\n",
       "      <th>...</th>\n",
       "      <td>...</td>\n",
       "      <td>...</td>\n",
       "      <td>...</td>\n",
       "      <td>...</td>\n",
       "    </tr>\n",
       "    <tr>\n",
       "      <th>995</th>\n",
       "      <td>996</td>\n",
       "      <td>visa-electron</td>\n",
       "      <td>NaN</td>\n",
       "      <td>16-Feb-1987</td>\n",
       "    </tr>\n",
       "    <tr>\n",
       "      <th>996</th>\n",
       "      <td>997</td>\n",
       "      <td>jcb</td>\n",
       "      <td>3.570380e+15</td>\n",
       "      <td>12-Jan-1994</td>\n",
       "    </tr>\n",
       "    <tr>\n",
       "      <th>997</th>\n",
       "      <td>998</td>\n",
       "      <td>mastercard</td>\n",
       "      <td>5.010121e+15</td>\n",
       "      <td>22-Jan-1961</td>\n",
       "    </tr>\n",
       "    <tr>\n",
       "      <th>998</th>\n",
       "      <td>999</td>\n",
       "      <td>visa-electron</td>\n",
       "      <td>NaN</td>\n",
       "      <td>NaN</td>\n",
       "    </tr>\n",
       "    <tr>\n",
       "      <th>999</th>\n",
       "      <td>1000</td>\n",
       "      <td>jcb</td>\n",
       "      <td>3.549735e+15</td>\n",
       "      <td>20-Sep-2000</td>\n",
       "    </tr>\n",
       "  </tbody>\n",
       "</table>\n",
       "<p>1000 rows × 4 columns</p>\n",
       "</div>"
      ],
      "text/plain": [
       "       id     credit_card_type  credit_card_number date_of_birth\n",
       "0       1  diners-club-enroute        2.018706e+14   25-Sep-1982\n",
       "1       2      americanexpress        3.737511e+14   08-Jan-1946\n",
       "2       3                  jcb        3.570296e+15           NaN\n",
       "3       4           mastercard        5.318327e+15           NaN\n",
       "4       5              maestro        6.759827e+17   20-Apr-1975\n",
       "..    ...                  ...                 ...           ...\n",
       "995   996        visa-electron                 NaN   16-Feb-1987\n",
       "996   997                  jcb        3.570380e+15   12-Jan-1994\n",
       "997   998           mastercard        5.010121e+15   22-Jan-1961\n",
       "998   999        visa-electron                 NaN           NaN\n",
       "999  1000                  jcb        3.549735e+15   20-Sep-2000\n",
       "\n",
       "[1000 rows x 4 columns]"
      ]
     },
     "execution_count": 58,
     "metadata": {},
     "output_type": "execute_result"
    }
   ],
   "source": [
    "df = pd.read_csv('data/payment.csv')\n",
    "df"
   ]
  },
  {
   "cell_type": "code",
   "execution_count": 69,
   "id": "hollywood-counter",
   "metadata": {},
   "outputs": [],
   "source": [
    "df['missing_cn'] = df['credit_card_number'].isna()\n",
    "df['date_of_birth'] = pd.to_datetime(df['date_of_birth'])\n",
    "df['age'] = pd.to_datetime('01-Jan-2019') - df['date_of_birth']\n",
    "df['age_int'] = pd.to_numeric(df['age'].dt.days, downcast='integer')\n",
    "df_c = df.dropna(subset = ['date_of_birth'])"
   ]
  },
  {
   "cell_type": "code",
   "execution_count": 78,
   "id": "8dfac04b",
   "metadata": {},
   "outputs": [
    {
     "data": {
      "text/html": [
       "<div>\n",
       "<style scoped>\n",
       "    .dataframe tbody tr th:only-of-type {\n",
       "        vertical-align: middle;\n",
       "    }\n",
       "\n",
       "    .dataframe tbody tr th {\n",
       "        vertical-align: top;\n",
       "    }\n",
       "\n",
       "    .dataframe thead th {\n",
       "        text-align: right;\n",
       "    }\n",
       "</style>\n",
       "<table border=\"1\" class=\"dataframe\">\n",
       "  <thead>\n",
       "    <tr style=\"text-align: right;\">\n",
       "      <th></th>\n",
       "      <th>id</th>\n",
       "      <th>credit_card_type</th>\n",
       "      <th>credit_card_number</th>\n",
       "      <th>date_of_birth</th>\n",
       "      <th>missing_cn</th>\n",
       "      <th>age</th>\n",
       "      <th>age_int</th>\n",
       "    </tr>\n",
       "  </thead>\n",
       "  <tbody>\n",
       "    <tr>\n",
       "      <th>0</th>\n",
       "      <td>1</td>\n",
       "      <td>diners-club-enroute</td>\n",
       "      <td>2.018706e+14</td>\n",
       "      <td>1982-09-25</td>\n",
       "      <td>False</td>\n",
       "      <td>13247 days</td>\n",
       "      <td>13247.0</td>\n",
       "    </tr>\n",
       "    <tr>\n",
       "      <th>1</th>\n",
       "      <td>2</td>\n",
       "      <td>americanexpress</td>\n",
       "      <td>3.737511e+14</td>\n",
       "      <td>1946-01-08</td>\n",
       "      <td>False</td>\n",
       "      <td>26656 days</td>\n",
       "      <td>26656.0</td>\n",
       "    </tr>\n",
       "    <tr>\n",
       "      <th>4</th>\n",
       "      <td>5</td>\n",
       "      <td>maestro</td>\n",
       "      <td>6.759827e+17</td>\n",
       "      <td>1975-04-20</td>\n",
       "      <td>False</td>\n",
       "      <td>15962 days</td>\n",
       "      <td>15962.0</td>\n",
       "    </tr>\n",
       "    <tr>\n",
       "      <th>5</th>\n",
       "      <td>6</td>\n",
       "      <td>NaN</td>\n",
       "      <td>2.014564e+14</td>\n",
       "      <td>1986-09-24</td>\n",
       "      <td>False</td>\n",
       "      <td>11787 days</td>\n",
       "      <td>11787.0</td>\n",
       "    </tr>\n",
       "    <tr>\n",
       "      <th>7</th>\n",
       "      <td>8</td>\n",
       "      <td>jcb</td>\n",
       "      <td>3.584520e+15</td>\n",
       "      <td>1954-12-01</td>\n",
       "      <td>False</td>\n",
       "      <td>23407 days</td>\n",
       "      <td>23407.0</td>\n",
       "    </tr>\n",
       "    <tr>\n",
       "      <th>...</th>\n",
       "      <td>...</td>\n",
       "      <td>...</td>\n",
       "      <td>...</td>\n",
       "      <td>...</td>\n",
       "      <td>...</td>\n",
       "      <td>...</td>\n",
       "      <td>...</td>\n",
       "    </tr>\n",
       "    <tr>\n",
       "      <th>994</th>\n",
       "      <td>995</td>\n",
       "      <td>maestro</td>\n",
       "      <td>5.893802e+16</td>\n",
       "      <td>1942-01-12</td>\n",
       "      <td>False</td>\n",
       "      <td>28113 days</td>\n",
       "      <td>28113.0</td>\n",
       "    </tr>\n",
       "    <tr>\n",
       "      <th>995</th>\n",
       "      <td>996</td>\n",
       "      <td>visa-electron</td>\n",
       "      <td>NaN</td>\n",
       "      <td>1987-02-16</td>\n",
       "      <td>True</td>\n",
       "      <td>11642 days</td>\n",
       "      <td>11642.0</td>\n",
       "    </tr>\n",
       "    <tr>\n",
       "      <th>996</th>\n",
       "      <td>997</td>\n",
       "      <td>jcb</td>\n",
       "      <td>3.570380e+15</td>\n",
       "      <td>1994-01-12</td>\n",
       "      <td>False</td>\n",
       "      <td>9120 days</td>\n",
       "      <td>9120.0</td>\n",
       "    </tr>\n",
       "    <tr>\n",
       "      <th>997</th>\n",
       "      <td>998</td>\n",
       "      <td>mastercard</td>\n",
       "      <td>5.010121e+15</td>\n",
       "      <td>1961-01-22</td>\n",
       "      <td>False</td>\n",
       "      <td>21163 days</td>\n",
       "      <td>21163.0</td>\n",
       "    </tr>\n",
       "    <tr>\n",
       "      <th>999</th>\n",
       "      <td>1000</td>\n",
       "      <td>jcb</td>\n",
       "      <td>3.549735e+15</td>\n",
       "      <td>2000-09-20</td>\n",
       "      <td>False</td>\n",
       "      <td>6677 days</td>\n",
       "      <td>6677.0</td>\n",
       "    </tr>\n",
       "  </tbody>\n",
       "</table>\n",
       "<p>795 rows × 7 columns</p>\n",
       "</div>"
      ],
      "text/plain": [
       "       id     credit_card_type  credit_card_number date_of_birth  missing_cn  \\\n",
       "0       1  diners-club-enroute        2.018706e+14    1982-09-25       False   \n",
       "1       2      americanexpress        3.737511e+14    1946-01-08       False   \n",
       "4       5              maestro        6.759827e+17    1975-04-20       False   \n",
       "5       6                  NaN        2.014564e+14    1986-09-24       False   \n",
       "7       8                  jcb        3.584520e+15    1954-12-01       False   \n",
       "..    ...                  ...                 ...           ...         ...   \n",
       "994   995              maestro        5.893802e+16    1942-01-12       False   \n",
       "995   996        visa-electron                 NaN    1987-02-16        True   \n",
       "996   997                  jcb        3.570380e+15    1994-01-12       False   \n",
       "997   998           mastercard        5.010121e+15    1961-01-22       False   \n",
       "999  1000                  jcb        3.549735e+15    2000-09-20       False   \n",
       "\n",
       "           age  age_int  \n",
       "0   13247 days  13247.0  \n",
       "1   26656 days  26656.0  \n",
       "4   15962 days  15962.0  \n",
       "5   11787 days  11787.0  \n",
       "7   23407 days  23407.0  \n",
       "..         ...      ...  \n",
       "994 28113 days  28113.0  \n",
       "995 11642 days  11642.0  \n",
       "996  9120 days   9120.0  \n",
       "997 21163 days  21163.0  \n",
       "999  6677 days   6677.0  \n",
       "\n",
       "[795 rows x 7 columns]"
      ]
     },
     "execution_count": 78,
     "metadata": {},
     "output_type": "execute_result"
    }
   ],
   "source": [
    "df_c"
   ]
  },
  {
   "cell_type": "code",
   "execution_count": 70,
   "id": "39626496",
   "metadata": {},
   "outputs": [
    {
     "data": {
      "image/png": "[encoded data removed]",
      "text/plain": [
       "<Figure size 432x288 with 1 Axes>"
      ]
     },
     "metadata": {
      "needs_background": "light"
     },
     "output_type": "display_data"
    }
   ],
   "source": [
    "df_c.groupby('missing_cn').age_int.plot(kind='kde', legend=True, title='distribution of age by missingness');"
   ]
  },
  {
   "cell_type": "code",
   "execution_count": 91,
   "id": "7a7b9ad0",
   "metadata": {},
   "outputs": [
    {
     "data": {
      "image/png": "[encoded data removed]",
      "text/plain": [
       "<Figure size 432x288 with 1 Axes>"
      ]
     },
     "metadata": {
      "needs_background": "light"
     },
     "output_type": "display_data"
    }
   ],
   "source": [
    "distr, obs = util.permutation_test(df_c, 'age_int',  'missing_cn', util.diff_in_means)\n",
    "\n",
    "pd.Series(distr).plot(kind='hist', title='permutation test: missingness by missing_cn')\n",
    "plt.line(obs, 200, color='r', s=10);"
   ]
  },
  {
   "cell_type": "code",
   "execution_count": 92,
   "id": "d99b923f",
   "metadata": {},
   "outputs": [
    {
     "data": {
      "text/plain": [
       "0.897"
      ]
     },
     "execution_count": 92,
     "metadata": {},
     "output_type": "execute_result"
    }
   ],
   "source": [
    "(distr >= obs).mean()"
   ]
  },
  {
   "cell_type": "code",
   "execution_count": null,
   "id": "c06b3db8",
   "metadata": {},
   "outputs": [],
   "source": [
    "age_mcar = util.make_mcar(df_c, 'age', pct=0.5)\n",
    "age_mcar.isnull().mean()\n",
    "\n",
    "\n",
    "(\n",
    "    heights_mcar\n",
    "    .assign(is_null=heights_mcar.child.isnull())\n",
    "    .groupby('is_null')\n",
    "    .father\n",
    "    .plot(kind='kde', legend=True, title='father heights by child=NULL vs child=NOT NULL')\n",
    ");\n",
    "\n",
    "distr, obs = util.permutation_test(\n",
    "    heights_mcar.assign(is_null=heights_mcar.child.isnull()), \n",
    "    'father',  'is_null', util.ks)\n",
    "\n",
    "pval = (distr >= obs).mean()\n",
    "print('p-value: %f' % pval)\n",
    "pd.Series(distr).plot(kind='hist', title='permutation test for father heights by child=NULL vs child=NOT NULL')\n",
    "plt.scatter(obs, 5, color='r', s=20, zorder=10);"
   ]
  },
  {
   "cell_type": "code",
   "execution_count": null,
   "id": "affecting-performer",
   "metadata": {
    "deletable": false,
    "editable": false
   },
   "outputs": [],
   "source": [
    "grader.check(\"q1\")"
   ]
  },
  {
   "cell_type": "markdown",
   "id": "vanilla-myrtle",
   "metadata": {},
   "source": [
    "## Missingness and the proportion of null values"
   ]
  },
  {
   "cell_type": "markdown",
   "id": "pointed-korean",
   "metadata": {},
   "source": [
    "**Question 2**\n",
    "\n",
    "In the file `data/missing_heights.csv` are the heights of children and their fathers (`child` and `father`). The `child_X` columns are missing values in varying proportions. The missingness of these `child_X` columns were created as MAR dependent on father height. The missingness of these `child_X` columns are all equally dependent on father height and each column `child_X` is `X%` non-null (verify this yourself!).\n",
    "\n",
    "* You will attempt to *verify* the missingness of `child_X` on the `father` height column using permutation test. Your permutation tests should use `N=100` simulations and use the `KS` test statistic. Write a function `verify_child` that takes in the `heights` data and returns a __series__ of p-values (from your permutation tests), indexed by the columns `child_X`. \n",
    "\n",
    "* Now interpret your results. In the function `missing_data_amounts`, return a __list__ of correct statements from the options below:\n",
    "    1. The p-value for `child_50` is small because the *sampling distribution* of test-statistics has low variance.\n",
    "    1. MAR is hardest to determine when there are very different proportions of null and non-null values.\n",
    "    1. The difference between p-value for `child_5` and `child_95` is due to randomness.\n",
    "    1. You would always expect the p-value of `child_X` and `child_(100-X)` to be similar.\n",
    "    1. You would only expect the p-value of `child_X` and `child_(100-X)` to be similar if the columns are MCAR.\n"
   ]
  },
  {
   "cell_type": "code",
   "execution_count": 168,
   "id": "loving-strengthening",
   "metadata": {},
   "outputs": [
    {
     "data": {
      "text/html": [
       "<div>\n",
       "<style scoped>\n",
       "    .dataframe tbody tr th:only-of-type {\n",
       "        vertical-align: middle;\n",
       "    }\n",
       "\n",
       "    .dataframe tbody tr th {\n",
       "        vertical-align: top;\n",
       "    }\n",
       "\n",
       "    .dataframe thead th {\n",
       "        text-align: right;\n",
       "    }\n",
       "</style>\n",
       "<table border=\"1\" class=\"dataframe\">\n",
       "  <thead>\n",
       "    <tr style=\"text-align: right;\">\n",
       "      <th></th>\n",
       "      <th>child</th>\n",
       "      <th>father</th>\n",
       "      <th>child_95</th>\n",
       "      <th>child_90</th>\n",
       "      <th>child_75</th>\n",
       "      <th>child_50</th>\n",
       "      <th>child_25</th>\n",
       "      <th>child_10</th>\n",
       "      <th>child_5</th>\n",
       "    </tr>\n",
       "  </thead>\n",
       "  <tbody>\n",
       "    <tr>\n",
       "      <th>0</th>\n",
       "      <td>73.2</td>\n",
       "      <td>78.5</td>\n",
       "      <td>73.2</td>\n",
       "      <td>73.2</td>\n",
       "      <td>73.2</td>\n",
       "      <td>NaN</td>\n",
       "      <td>NaN</td>\n",
       "      <td>NaN</td>\n",
       "      <td>NaN</td>\n",
       "    </tr>\n",
       "    <tr>\n",
       "      <th>1</th>\n",
       "      <td>69.2</td>\n",
       "      <td>78.5</td>\n",
       "      <td>69.2</td>\n",
       "      <td>69.2</td>\n",
       "      <td>69.2</td>\n",
       "      <td>NaN</td>\n",
       "      <td>NaN</td>\n",
       "      <td>NaN</td>\n",
       "      <td>69.2</td>\n",
       "    </tr>\n",
       "    <tr>\n",
       "      <th>2</th>\n",
       "      <td>69.0</td>\n",
       "      <td>78.5</td>\n",
       "      <td>69.0</td>\n",
       "      <td>69.0</td>\n",
       "      <td>69.0</td>\n",
       "      <td>69.0</td>\n",
       "      <td>NaN</td>\n",
       "      <td>NaN</td>\n",
       "      <td>NaN</td>\n",
       "    </tr>\n",
       "    <tr>\n",
       "      <th>3</th>\n",
       "      <td>69.0</td>\n",
       "      <td>78.5</td>\n",
       "      <td>69.0</td>\n",
       "      <td>69.0</td>\n",
       "      <td>NaN</td>\n",
       "      <td>69.0</td>\n",
       "      <td>NaN</td>\n",
       "      <td>NaN</td>\n",
       "      <td>NaN</td>\n",
       "    </tr>\n",
       "    <tr>\n",
       "      <th>4</th>\n",
       "      <td>73.5</td>\n",
       "      <td>75.5</td>\n",
       "      <td>73.5</td>\n",
       "      <td>73.5</td>\n",
       "      <td>NaN</td>\n",
       "      <td>73.5</td>\n",
       "      <td>73.5</td>\n",
       "      <td>NaN</td>\n",
       "      <td>NaN</td>\n",
       "    </tr>\n",
       "    <tr>\n",
       "      <th>...</th>\n",
       "      <td>...</td>\n",
       "      <td>...</td>\n",
       "      <td>...</td>\n",
       "      <td>...</td>\n",
       "      <td>...</td>\n",
       "      <td>...</td>\n",
       "      <td>...</td>\n",
       "      <td>...</td>\n",
       "      <td>...</td>\n",
       "    </tr>\n",
       "    <tr>\n",
       "      <th>929</th>\n",
       "      <td>64.0</td>\n",
       "      <td>62.0</td>\n",
       "      <td>64.0</td>\n",
       "      <td>64.0</td>\n",
       "      <td>64.0</td>\n",
       "      <td>64.0</td>\n",
       "      <td>NaN</td>\n",
       "      <td>NaN</td>\n",
       "      <td>NaN</td>\n",
       "    </tr>\n",
       "    <tr>\n",
       "      <th>930</th>\n",
       "      <td>62.0</td>\n",
       "      <td>62.0</td>\n",
       "      <td>62.0</td>\n",
       "      <td>62.0</td>\n",
       "      <td>62.0</td>\n",
       "      <td>62.0</td>\n",
       "      <td>62.0</td>\n",
       "      <td>NaN</td>\n",
       "      <td>NaN</td>\n",
       "    </tr>\n",
       "    <tr>\n",
       "      <th>931</th>\n",
       "      <td>61.0</td>\n",
       "      <td>62.0</td>\n",
       "      <td>61.0</td>\n",
       "      <td>61.0</td>\n",
       "      <td>61.0</td>\n",
       "      <td>NaN</td>\n",
       "      <td>NaN</td>\n",
       "      <td>NaN</td>\n",
       "      <td>NaN</td>\n",
       "    </tr>\n",
       "    <tr>\n",
       "      <th>932</th>\n",
       "      <td>66.5</td>\n",
       "      <td>62.5</td>\n",
       "      <td>66.5</td>\n",
       "      <td>66.5</td>\n",
       "      <td>66.5</td>\n",
       "      <td>66.5</td>\n",
       "      <td>66.5</td>\n",
       "      <td>NaN</td>\n",
       "      <td>NaN</td>\n",
       "    </tr>\n",
       "    <tr>\n",
       "      <th>933</th>\n",
       "      <td>57.0</td>\n",
       "      <td>62.5</td>\n",
       "      <td>57.0</td>\n",
       "      <td>57.0</td>\n",
       "      <td>NaN</td>\n",
       "      <td>NaN</td>\n",
       "      <td>NaN</td>\n",
       "      <td>NaN</td>\n",
       "      <td>57.0</td>\n",
       "    </tr>\n",
       "  </tbody>\n",
       "</table>\n",
       "<p>934 rows × 9 columns</p>\n",
       "</div>"
      ],
      "text/plain": [
       "     child  father  child_95  child_90  child_75  child_50  child_25  \\\n",
       "0     73.2    78.5      73.2      73.2      73.2       NaN       NaN   \n",
       "1     69.2    78.5      69.2      69.2      69.2       NaN       NaN   \n",
       "2     69.0    78.5      69.0      69.0      69.0      69.0       NaN   \n",
       "3     69.0    78.5      69.0      69.0       NaN      69.0       NaN   \n",
       "4     73.5    75.5      73.5      73.5       NaN      73.5      73.5   \n",
       "..     ...     ...       ...       ...       ...       ...       ...   \n",
       "929   64.0    62.0      64.0      64.0      64.0      64.0       NaN   \n",
       "930   62.0    62.0      62.0      62.0      62.0      62.0      62.0   \n",
       "931   61.0    62.0      61.0      61.0      61.0       NaN       NaN   \n",
       "932   66.5    62.5      66.5      66.5      66.5      66.5      66.5   \n",
       "933   57.0    62.5      57.0      57.0       NaN       NaN       NaN   \n",
       "\n",
       "     child_10  child_5  \n",
       "0         NaN      NaN  \n",
       "1         NaN     69.2  \n",
       "2         NaN      NaN  \n",
       "3         NaN      NaN  \n",
       "4         NaN      NaN  \n",
       "..        ...      ...  \n",
       "929       NaN      NaN  \n",
       "930       NaN      NaN  \n",
       "931       NaN      NaN  \n",
       "932       NaN      NaN  \n",
       "933       NaN     57.0  \n",
       "\n",
       "[934 rows x 9 columns]"
      ]
     },
     "execution_count": 168,
     "metadata": {},
     "output_type": "execute_result"
    }
   ],
   "source": [
    "fp = os.path.join('data', 'missing_heights.csv')\n",
    "heights = pd.read_csv(fp)\n",
    "heights_c = heights.copy()\n",
    "heights_c"
   ]
  },
  {
   "cell_type": "code",
   "execution_count": null,
   "id": "9f234458",
   "metadata": {},
   "outputs": [],
   "source": [
    "\n",
    "\n",
    "pd.Series(distr).plot(kind='hist', title='permutation test: missingness by missing_cn')\n",
    "plt.line(obs, 200, color='r', s=10);"
   ]
  },
  {
   "cell_type": "code",
   "execution_count": 177,
   "id": "hollow-mechanics",
   "metadata": {},
   "outputs": [],
   "source": [
    "out = []\n",
    "names = [\n",
    "        'child_95', 'child_90', 'child_75', 'child_50', 'child_25', 'child_10',\n",
    "        'child_5'\n",
    "]\n",
    "for i in heights_c[names]:\n",
    "    distr, obs = util.permutation_test(\n",
    "        heights_c.assign(is_null=heights_c[i].isnull()), 'father',\n",
    "        'is_null', util.ks, N = 100)\n",
    "    pval = (distr >= obs).mean()\n",
    "    out.append(pval)"
   ]
  },
  {
   "cell_type": "code",
   "execution_count": 178,
   "id": "c4b9b856",
   "metadata": {},
   "outputs": [
    {
     "data": {
      "text/plain": [
       "child_95    0.73\n",
       "child_90    0.79\n",
       "child_75    0.34\n",
       "child_50    0.00\n",
       "child_25    0.12\n",
       "child_10    0.12\n",
       "child_5     0.18\n",
       "dtype: float64"
      ]
     },
     "execution_count": 178,
     "metadata": {},
     "output_type": "execute_result"
    }
   ],
   "source": [
    "pd.Series(out, index = names)"
   ]
  },
  {
   "cell_type": "code",
   "execution_count": 179,
   "id": "right-concord",
   "metadata": {
    "deletable": false,
    "editable": false
   },
   "outputs": [
    {
     "data": {
      "text/html": [
       "<p><strong><pre style='display: inline;'>q2</pre></strong> passed!</p>"
      ],
      "text/plain": [
       "q2 results: All test cases passed!"
      ]
     },
     "execution_count": 179,
     "metadata": {},
     "output_type": "execute_result"
    }
   ],
   "source": [
    "grader.check(\"q2\")"
   ]
  },
  {
   "cell_type": "markdown",
   "id": "exciting-diagram",
   "metadata": {},
   "source": [
    "## Imputation of Heights: quantitative columns"
   ]
  },
  {
   "cell_type": "markdown",
   "id": "desperate-subject",
   "metadata": {},
   "source": [
    "**Question 3**\n",
    "\n",
    "In lecture, you learned how to do single-valued imputation conditionally on a *categorical* column: impute with the mean for each group. That is, for each distinct value of the *categorical* column, there is a single imputed value.\n",
    "\n",
    "Here, you will do a single-valued imputation conditionally on a *quantitative* column. To do this, transform the `father` column into a categorical column by binning the values of `father` into [quartiles](https://en.wikipedia.org/wiki/Quartile). Once this is done, you can impute the column as in lecture (and described above).\n",
    "\n",
    "* Write a function `cond_single_imputation` that takes in a dataframe with columns `father` and `child` (with missing values in `child`) and imputes single-valued mean imputation of the `child` column, conditional on `father`. Your function should return a __Series__ (Hint: `pd.qcut` may be helpful!).\n",
    "\n",
    "*Hint:* The groupby method `.transform` is useful for this question (see discussion 3), though it's also possible using `aggregate`. As a reminder, *loops are not allowed*, and functions mentioned in \"Hints\" are not required.\n",
    "\n"
   ]
  },
  {
   "cell_type": "code",
   "execution_count": 100,
   "id": "a378e0cf",
   "metadata": {},
   "outputs": [
    {
     "data": {
      "text/html": [
       "<div>\n",
       "<style scoped>\n",
       "    .dataframe tbody tr th:only-of-type {\n",
       "        vertical-align: middle;\n",
       "    }\n",
       "\n",
       "    .dataframe tbody tr th {\n",
       "        vertical-align: top;\n",
       "    }\n",
       "\n",
       "    .dataframe thead th {\n",
       "        text-align: right;\n",
       "    }\n",
       "</style>\n",
       "<table border=\"1\" class=\"dataframe\">\n",
       "  <thead>\n",
       "    <tr style=\"text-align: right;\">\n",
       "      <th></th>\n",
       "      <th>child</th>\n",
       "      <th>father</th>\n",
       "      <th>child_95</th>\n",
       "      <th>child_90</th>\n",
       "      <th>child_75</th>\n",
       "      <th>child_50</th>\n",
       "      <th>child_25</th>\n",
       "      <th>child_10</th>\n",
       "      <th>child_5</th>\n",
       "    </tr>\n",
       "  </thead>\n",
       "  <tbody>\n",
       "    <tr>\n",
       "      <th>0</th>\n",
       "      <td>NaN</td>\n",
       "      <td>78.5</td>\n",
       "      <td>73.2</td>\n",
       "      <td>73.2</td>\n",
       "      <td>73.2</td>\n",
       "      <td>NaN</td>\n",
       "      <td>NaN</td>\n",
       "      <td>NaN</td>\n",
       "      <td>NaN</td>\n",
       "    </tr>\n",
       "    <tr>\n",
       "      <th>1</th>\n",
       "      <td>NaN</td>\n",
       "      <td>78.5</td>\n",
       "      <td>69.2</td>\n",
       "      <td>69.2</td>\n",
       "      <td>69.2</td>\n",
       "      <td>NaN</td>\n",
       "      <td>NaN</td>\n",
       "      <td>NaN</td>\n",
       "      <td>69.2</td>\n",
       "    </tr>\n",
       "    <tr>\n",
       "      <th>2</th>\n",
       "      <td>69.0</td>\n",
       "      <td>78.5</td>\n",
       "      <td>69.0</td>\n",
       "      <td>69.0</td>\n",
       "      <td>69.0</td>\n",
       "      <td>69.0</td>\n",
       "      <td>NaN</td>\n",
       "      <td>NaN</td>\n",
       "      <td>NaN</td>\n",
       "    </tr>\n",
       "    <tr>\n",
       "      <th>3</th>\n",
       "      <td>69.0</td>\n",
       "      <td>78.5</td>\n",
       "      <td>69.0</td>\n",
       "      <td>69.0</td>\n",
       "      <td>NaN</td>\n",
       "      <td>69.0</td>\n",
       "      <td>NaN</td>\n",
       "      <td>NaN</td>\n",
       "      <td>NaN</td>\n",
       "    </tr>\n",
       "    <tr>\n",
       "      <th>4</th>\n",
       "      <td>73.5</td>\n",
       "      <td>75.5</td>\n",
       "      <td>73.5</td>\n",
       "      <td>73.5</td>\n",
       "      <td>NaN</td>\n",
       "      <td>73.5</td>\n",
       "      <td>73.5</td>\n",
       "      <td>NaN</td>\n",
       "      <td>NaN</td>\n",
       "    </tr>\n",
       "    <tr>\n",
       "      <th>...</th>\n",
       "      <td>...</td>\n",
       "      <td>...</td>\n",
       "      <td>...</td>\n",
       "      <td>...</td>\n",
       "      <td>...</td>\n",
       "      <td>...</td>\n",
       "      <td>...</td>\n",
       "      <td>...</td>\n",
       "      <td>...</td>\n",
       "    </tr>\n",
       "    <tr>\n",
       "      <th>929</th>\n",
       "      <td>64.0</td>\n",
       "      <td>62.0</td>\n",
       "      <td>64.0</td>\n",
       "      <td>64.0</td>\n",
       "      <td>64.0</td>\n",
       "      <td>64.0</td>\n",
       "      <td>NaN</td>\n",
       "      <td>NaN</td>\n",
       "      <td>NaN</td>\n",
       "    </tr>\n",
       "    <tr>\n",
       "      <th>930</th>\n",
       "      <td>62.0</td>\n",
       "      <td>62.0</td>\n",
       "      <td>62.0</td>\n",
       "      <td>62.0</td>\n",
       "      <td>62.0</td>\n",
       "      <td>62.0</td>\n",
       "      <td>62.0</td>\n",
       "      <td>NaN</td>\n",
       "      <td>NaN</td>\n",
       "    </tr>\n",
       "    <tr>\n",
       "      <th>931</th>\n",
       "      <td>NaN</td>\n",
       "      <td>62.0</td>\n",
       "      <td>61.0</td>\n",
       "      <td>61.0</td>\n",
       "      <td>61.0</td>\n",
       "      <td>NaN</td>\n",
       "      <td>NaN</td>\n",
       "      <td>NaN</td>\n",
       "      <td>NaN</td>\n",
       "    </tr>\n",
       "    <tr>\n",
       "      <th>932</th>\n",
       "      <td>66.5</td>\n",
       "      <td>62.5</td>\n",
       "      <td>66.5</td>\n",
       "      <td>66.5</td>\n",
       "      <td>66.5</td>\n",
       "      <td>66.5</td>\n",
       "      <td>66.5</td>\n",
       "      <td>NaN</td>\n",
       "      <td>NaN</td>\n",
       "    </tr>\n",
       "    <tr>\n",
       "      <th>933</th>\n",
       "      <td>NaN</td>\n",
       "      <td>62.5</td>\n",
       "      <td>57.0</td>\n",
       "      <td>57.0</td>\n",
       "      <td>NaN</td>\n",
       "      <td>NaN</td>\n",
       "      <td>NaN</td>\n",
       "      <td>NaN</td>\n",
       "      <td>57.0</td>\n",
       "    </tr>\n",
       "  </tbody>\n",
       "</table>\n",
       "<p>934 rows × 9 columns</p>\n",
       "</div>"
      ],
      "text/plain": [
       "     child  father  child_95  child_90  child_75  child_50  child_25  \\\n",
       "0      NaN    78.5      73.2      73.2      73.2       NaN       NaN   \n",
       "1      NaN    78.5      69.2      69.2      69.2       NaN       NaN   \n",
       "2     69.0    78.5      69.0      69.0      69.0      69.0       NaN   \n",
       "3     69.0    78.5      69.0      69.0       NaN      69.0       NaN   \n",
       "4     73.5    75.5      73.5      73.5       NaN      73.5      73.5   \n",
       "..     ...     ...       ...       ...       ...       ...       ...   \n",
       "929   64.0    62.0      64.0      64.0      64.0      64.0       NaN   \n",
       "930   62.0    62.0      62.0      62.0      62.0      62.0      62.0   \n",
       "931    NaN    62.0      61.0      61.0      61.0       NaN       NaN   \n",
       "932   66.5    62.5      66.5      66.5      66.5      66.5      66.5   \n",
       "933    NaN    62.5      57.0      57.0       NaN       NaN       NaN   \n",
       "\n",
       "     child_10  child_5  \n",
       "0         NaN      NaN  \n",
       "1         NaN     69.2  \n",
       "2         NaN      NaN  \n",
       "3         NaN      NaN  \n",
       "4         NaN      NaN  \n",
       "..        ...      ...  \n",
       "929       NaN      NaN  \n",
       "930       NaN      NaN  \n",
       "931       NaN      NaN  \n",
       "932       NaN      NaN  \n",
       "933       NaN     57.0  \n",
       "\n",
       "[934 rows x 9 columns]"
      ]
     },
     "execution_count": 100,
     "metadata": {},
     "output_type": "execute_result"
    }
   ],
   "source": [
    "fp = os.path.join('data', 'missing_heights.csv')\n",
    "df = pd.read_csv(fp)\n",
    "df['child'] = df['child_50']\n",
    "df_c = df.copy()\n",
    "df_c"
   ]
  },
  {
   "cell_type": "code",
   "execution_count": 106,
   "id": "pediatric-pierce",
   "metadata": {},
   "outputs": [
    {
     "data": {
      "text/plain": [
       "0      68.083871\n",
       "1      68.083871\n",
       "2      69.000000\n",
       "3      69.000000\n",
       "4      73.500000\n",
       "         ...    \n",
       "929    64.000000\n",
       "930    62.000000\n",
       "931    65.544167\n",
       "932    66.500000\n",
       "933    65.544167\n",
       "Name: child, Length: 934, dtype: float64"
      ]
     },
     "execution_count": 106,
     "metadata": {},
     "output_type": "execute_result"
    }
   ],
   "source": [
    "df_c['father_q'] = pd.qcut(df_c.father, q=5)\n",
    "df_c.groupby('father_q')['child'].transform(lambda x: x.fillna(x.mean()))"
   ]
  },
  {
   "cell_type": "code",
   "execution_count": null,
   "id": "faced-modification",
   "metadata": {},
   "outputs": [],
   "source": []
  },
  {
   "cell_type": "code",
   "execution_count": 109,
   "id": "talented-retail",
   "metadata": {
    "deletable": false,
    "editable": false
   },
   "outputs": [
    {
     "data": {
      "text/html": [
       "<p><strong><pre style='display: inline;'>q3</pre></strong> passed!</p>"
      ],
      "text/plain": [
       "q3 results: All test cases passed!"
      ]
     },
     "execution_count": 109,
     "metadata": {},
     "output_type": "execute_result"
    }
   ],
   "source": [
    "grader.check(\"q3\")"
   ]
  },
  {
   "cell_type": "markdown",
   "id": "peripheral-journey",
   "metadata": {},
   "source": [
    "### Probabilistic imputation of quantitative columns"
   ]
  },
  {
   "cell_type": "markdown",
   "id": "widespread-benjamin",
   "metadata": {},
   "source": [
    "**Question 4**\n",
    "\n",
    "In lecture, you learned how to impute a categorical column by sampling from the dataframe column. One problem with this technique is that the imputation will never generate imputed values that weren't already in the dataset. When the column under consideration is quantitative, this may not be a reasonable assumption. For example, `56.0`, `57.0`, and `57.5` are in the heights dataset, yet `56.5` is not. Thus, any imputation done by sampling from the dataset will not be able to generate a height of `56.5`, even though it's clearly a reasonable value to occur in the dataset.\n",
    "\n",
    "To keep things simple, you will impute the `child` column *unconditionally* from the distribution of `child` heights present in the dataset. This means that you will use the values present in `child` to impute missing values. i.e. values that appear in `child` more will probably appear more when imputing.\n",
    "\n",
    "The approach to imputing from a quantitative distribution, is as follows:\n",
    "* Find the empirical distribution of `child` heights by creating a histogram (using 10 bins) of `child` heights.\n",
    "* Use this histogram to generate a number within the observed range of `child` heights:\n",
    "    - The likelihood a generated number belongs to a given bin is the proportion of the bin in the histogram. (Hint: `np.histogram` is useful for this part).\n",
    "    - Any number within a fixed bin is equally likely to occur. (Hint: `np.random.choice` and `np.random.uniform` may be useful for this part).\n",
    "    \n",
    "Create a function `quantitative_distribution` that takes in a Series and an integer `N > 0`, and returns an array of `N` using the method described above. (For writing this function, and this function only, it is *ok* to use loops).\n",
    "\n",
    "Create a function `impute_height_quant` that takes in a Series of `child` heights with missing values (aka `child_X`) and imputes them using the scheme above. **You should use `quantitative_distribution` to help you do this.**"
   ]
  },
  {
   "cell_type": "code",
   "execution_count": 113,
   "id": "6035ea3d",
   "metadata": {},
   "outputs": [],
   "source": [
    "child = df['child_50']"
   ]
  },
  {
   "cell_type": "code",
   "execution_count": 148,
   "id": "fleet-thriller",
   "metadata": {
    "code_folding": [],
    "collapsed": true
   },
   "outputs": [
    {
     "data": {
      "text/plain": [
       "0     65.367611\n",
       "1     63.713292\n",
       "2     65.877071\n",
       "3     70.328505\n",
       "4     69.884073\n",
       "        ...    \n",
       "95    63.640736\n",
       "96    62.598359\n",
       "97    64.739921\n",
       "98    61.966266\n",
       "99    67.858183\n",
       "Length: 100, dtype: float64"
      ]
     },
     "execution_count": 148,
     "metadata": {},
     "output_type": "execute_result"
    }
   ],
   "source": [
    "N = 100\n",
    "child_c = child.copy().dropna().reset_index().drop('index', axis=1)\n",
    "hist, edges = np.histogram(child_c, bins=10)\n",
    "distribution = hist / sum(hist)\n",
    "mapping = []\n",
    "out = []\n",
    "for i in range(1, len(edges)):\n",
    "    mapping.append((edges[i - 1], edges[i]))\n",
    "dice = np.random.choice(len(mapping),N,p=distribution)\n",
    "for i in dice:\n",
    "    out.append(np.random.uniform(mapping[i][0], mapping[i][1]))\n",
    "pd.Series(out)"
   ]
  },
  {
   "cell_type": "code",
   "execution_count": 161,
   "id": "a5739143",
   "metadata": {},
   "outputs": [
    {
     "data": {
      "text/plain": [
       "0      58.827652\n",
       "1      71.716578\n",
       "2      69.000000\n",
       "3      69.000000\n",
       "4      73.500000\n",
       "         ...    \n",
       "929    64.000000\n",
       "930    62.000000\n",
       "931    67.151955\n",
       "932    66.500000\n",
       "933    62.424803\n",
       "Name: child_50, Length: 934, dtype: float64"
      ]
     },
     "execution_count": 161,
     "metadata": {},
     "output_type": "execute_result"
    }
   ],
   "source": [
    "def create_imputed(col):\n",
    "    num_null = col.isnull().sum()\n",
    "    fill_values = quantitative_distribution(col, num_null)\n",
    "    fill_values.index = col.loc[col.isnull()].index\n",
    "    return col.fillna(fill_values.to_dict())"
   ]
  },
  {
   "cell_type": "code",
   "execution_count": 162,
   "id": "incoming-flexibility",
   "metadata": {
    "deletable": false,
    "editable": false
   },
   "outputs": [
    {
     "data": {
      "text/html": [
       "<p><strong><pre style='display: inline;'>q4</pre></strong> passed!</p>"
      ],
      "text/plain": [
       "q4 results: All test cases passed!"
      ]
     },
     "execution_count": 162,
     "metadata": {},
     "output_type": "execute_result"
    }
   ],
   "source": [
    "grader.check(\"q4\")"
   ]
  },
  {
   "cell_type": "markdown",
   "id": "interstate-delight",
   "metadata": {},
   "source": [
    "# I'm ready for scraping! But am I allowed to?"
   ]
  },
  {
   "cell_type": "markdown",
   "id": "published-message",
   "metadata": {},
   "source": [
    "**Question 5**\n",
    "\n",
    "We know that many sites have a published policy allowing or disallowing automatic access to their site. Often, this policy is in a text file `robots.txt`. There is (`https://moz.com/learn/seo/robotstxt`) a good article that explains what these files are, where to find them, and how to use them. After reading the article please answer a few questions. \n",
    "\n",
    "**2.1: What is the purpose of `robots.txt`?**\n",
    "\n",
    "1) To informs agents which pages to crawl.\n",
    "\n",
    "2) To informs agents that the site is automated.\n",
    "\n",
    "3) To inform agents that robots will chase them down if their info is stolen.\n",
    "\n",
    "**2.2: Where do you put your `robots.txt` file?**\n",
    "\n",
    "1) In the folder you want to disallow.\n",
    "\n",
    "2) In the root directory of your website.\n",
    "\n",
    "3) In a Google search.\n",
    "\n",
    "\n",
    "**2.3: If a `robots.txt` is not present, does it mean you can legally scrape the site?**\n",
    "\n",
    "1) Yes\n",
    "\n",
    "2) No\n",
    "\n",
    "**2.4: Each subdomain on a root domain can use separate `robots.txt` file**\n",
    "\n",
    "1) Yes\n",
    "\n",
    "2) No\n",
    "\n",
    "\n",
    "**2.5: Website hunt**\n",
    "\n",
    "Next, find three websites that explicitly use a `robots.txt` file and allow scraping (by everyone) and three that do not allow generic user-agents to scrape it (denoted by `*`).\n",
    "\n",
    "* Note: Some websites may cause gradescope to time out. Please change a website if you encounter this issue. \n",
    "\n",
    "\n",
    "\n",
    "\n",
    "Now combine you answers to multiple choice questions in one list and urls of the sites you found in another list. \n",
    "Create an argument-free function `answers` to return both of lists.\n"
   ]
  },
  {
   "cell_type": "code",
   "execution_count": null,
   "id": "insured-absolute",
   "metadata": {},
   "outputs": [],
   "source": []
  },
  {
   "cell_type": "code",
   "execution_count": null,
   "id": "sustainable-length",
   "metadata": {},
   "outputs": [],
   "source": []
  },
  {
   "cell_type": "code",
   "execution_count": 163,
   "id": "bound-management",
   "metadata": {
    "deletable": false,
    "editable": false
   },
   "outputs": [
    {
     "data": {
      "text/html": [
       "<p><strong><pre style='display: inline;'>q5</pre></strong> passed!</p>"
      ],
      "text/plain": [
       "q5 results: All test cases passed!"
      ]
     },
     "execution_count": 163,
     "metadata": {},
     "output_type": "execute_result"
    }
   ],
   "source": [
    "grader.check(\"q5\")"
   ]
  },
  {
   "cell_type": "markdown",
   "id": "binding-bosnia",
   "metadata": {
    "deletable": false,
    "editable": false
   },
   "source": [
    "---\n",
    "\n",
    "To double-check your work, the cell below will rerun all of the autograder tests."
   ]
  },
  {
   "cell_type": "code",
   "execution_count": null,
   "id": "residential-vienna",
   "metadata": {
    "deletable": false,
    "editable": false
   },
   "outputs": [],
   "source": [
    "grader.check_all()"
   ]
  }
 ],
 "metadata": {
  "kernelspec": {
   "display_name": "Python 3",
   "language": "python",
   "name": "python3"
  },
  "language_info": {
   "codemirror_mode": {
    "name": "ipython",
    "version": 3
   },
   "file_extension": ".py",
   "mimetype": "text/x-python",
   "name": "python",
   "nbconvert_exporter": "python",
   "pygments_lexer": "ipython3",
   "version": "3.8.8"
  },
  "otter": {
   "tests": {
    "q1": {
     "name": "q1",
     "points": null,
     "suites": [
      {
       "cases": [
        {
         "code": ">>> import doctest\n>>> doctest.run_docstring_examples(first_round, {'first_round': first_round})\n>>> doctest.run_docstring_examples(second_round, {'second_round': second_round})\n",
         "hidden": false,
         "locked": false
        }
       ],
       "scored": true,
       "setup": "",
       "teardown": "",
       "type": "doctest"
      }
     ]
    },
    "q2": {
     "name": "q2",
     "points": null,
     "suites": [
      {
       "cases": [
        {
         "code": ">>> import doctest\n>>> doctest.run_docstring_examples(verify_child, {'verify_child': verify_child, 'os': os, 'pd': pd})\n>>> doctest.run_docstring_examples(missing_data_amounts, {'missing_data_amounts': missing_data_amounts})\n",
         "hidden": false,
         "locked": false,
         "points": 2
        }
       ],
       "scored": true,
       "setup": "",
       "teardown": "",
       "type": "doctest"
      }
     ]
    },
    "q3": {
     "name": "q3",
     "points": null,
     "suites": [
      {
       "cases": [
        {
         "code": ">>> import doctest\n>>> doctest.run_docstring_examples(cond_single_imputation, {'cond_single_imputation': cond_single_imputation, 'os': os, 'pd': pd})\n",
         "hidden": false,
         "locked": false,
         "points": 4
        }
       ],
       "scored": true,
       "setup": "",
       "teardown": "",
       "type": "doctest"
      }
     ]
    },
    "q4": {
     "name": "q4",
     "points": null,
     "suites": [
      {
       "cases": [
        {
         "code": ">>> import doctest\n>>> doctest.run_docstring_examples(quantitative_distribution, {'quantitative_distribution': quantitative_distribution, 'np': np, 'os': os, 'pd': pd})\n>>> doctest.run_docstring_examples(impute_height_quant, {'impute_height_quant': impute_height_quant, 'np': np, 'os': os, 'pd': pd})\n",
         "hidden": false,
         "locked": false,
         "points": 8
        }
       ],
       "scored": true,
       "setup": "",
       "teardown": "",
       "type": "doctest"
      }
     ]
    },
    "q5": {
     "name": "q5",
     "points": null,
     "suites": [
      {
       "cases": [
        {
         "code": ">>> import doctest\n>>> doctest.run_docstring_examples(answers, {'answers': answers})\n",
         "hidden": false,
         "locked": false,
         "points": 2
        }
       ],
       "scored": true,
       "setup": "",
       "teardown": "",
       "type": "doctest"
      }
     ]
    }
   }
  },
  "toc": {
   "base_numbering": 1,
   "nav_menu": {},
   "number_sections": true,
   "sideBar": true,
   "skip_h1_title": false,
   "title_cell": "Table of Contents",
   "title_sidebar": "Contents",
   "toc_cell": false,
   "toc_position": {},
   "toc_section_display": true,
   "toc_window_display": false
  },
  "varInspector": {
   "cols": {
    "lenName": 16,
    "lenType": 16,
    "lenVar": 40
   },
   "kernels_config": {
    "python": {
     "delete_cmd_postfix": "",
     "delete_cmd_prefix": "del ",
     "library": "var_list.py",
     "varRefreshCmd": "print(var_dic_list())"
    },
    "r": {
     "delete_cmd_postfix": ") ",
     "delete_cmd_prefix": "rm(",
     "library": "var_list.r",
     "varRefreshCmd": "cat(var_dic_list()) "
    }
   },
   "types_to_exclude": [
    "module",
    "function",
    "builtin_function_or_method",
    "instance",
    "_Feature"
   ],
   "window_display": false
  }
 },
 "nbformat": 4,
 "nbformat_minor": 5
}
