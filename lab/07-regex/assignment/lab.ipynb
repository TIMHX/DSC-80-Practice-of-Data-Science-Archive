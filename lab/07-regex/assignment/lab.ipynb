{
 "cells": [
  {
   "cell_type": "code",
   "execution_count": 273,
   "id": "developing-future",
   "metadata": {
    "deletable": false,
    "editable": false
   },
   "outputs": [],
   "source": [
    "# Initialize Otter\n",
    "import otter\n",
    "grader = otter.Notebook(\"lab.ipynb\")"
   ]
  },
  {
   "cell_type": "markdown",
   "id": "russian-retail",
   "metadata": {},
   "source": [
    "# DSC 80: Lab 07\n",
    "\n",
    "### Due Date: Monday, November 15th, 11:59PM"
   ]
  },
  {
   "cell_type": "markdown",
   "id": "radio-prevention",
   "metadata": {},
   "source": [
    "## Instructions\n",
    "Much like in DSC 10, this Jupyter Notebook contains the statements of the problems and provides code and markdown cells to display your answers to the problems. Unlike DSC 10, the notebook is *only* for displaying a readable version of your final answers. The coding work will be developed in an accompanying `lab*.py` file, that will be imported into the current notebook.\n",
    "\n",
    "Labs and programming assignments will be graded in (at most) two ways:\n",
    "1. The functions and classes in the accompanying python file will be tested (a la DSC 20),\n",
    "2. The notebook will be graded (for graphs and free response questions).\n",
    "\n",
    "**Do not change the function names in the `*.py` file**\n",
    "- The functions in the `*.py` file are how your assignment is graded, and they are graded by their name. The dictionary at the end of the file (`GRADED FUNCTIONS`) contains the \"grading list\". The final function in the file allows your doctests to check that all the necessary functions exist.\n",
    "- If you changed something you weren't supposed to, just use git to revert!\n",
    "\n",
    "**Tips for working in the Notebook**:\n",
    "- The notebooks serve to present you the questions and give you a place to present your results for later review.\n",
    "- The notebook on *lab assignments* are not graded (only the `.py` file).\n",
    "- Notebooks for PAs will serve as a final report for the assignment, and contain conclusions and answers to open ended questions that are graded.\n",
    "- The notebook serves as a nice environment for 'pre-development' and experimentation before designing your function in your `.py` file.\n",
    "\n",
    "**Tips for developing in the .py file**:\n",
    "- Do not change the function names in the starter code; grading is done using these function names.\n",
    "- Do not change the docstrings in the functions. These are there to tell you if your work is on the right track!\n",
    "- You are encouraged to write your own additional functions to solve the lab! \n",
    "    - Developing in python usually consists of larger files, with many short functions.\n",
    "    - You may write your other functions in an additional `.py` file that you import in `lab.py` (much like we do in the notebook).\n",
    "- Always document your code!"
   ]
  },
  {
   "cell_type": "markdown",
   "id": "obvious-poverty",
   "metadata": {},
   "source": [
    "### Importing code from `lab.py`\n",
    "\n",
    "* We import our `.py` file that's contained in the same directory as this notebook.\n",
    "* We use the `autoreload` notebook extension to make changes to our `lab.py` file immediately available in our notebook. Without this extension, we would need to restart the notebook kernel to see any changes to `lab.py` in the notebook.\n",
    "    - `autoreload` is necessary because, upon import, `lab.py` is compiled to bytecode (in the directory `__pycache__`). Subsequent imports of `lab` merely import the existing compiled python."
   ]
  },
  {
   "cell_type": "code",
   "execution_count": 3,
   "id": "static-course",
   "metadata": {},
   "outputs": [],
   "source": [
    "%load_ext autoreload\n",
    "%autoreload 2"
   ]
  },
  {
   "cell_type": "code",
   "execution_count": 4,
   "id": "substantial-pixel",
   "metadata": {},
   "outputs": [],
   "source": [
    "from lab import *"
   ]
  },
  {
   "cell_type": "code",
   "execution_count": 5,
   "id": "noticed-parameter",
   "metadata": {},
   "outputs": [],
   "source": [
    "import os\n",
    "import pandas as pd\n",
    "import numpy as np\n",
    "import matplotlib.pyplot as plt\n",
    "\n",
    "import glob\n",
    "import os\n",
    "import time\n",
    "import re\n",
    "import requests\n",
    "import json"
   ]
  },
  {
   "cell_type": "markdown",
   "id": "convinced-omaha",
   "metadata": {},
   "source": [
    "# Practice with regular expressions (Regex)"
   ]
  },
  {
   "cell_type": "markdown",
   "id": "small-limitation",
   "metadata": {},
   "source": [
    "**Question 1**\n",
    "\n",
    "You start with some basic regular expression exercises to get some practice using them. You will find function stubs and related doctests in the starter code. \n",
    "\n",
    "**Exercise 1:** A string that has a `[` as the third character and `]` as the sixth character.\n",
    "\n",
    "**Exercise 2:** Phone numbers that start with '(858)' and follow the format '(xxx) xxx-xxxx' (x represents a digit).\n",
    "\n",
    "*Notice: There is a space between (xxx) and xxx-xxxx*\n",
    "\n",
    "**Exercise 3:** A string whose length is between 6 to 10 and contains only word characters, white spaces and `?`. This string must have `?` as its last character.\n",
    "\n",
    "**Exercise 4:** A string that begins with '\\\\$' and with another '\\\\$' within, where:\n",
    "   - Characters between the two '\\\\$' can be anything (including nothing) except the letters 'a', 'b', 'c' (lower case).\n",
    "   - Characters after the second '\\\\$' can only have any number of the letters 'a', 'b', 'c' (upper or lower case), with every 'a' before every 'b', and every 'b' before every 'c'.\n",
    "       - E.g. 'AaBbbC' works, 'ACB' doesn't.\n",
    "\n",
    "**Exercise 5:** A string that represents a valid Python file name including the extension. \n",
    "\n",
    "*Notice*: For simplicity, assume that the file name contains only letters, numbers and an underscore `_`.\n",
    "\n",
    "**Exercise 6:** Find patterns of lowercase letters joined with an underscore.\n",
    "\n",
    "**Exercise 7:** Find patterns that start with and end with a `_`.\n",
    "\n",
    "**Exercise 8:**  Apple registration numbers and Apple hardware product serial numbers might have the number '0' (zero), but never the letter 'O'. Serial numbers don't have the number '1' (one) or the letter 'i'. Write a line of regex expression that checks if the given Serial number belongs to a genuine Apple product.\n",
    "\n",
    "**Exercise 9:** Check if a given ID number is from Los Angeles (LAX), San Diego(SAN) or the state of New York (NY). ID numbers have the following format `SC-NN-CCC-NNNN`. \n",
    "   - SC represents state code in uppercase \n",
    "   - NN represents a number with 2 digits \n",
    "   - CCC represents a three letter city code in uppercase\n",
    "   - NNNN represents a number with 4 digits\n",
    "\n",
    "**Exercise 10:**  Given an input string, cast it to lower case, remove spaces/punctuation, and return a list of every 3-character substring following this logic:\n",
    "   - The first character doesn't start with 'a' or 'A'\n",
    "   - The last substring (and only the last substring) can be shorter than 3 characters, depending on the length of the input string.\n",
    "   - The substrings cannot overlap\n",
    "   \n",
    "Here's an example with one of the doctests:\n",
    "\n",
    "`>>> match_10(\"Ab..DEF\")`\n",
    "`['def']`\n",
    "\n",
    "1. convert it to a lowercase string resulting in \"ab..def\"\n",
    "2. delete any 3 letter sequence that starts with the letter 'a', so delete \"ab.\" from the string, leaving using with \".def\"\n",
    "3. delete the punctuation resulting in \"def\"\n",
    "4. finally, we get `[\"def\"]`\n",
    "\n",
    "(Only split in the last step, everything else is removing from the string)"
   ]
  },
  {
   "cell_type": "code",
   "execution_count": null,
   "id": "little-bench",
   "metadata": {},
   "outputs": [],
   "source": [
    "# out = 'ABCdef'\n",
    "# out = 'DEFaabc !g'\n",
    "# out = 'Come ti chiami?'\n",
    "out = 'and'\n",
    "# out = 'Ab..DEF'\n",
    "\n",
    "def test(string):\n",
    "    out = string.lower()\n",
    "    arr = pd.Series(re.findall(r'.{1,3}', out))\n",
    "    arr_df = arr.str.extract(r'(^[^a].*)').dropna()\n",
    "    arr = []\n",
    "    for i in arr_df[0]:\n",
    "        w = re.sub(r'[^\\w]','',i)\n",
    "        w = re.sub(r'_','',w)\n",
    "        arr.append(w)\n",
    "\n",
    "    arr = pd.Series(re.findall(r'.{1,3}', ''.join(arr)))\n",
    "    if len(arr) == 0:\n",
    "        return []\n",
    "    return arr.str.extract(r'(^[^a].*)').dropna()[0].to_list()\n",
    "\n",
    "test(out)"
   ]
  },
  {
   "cell_type": "code",
   "execution_count": 70,
   "id": "graduate-pioneer",
   "metadata": {},
   "outputs": [
    {
     "ename": "NameError",
     "evalue": "name 'arr_df' is not defined",
     "output_type": "error",
     "traceback": [
      "\u001b[1;31m---------------------------------------------------------------------------\u001b[0m",
      "\u001b[1;31mNameError\u001b[0m                                 Traceback (most recent call last)",
      "\u001b[1;32m<ipython-input-70-5565e331f4a6>\u001b[0m in \u001b[0;36m<module>\u001b[1;34m\u001b[0m\n\u001b[1;32m----> 1\u001b[1;33m \u001b[0marr_df\u001b[0m\u001b[1;33m\u001b[0m\u001b[1;33m\u001b[0m\u001b[0m\n\u001b[0m",
      "\u001b[1;31mNameError\u001b[0m: name 'arr_df' is not defined"
     ]
    }
   ],
   "source": [
    "arr_df"
   ]
  },
  {
   "cell_type": "code",
   "execution_count": null,
   "id": "peripheral-laptop",
   "metadata": {
    "deletable": false,
    "editable": false
   },
   "outputs": [],
   "source": [
    "grader.check(\"q1\")"
   ]
  },
  {
   "cell_type": "markdown",
   "id": "simplified-liechtenstein",
   "metadata": {},
   "source": [
    "## Regex groups: extracting personal information from messy data"
   ]
  },
  {
   "cell_type": "markdown",
   "id": "sunrise-forge",
   "metadata": {},
   "source": [
    "**Question 2**\n",
    "\n",
    "The file in `data/messy.txt` contains personal information from a fictional website that a user scraped from webserver logs. Within this dataset, there are four fields that interest you:\n",
    "1. Email Addresses (assume they are alphanumeric user-names and domain-names),\n",
    "2. [Social Security Numbers](https://en.wikipedia.org/wiki/Social_Security_number#Structure)\n",
    "3. Bitcoin Addresses (alpha-numeric strings of long length)\n",
    "4. Street Addresses\n",
    "\n",
    "Create a function `extract_personal` that takes in a string like `open('data/messy.txt').read()` and returns a tuple of four separate lists containing values of the 4 pieces of information listed above (in the order given). Do **not** keep empty values.\n",
    "\n",
    "*Hint*: There are multiple \"delimiters\" in use in the file; there are few enough of them that you can safely determine what they are.\n",
    "\n",
    "*Note:* Since this data is messy/corrupted, your function will be allowed to miss ~5% of the records in each list. Good spot checking using certain useful substrings (e.g. `@` for emails) should help assure correctness! Your function will be tested on a sample of the file `messy.txt`."
   ]
  },
  {
   "cell_type": "code",
   "execution_count": 71,
   "id": "virtual-jones",
   "metadata": {},
   "outputs": [],
   "source": [
    "fp = os.path.join('data', 'messy.txt')\n",
    "s = open(fp, encoding='utf8').read()"
   ]
  },
  {
   "cell_type": "code",
   "execution_count": 73,
   "id": "b7d44390",
   "metadata": {},
   "outputs": [
    {
     "data": {
      "text/plain": [
       "955"
      ]
     },
     "execution_count": 73,
     "metadata": {},
     "output_type": "execute_result"
    }
   ],
   "source": [
    "len(extract_personal(s)[0])"
   ]
  },
  {
   "cell_type": "code",
   "execution_count": 74,
   "id": "1e6bfba8",
   "metadata": {},
   "outputs": [
    {
     "data": {
      "text/plain": [
       "2571"
      ]
     },
     "execution_count": 74,
     "metadata": {},
     "output_type": "execute_result"
    }
   ],
   "source": [
    "len(extract_personal(s)[1])"
   ]
  },
  {
   "cell_type": "code",
   "execution_count": 75,
   "id": "dc375cfc",
   "metadata": {},
   "outputs": [
    {
     "data": {
      "text/plain": [
       "2781"
      ]
     },
     "execution_count": 75,
     "metadata": {},
     "output_type": "execute_result"
    }
   ],
   "source": [
    "len(extract_personal(s)[2])"
   ]
  },
  {
   "cell_type": "code",
   "execution_count": 76,
   "id": "cee76d8e",
   "metadata": {},
   "outputs": [
    {
     "data": {
      "text/plain": [
       "958"
      ]
     },
     "execution_count": 76,
     "metadata": {},
     "output_type": "execute_result"
    }
   ],
   "source": [
    "len(extract_personal(s)[3])"
   ]
  },
  {
   "cell_type": "code",
   "execution_count": null,
   "id": "fb186c3a",
   "metadata": {},
   "outputs": [],
   "source": []
  },
  {
   "cell_type": "code",
   "execution_count": 43,
   "id": "c25b799b",
   "metadata": {},
   "outputs": [
    {
     "data": {
      "text/plain": [
       "'1\\t4/12/2018\\tLorem ipsum dolor sit amet, consectetuer adipiscing elit. Proin risus. Praesent lectus.\\n\\nVestibulum quam sapien| varius ut, blandit non, interdum in, ante. Vestibulum ante ipsum primis in faucibus orci luctus et ultrices posuere cubilia Curae; Duis faucibus accumsan odio. Curabitur convallis.|dottewell0@gnu.org\\toR1mOq,!@#$%^&*(),[{bitcoin:18A8rBU3wvbLTSxMjqrPNc9mvonpA4XMiv\\tIP:192.232.9.210\\tccn:3563354617955160|ssn:380-09-9403}]|05-6609813,814 Monterey Court\\n2\\t12/18/2018\\tSuspendisse potenti. In eleifend quam a odio. In hac habitasse platea dictumst.\\n\\nMaecenas ut massa quis augue luctus tincidunt. Nulla mollis molestie lorem. Quisque ut erat.,bassiter1@sphinn.com\\tc5KvmarHX3o,test\\u2060test\\u202b,[{bitcoin:1EB7kYpnfJSqS7kUFpinsmPF3uiH9sfRf1,IP:20.73.13.197|ccn:3542723823957010\\tssn:118-12-8276}#{bitcoin:1E5fev4boabWZmXvHGVkHcNJZ2tLnpM6Zv*IP:238.206.212.148\\tccn:337941898369615,ssn:427-22-9352}#{bitcoin:1DqG3WcmGw74PjptjzcAmxGFuQdvWL7RCC,IP:171.241.15.98\\tccn:3574672962323693,ssn:649-16-224'"
      ]
     },
     "execution_count": 43,
     "metadata": {},
     "output_type": "execute_result"
    }
   ],
   "source": [
    "s[:1000]"
   ]
  },
  {
   "cell_type": "code",
   "execution_count": 25,
   "id": "growing-jerusalem",
   "metadata": {},
   "outputs": [],
   "source": [
    "email = re.findall('[a-zA-Z0-9_.+-]+@[a-zA-Z0-9-]+\\.[a-zA-Z0-9-.]+', s)\n",
    "ssn = re.findall('ssn\\:([0-9]+-[0-9]+-[0-9]+)', s)\n",
    "bca = re.findall('bitcoin\\:([0-9a-zA-Z]{5,})', s)\n",
    "sa = re.findall('([0-9]*\\s[a-zA-Z\\s]+)\\\\n\\d*', s)\n"
   ]
  },
  {
   "cell_type": "code",
   "execution_count": null,
   "id": "minus-matrix",
   "metadata": {},
   "outputs": [],
   "source": []
  },
  {
   "cell_type": "code",
   "execution_count": 44,
   "id": "illegal-tobago",
   "metadata": {
    "deletable": false,
    "editable": false
   },
   "outputs": [
    {
     "data": {
      "text/html": [
       "<p><strong><pre style='display: inline;'>q2</pre></strong> passed!</p>"
      ],
      "text/plain": [
       "q2 results: All test cases passed!"
      ]
     },
     "execution_count": 44,
     "metadata": {},
     "output_type": "execute_result"
    }
   ],
   "source": [
    "grader.check(\"q2\")"
   ]
  },
  {
   "cell_type": "markdown",
   "id": "regulated-growth",
   "metadata": {},
   "source": [
    "## Content in Amazon review data"
   ]
  },
  {
   "cell_type": "markdown",
   "id": "referenced-article",
   "metadata": {},
   "source": [
    "**Question 3**\n",
    "\n",
    "The dataset `reviews.txt` contains [Amazon reviews](http://jmcauley.ucsd.edu/data/amazon/) for ~200k phones and phone accessories. This dataset has been \"cleaned\" for you. The goal of this section is to create a function that takes in the review dataset and a review and returns the word that \"best summarizes the review\" using TF-IDF.'\n",
    "\n",
    "1. Create a function `tfidf_data(review, reviews)` that takes a review as well as the review data and returns a dataframe:\n",
    "    - indexed by the words in `review`,\n",
    "    - with columns given by (a) the number of times each word is found in the review (`cnt`), (b) the term frequency for each word (`tf`), (c) the inverse document frequency for each word (`idf`), and (d) the TF-IDF for each word (`tfidf`).\n",
    "    \n",
    "2. Create a function `relevant_word(tfidf_data)` which takes in a dataframe as above and returns the word that \"best summarizes the review\" described by `tfidf_data`.\n",
    "\n",
    "\n",
    "*Note:* Use this function to \"cluster\" review types -- run it on a sample of reviews and see which words come up most. Unfortunately, you will likely have to change your code from your answer above to run it on the entire dataset (to do this, you should compute as many of the frequencies \"ahead of time\" and look them up when needed; you should also likely filter out words that occur \"rarely\")"
   ]
  },
  {
   "cell_type": "code",
   "execution_count": 6,
   "id": "imported-argentina",
   "metadata": {},
   "outputs": [],
   "source": [
    "fp = os.path.join('data', 'reviews.txt')\n",
    "reviews = pd.read_csv(fp, header=None, squeeze=True)\n",
    "review = open(os.path.join('data', 'review.txt'), encoding='utf8').read().strip()"
   ]
  },
  {
   "cell_type": "code",
   "execution_count": 17,
   "id": "legitimate-space",
   "metadata": {},
   "outputs": [
    {
     "data": {
      "text/plain": [
       "'this is a great new case design that i have not seen before it has a slim silicone skin that really locks in the phone to cover and protect your phone from spills and such and also a hard polycarbonate outside shell cover to guard it against damage  this case also comes with different interchangeable skins and covers to create multiple color combinations  this is a different kind of case than the usual chunk of plastic  it is innovative and suits the iphone 5 perfectly'"
      ]
     },
     "execution_count": 17,
     "metadata": {},
     "output_type": "execute_result"
    }
   ],
   "source": [
    "review"
   ]
  },
  {
   "cell_type": "code",
   "execution_count": 72,
   "id": "political-employment",
   "metadata": {},
   "outputs": [],
   "source": [
    "wordlist = review.strip().split()\n",
    "index = set(wordlist)\n",
    "wordfreq = []\n",
    "for w in index:\n",
    "    wordfreq.append(wordlist.count(w))\n",
    "key_bag = dict(zip(index, wordfreq))\n",
    "key_bag\n",
    "\n",
    "out_df = pd.DataFrame(pd.Series(key_bag), columns = ['cnt'])\n",
    "tf = []\n",
    "for i in key_bag.keys():\n",
    "    tf.append(review.count(i) / (review.count(' ') + 1))\n",
    "out_df['tf'] = tf\n",
    "\n",
    "idf = []\n",
    "for i in key_bag.keys():\n",
    "    idf.append(np.log(len(reviews) / reviews.str.contains(i).sum()))\n",
    "out_df['idf'] = idf\n",
    "\n",
    "tfidf = out_df['tf']*out_df['idf']\n",
    "out_df['tfidf'] = tfidf"
   ]
  },
  {
   "cell_type": "code",
   "execution_count": 332,
   "id": "2725f962",
   "metadata": {},
   "outputs": [],
   "source": [
    "fp = os.path.join('data', 'reviews.txt')\n",
    "reviews = pd.read_csv(fp, header=None, squeeze=True)\n",
    "review = open(os.path.join('data', 'review.txt'), encoding='utf8').read().strip()"
   ]
  },
  {
   "cell_type": "code",
   "execution_count": 334,
   "id": "e16a6c80",
   "metadata": {},
   "outputs": [
    {
     "data": {
      "text/plain": [
       "'skin'"
      ]
     },
     "execution_count": 334,
     "metadata": {},
     "output_type": "execute_result"
    }
   ],
   "source": [
    "out = tfidf_data(review,reviews)\n",
    "relevant_word(out)"
   ]
  },
  {
   "cell_type": "code",
   "execution_count": 337,
   "id": "25f65ea6",
   "metadata": {},
   "outputs": [
    {
     "data": {
      "text/plain": [
       "'skin'"
      ]
     },
     "execution_count": 337,
     "metadata": {},
     "output_type": "execute_result"
    }
   ],
   "source": [
    "out.tfidf.idxmax()"
   ]
  },
  {
   "cell_type": "code",
   "execution_count": null,
   "id": "0e056e2a",
   "metadata": {},
   "outputs": [],
   "source": []
  },
  {
   "cell_type": "code",
   "execution_count": 327,
   "id": "internal-cleaning",
   "metadata": {
    "deletable": false,
    "editable": false
   },
   "outputs": [
    {
     "data": {
      "text/html": [
       "<p><strong><pre style='display: inline;'>q3</pre></strong> passed!</p>"
      ],
      "text/plain": [
       "q3 results: All test cases passed!"
      ]
     },
     "execution_count": 327,
     "metadata": {},
     "output_type": "execute_result"
    }
   ],
   "source": [
    "grader.check(\"q3\")"
   ]
  },
  {
   "cell_type": "markdown",
   "id": "conceptual-briefing",
   "metadata": {},
   "source": [
    "## Tweet Analysis: Internet Research Agency\n",
    "\n",
    "The dataset `data/ira.csv` contains tweets tagged by Twitter as likely being posted by the *Internet Research Angency* (the tweet factory facing allegations for attempting to influence US political elections).\n",
    "\n",
    "The questions in this section will focus on the following:\n",
    "1. We will look at the hashtags present in the text and trends in their makeup.\n",
    "2. We will prepare this dataset for modeling by creating features out of the text fields.\n"
   ]
  },
  {
   "cell_type": "markdown",
   "id": "finite-avenue",
   "metadata": {},
   "source": [
    "**Question 4**\n",
    "\n",
    "### HashTags\n",
    "\n",
    "You may assume that a hashtag is any string without whitespace following a `#` (this is more permissive than Twitters rules for hashtags; you are encouraged to go down this rabbit-hole to better figure out how to clean your data!).\n",
    "\n",
    "* Create a function `hashtag_list` that takes in a column of tweet-text and returns a column containing the list of hashtags present in the tweet text. If a tweet doesn't contain a hashtag, the function should return an empty list.\n",
    "\n",
    "* Create a function `most_common_hashtag` that takes in a column of hashtag-lists (the output above) and returns a column consisting a single hashtag from the tweet-text. \n",
    "    - If the text has no hashtags, the entry should be `NaN`,\n",
    "    - If the text has one distinct hashtag, the entry should contain that hashtag,\n",
    "    - If the text has more than one hashtag, the entry should be the most common hashtag (among all hashtags in the column). If there is a tie for most common, any of the most common can be returned.\n",
    "        - E.g. if the input column was: `pd.Series([[1, 2, 2], [3, 2, 3]])`, the output would be: `pd.Series([2, 2])`. Even though `3` was more common in the second list, `2` is the most common among all hashtags in the column."
   ]
  },
  {
   "cell_type": "code",
   "execution_count": 17,
   "id": "0f064538",
   "metadata": {},
   "outputs": [],
   "source": [
    "testdata = [[\n",
    "    'RT @DSC80: Text-cleaning is cool! #NLP #NLP #NLP https://t.co/xsfdw88d #NLP1 #NLP1'\n",
    "], ['#NLP1 #NLP1']]\n",
    "test = hashtag_list(pd.DataFrame(testdata, columns=['text'])['text'])"
   ]
  },
  {
   "cell_type": "code",
   "execution_count": 52,
   "id": "9c9a56a8",
   "metadata": {},
   "outputs": [],
   "source": [
    "tweet_lists = hashtag_list(ira.text)"
   ]
  },
  {
   "cell_type": "code",
   "execution_count": 42,
   "id": "5808ee70",
   "metadata": {},
   "outputs": [
    {
     "data": {
      "text/plain": [
       "'news'"
      ]
     },
     "execution_count": 42,
     "metadata": {},
     "output_type": "execute_result"
    }
   ],
   "source": [
    "tag_all = []\n",
    "for i in tweet_lists:\n",
    "    tag_all.extend(i)\n",
    "d_all = {x:tag_all.count(x) for x in tag_all}\n",
    "max_tag = max(d_all, key=d_all.get)\n",
    "max_tag"
   ]
  },
  {
   "cell_type": "code",
   "execution_count": 54,
   "id": "israeli-bouquet",
   "metadata": {},
   "outputs": [
    {
     "data": {
      "text/plain": [
       "news                5269\n",
       "sports              2545\n",
       "politics            2244\n",
       "world               1585\n",
       "BlackLivesMatter     813\n",
       "                    ... \n",
       "OscarHasNoColor,       1\n",
       "Sunday                 1\n",
       "EmergencyKit           1\n",
       "GoCowboys              1\n",
       "NARUTO                 1\n",
       "Length: 13392, dtype: int64"
      ]
     },
     "execution_count": 54,
     "metadata": {},
     "output_type": "execute_result"
    }
   ],
   "source": [
    "frequancy = pd.Series(tweet_lists.sum()).value_counts()\n",
    "frequancy"
   ]
  },
  {
   "cell_type": "code",
   "execution_count": 62,
   "id": "offshore-manhattan",
   "metadata": {},
   "outputs": [
    {
     "data": {
      "text/plain": [
       "'sports'"
      ]
     },
     "execution_count": 62,
     "metadata": {},
     "output_type": "execute_result"
    }
   ],
   "source": [
    "a = ['politics', 'sports']\n",
    "out = {}\n",
    "for w in a:\n",
    "    out[w] = frequancy[w]"
   ]
  },
  {
   "cell_type": "code",
   "execution_count": 60,
   "id": "56a22576",
   "metadata": {},
   "outputs": [
    {
     "data": {
      "text/plain": [
       "{'politics': 2244, 'sports': 2545}"
      ]
     },
     "execution_count": 60,
     "metadata": {},
     "output_type": "execute_result"
    }
   ],
   "source": [
    "out"
   ]
  },
  {
   "cell_type": "code",
   "execution_count": 6,
   "id": "studied-finland",
   "metadata": {
    "collapsed": true
   },
   "outputs": [
    {
     "data": {
      "text/html": [
       "<div>\n",
       "<style scoped>\n",
       "    .dataframe tbody tr th:only-of-type {\n",
       "        vertical-align: middle;\n",
       "    }\n",
       "\n",
       "    .dataframe tbody tr th {\n",
       "        vertical-align: top;\n",
       "    }\n",
       "\n",
       "    .dataframe thead th {\n",
       "        text-align: right;\n",
       "    }\n",
       "</style>\n",
       "<table border=\"1\" class=\"dataframe\">\n",
       "  <thead>\n",
       "    <tr style=\"text-align: right;\">\n",
       "      <th></th>\n",
       "      <th>id</th>\n",
       "      <th>name</th>\n",
       "      <th>date</th>\n",
       "      <th>text</th>\n",
       "    </tr>\n",
       "  </thead>\n",
       "  <tbody>\n",
       "    <tr>\n",
       "      <th>0</th>\n",
       "      <td>3906258</td>\n",
       "      <td>ea85ac8be1e8ab479064ca4c0fe3ac6587f76b1ef97452...</td>\n",
       "      <td>2016-11-16 09:04</td>\n",
       "      <td>The Best Exercise To Lose Belly Fat In 2 weeks...</td>\n",
       "    </tr>\n",
       "    <tr>\n",
       "      <th>1</th>\n",
       "      <td>1051443</td>\n",
       "      <td>8e58ab0f46d273103d9e71aa92cdaffb6e330ec7d15ae5...</td>\n",
       "      <td>2016-12-24 04:31</td>\n",
       "      <td>RT @Philanthropy: Dozens of ‘hate groups’ have...</td>\n",
       "    </tr>\n",
       "    <tr>\n",
       "      <th>2</th>\n",
       "      <td>2823399</td>\n",
       "      <td>Room Of Rumor</td>\n",
       "      <td>2016-08-18 20:26</td>\n",
       "      <td>Artificial intelligence can find, map poverty,...</td>\n",
       "    </tr>\n",
       "    <tr>\n",
       "      <th>3</th>\n",
       "      <td>272878</td>\n",
       "      <td>San Francisco Daily</td>\n",
       "      <td>2016-03-18 19:28</td>\n",
       "      <td>Uber balks at rules proposed by world’s busies...</td>\n",
       "    </tr>\n",
       "    <tr>\n",
       "      <th>4</th>\n",
       "      <td>7697802</td>\n",
       "      <td>41bb9ae5991f53996752a0ab8dd36b543821abca8d5aed...</td>\n",
       "      <td>2016-07-30 15:44</td>\n",
       "      <td>RT @dirtroaddiva1: #IHatePokemonGoBecause he  ...</td>\n",
       "    </tr>\n",
       "    <tr>\n",
       "      <th>...</th>\n",
       "      <td>...</td>\n",
       "      <td>...</td>\n",
       "      <td>...</td>\n",
       "      <td>...</td>\n",
       "    </tr>\n",
       "    <tr>\n",
       "      <th>89995</th>\n",
       "      <td>5635647</td>\n",
       "      <td>KansasCityDailyNews</td>\n",
       "      <td>2016-04-03 21:19</td>\n",
       "      <td>Trump: Kasich shouldn't be allowed to run http...</td>\n",
       "    </tr>\n",
       "    <tr>\n",
       "      <th>89996</th>\n",
       "      <td>7012979</td>\n",
       "      <td>f46e654ff3f1f9697f2b94de5a2e42a6914e1f00da14a7...</td>\n",
       "      <td>2016-12-19 15:04</td>\n",
       "      <td>RT @JefLeeson: #ThingsYouCantIgnore The last s...</td>\n",
       "    </tr>\n",
       "    <tr>\n",
       "      <th>89997</th>\n",
       "      <td>6955774</td>\n",
       "      <td>88669ad69e40d7c199af91e8107f1e0e7988d377d2e41f...</td>\n",
       "      <td>2016-08-27 14:15</td>\n",
       "      <td>RT @nealcarter: When someone said the first li...</td>\n",
       "    </tr>\n",
       "    <tr>\n",
       "      <th>89998</th>\n",
       "      <td>8563509</td>\n",
       "      <td>ec2109adb67d2a24091026d5d9aab64dadca1fdb2f7355...</td>\n",
       "      <td>2016-10-20 15:19</td>\n",
       "      <td>RT @indigenous01: #rantfortoday I speak the Wo...</td>\n",
       "    </tr>\n",
       "    <tr>\n",
       "      <th>89999</th>\n",
       "      <td>8031863</td>\n",
       "      <td>Seattle Post</td>\n",
       "      <td>2016-04-04 01:54</td>\n",
       "      <td>10 Things to Know for Monday https://t.co/XoOg...</td>\n",
       "    </tr>\n",
       "  </tbody>\n",
       "</table>\n",
       "<p>90000 rows × 4 columns</p>\n",
       "</div>"
      ],
      "text/plain": [
       "            id                                               name  \\\n",
       "0      3906258  ea85ac8be1e8ab479064ca4c0fe3ac6587f76b1ef97452...   \n",
       "1      1051443  8e58ab0f46d273103d9e71aa92cdaffb6e330ec7d15ae5...   \n",
       "2      2823399                                      Room Of Rumor   \n",
       "3       272878                                San Francisco Daily   \n",
       "4      7697802  41bb9ae5991f53996752a0ab8dd36b543821abca8d5aed...   \n",
       "...        ...                                                ...   \n",
       "89995  5635647                                KansasCityDailyNews   \n",
       "89996  7012979  f46e654ff3f1f9697f2b94de5a2e42a6914e1f00da14a7...   \n",
       "89997  6955774  88669ad69e40d7c199af91e8107f1e0e7988d377d2e41f...   \n",
       "89998  8563509  ec2109adb67d2a24091026d5d9aab64dadca1fdb2f7355...   \n",
       "89999  8031863                                       Seattle Post   \n",
       "\n",
       "                   date                                               text  \n",
       "0      2016-11-16 09:04  The Best Exercise To Lose Belly Fat In 2 weeks...  \n",
       "1      2016-12-24 04:31  RT @Philanthropy: Dozens of ‘hate groups’ have...  \n",
       "2      2016-08-18 20:26  Artificial intelligence can find, map poverty,...  \n",
       "3      2016-03-18 19:28  Uber balks at rules proposed by world’s busies...  \n",
       "4      2016-07-30 15:44  RT @dirtroaddiva1: #IHatePokemonGoBecause he  ...  \n",
       "...                 ...                                                ...  \n",
       "89995  2016-04-03 21:19  Trump: Kasich shouldn't be allowed to run http...  \n",
       "89996  2016-12-19 15:04  RT @JefLeeson: #ThingsYouCantIgnore The last s...  \n",
       "89997  2016-08-27 14:15  RT @nealcarter: When someone said the first li...  \n",
       "89998  2016-10-20 15:19  RT @indigenous01: #rantfortoday I speak the Wo...  \n",
       "89999  2016-04-04 01:54  10 Things to Know for Monday https://t.co/XoOg...  \n",
       "\n",
       "[90000 rows x 4 columns]"
      ]
     },
     "execution_count": 6,
     "metadata": {},
     "output_type": "execute_result"
    }
   ],
   "source": [
    "fp = os.path.join('data', 'ira.csv')\n",
    "ira = pd.read_csv(fp, names=['id', 'name', 'date', 'text'])\n",
    "ira"
   ]
  },
  {
   "cell_type": "code",
   "execution_count": null,
   "id": "1ddfe564",
   "metadata": {},
   "outputs": [],
   "source": [
    "testdata = [['RT @DSC80: Text-cleaning is cool! #NLP https://t.co/xsfdw88d #NLP1 #NLP1']]\n",
    "test = pd.DataFrame(testdata, columns=['text'])\n",
    "out = hashtag_list(test['text'])\n",
    "out"
   ]
  },
  {
   "cell_type": "code",
   "execution_count": 2,
   "id": "773fe17d",
   "metadata": {},
   "outputs": [
    {
     "ename": "NameError",
     "evalue": "name 'hashtag_list' is not defined",
     "output_type": "error",
     "traceback": [
      "\u001b[1;31m---------------------------------------------------------------------------\u001b[0m",
      "\u001b[1;31mNameError\u001b[0m                                 Traceback (most recent call last)",
      "\u001b[1;32m<ipython-input-2-45ef76c004e8>\u001b[0m in \u001b[0;36m<module>\u001b[1;34m\u001b[0m\n\u001b[0;32m      1\u001b[0m \u001b[0mestdata\u001b[0m \u001b[1;33m=\u001b[0m \u001b[1;33m[\u001b[0m\u001b[1;33m[\u001b[0m\u001b[1;34m'RT @DSC80: Text-cleaning is cool! #NLP https://t.co/xsfdw88d #NLP1 #NLP1'\u001b[0m\u001b[1;33m]\u001b[0m\u001b[1;33m]\u001b[0m\u001b[1;33m\u001b[0m\u001b[1;33m\u001b[0m\u001b[0m\n\u001b[1;32m----> 2\u001b[1;33m \u001b[0mtest\u001b[0m \u001b[1;33m=\u001b[0m \u001b[0mhashtag_list\u001b[0m\u001b[1;33m(\u001b[0m\u001b[0mpd\u001b[0m\u001b[1;33m.\u001b[0m\u001b[0mDataFrame\u001b[0m\u001b[1;33m(\u001b[0m\u001b[0mtestdata\u001b[0m\u001b[1;33m,\u001b[0m \u001b[0mcolumns\u001b[0m\u001b[1;33m=\u001b[0m\u001b[1;33m[\u001b[0m\u001b[1;34m'text'\u001b[0m\u001b[1;33m]\u001b[0m\u001b[1;33m)\u001b[0m\u001b[1;33m[\u001b[0m\u001b[1;34m'text'\u001b[0m\u001b[1;33m]\u001b[0m\u001b[1;33m)\u001b[0m\u001b[1;33m\u001b[0m\u001b[1;33m\u001b[0m\u001b[0m\n\u001b[0m\u001b[0;32m      3\u001b[0m \u001b[0mmost_common_hashtag\u001b[0m\u001b[1;33m(\u001b[0m\u001b[0mtest\u001b[0m\u001b[1;33m)\u001b[0m\u001b[1;33m\u001b[0m\u001b[1;33m\u001b[0m\u001b[0m\n",
      "\u001b[1;31mNameError\u001b[0m: name 'hashtag_list' is not defined"
     ]
    }
   ],
   "source": [
    "estdata = [['RT @DSC80: Text-cleaning is cool! #NLP https://t.co/xsfdw88d #NLP1 #NLP1']]\n",
    "test = hashtag_list(pd.DataFrame(testdata, columns=['text'])['text'])\n",
    "most_common_hashtag(test)"
   ]
  },
  {
   "cell_type": "code",
   "execution_count": 65,
   "id": "19e3ce9b",
   "metadata": {},
   "outputs": [
    {
     "data": {
      "text/plain": [
       "0                        CatTV\n",
       "1                          NaN\n",
       "2                         tech\n",
       "3                         news\n",
       "4        IHatePokemonGoBecause\n",
       "                 ...          \n",
       "89995                 politics\n",
       "89996      ThingsYouCantIgnore\n",
       "89997                      NaN\n",
       "89998             rantfortoday\n",
       "89999                     news\n",
       "Length: 90000, dtype: object"
      ]
     },
     "execution_count": 65,
     "metadata": {},
     "output_type": "execute_result"
    }
   ],
   "source": [
    "most_common_hashtag(hashtag_list(ira.text))"
   ]
  },
  {
   "cell_type": "code",
   "execution_count": 66,
   "id": "known-madonna",
   "metadata": {
    "deletable": false,
    "editable": false
   },
   "outputs": [
    {
     "ename": "NameError",
     "evalue": "name 'grader' is not defined",
     "output_type": "error",
     "traceback": [
      "\u001b[1;31m---------------------------------------------------------------------------\u001b[0m",
      "\u001b[1;31mNameError\u001b[0m                                 Traceback (most recent call last)",
      "\u001b[1;32m<ipython-input-66-dea19fcc8ae1>\u001b[0m in \u001b[0;36m<module>\u001b[1;34m\u001b[0m\n\u001b[1;32m----> 1\u001b[1;33m \u001b[0mgrader\u001b[0m\u001b[1;33m.\u001b[0m\u001b[0mcheck\u001b[0m\u001b[1;33m(\u001b[0m\u001b[1;34m\"q4\"\u001b[0m\u001b[1;33m)\u001b[0m\u001b[1;33m\u001b[0m\u001b[1;33m\u001b[0m\u001b[0m\n\u001b[0m",
      "\u001b[1;31mNameError\u001b[0m: name 'grader' is not defined"
     ]
    }
   ],
   "source": [
    "grader.check(\"q4\")"
   ]
  },
  {
   "cell_type": "markdown",
   "id": "fiscal-financing",
   "metadata": {},
   "source": [
    "**Question 5 (Features)**\n",
    "\n",
    "Now create a dataframe of features from the `ira` data.  That is create a function `create_features` that takes in the `ira` data and returns a dataframe with the same index as `ira` (i.e. the rows correspond to the same tweets) and the following columns:\n",
    "* `num_hashtags` gives the number of hashtags present in a tweet,\n",
    "* `mc_hashtags` gives the most common hashtag associated to a tweet (as given by the problem above),\n",
    "* `num_tags` gives the number of tags a given tweet has (look for the presence of `@`),\n",
    "* `num_links` gives the number of hyper-links present in a given tweet \n",
    "    - (a hyper-link is a string starting with `http(s)://` not followed by whitespaces),\n",
    "* A boolean column `is_retweet` that describes if the given tweet is a retweet (i.e. `RT`),\n",
    "* A 'clean' text field `text` that contains the tweet text with:\n",
    "    - The non-alphanumeric characters removed (except spaces),\n",
    "    - All words should be separated by exactly one space,\n",
    "    - The characters all lowercase,\n",
    "    - All the meta-information above (Retweet info, tags, hyperlinks, hashtags) removed.\n",
    "\n",
    "*Note:* You should make a helper function for each column.\n",
    "\n",
    "*Note:* This will take a while to run on the entire dataset -- test it on a small sample first!"
   ]
  },
  {
   "cell_type": "code",
   "execution_count": 302,
   "id": "numeric-truck",
   "metadata": {
    "collapsed": true
   },
   "outputs": [
    {
     "data": {
      "text/html": [
       "<div>\n",
       "<style scoped>\n",
       "    .dataframe tbody tr th:only-of-type {\n",
       "        vertical-align: middle;\n",
       "    }\n",
       "\n",
       "    .dataframe tbody tr th {\n",
       "        vertical-align: top;\n",
       "    }\n",
       "\n",
       "    .dataframe thead th {\n",
       "        text-align: right;\n",
       "    }\n",
       "</style>\n",
       "<table border=\"1\" class=\"dataframe\">\n",
       "  <thead>\n",
       "    <tr style=\"text-align: right;\">\n",
       "      <th></th>\n",
       "      <th>num_hashtags</th>\n",
       "      <th>mc_hashtags</th>\n",
       "      <th>num_tags</th>\n",
       "      <th>num_links</th>\n",
       "      <th>is_retweet</th>\n",
       "      <th>text</th>\n",
       "    </tr>\n",
       "  </thead>\n",
       "  <tbody>\n",
       "    <tr>\n",
       "      <th>0</th>\n",
       "      <td>4</td>\n",
       "      <td>news</td>\n",
       "      <td>0</td>\n",
       "      <td>2</td>\n",
       "      <td>False</td>\n",
       "      <td>The Best Exercise To Lose Belly Fat In 2 weeks</td>\n",
       "    </tr>\n",
       "    <tr>\n",
       "      <th>1</th>\n",
       "      <td>0</td>\n",
       "      <td>None</td>\n",
       "      <td>1</td>\n",
       "      <td>1</td>\n",
       "      <td>True</td>\n",
       "      <td>Dozens of ‘hate groups’ have charity status, C...</td>\n",
       "    </tr>\n",
       "    <tr>\n",
       "      <th>2</th>\n",
       "      <td>1</td>\n",
       "      <td>tech</td>\n",
       "      <td>0</td>\n",
       "      <td>0</td>\n",
       "      <td>False</td>\n",
       "      <td>Artificial intelligence can find, map poverty,...</td>\n",
       "    </tr>\n",
       "    <tr>\n",
       "      <th>3</th>\n",
       "      <td>1</td>\n",
       "      <td>news</td>\n",
       "      <td>0</td>\n",
       "      <td>0</td>\n",
       "      <td>False</td>\n",
       "      <td>Uber balks at rules proposed by world’s busies...</td>\n",
       "    </tr>\n",
       "    <tr>\n",
       "      <th>4</th>\n",
       "      <td>2</td>\n",
       "      <td>news</td>\n",
       "      <td>1</td>\n",
       "      <td>1</td>\n",
       "      <td>True</td>\n",
       "      <td>he  didn't let me do \"that\" for a Klondike bar...</td>\n",
       "    </tr>\n",
       "    <tr>\n",
       "      <th>...</th>\n",
       "      <td>...</td>\n",
       "      <td>...</td>\n",
       "      <td>...</td>\n",
       "      <td>...</td>\n",
       "      <td>...</td>\n",
       "      <td>...</td>\n",
       "    </tr>\n",
       "    <tr>\n",
       "      <th>89995</th>\n",
       "      <td>1</td>\n",
       "      <td>politics</td>\n",
       "      <td>0</td>\n",
       "      <td>1</td>\n",
       "      <td>False</td>\n",
       "      <td>Trump: Kasich shouldn't be allowed to run</td>\n",
       "    </tr>\n",
       "    <tr>\n",
       "      <th>89996</th>\n",
       "      <td>1</td>\n",
       "      <td>ThingsYouCantIgnore</td>\n",
       "      <td>1</td>\n",
       "      <td>0</td>\n",
       "      <td>True</td>\n",
       "      <td>The last step at the top of the stairs.</td>\n",
       "    </tr>\n",
       "    <tr>\n",
       "      <th>89997</th>\n",
       "      <td>0</td>\n",
       "      <td>None</td>\n",
       "      <td>2</td>\n",
       "      <td>0</td>\n",
       "      <td>True</td>\n",
       "      <td>When someone said the first link from @thetrud...</td>\n",
       "    </tr>\n",
       "    <tr>\n",
       "      <th>89998</th>\n",
       "      <td>1</td>\n",
       "      <td>rantfortoday</td>\n",
       "      <td>1</td>\n",
       "      <td>0</td>\n",
       "      <td>True</td>\n",
       "      <td>I speak the Word of God therefore because the ...</td>\n",
       "    </tr>\n",
       "    <tr>\n",
       "      <th>89999</th>\n",
       "      <td>1</td>\n",
       "      <td>news</td>\n",
       "      <td>0</td>\n",
       "      <td>1</td>\n",
       "      <td>False</td>\n",
       "      <td>10 Things to Know for Monday</td>\n",
       "    </tr>\n",
       "  </tbody>\n",
       "</table>\n",
       "<p>90000 rows × 6 columns</p>\n",
       "</div>"
      ],
      "text/plain": [
       "       num_hashtags          mc_hashtags  num_tags  num_links  is_retweet  \\\n",
       "0                 4                 news         0          2       False   \n",
       "1                 0                 None         1          1        True   \n",
       "2                 1                 tech         0          0       False   \n",
       "3                 1                 news         0          0       False   \n",
       "4                 2                 news         1          1        True   \n",
       "...             ...                  ...       ...        ...         ...   \n",
       "89995             1             politics         0          1       False   \n",
       "89996             1  ThingsYouCantIgnore         1          0        True   \n",
       "89997             0                 None         2          0        True   \n",
       "89998             1         rantfortoday         1          0        True   \n",
       "89999             1                 news         0          1       False   \n",
       "\n",
       "                                                    text  \n",
       "0         The Best Exercise To Lose Belly Fat In 2 weeks  \n",
       "1      Dozens of ‘hate groups’ have charity status, C...  \n",
       "2      Artificial intelligence can find, map poverty,...  \n",
       "3      Uber balks at rules proposed by world’s busies...  \n",
       "4      he  didn't let me do \"that\" for a Klondike bar...  \n",
       "...                                                  ...  \n",
       "89995          Trump: Kasich shouldn't be allowed to run  \n",
       "89996            The last step at the top of the stairs.  \n",
       "89997  When someone said the first link from @thetrud...  \n",
       "89998  I speak the Word of God therefore because the ...  \n",
       "89999                       10 Things to Know for Monday  \n",
       "\n",
       "[90000 rows x 6 columns]"
      ]
     },
     "execution_count": 302,
     "metadata": {},
     "output_type": "execute_result"
    }
   ],
   "source": [
    "htag_list = hashtag_list(ira['text'])\n",
    "num_hashtags = htag_list.map(len)\n",
    "mc_hashtags = most_common_hashtag(htag_list)\n",
    "num_tags = []\n",
    "num_links = []\n",
    "is_retweet = []\n",
    "text = []\n",
    "for i in ira['text'].index:\n",
    "    t = ira['text'].loc[i]\n",
    "    num_tags.append(len(re.findall('\\@[^\\s]+', t)))\n",
    "    num_links.append(len(re.findall('http(s)://[^\\s]+', t)))\n",
    "    is_retweet.append(True if re.match(r'^RT\\s', t) else False)\n",
    "    text.append(clean_text(t))\n",
    "out = pd.DataFrame()\n",
    "out['num_hashtags'] = num_hashtags\n",
    "out['mc_hashtags'] = mc_hashtags\n",
    "out['num_tags'] = num_tags\n",
    "out['num_links'] = num_links\n",
    "out['is_retweet'] = is_retweet\n",
    "out['text'] = text\n",
    "out"
   ]
  },
  {
   "cell_type": "code",
   "execution_count": 321,
   "id": "1d235c8c",
   "metadata": {},
   "outputs": [],
   "source": [
    "testdata = [['RT @DSC80: Text-cleaning is cool! #NLP https://t.co/xsfdw88d #NLP1 #NLP1']]\n",
    "test = pd.DataFrame(testdata, columns=['text'])\n",
    "out = create_features(test)\n",
    "anscols = ['text', 'num_hashtags', 'mc_hashtags', 'num_tags', 'num_links', 'is_retweet']\n",
    "ansdata = [['text cleaning is cool', 3, 'NLP1', 1, 1, True]]\n",
    "ans = pd.DataFrame(ansdata, columns=anscols)\n"
   ]
  },
  {
   "cell_type": "code",
   "execution_count": 322,
   "id": "d7da102e",
   "metadata": {},
   "outputs": [
    {
     "data": {
      "text/html": [
       "<div>\n",
       "<style scoped>\n",
       "    .dataframe tbody tr th:only-of-type {\n",
       "        vertical-align: middle;\n",
       "    }\n",
       "\n",
       "    .dataframe tbody tr th {\n",
       "        vertical-align: top;\n",
       "    }\n",
       "\n",
       "    .dataframe thead th {\n",
       "        text-align: right;\n",
       "    }\n",
       "</style>\n",
       "<table border=\"1\" class=\"dataframe\">\n",
       "  <thead>\n",
       "    <tr style=\"text-align: right;\">\n",
       "      <th></th>\n",
       "      <th>text</th>\n",
       "      <th>num_hashtags</th>\n",
       "      <th>mc_hashtags</th>\n",
       "      <th>num_tags</th>\n",
       "      <th>num_links</th>\n",
       "      <th>is_retweet</th>\n",
       "    </tr>\n",
       "  </thead>\n",
       "  <tbody>\n",
       "    <tr>\n",
       "      <th>0</th>\n",
       "      <td>text cleaning is cool</td>\n",
       "      <td>3</td>\n",
       "      <td>NLP1</td>\n",
       "      <td>1</td>\n",
       "      <td>1</td>\n",
       "      <td>True</td>\n",
       "    </tr>\n",
       "  </tbody>\n",
       "</table>\n",
       "</div>"
      ],
      "text/plain": [
       "                    text  num_hashtags mc_hashtags  num_tags  num_links  \\\n",
       "0  text cleaning is cool             3        NLP1         1          1   \n",
       "\n",
       "   is_retweet  \n",
       "0        True  "
      ]
     },
     "execution_count": 322,
     "metadata": {},
     "output_type": "execute_result"
    }
   ],
   "source": [
    "out"
   ]
  },
  {
   "cell_type": "code",
   "execution_count": 323,
   "id": "e46a23b1",
   "metadata": {},
   "outputs": [
    {
     "data": {
      "text/html": [
       "<div>\n",
       "<style scoped>\n",
       "    .dataframe tbody tr th:only-of-type {\n",
       "        vertical-align: middle;\n",
       "    }\n",
       "\n",
       "    .dataframe tbody tr th {\n",
       "        vertical-align: top;\n",
       "    }\n",
       "\n",
       "    .dataframe thead th {\n",
       "        text-align: right;\n",
       "    }\n",
       "</style>\n",
       "<table border=\"1\" class=\"dataframe\">\n",
       "  <thead>\n",
       "    <tr style=\"text-align: right;\">\n",
       "      <th></th>\n",
       "      <th>text</th>\n",
       "      <th>num_hashtags</th>\n",
       "      <th>mc_hashtags</th>\n",
       "      <th>num_tags</th>\n",
       "      <th>num_links</th>\n",
       "      <th>is_retweet</th>\n",
       "    </tr>\n",
       "  </thead>\n",
       "  <tbody>\n",
       "    <tr>\n",
       "      <th>0</th>\n",
       "      <td>text cleaning is cool</td>\n",
       "      <td>3</td>\n",
       "      <td>NLP1</td>\n",
       "      <td>1</td>\n",
       "      <td>1</td>\n",
       "      <td>True</td>\n",
       "    </tr>\n",
       "  </tbody>\n",
       "</table>\n",
       "</div>"
      ],
      "text/plain": [
       "                    text  num_hashtags mc_hashtags  num_tags  num_links  \\\n",
       "0  text cleaning is cool             3        NLP1         1          1   \n",
       "\n",
       "   is_retweet  \n",
       "0        True  "
      ]
     },
     "execution_count": 323,
     "metadata": {},
     "output_type": "execute_result"
    }
   ],
   "source": [
    "ans"
   ]
  },
  {
   "cell_type": "code",
   "execution_count": 69,
   "id": "86bc335e",
   "metadata": {},
   "outputs": [
    {
     "data": {
      "text/html": [
       "<div>\n",
       "<style scoped>\n",
       "    .dataframe tbody tr th:only-of-type {\n",
       "        vertical-align: middle;\n",
       "    }\n",
       "\n",
       "    .dataframe tbody tr th {\n",
       "        vertical-align: top;\n",
       "    }\n",
       "\n",
       "    .dataframe thead th {\n",
       "        text-align: right;\n",
       "    }\n",
       "</style>\n",
       "<table border=\"1\" class=\"dataframe\">\n",
       "  <thead>\n",
       "    <tr style=\"text-align: right;\">\n",
       "      <th></th>\n",
       "      <th>text</th>\n",
       "      <th>num_hashtags</th>\n",
       "      <th>mc_hashtags</th>\n",
       "      <th>num_tags</th>\n",
       "      <th>num_links</th>\n",
       "      <th>is_retweet</th>\n",
       "    </tr>\n",
       "  </thead>\n",
       "  <tbody>\n",
       "    <tr>\n",
       "      <th>0</th>\n",
       "      <td>the best exercise to lose belly fat in 2 weeks</td>\n",
       "      <td>4</td>\n",
       "      <td>CatTV</td>\n",
       "      <td>0</td>\n",
       "      <td>2</td>\n",
       "      <td>False</td>\n",
       "    </tr>\n",
       "    <tr>\n",
       "      <th>1</th>\n",
       "      <td>dozens of hate groups have charity status chro...</td>\n",
       "      <td>0</td>\n",
       "      <td>NaN</td>\n",
       "      <td>1</td>\n",
       "      <td>1</td>\n",
       "      <td>True</td>\n",
       "    </tr>\n",
       "    <tr>\n",
       "      <th>2</th>\n",
       "      <td>artificial intelligence can find map poverty r...</td>\n",
       "      <td>1</td>\n",
       "      <td>tech</td>\n",
       "      <td>0</td>\n",
       "      <td>0</td>\n",
       "      <td>False</td>\n",
       "    </tr>\n",
       "    <tr>\n",
       "      <th>3</th>\n",
       "      <td>uber balks at rules proposed by world s busies...</td>\n",
       "      <td>1</td>\n",
       "      <td>news</td>\n",
       "      <td>0</td>\n",
       "      <td>0</td>\n",
       "      <td>False</td>\n",
       "    </tr>\n",
       "    <tr>\n",
       "      <th>4</th>\n",
       "      <td>he didn t let me do that for a klondike bar sc...</td>\n",
       "      <td>2</td>\n",
       "      <td>IHatePokemonGoBecause</td>\n",
       "      <td>1</td>\n",
       "      <td>1</td>\n",
       "      <td>True</td>\n",
       "    </tr>\n",
       "    <tr>\n",
       "      <th>...</th>\n",
       "      <td>...</td>\n",
       "      <td>...</td>\n",
       "      <td>...</td>\n",
       "      <td>...</td>\n",
       "      <td>...</td>\n",
       "      <td>...</td>\n",
       "    </tr>\n",
       "    <tr>\n",
       "      <th>89995</th>\n",
       "      <td>trump kasich shouldn t be allowed to run</td>\n",
       "      <td>1</td>\n",
       "      <td>politics</td>\n",
       "      <td>0</td>\n",
       "      <td>1</td>\n",
       "      <td>False</td>\n",
       "    </tr>\n",
       "    <tr>\n",
       "      <th>89996</th>\n",
       "      <td>the last step at the top of the stairs</td>\n",
       "      <td>1</td>\n",
       "      <td>ThingsYouCantIgnore</td>\n",
       "      <td>1</td>\n",
       "      <td>0</td>\n",
       "      <td>True</td>\n",
       "    </tr>\n",
       "    <tr>\n",
       "      <th>89997</th>\n",
       "      <td>when someone said the first link from thetrudz...</td>\n",
       "      <td>0</td>\n",
       "      <td>NaN</td>\n",
       "      <td>2</td>\n",
       "      <td>0</td>\n",
       "      <td>True</td>\n",
       "    </tr>\n",
       "    <tr>\n",
       "      <th>89998</th>\n",
       "      <td>i speak the word of god therefore because the ...</td>\n",
       "      <td>1</td>\n",
       "      <td>rantfortoday</td>\n",
       "      <td>1</td>\n",
       "      <td>0</td>\n",
       "      <td>True</td>\n",
       "    </tr>\n",
       "    <tr>\n",
       "      <th>89999</th>\n",
       "      <td>10 things to know for monday</td>\n",
       "      <td>1</td>\n",
       "      <td>news</td>\n",
       "      <td>0</td>\n",
       "      <td>1</td>\n",
       "      <td>False</td>\n",
       "    </tr>\n",
       "  </tbody>\n",
       "</table>\n",
       "<p>90000 rows × 6 columns</p>\n",
       "</div>"
      ],
      "text/plain": [
       "                                                    text  num_hashtags  \\\n",
       "0         the best exercise to lose belly fat in 2 weeks             4   \n",
       "1      dozens of hate groups have charity status chro...             0   \n",
       "2      artificial intelligence can find map poverty r...             1   \n",
       "3      uber balks at rules proposed by world s busies...             1   \n",
       "4      he didn t let me do that for a klondike bar sc...             2   \n",
       "...                                                  ...           ...   \n",
       "89995           trump kasich shouldn t be allowed to run             1   \n",
       "89996             the last step at the top of the stairs             1   \n",
       "89997  when someone said the first link from thetrudz...             0   \n",
       "89998  i speak the word of god therefore because the ...             1   \n",
       "89999                       10 things to know for monday             1   \n",
       "\n",
       "                 mc_hashtags  num_tags  num_links  is_retweet  \n",
       "0                      CatTV         0          2       False  \n",
       "1                        NaN         1          1        True  \n",
       "2                       tech         0          0       False  \n",
       "3                       news         0          0       False  \n",
       "4      IHatePokemonGoBecause         1          1        True  \n",
       "...                      ...       ...        ...         ...  \n",
       "89995               politics         0          1       False  \n",
       "89996    ThingsYouCantIgnore         1          0        True  \n",
       "89997                    NaN         2          0        True  \n",
       "89998           rantfortoday         1          0        True  \n",
       "89999                   news         0          1       False  \n",
       "\n",
       "[90000 rows x 6 columns]"
      ]
     },
     "execution_count": 69,
     "metadata": {},
     "output_type": "execute_result"
    }
   ],
   "source": [
    "create_features(ira)"
   ]
  },
  {
   "cell_type": "code",
   "execution_count": 324,
   "id": "attractive-championship",
   "metadata": {
    "deletable": false,
    "editable": false
   },
   "outputs": [
    {
     "data": {
      "text/html": [
       "<p><strong><pre style='display: inline;'>q5</pre></strong> passed!</p>"
      ],
      "text/plain": [
       "q5 results: All test cases passed!"
      ]
     },
     "execution_count": 324,
     "metadata": {},
     "output_type": "execute_result"
    }
   ],
   "source": [
    "grader.check(\"q5\")"
   ]
  },
  {
   "cell_type": "markdown",
   "id": "driven-crazy",
   "metadata": {
    "deletable": false,
    "editable": false
   },
   "source": [
    "---\n",
    "\n",
    "To double-check your work, the cell below will rerun all of the autograder tests."
   ]
  },
  {
   "cell_type": "code",
   "execution_count": 325,
   "id": "addressed-burton",
   "metadata": {
    "deletable": false,
    "editable": false
   },
   "outputs": [
    {
     "data": {
      "text/plain": [
       "q1 results: All test cases passed!\n",
       "\n",
       "q2 results: All test cases passed!\n",
       "\n",
       "q3 results: All test cases passed!\n",
       "\n",
       "q4 results: All test cases passed!\n",
       "\n",
       "q5 results: All test cases passed!"
      ]
     },
     "execution_count": 325,
     "metadata": {},
     "output_type": "execute_result"
    }
   ],
   "source": [
    "grader.check_all()"
   ]
  },
  {
   "cell_type": "code",
   "execution_count": null,
   "id": "2ee44037",
   "metadata": {},
   "outputs": [],
   "source": []
  }
 ],
 "metadata": {
  "kernelspec": {
   "display_name": "Python 3",
   "language": "python",
   "name": "python3"
  },
  "language_info": {
   "codemirror_mode": {
    "name": "ipython",
    "version": 3
   },
   "file_extension": ".py",
   "mimetype": "text/x-python",
   "name": "python",
   "nbconvert_exporter": "python",
   "pygments_lexer": "ipython3",
   "version": "3.8.8"
  },
  "otter": {
   "tests": {
    "q1": {
     "name": "q1",
     "points": null,
     "suites": [
      {
       "cases": [
        {
         "code": ">>> import doctest\n>>> doctest.run_docstring_examples(match_1, {'match_1': match_1})\n>>> doctest.run_docstring_examples(match_2, {'match_2': match_2})\n>>> doctest.run_docstring_examples(match_3, {'match_3': match_3})\n>>> doctest.run_docstring_examples(match_4, {'match_4': match_4})\n>>> doctest.run_docstring_examples(match_5, {'match_5': match_5})\n>>> doctest.run_docstring_examples(match_6, {'match_6': match_6})\n>>> doctest.run_docstring_examples(match_7, {'match_7': match_7})\n>>> doctest.run_docstring_examples(match_8, {'match_8': match_8})\n>>> doctest.run_docstring_examples(match_9, {'match_9': match_9})\n>>> doctest.run_docstring_examples(match_10, {'match_10': match_10})\n",
         "hidden": false,
         "locked": false
        }
       ],
       "scored": true,
       "setup": "",
       "teardown": "",
       "type": "doctest"
      }
     ]
    },
    "q2": {
     "name": "q2",
     "points": null,
     "suites": [
      {
       "cases": [
        {
         "code": ">>> import doctest\n>>> doctest.run_docstring_examples(extract_personal, {'extract_personal': extract_personal, 're': re, 'os': os})\n",
         "hidden": false,
         "locked": false
        }
       ],
       "scored": true,
       "setup": "",
       "teardown": "",
       "type": "doctest"
      }
     ]
    },
    "q3": {
     "name": "q3",
     "points": null,
     "suites": [
      {
       "cases": [
        {
         "code": ">>> import doctest\n>>> doctest.run_docstring_examples(tfidf_data, {'tfidf_data': tfidf_data, 'os': os, 'pd': pd})\n>>> doctest.run_docstring_examples(relevant_word, {'relevant_word': relevant_word, 'os': os, 'tfidf_data': tfidf_data, 'pd': pd})\n",
         "hidden": false,
         "locked": false
        }
       ],
       "scored": true,
       "setup": "",
       "teardown": "",
       "type": "doctest"
      }
     ]
    },
    "q4": {
     "name": "q4",
     "points": null,
     "suites": [
      {
       "cases": [
        {
         "code": ">>> import doctest\n>>> doctest.run_docstring_examples(hashtag_list, {'hashtag_list': hashtag_list, 'pd': pd})\n>>> doctest.run_docstring_examples(most_common_hashtag, {'most_common_hashtag': most_common_hashtag, 'hashtag_list': hashtag_list, 'pd': pd})\n",
         "hidden": false,
         "locked": false
        }
       ],
       "scored": true,
       "setup": "",
       "teardown": "",
       "type": "doctest"
      }
     ]
    },
    "q5": {
     "name": "q5",
     "points": null,
     "suites": [
      {
       "cases": [
        {
         "code": ">>> import doctest\n>>> doctest.run_docstring_examples(create_features, {'create_features': create_features, 'pd': pd})\n",
         "hidden": false,
         "locked": false
        }
       ],
       "scored": true,
       "setup": "",
       "teardown": "",
       "type": "doctest"
      }
     ]
    }
   }
  },
  "toc": {
   "base_numbering": 1,
   "nav_menu": {},
   "number_sections": true,
   "sideBar": true,
   "skip_h1_title": false,
   "title_cell": "Table of Contents",
   "title_sidebar": "Contents",
   "toc_cell": false,
   "toc_position": {},
   "toc_section_display": true,
   "toc_window_display": false
  },
  "varInspector": {
   "cols": {
    "lenName": 16,
    "lenType": 16,
    "lenVar": 40
   },
   "kernels_config": {
    "python": {
     "delete_cmd_postfix": "",
     "delete_cmd_prefix": "del ",
     "library": "var_list.py",
     "varRefreshCmd": "print(var_dic_list())"
    },
    "r": {
     "delete_cmd_postfix": ") ",
     "delete_cmd_prefix": "rm(",
     "library": "var_list.r",
     "varRefreshCmd": "cat(var_dic_list()) "
    }
   },
   "types_to_exclude": [
    "module",
    "function",
    "builtin_function_or_method",
    "instance",
    "_Feature"
   ],
   "window_display": false
  }
 },
 "nbformat": 4,
 "nbformat_minor": 5
}
