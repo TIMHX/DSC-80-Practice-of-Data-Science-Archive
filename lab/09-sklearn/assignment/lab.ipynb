{
 "cells": [
  {
   "cell_type": "code",
   "execution_count": 1,
   "id": "preliminary-inside",
   "metadata": {
    "deletable": false,
    "editable": false
   },
   "outputs": [],
   "source": [
    "# Initialize Otter\n",
    "import otter\n",
    "grader = otter.Notebook(\"lab.ipynb\")"
   ]
  },
  {
   "cell_type": "markdown",
   "id": "frank-placement",
   "metadata": {},
   "source": [
    "# DSC 80: Lab 09\n",
    "\n",
    "### Due Date: Monday, November 29th, 11:59PM"
   ]
  },
  {
   "cell_type": "markdown",
   "id": "senior-briefs",
   "metadata": {},
   "source": [
    "## Instructions\n",
    "Much like in DSC 10, this Jupyter Notebook contains the statements of the problems and provides code and markdown cells to display your answers to the problems. Unlike DSC 10, the notebook is *only* for displaying a readable version of your final answers. The coding work will be developed in an accompanying `lab*.py` file, that will be imported into the current notebook.\n",
    "\n",
    "Labs and programming assignments will be graded in (at most) two ways:\n",
    "1. The functions and classes in the accompanying python file will be tested (a la DSC 20),\n",
    "2. The notebook will be graded (for graphs and free response questions).\n",
    "\n",
    "**Do not change the function names in the `*.py` file**\n",
    "- The functions in the `*.py` file are how your assignment is graded, and they are graded by their name. The dictionary at the end of the file (`GRADED FUNCTIONS`) contains the \"grading list\". The final function in the file allows your doctests to check that all the necessary functions exist.\n",
    "- If you changed something you weren't supposed to, just use git to revert!\n",
    "\n",
    "**Tips for working in the Notebook**:\n",
    "- The notebooks serve to present you the questions and give you a place to present your results for later review.\n",
    "- The notebook on *lab assignments* are not graded (only the `.py` file).\n",
    "- Notebooks for PAs will serve as a final report for the assignment, and contain conclusions and answers to open ended questions that are graded.\n",
    "- The notebook serves as a nice environment for 'pre-development' and experimentation before designing your function in your `.py` file.\n",
    "\n",
    "**Tips for developing in the .py file**:\n",
    "- Do not change the function names in the starter code; grading is done using these function names.\n",
    "- Do not change the docstrings in the functions. These are there to tell you if your work is on the right track!\n",
    "- You are encouraged to write your own additional functions to solve the lab! \n",
    "    - Developing in python usually consists of larger files, with many short functions.\n",
    "    - You may write your other functions in an additional `.py` file that you import in `lab.py` (much like we do in the notebook).\n",
    "- Always document your code!"
   ]
  },
  {
   "cell_type": "markdown",
   "id": "clear-environment",
   "metadata": {},
   "source": [
    "### Importing code from `lab.py`\n",
    "\n",
    "* We import our `.py` file that's contained in the same directory as this notebook.\n",
    "* We use the `autoreload` notebook extension to make changes to our `lab.py` file immediately available in our notebook. Without this extension, we would need to restart the notebook kernel to see any changes to `lab.py` in the notebook.\n",
    "    - `autoreload` is necessary because, upon import, `lab.py` is compiled to bytecode (in the directory `__pycache__`). Subsequent imports of `lab` merely import the existing compiled python."
   ]
  },
  {
   "cell_type": "code",
   "execution_count": 2,
   "id": "rural-hands",
   "metadata": {},
   "outputs": [],
   "source": [
    "%load_ext autoreload\n",
    "%autoreload 2"
   ]
  },
  {
   "cell_type": "code",
   "execution_count": 3,
   "id": "dried-contamination",
   "metadata": {},
   "outputs": [],
   "source": [
    "from lab import *"
   ]
  },
  {
   "cell_type": "code",
   "execution_count": 5,
   "id": "fifty-skill",
   "metadata": {},
   "outputs": [],
   "source": [
    "%matplotlib inline\n",
    "import pandas as pd\n",
    "import numpy as np\n",
    "import seaborn as sns\n",
    "import os\n",
    "\n",
    "from sklearn.linear_model import LinearRegression\n",
    "from sklearn.preprocessing import FunctionTransformer\n",
    "from sklearn.preprocessing import OneHotEncoder\n",
    "from sklearn.pipeline import Pipeline\n",
    "from sklearn.compose import ColumnTransformer\n",
    "from sklearn.tree import DecisionTreeClassifier"
   ]
  },
  {
   "cell_type": "markdown",
   "id": "swedish-navigation",
   "metadata": {},
   "source": [
    "# Getting Acquainted with `sklearn` Pipelines\n",
    "\n",
    "The file `data/toy.csv` contains toy data that consists of 4 columns:\n",
    "```\n",
    "group: a categorical column with 3 categories\n",
    "c1: a numeric attribute\n",
    "c2: a numeric attribute\n",
    "y: the target variable (that you want to predict) \n",
    "```\n",
    "\n",
    "In the following questions, you will build ML pipelines that combine feature engineering with a simple linear regression model."
   ]
  },
  {
   "cell_type": "code",
   "execution_count": 5,
   "id": "green-observation",
   "metadata": {
    "scrolled": true
   },
   "outputs": [
    {
     "data": {
      "text/html": [
       "<div>\n",
       "<style scoped>\n",
       "    .dataframe tbody tr th:only-of-type {\n",
       "        vertical-align: middle;\n",
       "    }\n",
       "\n",
       "    .dataframe tbody tr th {\n",
       "        vertical-align: top;\n",
       "    }\n",
       "\n",
       "    .dataframe thead th {\n",
       "        text-align: right;\n",
       "    }\n",
       "</style>\n",
       "<table border=\"1\" class=\"dataframe\">\n",
       "  <thead>\n",
       "    <tr style=\"text-align: right;\">\n",
       "      <th></th>\n",
       "      <th>group</th>\n",
       "      <th>c1</th>\n",
       "      <th>c2</th>\n",
       "      <th>y</th>\n",
       "    </tr>\n",
       "  </thead>\n",
       "  <tbody>\n",
       "    <tr>\n",
       "      <th>0</th>\n",
       "      <td>B</td>\n",
       "      <td>4.058118</td>\n",
       "      <td>5.329582</td>\n",
       "      <td>12.649035</td>\n",
       "    </tr>\n",
       "    <tr>\n",
       "      <th>1</th>\n",
       "      <td>A</td>\n",
       "      <td>4.194945</td>\n",
       "      <td>3.839476</td>\n",
       "      <td>17.309083</td>\n",
       "    </tr>\n",
       "    <tr>\n",
       "      <th>2</th>\n",
       "      <td>A</td>\n",
       "      <td>2.246411</td>\n",
       "      <td>10.694666</td>\n",
       "      <td>15.695646</td>\n",
       "    </tr>\n",
       "    <tr>\n",
       "      <th>3</th>\n",
       "      <td>B</td>\n",
       "      <td>2.510912</td>\n",
       "      <td>6.414960</td>\n",
       "      <td>11.535752</td>\n",
       "    </tr>\n",
       "    <tr>\n",
       "      <th>4</th>\n",
       "      <td>B</td>\n",
       "      <td>3.194722</td>\n",
       "      <td>6.116839</td>\n",
       "      <td>14.954389</td>\n",
       "    </tr>\n",
       "  </tbody>\n",
       "</table>\n",
       "</div>"
      ],
      "text/plain": [
       "  group        c1         c2          y\n",
       "0     B  4.058118   5.329582  12.649035\n",
       "1     A  4.194945   3.839476  17.309083\n",
       "2     A  2.246411  10.694666  15.695646\n",
       "3     B  2.510912   6.414960  11.535752\n",
       "4     B  3.194722   6.116839  14.954389"
      ]
     },
     "execution_count": 5,
     "metadata": {},
     "output_type": "execute_result"
    }
   ],
   "source": [
    "fp = os.path.join('data', 'toy.csv')\n",
    "data = pd.read_csv(fp)\n",
    "data.head()"
   ]
  },
  {
   "cell_type": "markdown",
   "id": "bored-cradle",
   "metadata": {},
   "source": [
    "**Question 1**\n",
    "\n",
    "First, you will train a regression model using only a *log-scaled* `c2` variable. Create a simple pipeline that:\n",
    "1. log-scales `c2`, then\n",
    "2. predicts `y` using a linear regression model (using your transformed `c2`).\n",
    "\n",
    "That is, create a function `simple_pipeline` that takes in a dataframe like `data` and returns a tuple consisting of the pipeline and the predictions your model makes on `data` (as trained on `data`)."
   ]
  },
  {
   "cell_type": "code",
   "execution_count": 32,
   "id": "6c1f14d0",
   "metadata": {
    "scrolled": true
   },
   "outputs": [],
   "source": [
    "fp = os.path.join('data', 'toy.csv')\n",
    "data = pd.read_csv(fp)\n",
    "# simple_pipeline(data)"
   ]
  },
  {
   "cell_type": "code",
   "execution_count": 127,
   "id": "located-validation",
   "metadata": {
    "deletable": false,
    "editable": false
   },
   "outputs": [
    {
     "data": {
      "text/html": [
       "<p><strong><pre style='display: inline;'>q1</pre></strong> passed!</p>"
      ],
      "text/plain": [
       "q1 results: All test cases passed!"
      ]
     },
     "execution_count": 127,
     "metadata": {},
     "output_type": "execute_result"
    }
   ],
   "source": [
    "grader.check(\"q1\")"
   ]
  },
  {
   "cell_type": "markdown",
   "id": "local-thermal",
   "metadata": {},
   "source": [
    "**Question 2**\n",
    "\n",
    "Now, you will engineer features from the other columns and use them to train a regression model.  Create a pipeline that:\n",
    "1. uses `c1` as is,\n",
    "1. log-scales `c2`,\n",
    "1. one-hot encodes `group`,\n",
    "1. predicts `y` using a linear regression model built on the three variable-classes above.\n",
    "\n",
    "Use `ColumnTransformer` to put together all the column-specific preprocessing steps into a single set of features for fitting the regression model.\n",
    "\n",
    "That is, create a function `multi_type_pipeline` that takes in a dataframe like `data` and returns a tuple consisting of the pipeline and the predictions your model makes on `data` (as trained on `data`).\n"
   ]
  },
  {
   "cell_type": "code",
   "execution_count": 108,
   "id": "pleased-peter",
   "metadata": {},
   "outputs": [
    {
     "data": {
      "text/html": [
       "<div>\n",
       "<style scoped>\n",
       "    .dataframe tbody tr th:only-of-type {\n",
       "        vertical-align: middle;\n",
       "    }\n",
       "\n",
       "    .dataframe tbody tr th {\n",
       "        vertical-align: top;\n",
       "    }\n",
       "\n",
       "    .dataframe thead th {\n",
       "        text-align: right;\n",
       "    }\n",
       "</style>\n",
       "<table border=\"1\" class=\"dataframe\">\n",
       "  <thead>\n",
       "    <tr style=\"text-align: right;\">\n",
       "      <th></th>\n",
       "      <th>group</th>\n",
       "      <th>c1</th>\n",
       "      <th>c2</th>\n",
       "      <th>y</th>\n",
       "    </tr>\n",
       "  </thead>\n",
       "  <tbody>\n",
       "    <tr>\n",
       "      <th>0</th>\n",
       "      <td>B</td>\n",
       "      <td>4.058118</td>\n",
       "      <td>5.329582</td>\n",
       "      <td>12.649035</td>\n",
       "    </tr>\n",
       "    <tr>\n",
       "      <th>1</th>\n",
       "      <td>A</td>\n",
       "      <td>4.194945</td>\n",
       "      <td>3.839476</td>\n",
       "      <td>17.309083</td>\n",
       "    </tr>\n",
       "    <tr>\n",
       "      <th>2</th>\n",
       "      <td>A</td>\n",
       "      <td>2.246411</td>\n",
       "      <td>10.694666</td>\n",
       "      <td>15.695646</td>\n",
       "    </tr>\n",
       "    <tr>\n",
       "      <th>3</th>\n",
       "      <td>B</td>\n",
       "      <td>2.510912</td>\n",
       "      <td>6.414960</td>\n",
       "      <td>11.535752</td>\n",
       "    </tr>\n",
       "    <tr>\n",
       "      <th>4</th>\n",
       "      <td>B</td>\n",
       "      <td>3.194722</td>\n",
       "      <td>6.116839</td>\n",
       "      <td>14.954389</td>\n",
       "    </tr>\n",
       "    <tr>\n",
       "      <th>...</th>\n",
       "      <td>...</td>\n",
       "      <td>...</td>\n",
       "      <td>...</td>\n",
       "      <td>...</td>\n",
       "    </tr>\n",
       "    <tr>\n",
       "      <th>995</th>\n",
       "      <td>C</td>\n",
       "      <td>0.436382</td>\n",
       "      <td>2.718282</td>\n",
       "      <td>7.725205</td>\n",
       "    </tr>\n",
       "    <tr>\n",
       "      <th>996</th>\n",
       "      <td>A</td>\n",
       "      <td>3.121212</td>\n",
       "      <td>8.636007</td>\n",
       "      <td>17.852916</td>\n",
       "    </tr>\n",
       "    <tr>\n",
       "      <th>997</th>\n",
       "      <td>B</td>\n",
       "      <td>2.215070</td>\n",
       "      <td>7.197776</td>\n",
       "      <td>13.864179</td>\n",
       "    </tr>\n",
       "    <tr>\n",
       "      <th>998</th>\n",
       "      <td>C</td>\n",
       "      <td>2.002297</td>\n",
       "      <td>2.718282</td>\n",
       "      <td>7.826493</td>\n",
       "    </tr>\n",
       "    <tr>\n",
       "      <th>999</th>\n",
       "      <td>C</td>\n",
       "      <td>1.932084</td>\n",
       "      <td>2.718282</td>\n",
       "      <td>6.611313</td>\n",
       "    </tr>\n",
       "  </tbody>\n",
       "</table>\n",
       "<p>1000 rows × 4 columns</p>\n",
       "</div>"
      ],
      "text/plain": [
       "    group        c1         c2          y\n",
       "0       B  4.058118   5.329582  12.649035\n",
       "1       A  4.194945   3.839476  17.309083\n",
       "2       A  2.246411  10.694666  15.695646\n",
       "3       B  2.510912   6.414960  11.535752\n",
       "4       B  3.194722   6.116839  14.954389\n",
       "..    ...       ...        ...        ...\n",
       "995     C  0.436382   2.718282   7.725205\n",
       "996     A  3.121212   8.636007  17.852916\n",
       "997     B  2.215070   7.197776  13.864179\n",
       "998     C  2.002297   2.718282   7.826493\n",
       "999     C  1.932084   2.718282   6.611313\n",
       "\n",
       "[1000 rows x 4 columns]"
      ]
     },
     "execution_count": 108,
     "metadata": {},
     "output_type": "execute_result"
    }
   ],
   "source": [
    "fp = os.path.join('data', 'toy.csv')\n",
    "data = pd.read_csv(fp)\n",
    "data"
   ]
  },
  {
   "cell_type": "code",
   "execution_count": null,
   "id": "51657b8e",
   "metadata": {},
   "outputs": [],
   "source": []
  },
  {
   "cell_type": "code",
   "execution_count": null,
   "id": "structural-wright",
   "metadata": {},
   "outputs": [],
   "source": []
  },
  {
   "cell_type": "code",
   "execution_count": 128,
   "id": "forced-tolerance",
   "metadata": {
    "deletable": false,
    "editable": false
   },
   "outputs": [
    {
     "data": {
      "text/html": [
       "<p><strong><pre style='display: inline;'>q2</pre></strong> passed!</p>"
      ],
      "text/plain": [
       "q2 results: All test cases passed!"
      ]
     },
     "execution_count": 128,
     "metadata": {},
     "output_type": "execute_result"
    }
   ],
   "source": [
    "grader.check(\"q2\")"
   ]
  },
  {
   "cell_type": "markdown",
   "id": "antique-coordination",
   "metadata": {},
   "source": [
    "**Question 3**\n",
    "\n",
    "Notice that `c1` and `c2` have strong associations with the values of `group` (e.g. try `sns.scatterplot` of `c1` and `y`, with `hue='group'`). This suggests that group-wise scaling might make good features. \n",
    "\n",
    "In this question, you will `z-scale` both `c1` and `c2` *within* each group `A,B,C`. However, `sklearn` doesn't include this transformer, so it will be necessary to *create your own*. In the starter code, is a skeleton for creating your own `sklearn` transformer class; you will need to create your own `transformer` and `fit` methods.\n",
    "\n",
    "* You will create `StdScalerByGroup` that fits/transforms input data `X` whose first column contains the groups; the other columns are numeric and will be z-scaled within each group.\n",
    "* The `fit` method should determine the mean and sample standard-deviation of each group value in the input data `X` and save them in the instance variable `grps_`.\n",
    "* The `transform` method takes in data `X` and z-scales the columns using the mean/std saved in `grps_`.\n",
    "\n",
    "*Note:* You may decide on whatever structure you'd like for the `grps_` variable. This question will be graded on the correctness of the output. (Check the correctness of your work by checking the output by-hand!)\n",
    "\n",
    "*Note:* A reminder that avoid using loops over long iterable subjects!\n",
    "\n",
    "*Note:* The `group` column in the doctest is named 'g' instead of 'group'. Remember, the first column will **always** contain the groups (even if the name is different)\n",
    "\n",
    "*Note:* Do not worry about cases where the std = 0."
   ]
  },
  {
   "cell_type": "code",
   "execution_count": 65,
   "id": "objective-complement",
   "metadata": {},
   "outputs": [
    {
     "data": {
      "text/plain": [
       "{'A': {'c1_mean': 1.5,\n",
       "  'c2_mean': 2.0,\n",
       "  'c1_sd': 0.7071067811865476,\n",
       "  'c2_sd': 1.4142135623730951},\n",
       " 'B': {'c1_mean': 2.0,\n",
       "  'c2_mean': 1.0,\n",
       "  'c1_sd': 0.0,\n",
       "  'c2_sd': 1.4142135623730951}}"
      ]
     },
     "execution_count": 65,
     "metadata": {},
     "output_type": "execute_result"
    }
   ],
   "source": [
    "cols = {'g': ['A', 'A', 'B', 'B'], 'c1': [1, 2, 2, 2], 'c2': [3, 1, 2, 0]}\n",
    "df = pd.DataFrame(cols)\n",
    "std = StdScalerByGroup().fit(df)\n",
    "mean_df = df.groupby(df.columns[0]).mean()\n",
    "sd_df = df.groupby(df.columns[0]).std()\n",
    "combine_df = mean_df.merge(sd_df, on = 'g')\n",
    "combine_df.columns = ['c1_mean', 'c2_mean', 'c1_sd', 'c2_sd']\n",
    "combine_df.to_dict(orient = 'index')"
   ]
  },
  {
   "cell_type": "code",
   "execution_count": 66,
   "id": "44e3c950",
   "metadata": {},
   "outputs": [
    {
     "data": {
      "text/html": [
       "<div>\n",
       "<style scoped>\n",
       "    .dataframe tbody tr th:only-of-type {\n",
       "        vertical-align: middle;\n",
       "    }\n",
       "\n",
       "    .dataframe tbody tr th {\n",
       "        vertical-align: top;\n",
       "    }\n",
       "\n",
       "    .dataframe thead th {\n",
       "        text-align: right;\n",
       "    }\n",
       "</style>\n",
       "<table border=\"1\" class=\"dataframe\">\n",
       "  <thead>\n",
       "    <tr style=\"text-align: right;\">\n",
       "      <th></th>\n",
       "      <th>g</th>\n",
       "      <th>c1</th>\n",
       "      <th>c2</th>\n",
       "    </tr>\n",
       "  </thead>\n",
       "  <tbody>\n",
       "    <tr>\n",
       "      <th>0</th>\n",
       "      <td>A</td>\n",
       "      <td>1</td>\n",
       "      <td>3</td>\n",
       "    </tr>\n",
       "    <tr>\n",
       "      <th>1</th>\n",
       "      <td>A</td>\n",
       "      <td>2</td>\n",
       "      <td>1</td>\n",
       "    </tr>\n",
       "    <tr>\n",
       "      <th>2</th>\n",
       "      <td>B</td>\n",
       "      <td>2</td>\n",
       "      <td>2</td>\n",
       "    </tr>\n",
       "    <tr>\n",
       "      <th>3</th>\n",
       "      <td>B</td>\n",
       "      <td>2</td>\n",
       "      <td>0</td>\n",
       "    </tr>\n",
       "  </tbody>\n",
       "</table>\n",
       "</div>"
      ],
      "text/plain": [
       "   g  c1  c2\n",
       "0  A   1   3\n",
       "1  A   2   1\n",
       "2  B   2   2\n",
       "3  B   2   0"
      ]
     },
     "execution_count": 66,
     "metadata": {},
     "output_type": "execute_result"
    }
   ],
   "source": [
    "df"
   ]
  },
  {
   "cell_type": "code",
   "execution_count": 68,
   "id": "bfac8bea",
   "metadata": {},
   "outputs": [],
   "source": [
    "q3_fit_out = StdScalerByGroup()\n",
    "q3_fit_out.fit(df)\n",
    "feats = q3_fit_out.transform(df)"
   ]
  },
  {
   "cell_type": "code",
   "execution_count": 70,
   "id": "c6537e21",
   "metadata": {},
   "outputs": [
    {
     "data": {
      "text/html": [
       "<div>\n",
       "<style scoped>\n",
       "    .dataframe tbody tr th:only-of-type {\n",
       "        vertical-align: middle;\n",
       "    }\n",
       "\n",
       "    .dataframe tbody tr th {\n",
       "        vertical-align: top;\n",
       "    }\n",
       "\n",
       "    .dataframe thead th {\n",
       "        text-align: right;\n",
       "    }\n",
       "</style>\n",
       "<table border=\"1\" class=\"dataframe\">\n",
       "  <thead>\n",
       "    <tr style=\"text-align: right;\">\n",
       "      <th></th>\n",
       "      <th>c1</th>\n",
       "      <th>c2</th>\n",
       "    </tr>\n",
       "  </thead>\n",
       "  <tbody>\n",
       "    <tr>\n",
       "      <th>0</th>\n",
       "      <td>-0.707107</td>\n",
       "      <td>0.707107</td>\n",
       "    </tr>\n",
       "    <tr>\n",
       "      <th>1</th>\n",
       "      <td>0.707107</td>\n",
       "      <td>-0.707107</td>\n",
       "    </tr>\n",
       "    <tr>\n",
       "      <th>2</th>\n",
       "      <td>NaN</td>\n",
       "      <td>0.707107</td>\n",
       "    </tr>\n",
       "    <tr>\n",
       "      <th>3</th>\n",
       "      <td>NaN</td>\n",
       "      <td>-0.707107</td>\n",
       "    </tr>\n",
       "  </tbody>\n",
       "</table>\n",
       "</div>"
      ],
      "text/plain": [
       "         c1        c2\n",
       "0 -0.707107  0.707107\n",
       "1  0.707107 -0.707107\n",
       "2       NaN  0.707107\n",
       "3       NaN -0.707107"
      ]
     },
     "execution_count": 70,
     "metadata": {},
     "output_type": "execute_result"
    }
   ],
   "source": [
    "feats"
   ]
  },
  {
   "cell_type": "code",
   "execution_count": 69,
   "id": "38421f38",
   "metadata": {},
   "outputs": [
    {
     "data": {
      "text/plain": [
       "array([False, False])"
      ]
     },
     "execution_count": 69,
     "metadata": {},
     "output_type": "execute_result"
    }
   ],
   "source": [
    "np.isclose(feats.max(), 11.499, atol=0.01)"
   ]
  },
  {
   "cell_type": "code",
   "execution_count": 129,
   "id": "double-joining",
   "metadata": {
    "deletable": false,
    "editable": false
   },
   "outputs": [
    {
     "data": {
      "text/html": [
       "<p><strong><pre style='display: inline;'>q3</pre></strong> passed!</p>"
      ],
      "text/plain": [
       "q3 results: All test cases passed!"
      ]
     },
     "execution_count": 129,
     "metadata": {},
     "output_type": "execute_result"
    }
   ],
   "source": [
    "grader.check(\"q3\")"
   ]
  },
  {
   "cell_type": "markdown",
   "id": "trained-genetics",
   "metadata": {},
   "source": [
    "**Question 4**\n",
    "\n",
    "Pipelines are supposed to help you easily try different model configurations. Create a function `eval_toy_model` which returns a hard-coded list of tuples consisting of the (RMSE, $R^2$) of 3 different modeling pipelines (fit and evaluated on the entire input `data`). The three different models are:\n",
    "1. The pipeline in Question 1\n",
    "1. The pipeline in Question 2\n",
    "1. A pipeline consisting of a linear regression model fit on features generated by applying `StdScalerByGroup` to `c1`, log-scaling `c2`, and applying `OneHotEncoder` to `group`."
   ]
  },
  {
   "cell_type": "code",
   "execution_count": 149,
   "id": "70edb0f1",
   "metadata": {},
   "outputs": [
    {
     "data": {
      "text/plain": [
       "2.3518910318553568"
      ]
     },
     "execution_count": 149,
     "metadata": {},
     "output_type": "execute_result"
    }
   ],
   "source": [
    "num_feat_1 = ['c1']\n",
    "num_transformer_1 = Pipeline(steps=[\n",
    "        ('scaler', StdScalerByGroup()),\n",
    "    ])\n",
    "\n",
    "num_feat_2 = ['c2']\n",
    "num_transformer_2 = Pipeline(steps=[\n",
    "        ('scaler', FunctionTransformer(np.log)),\n",
    "    ])\n",
    "\n",
    "cat_feat = ['group']\n",
    "cat_transformer = Pipeline(steps=[\n",
    "        ('onehot', OneHotEncoder())  # output from Ordinal becomes input to OneHot\n",
    "    ])\n",
    "\n",
    "preproc = ColumnTransformer(\n",
    "transformers=[\n",
    "            ('num_1', num_transformer_1, num_feat_1),\n",
    "            ('num_2', num_transformer_2, num_feat_2),\n",
    "            ('cat', cat_transformer, cat_feat)\n",
    "        ])\n",
    "\n",
    "pl = Pipeline(steps=[('preprocessor', preproc), ('regressor', LinearRegression())])\n",
    "\n",
    "pl.fit(data[['group', 'c1', 'c2']], data.y)\n",
    "predict = pl.predict(data[['group', 'c1', 'c2']])\n",
    "np.sqrt(np.mean((predict - data.y)**2))"
   ]
  },
  {
   "cell_type": "code",
   "execution_count": 145,
   "id": "81ae02c8",
   "metadata": {},
   "outputs": [
    {
     "data": {
      "text/plain": [
       "0.39558507345910754"
      ]
     },
     "execution_count": 145,
     "metadata": {},
     "output_type": "execute_result"
    }
   ],
   "source": [
    "simple_pipeline(data)[0].score(np.array(data.c2).reshape(-1, 1), data.y)"
   ]
  },
  {
   "cell_type": "code",
   "execution_count": 150,
   "id": "71a915bf",
   "metadata": {},
   "outputs": [
    {
     "data": {
      "text/plain": [
       "0.5595545806280607"
      ]
     },
     "execution_count": 150,
     "metadata": {},
     "output_type": "execute_result"
    }
   ],
   "source": [
    "pl.score(data.drop('y', axis=1), data.y)"
   ]
  },
  {
   "cell_type": "code",
   "execution_count": 156,
   "id": "9c3461ee",
   "metadata": {},
   "outputs": [
    {
     "data": {
      "text/plain": [
       "0.5733249315673331"
      ]
     },
     "execution_count": 156,
     "metadata": {},
     "output_type": "execute_result"
    }
   ],
   "source": [
    "multi_type_pipeline(data)[0].score(data.drop('y', axis=1), data.y)"
   ]
  },
  {
   "cell_type": "code",
   "execution_count": null,
   "id": "6a8e0eb0",
   "metadata": {},
   "outputs": [],
   "source": []
  },
  {
   "cell_type": "code",
   "execution_count": 159,
   "id": "essential-finance",
   "metadata": {
    "deletable": false,
    "editable": false
   },
   "outputs": [
    {
     "data": {
      "text/html": [
       "<p><strong><pre style='display: inline;'>q4</pre></strong> passed!</p>"
      ],
      "text/plain": [
       "q4 results: All test cases passed!"
      ]
     },
     "execution_count": 159,
     "metadata": {},
     "output_type": "execute_result"
    }
   ],
   "source": [
    "grader.check(\"q4\")"
   ]
  },
  {
   "cell_type": "markdown",
   "id": "suitable-canberra",
   "metadata": {},
   "source": [
    "## Overfitting model parameters"
   ]
  },
  {
   "cell_type": "markdown",
   "id": "suspected-village",
   "metadata": {},
   "source": [
    "**Question 5**\n",
    "\n",
    "In this question, you will train two different prediction models on Galton's child-height dataset from lecture and explore different ways in how overfitting can appear.\n",
    "\n",
    "**Part 1: Decision Tree Regressor**\n",
    "\n",
    "* A decision tree regressor is trained similar to decision tree classifiers: the splits of the tree are created by minimizing the variance of the target values of the (training) data in the leaves given by making the split in question. \n",
    "\n",
    "* A decision tree regressor predicts the target value of a (new) observation based on the average target value of the training observations lying in the same leaf node. \n",
    "\n",
    "* One parameter of a decision tree regressor that affects model complexity is the *depth* of the tree. We will explore this parameter in this question.\n",
    "\n",
    "* Create a function `tree_reg_perf` that takes in a dataframe like `galton` and outputs a dataframe where each row contains the *RMSE* of a trained decision tree regressor on the training set and test set, indexed by the depth of the decision tree (depth=1,2,3,...,20). (i.e. you should train 20 different decision trees with varying depths and put the train/test error into a dataframe).\n",
    "\n",
    "*Note* (Optional question good for studying): How is this overfitting and why? What type of variance is causing it? What is the best choice of depth? Plot the dataframe above to help answer these questions.\n",
    "\n",
    "**Part 2: k-Nearest Neighbor Regressor**\n",
    "\n",
    "* A k-NN Regressor predicts the target value of a (new) observation by computing the average value of the k-closest observations in the training set.\n",
    "\n",
    "* One parameter of a k-NN regressor that affects model performance is the number of neighbors averaged over. We will explore this parameter in this question.\n",
    "\n",
    "* Create a function `knn_reg_perf` that takes in a dataframe like `galton` and outputs a dataframe where each row contains the *RMSE* of a trained k-NN regressor on the training set and test set, indexed by the number of neighbors (k=1,2,3,...,20).\n",
    "\n",
    "*Note* (Optional question good for studying): How is this overfitting and why? What type of variance is causing it? What is the best choice for the number of neighbors? Plot the dataframe above to help answer these questions."
   ]
  },
  {
   "cell_type": "code",
   "execution_count": 43,
   "id": "7a17191e",
   "metadata": {},
   "outputs": [],
   "source": [
    "from sklearn.model_selection import train_test_split\n",
    "from sklearn.tree import DecisionTreeRegressor\n",
    "from sklearn.neighbors import KNeighborsRegressor\n",
    "from sklearn.model_selection import GridSearchCV"
   ]
  },
  {
   "cell_type": "code",
   "execution_count": 99,
   "id": "aa5086c7",
   "metadata": {},
   "outputs": [],
   "source": [
    "galton_fp = os.path.join('data', 'galton.csv')\n",
    "galton = pd.read_csv(galton_fp)"
   ]
  },
  {
   "cell_type": "code",
   "execution_count": 102,
   "id": "6518b76d",
   "metadata": {},
   "outputs": [],
   "source": [
    "out_knn_test = knn_reg_perf(galton)"
   ]
  },
  {
   "cell_type": "code",
   "execution_count": 105,
   "id": "b33213cd",
   "metadata": {},
   "outputs": [
    {
     "data": {
      "text/plain": [
       "True"
      ]
     },
     "execution_count": 105,
     "metadata": {},
     "output_type": "execute_result"
    }
   ],
   "source": [
    "out_knn_test['test_err'].idxmin() not in [1, 2, 3]"
   ]
  },
  {
   "cell_type": "code",
   "execution_count": 106,
   "id": "satellite-initial",
   "metadata": {},
   "outputs": [
    {
     "data": {
      "text/html": [
       "<div>\n",
       "<style scoped>\n",
       "    .dataframe tbody tr th:only-of-type {\n",
       "        vertical-align: middle;\n",
       "    }\n",
       "\n",
       "    .dataframe tbody tr th {\n",
       "        vertical-align: top;\n",
       "    }\n",
       "\n",
       "    .dataframe thead th {\n",
       "        text-align: right;\n",
       "    }\n",
       "</style>\n",
       "<table border=\"1\" class=\"dataframe\">\n",
       "  <thead>\n",
       "    <tr style=\"text-align: right;\">\n",
       "      <th></th>\n",
       "      <th>train_err</th>\n",
       "      <th>test_err</th>\n",
       "    </tr>\n",
       "  </thead>\n",
       "  <tbody>\n",
       "    <tr>\n",
       "      <th>1</th>\n",
       "      <td>2.487065</td>\n",
       "      <td>2.512425</td>\n",
       "    </tr>\n",
       "    <tr>\n",
       "      <th>2</th>\n",
       "      <td>2.285646</td>\n",
       "      <td>2.405062</td>\n",
       "    </tr>\n",
       "    <tr>\n",
       "      <th>3</th>\n",
       "      <td>2.110028</td>\n",
       "      <td>2.234237</td>\n",
       "    </tr>\n",
       "    <tr>\n",
       "      <th>4</th>\n",
       "      <td>1.948109</td>\n",
       "      <td>2.206515</td>\n",
       "    </tr>\n",
       "    <tr>\n",
       "      <th>5</th>\n",
       "      <td>1.797778</td>\n",
       "      <td>2.161198</td>\n",
       "    </tr>\n",
       "    <tr>\n",
       "      <th>6</th>\n",
       "      <td>1.622858</td>\n",
       "      <td>2.214697</td>\n",
       "    </tr>\n",
       "    <tr>\n",
       "      <th>7</th>\n",
       "      <td>1.429965</td>\n",
       "      <td>2.148843</td>\n",
       "    </tr>\n",
       "    <tr>\n",
       "      <th>8</th>\n",
       "      <td>1.265968</td>\n",
       "      <td>2.269564</td>\n",
       "    </tr>\n",
       "    <tr>\n",
       "      <th>9</th>\n",
       "      <td>1.053074</td>\n",
       "      <td>2.335123</td>\n",
       "    </tr>\n",
       "    <tr>\n",
       "      <th>10</th>\n",
       "      <td>0.857486</td>\n",
       "      <td>2.422613</td>\n",
       "    </tr>\n",
       "    <tr>\n",
       "      <th>11</th>\n",
       "      <td>0.690769</td>\n",
       "      <td>2.486594</td>\n",
       "    </tr>\n",
       "    <tr>\n",
       "      <th>12</th>\n",
       "      <td>0.539102</td>\n",
       "      <td>2.540678</td>\n",
       "    </tr>\n",
       "    <tr>\n",
       "      <th>13</th>\n",
       "      <td>0.408195</td>\n",
       "      <td>2.659141</td>\n",
       "    </tr>\n",
       "    <tr>\n",
       "      <th>14</th>\n",
       "      <td>0.329756</td>\n",
       "      <td>2.535023</td>\n",
       "    </tr>\n",
       "    <tr>\n",
       "      <th>15</th>\n",
       "      <td>0.289916</td>\n",
       "      <td>2.554432</td>\n",
       "    </tr>\n",
       "    <tr>\n",
       "      <th>16</th>\n",
       "      <td>0.253299</td>\n",
       "      <td>2.567570</td>\n",
       "    </tr>\n",
       "    <tr>\n",
       "      <th>17</th>\n",
       "      <td>0.246890</td>\n",
       "      <td>2.545346</td>\n",
       "    </tr>\n",
       "    <tr>\n",
       "      <th>18</th>\n",
       "      <td>0.242932</td>\n",
       "      <td>2.583817</td>\n",
       "    </tr>\n",
       "    <tr>\n",
       "      <th>19</th>\n",
       "      <td>0.242932</td>\n",
       "      <td>2.509501</td>\n",
       "    </tr>\n",
       "    <tr>\n",
       "      <th>20</th>\n",
       "      <td>0.242932</td>\n",
       "      <td>2.559788</td>\n",
       "    </tr>\n",
       "  </tbody>\n",
       "</table>\n",
       "</div>"
      ],
      "text/plain": [
       "    train_err  test_err\n",
       "1    2.487065  2.512425\n",
       "2    2.285646  2.405062\n",
       "3    2.110028  2.234237\n",
       "4    1.948109  2.206515\n",
       "5    1.797778  2.161198\n",
       "6    1.622858  2.214697\n",
       "7    1.429965  2.148843\n",
       "8    1.265968  2.269564\n",
       "9    1.053074  2.335123\n",
       "10   0.857486  2.422613\n",
       "11   0.690769  2.486594\n",
       "12   0.539102  2.540678\n",
       "13   0.408195  2.659141\n",
       "14   0.329756  2.535023\n",
       "15   0.289916  2.554432\n",
       "16   0.253299  2.567570\n",
       "17   0.246890  2.545346\n",
       "18   0.242932  2.583817\n",
       "19   0.242932  2.509501\n",
       "20   0.242932  2.559788"
      ]
     },
     "execution_count": 106,
     "metadata": {},
     "output_type": "execute_result"
    }
   ],
   "source": [
    "out = tree_reg_perf(galton)\n",
    "out"
   ]
  },
  {
   "cell_type": "code",
   "execution_count": 107,
   "id": "cdc0a68a",
   "metadata": {},
   "outputs": [
    {
     "data": {
      "text/html": [
       "<div>\n",
       "<style scoped>\n",
       "    .dataframe tbody tr th:only-of-type {\n",
       "        vertical-align: middle;\n",
       "    }\n",
       "\n",
       "    .dataframe tbody tr th {\n",
       "        vertical-align: top;\n",
       "    }\n",
       "\n",
       "    .dataframe thead th {\n",
       "        text-align: right;\n",
       "    }\n",
       "</style>\n",
       "<table border=\"1\" class=\"dataframe\">\n",
       "  <thead>\n",
       "    <tr style=\"text-align: right;\">\n",
       "      <th></th>\n",
       "      <th>train_err</th>\n",
       "      <th>test_err</th>\n",
       "    </tr>\n",
       "  </thead>\n",
       "  <tbody>\n",
       "    <tr>\n",
       "      <th>1</th>\n",
       "      <td>0.343558</td>\n",
       "      <td>2.562892</td>\n",
       "    </tr>\n",
       "    <tr>\n",
       "      <th>2</th>\n",
       "      <td>1.383426</td>\n",
       "      <td>2.144342</td>\n",
       "    </tr>\n",
       "    <tr>\n",
       "      <th>3</th>\n",
       "      <td>1.545334</td>\n",
       "      <td>2.013158</td>\n",
       "    </tr>\n",
       "    <tr>\n",
       "      <th>4</th>\n",
       "      <td>1.689037</td>\n",
       "      <td>1.999477</td>\n",
       "    </tr>\n",
       "    <tr>\n",
       "      <th>5</th>\n",
       "      <td>1.794139</td>\n",
       "      <td>2.011027</td>\n",
       "    </tr>\n",
       "    <tr>\n",
       "      <th>6</th>\n",
       "      <td>1.883051</td>\n",
       "      <td>2.053924</td>\n",
       "    </tr>\n",
       "    <tr>\n",
       "      <th>7</th>\n",
       "      <td>1.928020</td>\n",
       "      <td>2.099135</td>\n",
       "    </tr>\n",
       "    <tr>\n",
       "      <th>8</th>\n",
       "      <td>1.937014</td>\n",
       "      <td>2.134052</td>\n",
       "    </tr>\n",
       "    <tr>\n",
       "      <th>9</th>\n",
       "      <td>1.967980</td>\n",
       "      <td>2.138308</td>\n",
       "    </tr>\n",
       "    <tr>\n",
       "      <th>10</th>\n",
       "      <td>1.992101</td>\n",
       "      <td>2.149183</td>\n",
       "    </tr>\n",
       "    <tr>\n",
       "      <th>11</th>\n",
       "      <td>2.028384</td>\n",
       "      <td>2.152250</td>\n",
       "    </tr>\n",
       "    <tr>\n",
       "      <th>12</th>\n",
       "      <td>2.057087</td>\n",
       "      <td>2.143874</td>\n",
       "    </tr>\n",
       "    <tr>\n",
       "      <th>13</th>\n",
       "      <td>2.065200</td>\n",
       "      <td>2.146787</td>\n",
       "    </tr>\n",
       "    <tr>\n",
       "      <th>14</th>\n",
       "      <td>2.094749</td>\n",
       "      <td>2.148819</td>\n",
       "    </tr>\n",
       "    <tr>\n",
       "      <th>15</th>\n",
       "      <td>2.112833</td>\n",
       "      <td>2.148661</td>\n",
       "    </tr>\n",
       "    <tr>\n",
       "      <th>16</th>\n",
       "      <td>2.131757</td>\n",
       "      <td>2.159868</td>\n",
       "    </tr>\n",
       "    <tr>\n",
       "      <th>17</th>\n",
       "      <td>2.143956</td>\n",
       "      <td>2.159582</td>\n",
       "    </tr>\n",
       "    <tr>\n",
       "      <th>18</th>\n",
       "      <td>2.151020</td>\n",
       "      <td>2.166397</td>\n",
       "    </tr>\n",
       "    <tr>\n",
       "      <th>19</th>\n",
       "      <td>2.163918</td>\n",
       "      <td>2.163818</td>\n",
       "    </tr>\n",
       "    <tr>\n",
       "      <th>20</th>\n",
       "      <td>2.183054</td>\n",
       "      <td>2.170815</td>\n",
       "    </tr>\n",
       "  </tbody>\n",
       "</table>\n",
       "</div>"
      ],
      "text/plain": [
       "    train_err  test_err\n",
       "1    0.343558  2.562892\n",
       "2    1.383426  2.144342\n",
       "3    1.545334  2.013158\n",
       "4    1.689037  1.999477\n",
       "5    1.794139  2.011027\n",
       "6    1.883051  2.053924\n",
       "7    1.928020  2.099135\n",
       "8    1.937014  2.134052\n",
       "9    1.967980  2.138308\n",
       "10   1.992101  2.149183\n",
       "11   2.028384  2.152250\n",
       "12   2.057087  2.143874\n",
       "13   2.065200  2.146787\n",
       "14   2.094749  2.148819\n",
       "15   2.112833  2.148661\n",
       "16   2.131757  2.159868\n",
       "17   2.143956  2.159582\n",
       "18   2.151020  2.166397\n",
       "19   2.163918  2.163818\n",
       "20   2.183054  2.170815"
      ]
     },
     "execution_count": 107,
     "metadata": {},
     "output_type": "execute_result"
    }
   ],
   "source": [
    "out = knn_reg_perf(galton)\n",
    "out"
   ]
  },
  {
   "cell_type": "code",
   "execution_count": 141,
   "id": "partial-request",
   "metadata": {
    "deletable": false,
    "editable": false
   },
   "outputs": [
    {
     "data": {
      "text/html": [
       "<p><strong><pre style='display: inline;'>q5</pre></strong> passed!</p>"
      ],
      "text/plain": [
       "q5 results: All test cases passed!"
      ]
     },
     "execution_count": 141,
     "metadata": {},
     "output_type": "execute_result"
    }
   ],
   "source": [
    "grader.check(\"q5\")"
   ]
  },
  {
   "cell_type": "markdown",
   "id": "ongoing-broad",
   "metadata": {},
   "source": [
    "## Titanic: predicting survival"
   ]
  },
  {
   "cell_type": "markdown",
   "id": "frank-communications",
   "metadata": {},
   "source": [
    "**Question 6**\n",
    "\n",
    "Predicting survival on the titanic is a common first assignment when learning classification tasks. There is *a lot* of material out there on analyzing the Titanic data. While not necessary for this question, you are encouraged to look at examples out on the web (e.g. [on kaggle](https://www.kaggle.com/c/titanic)).\n",
    "\n",
    "Create a function `titanic_model` that takes in training data (a dataframe) and returns a pipeline object fit to the training data. You have freedom to build your own model, but it should satisfy the following requirements:\n",
    "\n",
    "* The model is built on the target column `Survived`.\n",
    "* The model uses features derived from *all* **other** columns in training.\n",
    "* You have one feature derived from the 'title' in the `Name` field ('Mr', 'Miss', 'Master', etc, not the name itself).\n",
    "* You have one feature that scales the age of a passenger to standard unit among their `Pclass`. (Use Question 3!)\n",
    "* You can use any classification algorithm, as long as your performance is above the baseline accuracy 0.78.\n",
    "* If your model (under retraining) can consistently score above 0.83, you can get 5 points extra-credit.\n",
    "    - Your model will be trained using the training data given in the lab; it will be evaluated using held out test data. This performance should generalize to *unseen* data; you should be honest about parameter-fitting on validation sets and get a score above 0.83 on an untouched *holdout*!\n",
    "\n",
    "*Note:* You will find [FunctionTransformer](https://scikit-learn.org/stable/modules/generated/sklearn.preprocessing.FunctionTransformer.html) useful for the `Name` column, as well as for the standardization of `Ages`. If you want your transformer to output a categorical feature, you will need to select `validate=False`.\n",
    "\n",
    "*Note*: When using [ColumnTransformer](https://scikit-learn.org/stable/modules/generated/sklearn.compose.ColumnTransformer.html#sklearn.compose.ColumnTransformer), you may find the `remainder` keyword helpful.\n",
    "\n",
    "*Note*: The function that is turned in should have the model parameters hard-coded in it. The pipeline object doesn't have to include the parameter selection process.\n",
    "\n",
    "*Hint*: If you are set out to get that extra 5 points, consider building some meaningful features before fine-tuning the parameters of your model. Do an EDA on the dataset, what kind of people are more prone to survive?"
   ]
  },
  {
   "cell_type": "code",
   "execution_count": 9,
   "id": "moral-texas",
   "metadata": {},
   "outputs": [
    {
     "data": {
      "text/html": [
       "<div>\n",
       "<style scoped>\n",
       "    .dataframe tbody tr th:only-of-type {\n",
       "        vertical-align: middle;\n",
       "    }\n",
       "\n",
       "    .dataframe tbody tr th {\n",
       "        vertical-align: top;\n",
       "    }\n",
       "\n",
       "    .dataframe thead th {\n",
       "        text-align: right;\n",
       "    }\n",
       "</style>\n",
       "<table border=\"1\" class=\"dataframe\">\n",
       "  <thead>\n",
       "    <tr style=\"text-align: right;\">\n",
       "      <th></th>\n",
       "      <th>Survived</th>\n",
       "      <th>Pclass</th>\n",
       "      <th>Name</th>\n",
       "      <th>Sex</th>\n",
       "      <th>Age</th>\n",
       "      <th>Siblings/Spouses Aboard</th>\n",
       "      <th>Parents/Children Aboard</th>\n",
       "      <th>Fare</th>\n",
       "    </tr>\n",
       "  </thead>\n",
       "  <tbody>\n",
       "    <tr>\n",
       "      <th>0</th>\n",
       "      <td>0</td>\n",
       "      <td>2</td>\n",
       "      <td>Mr. William John Berriman</td>\n",
       "      <td>male</td>\n",
       "      <td>23.0</td>\n",
       "      <td>0</td>\n",
       "      <td>0</td>\n",
       "      <td>13.0000</td>\n",
       "    </tr>\n",
       "    <tr>\n",
       "      <th>1</th>\n",
       "      <td>1</td>\n",
       "      <td>3</td>\n",
       "      <td>Mrs. (Beila) Moor</td>\n",
       "      <td>female</td>\n",
       "      <td>27.0</td>\n",
       "      <td>0</td>\n",
       "      <td>1</td>\n",
       "      <td>12.4750</td>\n",
       "    </tr>\n",
       "    <tr>\n",
       "      <th>2</th>\n",
       "      <td>0</td>\n",
       "      <td>3</td>\n",
       "      <td>Mr. Nestor Cyriel Vande Walle</td>\n",
       "      <td>male</td>\n",
       "      <td>28.0</td>\n",
       "      <td>0</td>\n",
       "      <td>0</td>\n",
       "      <td>9.5000</td>\n",
       "    </tr>\n",
       "    <tr>\n",
       "      <th>3</th>\n",
       "      <td>0</td>\n",
       "      <td>3</td>\n",
       "      <td>Mr. Khalil Saad</td>\n",
       "      <td>male</td>\n",
       "      <td>25.0</td>\n",
       "      <td>0</td>\n",
       "      <td>0</td>\n",
       "      <td>7.2250</td>\n",
       "    </tr>\n",
       "    <tr>\n",
       "      <th>4</th>\n",
       "      <td>0</td>\n",
       "      <td>3</td>\n",
       "      <td>Miss. Gerda Ulrika Dahlberg</td>\n",
       "      <td>female</td>\n",
       "      <td>22.0</td>\n",
       "      <td>0</td>\n",
       "      <td>0</td>\n",
       "      <td>10.5167</td>\n",
       "    </tr>\n",
       "    <tr>\n",
       "      <th>...</th>\n",
       "      <td>...</td>\n",
       "      <td>...</td>\n",
       "      <td>...</td>\n",
       "      <td>...</td>\n",
       "      <td>...</td>\n",
       "      <td>...</td>\n",
       "      <td>...</td>\n",
       "      <td>...</td>\n",
       "    </tr>\n",
       "    <tr>\n",
       "      <th>705</th>\n",
       "      <td>0</td>\n",
       "      <td>3</td>\n",
       "      <td>Mr. Raihed Razi</td>\n",
       "      <td>male</td>\n",
       "      <td>30.0</td>\n",
       "      <td>0</td>\n",
       "      <td>0</td>\n",
       "      <td>7.2292</td>\n",
       "    </tr>\n",
       "    <tr>\n",
       "      <th>706</th>\n",
       "      <td>0</td>\n",
       "      <td>2</td>\n",
       "      <td>Mr. John Henry Chapman</td>\n",
       "      <td>male</td>\n",
       "      <td>37.0</td>\n",
       "      <td>1</td>\n",
       "      <td>0</td>\n",
       "      <td>26.0000</td>\n",
       "    </tr>\n",
       "    <tr>\n",
       "      <th>707</th>\n",
       "      <td>1</td>\n",
       "      <td>2</td>\n",
       "      <td>Mrs. Sidney (Emily Hocking) Richards</td>\n",
       "      <td>female</td>\n",
       "      <td>24.0</td>\n",
       "      <td>2</td>\n",
       "      <td>3</td>\n",
       "      <td>18.7500</td>\n",
       "    </tr>\n",
       "    <tr>\n",
       "      <th>708</th>\n",
       "      <td>0</td>\n",
       "      <td>3</td>\n",
       "      <td>Mr. Karl Gideon Gustafsson</td>\n",
       "      <td>male</td>\n",
       "      <td>19.0</td>\n",
       "      <td>0</td>\n",
       "      <td>0</td>\n",
       "      <td>7.7750</td>\n",
       "    </tr>\n",
       "    <tr>\n",
       "      <th>709</th>\n",
       "      <td>1</td>\n",
       "      <td>1</td>\n",
       "      <td>Mrs. Samuel L (Edwiga Grabowska) Goldenberg</td>\n",
       "      <td>female</td>\n",
       "      <td>40.0</td>\n",
       "      <td>1</td>\n",
       "      <td>0</td>\n",
       "      <td>89.1042</td>\n",
       "    </tr>\n",
       "  </tbody>\n",
       "</table>\n",
       "<p>710 rows × 8 columns</p>\n",
       "</div>"
      ],
      "text/plain": [
       "     Survived  Pclass                                         Name     Sex  \\\n",
       "0           0       2                    Mr. William John Berriman    male   \n",
       "1           1       3                            Mrs. (Beila) Moor  female   \n",
       "2           0       3                Mr. Nestor Cyriel Vande Walle    male   \n",
       "3           0       3                              Mr. Khalil Saad    male   \n",
       "4           0       3                  Miss. Gerda Ulrika Dahlberg  female   \n",
       "..        ...     ...                                          ...     ...   \n",
       "705         0       3                              Mr. Raihed Razi    male   \n",
       "706         0       2                       Mr. John Henry Chapman    male   \n",
       "707         1       2         Mrs. Sidney (Emily Hocking) Richards  female   \n",
       "708         0       3                   Mr. Karl Gideon Gustafsson    male   \n",
       "709         1       1  Mrs. Samuel L (Edwiga Grabowska) Goldenberg  female   \n",
       "\n",
       "      Age  Siblings/Spouses Aboard  Parents/Children Aboard     Fare  \n",
       "0    23.0                        0                        0  13.0000  \n",
       "1    27.0                        0                        1  12.4750  \n",
       "2    28.0                        0                        0   9.5000  \n",
       "3    25.0                        0                        0   7.2250  \n",
       "4    22.0                        0                        0  10.5167  \n",
       "..    ...                      ...                      ...      ...  \n",
       "705  30.0                        0                        0   7.2292  \n",
       "706  37.0                        1                        0  26.0000  \n",
       "707  24.0                        2                        3  18.7500  \n",
       "708  19.0                        0                        0   7.7750  \n",
       "709  40.0                        1                        0  89.1042  \n",
       "\n",
       "[710 rows x 8 columns]"
      ]
     },
     "execution_count": 9,
     "metadata": {},
     "output_type": "execute_result"
    }
   ],
   "source": [
    "fp = os.path.join('data', 'titanic.csv')\n",
    "titanic = pd.read_csv(fp)\n",
    "titanic"
   ]
  },
  {
   "cell_type": "code",
   "execution_count": 14,
   "id": "8eab0dd6",
   "metadata": {},
   "outputs": [],
   "source": [
    "from sklearn.ensemble import RandomForestClassifier\n",
    "from sklearn.decomposition import PCA\n",
    "from sklearn.impute import SimpleImputer\n",
    "from sklearn.tree import DecisionTreeClassifier\n",
    "import time"
   ]
  },
  {
   "cell_type": "code",
   "execution_count": 97,
   "id": "nominated-reaction",
   "metadata": {},
   "outputs": [],
   "source": [
    "def titanic_model(tit):\n",
    "    titanic = tit.copy()\n",
    "    titanic['Fare'].fillna(titanic['Fare'].mean(), inplace=True)\n",
    "    titanic['Name'] = titanic['Name'].apply(lambda x: x.split(' ')[0])\n",
    "    def deal_name(X):\n",
    "        return X\n",
    "\n",
    "    X = titanic.drop('Survived', axis=1)\n",
    "    y = titanic.Survived\n",
    "\n",
    "    X_tr, X_ts, y_tr, y_ts = train_test_split(X,\n",
    "                                              y,\n",
    "                                              test_size=0.25,\n",
    "                                              random_state=42)\n",
    "\n",
    "    num_feat_1 = ['Age']\n",
    "    num_transformer_1 = Pipeline(steps=[\n",
    "        ('scaler', StdScalerByGroup()),\n",
    "        #         ('onehot', OneHotEncoder(handle_unknown='ignore', sparse=False))\n",
    "    ])\n",
    "\n",
    "    num_feat_2 = ['Siblings/Spouses Aboard', 'Parents/Children Aboard', 'Fare']\n",
    "    num_transformer_2 = Pipeline(steps=[\n",
    "        ('imp', SimpleImputer(strategy='constant', fill_value=0)),\n",
    "        #         ('onehot', OneHotEncoder(handle_unknown='ignore', sparse=False)),\n",
    "    ])\n",
    "\n",
    "    cat_feat = ['Pclass', 'Sex']\n",
    "    cat_transformer = Pipeline(steps=[\n",
    "        ('imp', SimpleImputer(strategy='constant', fill_value='NULL')),\n",
    "        #         ('onehot', OneHotEncoder(handle_unknown='ignore', sparse=False)),\n",
    "        #                 ('pca', PCA(svd_solver='full', n_components=0.99))\n",
    "    ])\n",
    "\n",
    "    cat_feat_2 = ['Name']\n",
    "    cat_transformer_2 = Pipeline(steps=[\n",
    "        ('imp', SimpleImputer(strategy='constant', fill_value='NULL')\n",
    "         ), ('clean', FunctionTransformer(deal_name, validate=False))\n",
    "        #         ('onehot', OneHotEncoder(handle_unknown='ignore', sparse=False)),\n",
    "        #                 ('pca', PCA(svd_solver='full', n_components=0.99))\n",
    "    ])\n",
    "\n",
    "    preproc = ColumnTransformer(transformers=[(\n",
    "        'num_1', num_transformer_1,\n",
    "        num_feat_1), ('num_2', num_transformer_2,\n",
    "                      num_feat_2), (\n",
    "                          'cat', cat_transformer,\n",
    "                          cat_feat), ('cat_2', cat_transformer_2, cat_feat_2)])\n",
    "\n",
    "    pl = Pipeline(steps=[\n",
    "        ('preprocessor', preproc),\n",
    "        ('onehot', OneHotEncoder(handle_unknown='ignore', sparse=False)),\n",
    "#                                  ('pca', PCA(svd_solver='full', n_components=0.99)),\n",
    "        ('regressor', DecisionTreeClassifier())\n",
    "    ])\n",
    "    pl.fit(X, y)\n",
    "    #     return pl.get_params().keys()\n",
    "    params = {\n",
    "        'regressor__max_depth': np.arange(2, 35, 1),\n",
    "        #     'regressor__max_features': np.arange(1,50)\n",
    "    }\n",
    "\n",
    "    grids = GridSearchCV(pl, param_grid=params, cv=5, return_train_score=True)\n",
    "    grids.fit(X_tr, y_tr)\n",
    "\n",
    "    grid_keys = grids.cv_results_.keys()\n",
    "    best = grids.best_params_\n",
    "    print(best)\n",
    "    index = grids.param_grid['regressor__max_depth']\n",
    "    #     index = grids.param_grid['regressor__max_features']\n",
    "    print(index)\n",
    "\n",
    "    test = grids.cv_results_['mean_test_score']\n",
    "    train = grids.cv_results_['mean_train_score']\n",
    "    pd.DataFrame({'test': test, 'train': train}, index=index).plot()\n",
    "\n",
    "\n",
    "#     print(train)\n",
    "#     print(test)"
   ]
  },
  {
   "cell_type": "code",
   "execution_count": 98,
   "id": "267a6162",
   "metadata": {},
   "outputs": [
    {
     "name": "stdout",
     "output_type": "stream",
     "text": [
      "{'regressor__max_depth': 2}\n",
      "[ 2  3  4  5  6  7  8  9 10 11 12 13 14 15 16 17 18 19 20 21 22 23 24 25\n",
      " 26 27 28 29 30 31 32 33 34]\n",
      "61.52340269088745\n"
     ]
    },
    {
     "data": {
      "image/png": "[encoded data removed]",
      "text/plain": [
       "<Figure size 432x288 with 1 Axes>"
      ]
     },
     "metadata": {
      "needs_background": "light"
     },
     "output_type": "display_data"
    }
   ],
   "source": [
    "T1 = time.time()\n",
    "titanic_model(titanic)\n",
    "T2 = time.time()\n",
    "print(T2 - T1)"
   ]
  },
  {
   "cell_type": "code",
   "execution_count": null,
   "id": "3fca87a4",
   "metadata": {},
   "outputs": [],
   "source": [
    "titanic_model"
   ]
  },
  {
   "cell_type": "code",
   "execution_count": 143,
   "id": "artificial-notification",
   "metadata": {
    "deletable": false,
    "editable": false
   },
   "outputs": [
    {
     "data": {
      "text/html": [
       "<p><strong><pre style='display: inline;'>q6</pre></strong> passed!</p>"
      ],
      "text/plain": [
       "q6 results: All test cases passed!"
      ]
     },
     "execution_count": 143,
     "metadata": {},
     "output_type": "execute_result"
    }
   ],
   "source": [
    "grader.check(\"q6\")"
   ]
  },
  {
   "cell_type": "markdown",
   "id": "aerial-aberdeen",
   "metadata": {},
   "source": [
    "## Optional: Amazon Review Rating Classification\n",
    "#### You won't be graded on this problem, but it is a good practice! \n",
    "\n",
    "\n",
    "One of the problems that we often solve in NLP is a classification problem: given a set of documents and their labels (spam/not spam, positive/negative etc), one needs to build a model that can predicts the correct label on a new document. In order to apply classifiers (like random forest or Naive Bayes) we need to transform the text into a (set of) feature vector(s). We already know one of the ways it can be done: using a `bag of words`. In short, you take the available words in a text and keep count when they appear. \n",
    "\n",
    "### Bigrams and Trigrams"
   ]
  },
  {
   "cell_type": "markdown",
   "id": "controversial-humanity",
   "metadata": {},
   "source": [
    "**Question 7**\n",
    "\n",
    "In this question, you will build features out of bigrams/trigrams in text-documents, and use these for prediction. You will develop a general approach to a text classification problem and then use different settings (text preprocessing, different classification algorithms etc) to improve the learning rates.\n",
    "\n",
    "* You are given a data file (`reviews.json`) that you will use to classify Amazon reviews. First you need to extract the text and the rating for each review; Also you need to clean each review before building a model: (convert everything to a lower-case and replace everything but letters, numbers and spaces with a space. In order to do that write a function `json_reader` that takes a file and the number of lines you want to read from the file. It returns two lists: one with cleaned reviews and another one with corresponding ratings (labels). \n",
    "\n",
    "* Now write a function `create_classifier_multi` that takes reviews and labels and returns a fit pipeline. You should reserve 20% of you training data for testing. Then set up a classifier using a Pipeline object such that it gives you the highest possible accuracy. Here is a trick: the accuracy is not known beforehand and you should try different classifiers and change their parameters, different pre-processing steps (for example: ngrams, stop words etc) in order to maximize the classifier's score. What is the highest value that you got? \n",
    "\n",
    "Do not be discouraged if you can't get a very high accuracy. Think why might it be the case? What if we do not use any algorithms and just assign labels to a new review randomly. What is the chance that you guessed the label correctly? Your accuracy does not seem that bad anymore, right? (If it is below a random assignment then change your code NOW).\n",
    "\n",
    "In general, a multi-class classification problem is not an easy task. \n",
    "\n",
    "* Next you will convert the multi-class classification to the binary classification problem. In order to do that you need to write a method `to_binary` that takes in a list of labels and replaces all 1, 2, 3 reviews with a 0 and 4, 5 reviews with the 1. Build the model again by using different classifiers and pre-processing steps, by writing `create_classifier_binary` method and returning a pipeline that maximized the accuracy. Do you see the improvement? "
   ]
  },
  {
   "cell_type": "code",
   "execution_count": null,
   "id": "iraqi-qatar",
   "metadata": {},
   "outputs": [],
   "source": []
  },
  {
   "cell_type": "code",
   "execution_count": null,
   "id": "centered-spectrum",
   "metadata": {},
   "outputs": [],
   "source": []
  },
  {
   "cell_type": "code",
   "execution_count": 67,
   "id": "disabled-scratch",
   "metadata": {},
   "outputs": [],
   "source": [
    "fp = os.path.join('data', 'reviews.json')"
   ]
  },
  {
   "cell_type": "markdown",
   "id": "korean-coating",
   "metadata": {
    "deletable": false,
    "editable": false
   },
   "source": [
    "---\n",
    "\n",
    "To double-check your work, the cell below will rerun all of the autograder tests."
   ]
  },
  {
   "cell_type": "code",
   "execution_count": null,
   "id": "outdoor-nicholas",
   "metadata": {
    "deletable": false,
    "editable": false
   },
   "outputs": [],
   "source": [
    "grader.check_all()"
   ]
  }
 ],
 "metadata": {
  "kernelspec": {
   "display_name": "Python 3",
   "language": "python",
   "name": "python3"
  },
  "language_info": {
   "codemirror_mode": {
    "name": "ipython",
    "version": 3
   },
   "file_extension": ".py",
   "mimetype": "text/x-python",
   "name": "python",
   "nbconvert_exporter": "python",
   "pygments_lexer": "ipython3",
   "version": "3.8.8"
  },
  "otter": {
   "tests": {
    "q1": {
     "name": "q1",
     "points": null,
     "suites": [
      {
       "cases": [
        {
         "code": ">>> import doctest\n>>> doctest.run_docstring_examples(simple_pipeline, {'simple_pipeline': simple_pipeline, 'os': os, 'pd': pd, 'Pipeline': Pipeline, 'LinearRegression': LinearRegression, 'FunctionTransformer': FunctionTransformer})\n",
         "hidden": false,
         "locked": false
        }
       ],
       "scored": true,
       "setup": "",
       "teardown": "",
       "type": "doctest"
      }
     ]
    },
    "q2": {
     "name": "q2",
     "points": null,
     "suites": [
      {
       "cases": [
        {
         "code": ">>> import doctest\n>>> doctest.run_docstring_examples(multi_type_pipeline, {'multi_type_pipeline': multi_type_pipeline, 'ColumnTransformer': ColumnTransformer, 'OneHotEncoder': OneHotEncoder, 'FunctionTransformer': FunctionTransformer, 'LinearRegression': LinearRegression, 'Pipeline': Pipeline, 'os': os, 'pd': pd})\n",
         "hidden": false,
         "locked": false
        }
       ],
       "scored": true,
       "setup": "",
       "teardown": "",
       "type": "doctest"
      }
     ]
    },
    "q3": {
     "name": "q3",
     "points": null,
     "suites": [
      {
       "cases": [
        {
         "code": ">>> import doctest\n>>> doctest.run_docstring_examples(StdScalerByGroup.fit, {'StdScalerByGroup': StdScalerByGroup, 'StdScalerByGroup.fit': StdScalerByGroup.fit,'pd': pd})\n>>> \n>>> doctest.run_docstring_examples(StdScalerByGroup.transform, {'StdScalerByGroup': StdScalerByGroup, 'StdScalerByGroup.transform': StdScalerByGroup.transform,'pd': pd, 'np': np})\n",
         "hidden": false,
         "locked": false
        }
       ],
       "scored": true,
       "setup": "",
       "teardown": "",
       "type": "doctest"
      }
     ]
    },
    "q4": {
     "name": "q4",
     "points": null,
     "suites": [
      {
       "cases": [
        {
         "code": ">>> import doctest\n>>> doctest.run_docstring_examples(eval_toy_model, {'eval_toy_model': eval_toy_model})\n",
         "hidden": false,
         "locked": false
        }
       ],
       "scored": true,
       "setup": "",
       "teardown": "",
       "type": "doctest"
      }
     ]
    },
    "q5": {
     "name": "q5",
     "points": null,
     "suites": [
      {
       "cases": [
        {
         "code": ">>> import doctest\n>>> \n>>> doctest.run_docstring_examples(tree_reg_perf, {'tree_reg_perf': tree_reg_perf, 'os': os,'pd': pd})\n>>> doctest.run_docstring_examples(knn_reg_perf, {'knn_reg_perf': knn_reg_perf, 'os': os,'pd': pd})\n",
         "hidden": false,
         "locked": false
        }
       ],
       "scored": true,
       "setup": "",
       "teardown": "",
       "type": "doctest"
      }
     ]
    },
    "q6": {
     "name": "q6",
     "points": null,
     "suites": [
      {
       "cases": [
        {
         "code": ">>> import doctest\n>>> doctest.run_docstring_examples(titanic_model, {'titanic_model': titanic_model, 'os': os,'pd': pd, 'Pipeline': Pipeline})\n",
         "hidden": false,
         "locked": false
        }
       ],
       "scored": true,
       "setup": "",
       "teardown": "",
       "type": "doctest"
      }
     ]
    }
   }
  },
  "toc": {
   "base_numbering": 1,
   "nav_menu": {},
   "number_sections": true,
   "sideBar": true,
   "skip_h1_title": false,
   "title_cell": "Table of Contents",
   "title_sidebar": "Contents",
   "toc_cell": false,
   "toc_position": {},
   "toc_section_display": true,
   "toc_window_display": false
  },
  "varInspector": {
   "cols": {
    "lenName": 16,
    "lenType": 16,
    "lenVar": 40
   },
   "kernels_config": {
    "python": {
     "delete_cmd_postfix": "",
     "delete_cmd_prefix": "del ",
     "library": "var_list.py",
     "varRefreshCmd": "print(var_dic_list())"
    },
    "r": {
     "delete_cmd_postfix": ") ",
     "delete_cmd_prefix": "rm(",
     "library": "var_list.r",
     "varRefreshCmd": "cat(var_dic_list()) "
    }
   },
   "types_to_exclude": [
    "module",
    "function",
    "builtin_function_or_method",
    "instance",
    "_Feature"
   ],
   "window_display": false
  }
 },
 "nbformat": 4,
 "nbformat_minor": 5
}
