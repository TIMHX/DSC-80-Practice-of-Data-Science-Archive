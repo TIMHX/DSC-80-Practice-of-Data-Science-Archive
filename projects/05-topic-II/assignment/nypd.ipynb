{
 "cells": [
  {
   "cell_type": "markdown",
   "metadata": {},
   "source": [
    "# NYPD Allegations\n",
    "* **See the main project notebook for instructions to be sure you satisfy the rubric!**\n",
    "* See Project 03 for information on the dataset.\n",
    "* A few example prediction questions to pursue are listed below. However, don't limit yourself to them!\n",
    "    * Predict the outcome of an allegation (might need to feature engineer your output column).\n",
    "    * Predict the complainant or officer ethnicity.\n",
    "    * Predict the amount of time between the month received vs month closed (difference of the two columns).\n",
    "    * Predict the rank of the officer.\n",
    "\n",
    "Be careful to justify what information you would know at the \"time of prediction\" and train your model using only those features."
   ]
  },
  {
   "cell_type": "markdown",
   "metadata": {},
   "source": [
    "# Summary of Findings\n",
    "\n",
    "\n",
    "### Introduction\n",
    "*The **classification model** I will be focusing on in this project is \"Predicting the Officer ethnicity using multiple vairables\". The chosen target variable is complainant_ethnicity and the evaluation martic I will be using in this question is **macro-F1 Score**, given that our data is unbalanced in terms of complainant ethnicity, I will not use micro-F1 score. In fact, in multi-categorical problems, **accuracy** will always equal to micro-F1 and will be influenced by inbalanced data, which is why I chose **macro-F1 Score** instead of **accuracy**. However, I will also include the result using **accuracy** for comparison.\n",
    "\n",
    "(The contents below are the description of dataset, similar to project 3)\n",
    "\n",
    "******\n",
    "The dataset consists of more than 12,000 civilian complaints filed against New York City police officers. The New York City’s Civilian Complaint Review Board provided with records about closed cases for every police officer still on the force as of late June 2020 who had at least one substantiated allegation against them. The records span decades, from September 1985 to January 2020.\n",
    "\n",
    "Each record in the data lists the name, rank, shield number, and precinct of each officer as of today and at the time of the incident; the age, race and gender of the complainant and the officer; a category describing the alleged misconduct; and whether the CCRB concluded the officers’ conduct violated NYPD rules.\n",
    "\n",
    "observations: 33358\n",
    "\n",
    "number of variables: 27\n",
    "\n",
    "variable names: 'unique_mos_id' 'first_name' 'last_name' 'command_now' 'shield_no' 'complaint_id' 'month_received' 'year_received' 'month_closed' 'year_closed' 'command_at_incident' 'rank_abbrev_incident' 'rank_abbrev_now' 'rank_now' 'rank_incident' 'mos_ethnicity' 'mos_gender' 'mos_age_incident' 'complainant_ethnicity' 'complainant_gender' 'complainant_age_incident' 'fado_type' 'allegation' 'precinct' 'contact_reason' 'outcome_description' 'board_disposition'\n",
    "\n",
    "some describtion of variables: \n",
    "1. fado_type: Top-level category of complaint, consists with 4 categories (Offensive Language, Discourtesy, Abuse of Authority, Force) and more specific complaints within each category.\n",
    "2. allegation: Specific category of complaint in each fado_type\n",
    "3. board_disposition: corresponds to the outcome_description, it is the final investigation result by the CCRB, which consists with 3 outcomes(Substantiated, Exonerated, Unsubstantiated)\n",
    "\n",
    "******\n",
    "In this project, I will focus on predicting the ethnicity of officer. In this case, I will use the findings and adapt some of the cleaning approaches from project 3.\n",
    "\n",
    "### Cleaning and EDA\n",
    "The general cleaning of this project is to create a dataset that is suitable for our prediction model, therefore, I will attach some of the findings from project 3:\n",
    "1. Even though there are fluctuation, **white officer** are the majority across all years, and **black complainant** are the majority. There are more **Asian officers** while very few complainant. Among both groups, **Native American** are the fewest.\n",
    "2. There is still a lot **NaN values in complainants' ethnicity** in each year that we need to deal with.\n",
    "3. The amount of cases across years are different, namely, more recent years have more cases, which reach its peak around 2015 - 2016.\n",
    "4. **All complainant ethnicity are missing for year_closed < 2000**\n",
    "\n",
    "******\n",
    "Therefore, the cleaning in this project consist of the following:\n",
    "1. Drop all rows with missingness in complainants' ethnicity, given that it is our target variable, which is not allowed to have NaN or Unknown ethnicity.(Additionally, all data for year_closed < 2000 will and refused, unknown ethnicity will be dropped, which will become an inevitable flaw for this project)\n",
    "2. [\"board_disposition\"] will be summarized to 3 types (Substantiated, Exonerated, Unsubstantiated)\n",
    "3. [\"unique_mos_id\"], [\"first_name\"]，[\"last_name\"], [\"shield_no\"], [\"complaint_id\"] will also be dropped, given that they may improve our model, but will certainly decrease the ability to generalize.\n",
    "4. Keep [\"rank_abbrev_now\"] instead of [\"rank_now\"]; [\"rank_abbrev_incident\"] instead of [\"rank_incident\"].\n",
    "\n",
    "### Baseline Model\n",
    "In this section, I will chose DecisionTreeClassifier and macro-f1 score as evaluation metric. The reason why chosing macro-f1 score is that my data is unbalanced in terms of complainant ethnicity, while micro-f1 score is essentially equal to accuracy, in this case macro-f1 score is my best choice.\n",
    "\n",
    "number of features: 17\n",
    "number of quantitative, ordinal, and nominal features: 4, 11, 3\n",
    "\n",
    "Perfomance: My conclusion is that my baseline model performed badly, F1 score is around 0.85 and accuracy is around 0.87. In general, my baseline model is not accuracy and having too many incorrectly classified cases and there is a bigger space to improve. \n",
    "\n",
    "### Final Model\n",
    "(Same contents included at the end of section)\n",
    "In this section, I trained my model using the following variables, categorical and numerical specifically:\n",
    "\n",
    "['command_now', 'command_at_incident', 'rank_abbrev_incident','rank_abbrev_now']\n",
    "\n",
    "['year_received', 'year_closed', 'time', 'time_binariz']\n",
    "\n",
    "The two new features I constructed is ['time'] and ['time_binariz']. ['time'] variable is constructed by calculating the duration of executing a case based on day,month,year of received and closed. ['time_binariz'] variable is constructed based on binarizing time variable with the thershold of 365.  For categorical variables, I used one-hot encoding to transform them, and for numerical variables, I used standardize to transform them. My assumption is that time of dealing with cases can associated with officers' ethnicity.\n",
    "\n",
    "The reason why I have chosen the above variables is based on the attribution of each after I trained my models, I found out that the variables above are more important than others.\n",
    "\n",
    "The model I chose for the final is RandomForestClassifier, given that it provides me better predicion and acceptable training time for classification problem. After finishing a lot of grid search work, I finally come out of the best parameters: PCA components of 0.9, RandomForestClassifier with 200 n_estimators. The final model achieved roughly 0.07 improvement in terms of F1 macro score and 0.05 of accuracy.\n",
    "However, the generalization ability of both my baseline model and final model are weak, achieving bad scores in cross_validation.\n",
    "\n",
    "The graph results of scores will be included in the section.\n",
    "\n",
    "\n",
    "### Fairness Evaluation\n",
    "\n",
    "In this section, I will perform permutaion test on variable time. Given that I have already binarized time using threshold 365, I will directly adapt this result column for permutation test.\n",
    "\n",
    "Null Hypothesis: my model is fair; the precision for my two subsets(time below 365 and above) are roughly the same\n",
    "\n",
    "Alternative Hypothesis: my model is unfair; the f1 macro for the above 365 subset is higher than the below 365 subset\n",
    "\n",
    "I constructed the permutation test on np.permutation to generate shuffled time_binariz, then I combine each row of it to my df. I then seperate each groups (time_binariz = 0, 1) and do prediction, f1_score of each groups, and finally calculate the differences between them. I saved the difference between two f1 scores in a list for the purpose of generating distribution graph as well as calculating p-value.\n",
    "\n",
    "The result for my permutation test is p-value = 0.096, which is not significant comparing to 0.01, therefore I cannot reject the null hypothesis to conclude that my model is unfair in terms of time_binariz"
   ]
  },
  {
   "cell_type": "markdown",
   "metadata": {},
   "source": [
    "# Code"
   ]
  },
  {
   "cell_type": "code",
   "execution_count": 46,
   "metadata": {},
   "outputs": [],
   "source": [
    "import matplotlib.pyplot as plt\n",
    "import numpy as np\n",
    "import os\n",
    "import pandas as pd\n",
    "import seaborn as sns\n",
    "import warnings\n",
    "import time\n",
    "warnings.filterwarnings(\"ignore\")\n",
    "%matplotlib inline\n",
    "%config InlineBackend.figure_format = 'retina'  # Higher resolution figures"
   ]
  },
  {
   "cell_type": "code",
   "execution_count": 263,
   "metadata": {},
   "outputs": [],
   "source": [
    "from sklearn.decomposition import PCA\n",
    "from sklearn.preprocessing import OneHotEncoder\n",
    "\n",
    "from sklearn.model_selection import train_test_split, GridSearchCV, cross_val_score, permutation_test_score\n",
    "\n",
    "from sklearn.pipeline import Pipeline\n",
    "from sklearn.compose import ColumnTransformer\n",
    "from sklearn.preprocessing import FunctionTransformer, StandardScaler, Binarizer\n",
    "from sklearn.impute import SimpleImputer\n",
    "from sklearn.metrics import f1_score, make_scorer, accuracy_score\n",
    "from sklearn import metrics\n",
    "\n",
    "from sklearn.tree import DecisionTreeClassifier\n",
    "from sklearn.ensemble import GradientBoostingClassifier\n",
    "from sklearn.ensemble import RandomForestClassifier\n",
    "from sklearn.linear_model import SGDClassifier\n",
    "from sklearn import svm\n",
    "from sklearn.neighbors import KNeighborsClassifier"
   ]
  },
  {
   "cell_type": "markdown",
   "metadata": {},
   "source": [
    "### Cleaning"
   ]
  },
  {
   "cell_type": "code",
   "execution_count": 129,
   "metadata": {},
   "outputs": [],
   "source": [
    "original = pd.read_csv('data/allegations_202007271729.csv')\n",
    "df = original[[\n",
    "    'command_now', 'month_received', 'year_received', 'month_closed',\n",
    "    'year_closed', 'command_at_incident', 'rank_abbrev_incident',\n",
    "    'rank_abbrev_now', 'mos_ethnicity', 'mos_gender', 'mos_age_incident',\n",
    "    'complainant_ethnicity', 'complainant_gender', 'complainant_age_incident',\n",
    "    'fado_type', 'allegation', 'precinct', 'contact_reason',\n",
    "    'outcome_description', 'board_disposition'\n",
    "]]"
   ]
  },
  {
   "cell_type": "code",
   "execution_count": 130,
   "metadata": {},
   "outputs": [],
   "source": [
    "def clean_race(string):\n",
    "    if (string == 'Unknown') | (string == 'Other Race') | (string == 'Refused'):\n",
    "        return np.nan\n",
    "    else:\n",
    "        return string\n",
    "\n",
    "def clean_disposition(string):\n",
    "    if ('Unsubstantiated' in string):\n",
    "        return 'Unsubstantiated'\n",
    "    elif ('Exonerated' in string):\n",
    "        return 'Exonerated'\n",
    "    else:\n",
    "        return 'Substantiated'\n",
    "\n",
    "def pivoting(col, row):\n",
    "    out = df.groupby([col, row]).size().reset_index().pivot(columns=col,\n",
    "                                                            index=row,\n",
    "                                                            values=0)\n",
    "    return out"
   ]
  },
  {
   "cell_type": "code",
   "execution_count": 131,
   "metadata": {},
   "outputs": [
    {
     "data": {
      "text/html": [
       "<div>\n",
       "<style scoped>\n",
       "    .dataframe tbody tr th:only-of-type {\n",
       "        vertical-align: middle;\n",
       "    }\n",
       "\n",
       "    .dataframe tbody tr th {\n",
       "        vertical-align: top;\n",
       "    }\n",
       "\n",
       "    .dataframe thead th {\n",
       "        text-align: right;\n",
       "    }\n",
       "</style>\n",
       "<table border=\"1\" class=\"dataframe\">\n",
       "  <thead>\n",
       "    <tr style=\"text-align: right;\">\n",
       "      <th></th>\n",
       "      <th>command_now</th>\n",
       "      <th>month_received</th>\n",
       "      <th>year_received</th>\n",
       "      <th>month_closed</th>\n",
       "      <th>year_closed</th>\n",
       "      <th>command_at_incident</th>\n",
       "      <th>rank_abbrev_incident</th>\n",
       "      <th>rank_abbrev_now</th>\n",
       "      <th>mos_ethnicity</th>\n",
       "      <th>mos_gender</th>\n",
       "      <th>mos_age_incident</th>\n",
       "      <th>complainant_ethnicity</th>\n",
       "      <th>complainant_gender</th>\n",
       "      <th>complainant_age_incident</th>\n",
       "      <th>fado_type</th>\n",
       "      <th>allegation</th>\n",
       "      <th>precinct</th>\n",
       "      <th>contact_reason</th>\n",
       "      <th>outcome_description</th>\n",
       "      <th>board_disposition</th>\n",
       "    </tr>\n",
       "  </thead>\n",
       "  <tbody>\n",
       "    <tr>\n",
       "      <th>0</th>\n",
       "      <td>078 PCT</td>\n",
       "      <td>7</td>\n",
       "      <td>2019</td>\n",
       "      <td>5</td>\n",
       "      <td>2020</td>\n",
       "      <td>078 PCT</td>\n",
       "      <td>POM</td>\n",
       "      <td>POM</td>\n",
       "      <td>Hispanic</td>\n",
       "      <td>M</td>\n",
       "      <td>32</td>\n",
       "      <td>Black</td>\n",
       "      <td>Female</td>\n",
       "      <td>38.0</td>\n",
       "      <td>Abuse of Authority</td>\n",
       "      <td>Failure to provide RTKA card</td>\n",
       "      <td>78.0</td>\n",
       "      <td>Report-domestic dispute</td>\n",
       "      <td>No arrest made or summons issued</td>\n",
       "      <td>Substantiated</td>\n",
       "    </tr>\n",
       "    <tr>\n",
       "      <th>1</th>\n",
       "      <td>078 PCT</td>\n",
       "      <td>11</td>\n",
       "      <td>2011</td>\n",
       "      <td>8</td>\n",
       "      <td>2012</td>\n",
       "      <td>PBBS</td>\n",
       "      <td>POM</td>\n",
       "      <td>POM</td>\n",
       "      <td>White</td>\n",
       "      <td>M</td>\n",
       "      <td>24</td>\n",
       "      <td>Black</td>\n",
       "      <td>Male</td>\n",
       "      <td>26.0</td>\n",
       "      <td>Discourtesy</td>\n",
       "      <td>Action</td>\n",
       "      <td>67.0</td>\n",
       "      <td>Moving violation</td>\n",
       "      <td>Moving violation summons issued</td>\n",
       "      <td>Substantiated</td>\n",
       "    </tr>\n",
       "    <tr>\n",
       "      <th>2</th>\n",
       "      <td>078 PCT</td>\n",
       "      <td>11</td>\n",
       "      <td>2011</td>\n",
       "      <td>8</td>\n",
       "      <td>2012</td>\n",
       "      <td>PBBS</td>\n",
       "      <td>POM</td>\n",
       "      <td>POM</td>\n",
       "      <td>White</td>\n",
       "      <td>M</td>\n",
       "      <td>24</td>\n",
       "      <td>Black</td>\n",
       "      <td>Male</td>\n",
       "      <td>26.0</td>\n",
       "      <td>Offensive Language</td>\n",
       "      <td>Race</td>\n",
       "      <td>67.0</td>\n",
       "      <td>Moving violation</td>\n",
       "      <td>Moving violation summons issued</td>\n",
       "      <td>Substantiated</td>\n",
       "    </tr>\n",
       "    <tr>\n",
       "      <th>3</th>\n",
       "      <td>078 PCT</td>\n",
       "      <td>7</td>\n",
       "      <td>2012</td>\n",
       "      <td>9</td>\n",
       "      <td>2013</td>\n",
       "      <td>PBBS</td>\n",
       "      <td>POM</td>\n",
       "      <td>POM</td>\n",
       "      <td>White</td>\n",
       "      <td>M</td>\n",
       "      <td>25</td>\n",
       "      <td>Black</td>\n",
       "      <td>Male</td>\n",
       "      <td>45.0</td>\n",
       "      <td>Abuse of Authority</td>\n",
       "      <td>Question</td>\n",
       "      <td>67.0</td>\n",
       "      <td>PD suspected C/V of violation/crime - street</td>\n",
       "      <td>No arrest made or summons issued</td>\n",
       "      <td>Substantiated</td>\n",
       "    </tr>\n",
       "    <tr>\n",
       "      <th>4</th>\n",
       "      <td>078 PCT</td>\n",
       "      <td>5</td>\n",
       "      <td>2017</td>\n",
       "      <td>10</td>\n",
       "      <td>2017</td>\n",
       "      <td>078 PCT</td>\n",
       "      <td>SGT</td>\n",
       "      <td>SGT</td>\n",
       "      <td>Black</td>\n",
       "      <td>F</td>\n",
       "      <td>50</td>\n",
       "      <td>White</td>\n",
       "      <td>Male</td>\n",
       "      <td>31.0</td>\n",
       "      <td>Abuse of Authority</td>\n",
       "      <td>Refusal to process civilian complaint</td>\n",
       "      <td>78.0</td>\n",
       "      <td>C/V telephoned PCT</td>\n",
       "      <td>No arrest made or summons issued</td>\n",
       "      <td>Substantiated</td>\n",
       "    </tr>\n",
       "  </tbody>\n",
       "</table>\n",
       "</div>"
      ],
      "text/plain": [
       "  command_now  month_received  year_received  month_closed  year_closed  \\\n",
       "0     078 PCT               7           2019             5         2020   \n",
       "1     078 PCT              11           2011             8         2012   \n",
       "2     078 PCT              11           2011             8         2012   \n",
       "3     078 PCT               7           2012             9         2013   \n",
       "4     078 PCT               5           2017            10         2017   \n",
       "\n",
       "  command_at_incident rank_abbrev_incident rank_abbrev_now mos_ethnicity  \\\n",
       "0             078 PCT                  POM             POM      Hispanic   \n",
       "1                PBBS                  POM             POM         White   \n",
       "2                PBBS                  POM             POM         White   \n",
       "3                PBBS                  POM             POM         White   \n",
       "4             078 PCT                  SGT             SGT         Black   \n",
       "\n",
       "  mos_gender  mos_age_incident complainant_ethnicity complainant_gender  \\\n",
       "0          M                32                 Black             Female   \n",
       "1          M                24                 Black               Male   \n",
       "2          M                24                 Black               Male   \n",
       "3          M                25                 Black               Male   \n",
       "4          F                50                 White               Male   \n",
       "\n",
       "   complainant_age_incident           fado_type  \\\n",
       "0                      38.0  Abuse of Authority   \n",
       "1                      26.0         Discourtesy   \n",
       "2                      26.0  Offensive Language   \n",
       "3                      45.0  Abuse of Authority   \n",
       "4                      31.0  Abuse of Authority   \n",
       "\n",
       "                              allegation  precinct  \\\n",
       "0           Failure to provide RTKA card      78.0   \n",
       "1                                 Action      67.0   \n",
       "2                                   Race      67.0   \n",
       "3                               Question      67.0   \n",
       "4  Refusal to process civilian complaint      78.0   \n",
       "\n",
       "                                 contact_reason  \\\n",
       "0                       Report-domestic dispute   \n",
       "1                              Moving violation   \n",
       "2                              Moving violation   \n",
       "3  PD suspected C/V of violation/crime - street   \n",
       "4                            C/V telephoned PCT   \n",
       "\n",
       "                outcome_description board_disposition  \n",
       "0  No arrest made or summons issued     Substantiated  \n",
       "1   Moving violation summons issued     Substantiated  \n",
       "2   Moving violation summons issued     Substantiated  \n",
       "3  No arrest made or summons issued     Substantiated  \n",
       "4  No arrest made or summons issued     Substantiated  "
      ]
     },
     "execution_count": 131,
     "metadata": {},
     "output_type": "execute_result"
    }
   ],
   "source": [
    "df.loc[:, 'complainant_ethnicity'] = df['complainant_ethnicity'].apply(clean_race)\n",
    "df.loc[:, 'board_disposition'] = df['board_disposition'].apply(clean_disposition)\n",
    "df = df.dropna(subset=['complainant_ethnicity']).reset_index().drop('index', axis = 1)\n",
    "# comparison_column = pd.Series(np.where(df['mos_ethnicity'] == df['complainant_ethnicity'], True, False))\n",
    "# df['compare'] = comparison_column\n",
    "df.head()"
   ]
  },
  {
   "cell_type": "markdown",
   "metadata": {},
   "source": [
    "### Baseline Model"
   ]
  },
  {
   "cell_type": "code",
   "execution_count": 132,
   "metadata": {},
   "outputs": [
    {
     "name": "stdout",
     "output_type": "stream",
     "text": [
      "<class 'pandas.core.frame.DataFrame'>\n",
      "RangeIndex: 26917 entries, 0 to 26916\n",
      "Data columns (total 20 columns):\n",
      " #   Column                    Non-Null Count  Dtype  \n",
      "---  ------                    --------------  -----  \n",
      " 0   command_now               26917 non-null  object \n",
      " 1   month_received            26917 non-null  int64  \n",
      " 2   year_received             26917 non-null  int64  \n",
      " 3   month_closed              26917 non-null  int64  \n",
      " 4   year_closed               26917 non-null  int64  \n",
      " 5   command_at_incident       26789 non-null  object \n",
      " 6   rank_abbrev_incident      26917 non-null  object \n",
      " 7   rank_abbrev_now           26917 non-null  object \n",
      " 8   mos_ethnicity             26917 non-null  object \n",
      " 9   mos_gender                26917 non-null  object \n",
      " 10  mos_age_incident          26917 non-null  int64  \n",
      " 11  complainant_ethnicity     26917 non-null  object \n",
      " 12  complainant_gender        26899 non-null  object \n",
      " 13  complainant_age_incident  26574 non-null  float64\n",
      " 14  fado_type                 26917 non-null  object \n",
      " 15  allegation                26917 non-null  object \n",
      " 16  precinct                  26903 non-null  float64\n",
      " 17  contact_reason            26788 non-null  object \n",
      " 18  outcome_description       26884 non-null  object \n",
      " 19  board_disposition         26917 non-null  object \n",
      "dtypes: float64(2), int64(5), object(13)\n",
      "memory usage: 4.1+ MB\n"
     ]
    }
   ],
   "source": [
    "df.info()"
   ]
  },
  {
   "cell_type": "code",
   "execution_count": 133,
   "metadata": {},
   "outputs": [],
   "source": [
    "df = df.astype({\"precinct\": object}) # for precinct should be categorical\n",
    "df[\"precinct\"]= df[\"precinct\"].apply(str)\n",
    "df[\"precinct\"] = df[\"precinct\"].replace('nan','NULL')\n",
    "df = df.replace(float('nan'), np.nan)"
   ]
  },
  {
   "cell_type": "code",
   "execution_count": 134,
   "metadata": {},
   "outputs": [],
   "source": [
    "X = df.drop(['month_closed', 'month_received','mos_ethnicity'], axis=1)\n",
    "y = df['mos_ethnicity']"
   ]
  },
  {
   "cell_type": "code",
   "execution_count": 135,
   "metadata": {},
   "outputs": [],
   "source": [
    "types = X.dtypes\n",
    "catcols = types.loc[types == np.object].index\n",
    "numcols = types.loc[types != np.object].index"
   ]
  },
  {
   "cell_type": "code",
   "execution_count": 136,
   "metadata": {},
   "outputs": [
    {
     "data": {
      "text/plain": [
       "(Index(['command_now', 'command_at_incident', 'rank_abbrev_incident',\n",
       "        'rank_abbrev_now', 'mos_gender', 'complainant_ethnicity',\n",
       "        'complainant_gender', 'fado_type', 'allegation', 'precinct',\n",
       "        'contact_reason', 'outcome_description', 'board_disposition'],\n",
       "       dtype='object'),\n",
       " Index(['year_received', 'year_closed', 'mos_age_incident',\n",
       "        'complainant_age_incident'],\n",
       "       dtype='object'))"
      ]
     },
     "execution_count": 136,
     "metadata": {},
     "output_type": "execute_result"
    }
   ],
   "source": [
    "catcols, numcols"
   ]
  },
  {
   "cell_type": "code",
   "execution_count": 137,
   "metadata": {},
   "outputs": [
    {
     "data": {
      "text/plain": [
       "13"
      ]
     },
     "execution_count": 137,
     "metadata": {},
     "output_type": "execute_result"
    }
   ],
   "source": [
    "len(catcols)"
   ]
  },
  {
   "cell_type": "code",
   "execution_count": 138,
   "metadata": {},
   "outputs": [],
   "source": [
    "cats = Pipeline([\n",
    "    ('imp', SimpleImputer(strategy='constant', fill_value = 'NULL')),\n",
    "    ('ohe', OneHotEncoder(handle_unknown='ignore', sparse=False)),\n",
    "#    ('pca', PCA(svd_solver='full', n_components=0.99))\n",
    "])\n",
    "\n",
    "nums = Pipeline(steps=[\n",
    "#     ('scaler', pp.StandardScaler())\n",
    "    ('impute', SimpleImputer(strategy='constant', fill_value = 0))\n",
    "])\n",
    "\n",
    "ct = ColumnTransformer([\n",
    "    ('numcols', nums, numcols),\n",
    "    ('catcols', cats, catcols)\n",
    "])\n",
    "\n",
    "pl = Pipeline([('preprocessor', ct), ('clf', DecisionTreeClassifier())])"
   ]
  },
  {
   "cell_type": "code",
   "execution_count": 139,
   "metadata": {},
   "outputs": [],
   "source": [
    "X_tr, X_ts, y_tr, y_ts = train_test_split(X, y, test_size=0.25)"
   ]
  },
  {
   "cell_type": "code",
   "execution_count": 140,
   "metadata": {},
   "outputs": [
    {
     "data": {
      "text/plain": [
       "0.8845468053491827"
      ]
     },
     "execution_count": 140,
     "metadata": {},
     "output_type": "execute_result"
    }
   ],
   "source": [
    "pl.fit(X_tr, y_tr)\n",
    "pl.score(X_ts, y_ts) # this will calculate accuracy for my baseline model, same as accuracy_score"
   ]
  },
  {
   "cell_type": "code",
   "execution_count": 141,
   "metadata": {},
   "outputs": [
    {
     "data": {
      "text/plain": [
       "0.8517904506921973"
      ]
     },
     "execution_count": 141,
     "metadata": {},
     "output_type": "execute_result"
    }
   ],
   "source": [
    "preds = pl.predict(X_ts)\n",
    "f1_score(y_ts, preds, average='macro')  # this will calculate macro-F1 score"
   ]
  },
  {
   "cell_type": "code",
   "execution_count": 142,
   "metadata": {},
   "outputs": [
    {
     "data": {
      "text/plain": [
       "(array([0.35277404, 0.33610582, 0.37275036, 0.39160766, 0.27402965]),\n",
       " array([0.47901189, 0.35586924, 0.28515698, 0.37934237, 0.40627903]))"
      ]
     },
     "execution_count": 142,
     "metadata": {},
     "output_type": "execute_result"
    }
   ],
   "source": [
    "cross_f1_score = cross_val_score(pl, X, y, cv=5, scoring='f1_macro')\n",
    "cross_accuracy_score = cross_val_score(pl, X, y, cv=5)\n",
    "cross_f1_score, cross_accuracy_score"
   ]
  },
  {
   "cell_type": "code",
   "execution_count": 148,
   "metadata": {},
   "outputs": [
    {
     "data": {
      "image/png": "[encoded data removed]",
      "text/plain": [
       "<Figure size 432x288 with 1 Axes>"
      ]
     },
     "metadata": {
      "image/png": {
       "height": 263,
       "width": 385
      },
      "needs_background": "light"
     },
     "output_type": "display_data"
    }
   ],
   "source": [
    "pd.Series(cross_f1_score).plot(kind='hist', title='f1 crossvalidation');"
   ]
  },
  {
   "cell_type": "code",
   "execution_count": null,
   "metadata": {},
   "outputs": [],
   "source": [
    "pd.Series(cross_accuracy_score).plot(kind='hist', title='accuracy crossvalidation');"
   ]
  },
  {
   "cell_type": "code",
   "execution_count": 143,
   "metadata": {},
   "outputs": [],
   "source": [
    "accuracy = []\n",
    "f1 = []\n",
    "for _ in range(30):\n",
    "    X_tr, X_ts, y_tr, y_ts = train_test_split(X, y, test_size=0.25)\n",
    "    pl.fit(X_tr, y_tr)\n",
    "    preds = pl.predict(X_ts)\n",
    "    accuracy.append(pl.score(X_ts, y_ts))\n",
    "    f1.append(f1_score(y_ts, preds, average='macro'))"
   ]
  },
  {
   "cell_type": "code",
   "execution_count": 144,
   "metadata": {},
   "outputs": [
    {
     "data": {
      "image/png": "[encoded data removed]",
      "text/plain": [
       "<Figure size 432x288 with 1 Axes>"
      ]
     },
     "metadata": {
      "image/png": {
       "height": 263,
       "width": 376
      },
      "needs_background": "light"
     },
     "output_type": "display_data"
    }
   ],
   "source": [
    "pd.Series(f1).plot(kind='hist', title='f1 in 30 model builds');"
   ]
  },
  {
   "cell_type": "code",
   "execution_count": 145,
   "metadata": {},
   "outputs": [
    {
     "data": {
      "image/png": "[encoded data removed]",
      "text/plain": [
       "<Figure size 432x288 with 1 Axes>"
      ]
     },
     "metadata": {
      "image/png": {
       "height": 263,
       "width": 377
      },
      "needs_background": "light"
     },
     "output_type": "display_data"
    }
   ],
   "source": [
    "pd.Series(accuracy).plot(kind='hist', title='accuracy in 30 model builds');"
   ]
  },
  {
   "cell_type": "code",
   "execution_count": 146,
   "metadata": {},
   "outputs": [
    {
     "data": {
      "text/plain": [
       "{'command_now': 0.042556919636000785,\n",
       " 'year_received': 0.035626766898184024,\n",
       " 'year_closed': 0.06419408935265851,\n",
       " 'command_at_incident': 0.04006438804114215,\n",
       " 'rank_abbrev_incident': 0.0002675426613749244,\n",
       " 'rank_abbrev_now': 0.001339254738567179,\n",
       " 'mos_gender': 0.00014658173671803956,\n",
       " 'mos_age_incident': 0.00041638532329781616,\n",
       " 'complainant_ethnicity': 0.0011818638260805321,\n",
       " 'complainant_gender': 0.0,\n",
       " 'complainant_age_incident': 0.0008106039873672822,\n",
       " 'fado_type': 0.0011161520248649127,\n",
       " 'allegation': 0.002931301287964808,\n",
       " 'precinct': 0.0,\n",
       " 'contact_reason': 0.0,\n",
       " 'outcome_description': 0.00034127818304219277,\n",
       " 'board_disposition': 0.0003240508763168184}"
      ]
     },
     "execution_count": 146,
     "metadata": {},
     "output_type": "execute_result"
    }
   ],
   "source": [
    "dict(zip(X.columns, pl.steps[1][1].feature_importances_))"
   ]
  },
  {
   "cell_type": "markdown",
   "metadata": {},
   "source": [
    "### Final Model"
   ]
  },
  {
   "cell_type": "markdown",
   "metadata": {},
   "source": [
    "First I creat a column recording the length of deal time for each case."
   ]
  },
  {
   "cell_type": "code",
   "execution_count": 169,
   "metadata": {},
   "outputs": [],
   "source": [
    "day = pd.Series(np.ones(len(df)), dtype = 'int').astype('string')"
   ]
  },
  {
   "cell_type": "code",
   "execution_count": 170,
   "metadata": {},
   "outputs": [],
   "source": [
    "df['date_received'] = pd.to_datetime(df[\"year_received\"].astype(\"string\") + \"/\" +\n",
    "               df[\"month_received\"].astype(\"string\") + \"/\" + day)\n",
    "df['date_closed'] = pd.to_datetime(df[\"year_closed\"].astype(\"string\") + \"/\" +\n",
    "               df[\"month_closed\"].astype(\"string\") + \"/\" + day)\n",
    "df['time'] = df['date_closed'] - df['date_received']\n",
    "df['time'] = df['time'].dt.days\n",
    "# df['time'] = df['time'].dt.days.apply(str)\n",
    "binarizer = Binarizer(threshold=365)\n",
    "t = np.array(df['time'])\n",
    "df['time_binariz'] = binarizer.transform(t.reshape(-1, 1))"
   ]
  },
  {
   "cell_type": "code",
   "execution_count": 171,
   "metadata": {},
   "outputs": [],
   "source": [
    "X = df.drop(\n",
    "    [\n",
    "        'month_closed',\n",
    "        'month_received',\n",
    "        #     'year_closed', 'year_received',\n",
    "        'date_received',\n",
    "        'date_closed',\n",
    "        'complainant_age_incident',\n",
    "        'complainant_gender',\n",
    "        'complainant_ethnicity',\n",
    "        'mos_age_incident',\n",
    "        'mos_gender',\n",
    "        'precinct',\n",
    "        'contact_reason',\n",
    "        'outcome_description',\n",
    "        'allegation',\n",
    "        'fado_type',\n",
    "        'board_disposition',\n",
    "#         'time',\n",
    "#         'time_binariz',\n",
    "        'mos_ethnicity'\n",
    "    ],\n",
    "    axis=1)\n",
    "y = df['mos_ethnicity']"
   ]
  },
  {
   "cell_type": "code",
   "execution_count": 172,
   "metadata": {},
   "outputs": [],
   "source": [
    "types = X.dtypes\n",
    "catcols = types.loc[types == np.object].index\n",
    "numcols = types.loc[types != np.object].index"
   ]
  },
  {
   "cell_type": "code",
   "execution_count": 173,
   "metadata": {},
   "outputs": [
    {
     "data": {
      "text/plain": [
       "(Index(['command_now', 'command_at_incident', 'rank_abbrev_incident',\n",
       "        'rank_abbrev_now'],\n",
       "       dtype='object'),\n",
       " Index(['year_received', 'year_closed', 'time', 'time_binariz'], dtype='object'))"
      ]
     },
     "execution_count": 173,
     "metadata": {},
     "output_type": "execute_result"
    }
   ],
   "source": [
    "catcols, numcols"
   ]
  },
  {
   "cell_type": "code",
   "execution_count": 174,
   "metadata": {},
   "outputs": [],
   "source": [
    "cats = Pipeline([\n",
    "    ('imp', SimpleImputer(strategy='constant', fill_value='NULL')),\n",
    "    ('ohe', OneHotEncoder(handle_unknown='ignore', sparse=False)),\n",
    "    #     ('pca', PCA(svd_solver='full', n_components=0.99))\n",
    "])\n",
    "\n",
    "nums = Pipeline(steps=[\n",
    "    ('impute', SimpleImputer(strategy='constant', fill_value=0)),\n",
    "    ('scaler', StandardScaler()),\n",
    "    ('pca', PCA(svd_solver='full', n_components=0.90))\n",
    "])\n",
    "\n",
    "ct = ColumnTransformer([('numcols', nums, numcols),\n",
    "                        ('catcols', cats, catcols)])\n",
    "\n",
    "pl = Pipeline([\n",
    "    ('preprocessor', ct),\n",
    "    (\n",
    "        'clf',\n",
    "        RandomForestClassifier(\n",
    "            n_estimators=200,\n",
    "#             #random_state=90,\n",
    "#             max_depth=95,\n",
    "#             max_features=7\n",
    "        ))])"
   ]
  },
  {
   "cell_type": "code",
   "execution_count": 175,
   "metadata": {},
   "outputs": [
    {
     "data": {
      "text/plain": [
       "dict_keys(['memory', 'steps', 'verbose', 'preprocessor', 'clf', 'preprocessor__n_jobs', 'preprocessor__remainder', 'preprocessor__sparse_threshold', 'preprocessor__transformer_weights', 'preprocessor__transformers', 'preprocessor__verbose', 'preprocessor__numcols', 'preprocessor__catcols', 'preprocessor__numcols__memory', 'preprocessor__numcols__steps', 'preprocessor__numcols__verbose', 'preprocessor__numcols__impute', 'preprocessor__numcols__scaler', 'preprocessor__numcols__pca', 'preprocessor__numcols__impute__add_indicator', 'preprocessor__numcols__impute__copy', 'preprocessor__numcols__impute__fill_value', 'preprocessor__numcols__impute__missing_values', 'preprocessor__numcols__impute__strategy', 'preprocessor__numcols__impute__verbose', 'preprocessor__numcols__scaler__copy', 'preprocessor__numcols__scaler__with_mean', 'preprocessor__numcols__scaler__with_std', 'preprocessor__numcols__pca__copy', 'preprocessor__numcols__pca__iterated_power', 'preprocessor__numcols__pca__n_components', 'preprocessor__numcols__pca__random_state', 'preprocessor__numcols__pca__svd_solver', 'preprocessor__numcols__pca__tol', 'preprocessor__numcols__pca__whiten', 'preprocessor__catcols__memory', 'preprocessor__catcols__steps', 'preprocessor__catcols__verbose', 'preprocessor__catcols__imp', 'preprocessor__catcols__ohe', 'preprocessor__catcols__imp__add_indicator', 'preprocessor__catcols__imp__copy', 'preprocessor__catcols__imp__fill_value', 'preprocessor__catcols__imp__missing_values', 'preprocessor__catcols__imp__strategy', 'preprocessor__catcols__imp__verbose', 'preprocessor__catcols__ohe__categories', 'preprocessor__catcols__ohe__drop', 'preprocessor__catcols__ohe__dtype', 'preprocessor__catcols__ohe__handle_unknown', 'preprocessor__catcols__ohe__sparse', 'clf__bootstrap', 'clf__ccp_alpha', 'clf__class_weight', 'clf__criterion', 'clf__max_depth', 'clf__max_features', 'clf__max_leaf_nodes', 'clf__max_samples', 'clf__min_impurity_decrease', 'clf__min_impurity_split', 'clf__min_samples_leaf', 'clf__min_samples_split', 'clf__min_weight_fraction_leaf', 'clf__n_estimators', 'clf__n_jobs', 'clf__oob_score', 'clf__random_state', 'clf__verbose', 'clf__warm_start'])"
      ]
     },
     "execution_count": 175,
     "metadata": {},
     "output_type": "execute_result"
    }
   ],
   "source": [
    "pl.get_params().keys()"
   ]
  },
  {
   "cell_type": "code",
   "execution_count": 176,
   "metadata": {},
   "outputs": [
    {
     "name": "stdout",
     "output_type": "stream",
     "text": [
      "Couldn't find program: 'echo'\n"
     ]
    }
   ],
   "source": [
    "%%script echo skipping\n",
    "grid = {\n",
    "#     'clf__n_estimators': np.arange(0, 100, 5),\n",
    "    #     'clf__n_estimators': np.arange(0, 100, 5)\n",
    "    #     'clf__n_estimators': np.arange(170, 180, 1)\n",
    "    'clf__max_depth': np.arange(0, 200, 10),\n",
    "#     'clf__max_features': np.arange(3, 8, 1),\n",
    "    #     'clf__max_depth': [140, 145, 150, 155, 160, None],\n",
    "    #     'clf__min_samples_split':[2,3,5,7,10,15,20],\n",
    "    #     'clf__min_samples_leaf':[5,10,20,30,40,50]\n",
    "}\n",
    "\n",
    "gridsearch = GridSearchCV(estimator=pl,\n",
    "                          param_grid=grid,\n",
    "                          n_jobs=-1,\n",
    "                          cv=3,\n",
    "                          scoring=make_scorer(f1_score, average='macro'),\n",
    "                          return_train_score=True)\n",
    "\n",
    "# now perform full fit on whole pipeline\n",
    "X_tr, X_ts, y_tr, y_ts = train_test_split(X, y, test_size=0.25)\n",
    "gridsearch.fit(X, y)\n",
    "# print(\"Best Model from gridsearch: {}\".format(gridsearch.best_estimator_))\n",
    "print(\"Best parameters from gridsearch: {}\".format(gridsearch.best_params_))\n",
    "print(\"CV score=%0.3f\" % gridsearch.best_score_)\n",
    "cv_results = gridsearch.cv_results_\n",
    "# print(cv_results)"
   ]
  },
  {
   "cell_type": "code",
   "execution_count": 177,
   "metadata": {},
   "outputs": [
    {
     "name": "stdout",
     "output_type": "stream",
     "text": [
      "Couldn't find program: 'echo'\n"
     ]
    }
   ],
   "source": [
    "%%script echo skipping\n",
    "gridsearch.cv_results_.keys()"
   ]
  },
  {
   "cell_type": "code",
   "execution_count": 178,
   "metadata": {},
   "outputs": [
    {
     "name": "stdout",
     "output_type": "stream",
     "text": [
      "Couldn't find program: 'echo'\n"
     ]
    }
   ],
   "source": [
    "%%script echo skipping\n",
    "# index = gridsearch.param_grid['clf__n_estimators']\n",
    "# index = gridsearch.param_grid['clf__max_depth']\n",
    "index = gridsearch.param_grid['clf__max_features']\n",
    "\n",
    "test = gridsearch.cv_results_['split0_test_score']\n",
    "train = gridsearch.cv_results_['split0_train_score']\n",
    "pd.DataFrame({'test': test, 'train': train}, index=index).plot()"
   ]
  },
  {
   "cell_type": "code",
   "execution_count": 179,
   "metadata": {},
   "outputs": [
    {
     "name": "stdout",
     "output_type": "stream",
     "text": [
      "F1: 0.9206619702532238\n",
      "Accuracy: 0.9213967310549777\n",
      "Time: 46.962180614471436\n"
     ]
    }
   ],
   "source": [
    "T1 = time.time()\n",
    "X_tr, X_ts, y_tr, y_ts = train_test_split(X, y, test_size=0.25)\n",
    "pl.fit(X_tr, y_tr)\n",
    "preds = pl.predict(X_ts)\n",
    "print('F1: ' + str(f1_score(y_ts, preds, average='macro')))\n",
    "print('Accuracy: ' + str(accuracy_score(y_ts, preds)))\n",
    "T2 = time.time()\n",
    "print('Time: ' + str(T2-T1))"
   ]
  },
  {
   "cell_type": "code",
   "execution_count": 180,
   "metadata": {},
   "outputs": [],
   "source": [
    "cross_f1_score = cross_val_score(pl, X, y, cv=5, scoring='f1_macro')\n",
    "cross_accuracy_score = cross_val_score(pl, X, y, cv=5)"
   ]
  },
  {
   "cell_type": "code",
   "execution_count": 181,
   "metadata": {},
   "outputs": [
    {
     "data": {
      "text/plain": [
       "(array([0.38079513, 0.29606642, 0.34526834, 0.32065439, 0.19153575]),\n",
       " array([0.5230312 , 0.38447251, 0.26769459, 0.34664685, 0.45309307]))"
      ]
     },
     "execution_count": 181,
     "metadata": {},
     "output_type": "execute_result"
    }
   ],
   "source": [
    "cross_f1_score, cross_accuracy_score"
   ]
  },
  {
   "cell_type": "code",
   "execution_count": 196,
   "metadata": {},
   "outputs": [
    {
     "data": {
      "image/png": "[encoded data removed]",
      "text/plain": [
       "<Figure size 432x288 with 1 Axes>"
      ]
     },
     "metadata": {
      "image/png": {
       "height": 263,
       "width": 385
      },
      "needs_background": "light"
     },
     "output_type": "display_data"
    }
   ],
   "source": [
    "pd.Series(cross_f1_score).plot(kind='hist', title='f1 crossvalidation');"
   ]
  },
  {
   "cell_type": "code",
   "execution_count": 197,
   "metadata": {},
   "outputs": [
    {
     "data": {
      "image/png": "[encoded data removed]",
      "text/plain": [
       "<Figure size 432x288 with 1 Axes>"
      ]
     },
     "metadata": {
      "image/png": {
       "height": 263,
       "width": 385
      },
      "needs_background": "light"
     },
     "output_type": "display_data"
    }
   ],
   "source": [
    "pd.Series(cross_accuracy_score).plot(kind='hist', title='accuracy crossvalidation');"
   ]
  },
  {
   "cell_type": "code",
   "execution_count": 183,
   "metadata": {},
   "outputs": [],
   "source": [
    "accuracy = []\n",
    "f1 = []\n",
    "for _ in range(30):\n",
    "    X_tr, X_ts, y_tr, y_ts = train_test_split(X, y, test_size=0.25)\n",
    "    pl.fit(X_tr, y_tr)\n",
    "    preds = pl.predict(X_ts)\n",
    "    accuracy.append(pl.score(X_ts, y_ts))\n",
    "    f1.append(f1_score(y_ts, preds, average='macro'))"
   ]
  },
  {
   "cell_type": "code",
   "execution_count": 184,
   "metadata": {},
   "outputs": [
    {
     "data": {
      "image/png": "[encoded data removed]",
      "text/plain": [
       "<Figure size 432x288 with 1 Axes>"
      ]
     },
     "metadata": {
      "image/png": {
       "height": 263,
       "width": 376
      },
      "needs_background": "light"
     },
     "output_type": "display_data"
    }
   ],
   "source": [
    "pd.Series(f1).plot(kind='hist', title='f1 in 30 model builds');"
   ]
  },
  {
   "cell_type": "code",
   "execution_count": 185,
   "metadata": {},
   "outputs": [
    {
     "data": {
      "image/png": "[encoded data removed]",
      "text/plain": [
       "<Figure size 432x288 with 1 Axes>"
      ]
     },
     "metadata": {
      "image/png": {
       "height": 263,
       "width": 376
      },
      "needs_background": "light"
     },
     "output_type": "display_data"
    }
   ],
   "source": [
    "pd.Series(accuracy).plot(kind='hist', title='accuracy in 30 model builds');"
   ]
  },
  {
   "cell_type": "code",
   "execution_count": 186,
   "metadata": {},
   "outputs": [
    {
     "data": {
      "text/plain": [
       "{'bootstrap': True,\n",
       " 'ccp_alpha': 0.0,\n",
       " 'class_weight': None,\n",
       " 'criterion': 'gini',\n",
       " 'max_depth': None,\n",
       " 'max_features': 'auto',\n",
       " 'max_leaf_nodes': None,\n",
       " 'max_samples': None,\n",
       " 'min_impurity_decrease': 0.0,\n",
       " 'min_impurity_split': None,\n",
       " 'min_samples_leaf': 1,\n",
       " 'min_samples_split': 2,\n",
       " 'min_weight_fraction_leaf': 0.0,\n",
       " 'n_estimators': 200,\n",
       " 'n_jobs': None,\n",
       " 'oob_score': False,\n",
       " 'random_state': None,\n",
       " 'verbose': 0,\n",
       " 'warm_start': False}"
      ]
     },
     "execution_count": 186,
     "metadata": {},
     "output_type": "execute_result"
    }
   ],
   "source": [
    "pl['clf'].get_params()"
   ]
  },
  {
   "cell_type": "code",
   "execution_count": 187,
   "metadata": {},
   "outputs": [
    {
     "data": {
      "text/plain": [
       "{'command_now': 0.13285851613825075,\n",
       " 'year_received': 0.13001709154584404,\n",
       " 'year_closed': 0.0007685406672565792,\n",
       " 'command_at_incident': 0.001083752014236308,\n",
       " 'rank_abbrev_incident': 0.0006397769554489079,\n",
       " 'rank_abbrev_now': 0.0003235080810626737,\n",
       " 'time': 0.0006877415631164772,\n",
       " 'time_binariz': 9.509996242256721e-06}"
      ]
     },
     "execution_count": 187,
     "metadata": {},
     "output_type": "execute_result"
    }
   ],
   "source": [
    "dict(zip(X.columns, pl.steps[1][1].feature_importances_))"
   ]
  },
  {
   "cell_type": "markdown",
   "metadata": {},
   "source": [
    "#### Summary\n",
    "\n",
    "In this section, I trained my model using the following variables, categorical and numerical specifically:"
   ]
  },
  {
   "cell_type": "markdown",
   "metadata": {},
   "source": [
    "['command_now', 'command_at_incident', 'rank_abbrev_incident',\n",
    "        'rank_abbrev_now']\n",
    "        \n",
    "['year_received', 'year_closed', 'time']"
   ]
  },
  {
   "cell_type": "markdown",
   "metadata": {},
   "source": [
    "The two new features I constructed is ['time'] and ['time_binariz']. ['time'] variable is constructed by calculating the duration of executing a case based on day,month,year of received and closed. ['time_binariz'] variable is constructed based on binarizing time variable with the thershold of 365. For categorical variables, I used one-hot encoding to transform them, and for numerical variables, I used standardize to transform them. My assumption is that time of dealing with cases can associated with officers' ethnicity.\n",
    "\n",
    "The reason why I have chosen the above variables is based on the attribution of each after I trained my models, I found out that the variables above are more important than others.\n",
    "\n",
    "The model I chose for the final is RandomForestClassifier, given that it provides me better predicion and acceptable training time for classification problem. After finishing a lot of grid search work, I finally come out of the best parameters: PCA components of 0.9, RandomForestClassifier with 200 n_estimators. The final model achieved roughly 0.07 improvement in terms of F1 macro score and 0.05 of accuracy. However, the generalization ability of both my baseline model and final model are weak, achieving bad scores in cross_validation."
   ]
  },
  {
   "cell_type": "markdown",
   "metadata": {},
   "source": [
    "### Fairness Evaluation\n",
    "In this section, I will perform permutaion test on variable time. Given that I have already binarized time using threshold 365, I will directly adapt this result column for permutation test.\n",
    "\n",
    "Null Hypothesis: my model is fair; the precision for my two subsets(time below 365 and above) are roughly the same\n",
    "\n",
    "Alternative Hypothesis: my model is unfair; the f1 macro for the above 365 subset is higher than the below 365 subset\n",
    "\n",
    "I constructed the permutation test on np.permutation to generate shuffled time_binariz, then I combine each row of it to my df. I then seperate each groups (time_binariz = 0, 1) and do prediction, f1_score of each groups, and finally calculate the differences between them. I saved the difference between two f1 scores in a list for the purpose of generating distribution graph as well as calculating p-value.\n",
    "\n",
    "The result for my permutation test is p-value = 0.096, which is not significant comparing to 0.01, therefore I cannot reject the null hypothesis to conclude that my model is unfair in terms of time_binariz"
   ]
  },
  {
   "cell_type": "code",
   "execution_count": 293,
   "metadata": {
    "cell_style": "center"
   },
   "outputs": [],
   "source": [
    "col = [\n",
    "    'command_now', 'year_received', 'year_closed', 'command_at_incident',\n",
    "    'rank_abbrev_incident', 'rank_abbrev_now', 'time', 'time_binariz',\n",
    "    'mos_ethnicity'\n",
    "]\n",
    "\n",
    "X = df[df['time_binariz'] == 0]\n",
    "Y = df[df['time_binariz'] == 1]\n",
    "X = X[col]\n",
    "Y = Y[col]\n",
    "\n",
    "predict_X = pl.predict(X.drop('mos_ethnicity', axis=1))\n",
    "predict_Y = pl.predict(Y.drop('mos_ethnicity', axis=1))\n",
    "\n",
    "f1_X = f1_score(X['mos_ethnicity'], predict_X, average='macro')\n",
    "f1_Y = f1_score(Y['mos_ethnicity'], predict_Y, average='macro')\n",
    "f1_diff = f1_Y - f1_X \n",
    "\n",
    "time_binariz = df['time_binariz']"
   ]
  },
  {
   "cell_type": "code",
   "execution_count": 289,
   "metadata": {},
   "outputs": [],
   "source": [
    "n = 1000\n",
    "permutations = np.column_stack([\n",
    "    np.random.permutation(time_binariz)\n",
    "    for _ in range(n)\n",
    "]).T.astype('bool')"
   ]
  },
  {
   "cell_type": "code",
   "execution_count": 290,
   "metadata": {
    "scrolled": false
   },
   "outputs": [],
   "source": [
    "df_c = df.copy()\n",
    "df_c = df_c[col]\n",
    "f1_diffs = []\n",
    "for i in permutations:\n",
    "    X_c = df_c[i == 0]\n",
    "    Y_c = df_c[i == 1]\n",
    "    f1_X_c = f1_score(X_c['mos_ethnicity'],\n",
    "                      pl.predict(X_c.drop('mos_ethnicity', axis=1)),\n",
    "                      average='macro')\n",
    "    f1_Y_c = f1_score(Y_c['mos_ethnicity'],\n",
    "                      pl.predict(Y_c.drop('mos_ethnicity', axis=1)),\n",
    "                      average='macro')\n",
    "    f1_diffs.append(f1_X_c - f1_Y_c)"
   ]
  },
  {
   "cell_type": "code",
   "execution_count": 294,
   "metadata": {},
   "outputs": [
    {
     "data": {
      "text/plain": [
       "0.096"
      ]
     },
     "execution_count": 294,
     "metadata": {},
     "output_type": "execute_result"
    }
   ],
   "source": [
    "np.count_nonzero(f1_diffs >= f1_diff) / n"
   ]
  },
  {
   "cell_type": "code",
   "execution_count": 296,
   "metadata": {},
   "outputs": [
    {
     "data": {
      "text/plain": [
       "<matplotlib.collections.PathCollection at 0x22b052bceb0>"
      ]
     },
     "execution_count": 296,
     "metadata": {},
     "output_type": "execute_result"
    },
    {
     "data": {
      "image/png": "[encoded data removed]",
      "text/plain": [
       "<Figure size 432x288 with 1 Axes>"
      ]
     },
     "metadata": {
      "image/png": {
       "height": 248,
       "width": 375
      },
      "needs_background": "light"
     },
     "output_type": "display_data"
    }
   ],
   "source": [
    "plt.hist(f1_diffs)\n",
    "plt.scatter(f1_diff, 300, color = 'red')"
   ]
  },
  {
   "cell_type": "code",
   "execution_count": null,
   "metadata": {},
   "outputs": [],
   "source": []
  }
 ],
 "metadata": {
  "kernelspec": {
   "display_name": "Python 3",
   "language": "python",
   "name": "python3"
  },
  "language_info": {
   "codemirror_mode": {
    "name": "ipython",
    "version": 3
   },
   "file_extension": ".py",
   "mimetype": "text/x-python",
   "name": "python",
   "nbconvert_exporter": "python",
   "pygments_lexer": "ipython3",
   "version": "3.8.8"
  },
  "toc": {
   "base_numbering": 1,
   "nav_menu": {},
   "number_sections": true,
   "sideBar": true,
   "skip_h1_title": false,
   "title_cell": "Table of Contents",
   "title_sidebar": "Contents",
   "toc_cell": false,
   "toc_position": {},
   "toc_section_display": true,
   "toc_window_display": false
  },
  "varInspector": {
   "cols": {
    "lenName": 16,
    "lenType": 16,
    "lenVar": 40
   },
   "kernels_config": {
    "python": {
     "delete_cmd_postfix": "",
     "delete_cmd_prefix": "del ",
     "library": "var_list.py",
     "varRefreshCmd": "print(var_dic_list())"
    },
    "r": {
     "delete_cmd_postfix": ") ",
     "delete_cmd_prefix": "rm(",
     "library": "var_list.r",
     "varRefreshCmd": "cat(var_dic_list()) "
    }
   },
   "types_to_exclude": [
    "module",
    "function",
    "builtin_function_or_method",
    "instance",
    "_Feature"
   ],
   "window_display": false
  }
 },
 "nbformat": 4,
 "nbformat_minor": 2
}
